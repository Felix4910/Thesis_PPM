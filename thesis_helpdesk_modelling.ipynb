{
 "cells": [
  {
   "cell_type": "code",
   "execution_count": null,
   "id": "4c927162-f882-4734-a925-a1b2a9f95f49",
   "metadata": {},
   "outputs": [],
   "source": [
    "#pip install pm4py"
   ]
  },
  {
   "cell_type": "code",
   "execution_count": 1,
   "id": "bc425c17-2426-484d-aa2b-57d6c34caaf5",
   "metadata": {},
   "outputs": [],
   "source": [
    "#import data\n",
    "import numpy as np\n",
    "import pandas as pd\n",
    "from sklearn.preprocessing import LabelEncoder\n",
    "import joblib\n",
    "import matplotlib.pyplot as plt\n",
    "\n",
    "#model \n",
    "import tensorflow as tf\n",
    "from tensorflow.keras.models import Model\n",
    "from tensorflow.keras.layers import Input, Dense\n",
    "from tensorflow.keras.models import Sequential\n",
    "from tensorflow.keras.layers import LSTM, Dense, Input, Embedding"
   ]
  },
  {
   "cell_type": "markdown",
   "id": "4af06d2e-738d-43ac-b21c-b44ee92b8315",
   "metadata": {},
   "source": [
    "# Modelling"
   ]
  },
  {
   "cell_type": "code",
   "execution_count": 4,
   "id": "ba8324d8-a411-47cd-8539-0d61aa93a88f",
   "metadata": {},
   "outputs": [],
   "source": [
    "##prefix data\n",
    "\n",
    "train_prefix_trace_encoded = np.load(\"helpdesk_train_prefix.npy\")\n",
    "val_prefix_trace_encoded = np.load(\"helpdesk_val_prefix.npy\")\n",
    "test_prefix_trace_encoded = np.load(\"helpdesk_test_prefix.npy\")\n",
    "\n",
    "##probability data\n",
    "train_dfg_probability = pd.read_csv(\"helpdesk_train_dfg_probability.csv\")\n",
    "val_dfg_probability = pd.read_csv(\"helpdesk_val_dfg_probability.csv\")\n",
    "test_dfg_probability = pd.read_csv(\"helpdesk_test_dfg_probability.csv\")\n",
    "\n",
    "#target\n",
    "train_target_encoded = np.load(\"helpdesk_train_target.npy\")\n",
    "val_target_encoded = np.load(\"helpdesk_val_target.npy\")\n",
    "test_target_encoded = np.load(\"helpdesk_test_target.npy\")\n",
    "\n",
    "#encoder\n",
    "label_encoder = joblib.load('helpdesk_label_encoder.joblib')\n",
    "\n",
    "#original data\n",
    "train_target = pd.read_csv(\"helpdesk_train_target_org.csv\")\n",
    "test_target = pd.read_csv(\"helpdesk_test_target_org.csv\")"
   ]
  },
  {
   "cell_type": "markdown",
   "id": "bf28f6df-281b-466f-ac4a-a97fd7431489",
   "metadata": {},
   "source": [
    "## Prefix Model"
   ]
  },
  {
   "cell_type": "code",
   "execution_count": 7,
   "id": "13b6afdf-a3dd-4bf9-b750-f955dcfc1041",
   "metadata": {},
   "outputs": [
    {
     "data": {
      "text/html": [
       "<pre style=\"white-space:pre;overflow-x:auto;line-height:normal;font-family:Menlo,'DejaVu Sans Mono',consolas,'Courier New',monospace\"><span style=\"font-weight: bold\">Model: \"sequential_1\"</span>\n",
       "</pre>\n"
      ],
      "text/plain": [
       "\u001b[1mModel: \"sequential_1\"\u001b[0m\n"
      ]
     },
     "metadata": {},
     "output_type": "display_data"
    },
    {
     "data": {
      "text/html": [
       "<pre style=\"white-space:pre;overflow-x:auto;line-height:normal;font-family:Menlo,'DejaVu Sans Mono',consolas,'Courier New',monospace\">┏━━━━━━━━━━━━━━━━━━━━━━━━━━━━━━━━━┳━━━━━━━━━━━━━━━━━━━━━━━━┳━━━━━━━━━━━━━━━┓\n",
       "┃<span style=\"font-weight: bold\"> Layer (type)                    </span>┃<span style=\"font-weight: bold\"> Output Shape           </span>┃<span style=\"font-weight: bold\">       Param # </span>┃\n",
       "┡━━━━━━━━━━━━━━━━━━━━━━━━━━━━━━━━━╇━━━━━━━━━━━━━━━━━━━━━━━━╇━━━━━━━━━━━━━━━┩\n",
       "│ lstm_1 (<span style=\"color: #0087ff; text-decoration-color: #0087ff\">LSTM</span>)                   │ (<span style=\"color: #00d7ff; text-decoration-color: #00d7ff\">None</span>, <span style=\"color: #00af00; text-decoration-color: #00af00\">400</span>)            │       <span style=\"color: #00af00; text-decoration-color: #00af00\">667,200</span> │\n",
       "├─────────────────────────────────┼────────────────────────┼───────────────┤\n",
       "│ dense_1 (<span style=\"color: #0087ff; text-decoration-color: #0087ff\">Dense</span>)                 │ (<span style=\"color: #00d7ff; text-decoration-color: #00d7ff\">None</span>, <span style=\"color: #00af00; text-decoration-color: #00af00\">16</span>)             │         <span style=\"color: #00af00; text-decoration-color: #00af00\">6,416</span> │\n",
       "└─────────────────────────────────┴────────────────────────┴───────────────┘\n",
       "</pre>\n"
      ],
      "text/plain": [
       "┏━━━━━━━━━━━━━━━━━━━━━━━━━━━━━━━━━┳━━━━━━━━━━━━━━━━━━━━━━━━┳━━━━━━━━━━━━━━━┓\n",
       "┃\u001b[1m \u001b[0m\u001b[1mLayer (type)                   \u001b[0m\u001b[1m \u001b[0m┃\u001b[1m \u001b[0m\u001b[1mOutput Shape          \u001b[0m\u001b[1m \u001b[0m┃\u001b[1m \u001b[0m\u001b[1m      Param #\u001b[0m\u001b[1m \u001b[0m┃\n",
       "┡━━━━━━━━━━━━━━━━━━━━━━━━━━━━━━━━━╇━━━━━━━━━━━━━━━━━━━━━━━━╇━━━━━━━━━━━━━━━┩\n",
       "│ lstm_1 (\u001b[38;5;33mLSTM\u001b[0m)                   │ (\u001b[38;5;45mNone\u001b[0m, \u001b[38;5;34m400\u001b[0m)            │       \u001b[38;5;34m667,200\u001b[0m │\n",
       "├─────────────────────────────────┼────────────────────────┼───────────────┤\n",
       "│ dense_1 (\u001b[38;5;33mDense\u001b[0m)                 │ (\u001b[38;5;45mNone\u001b[0m, \u001b[38;5;34m16\u001b[0m)             │         \u001b[38;5;34m6,416\u001b[0m │\n",
       "└─────────────────────────────────┴────────────────────────┴───────────────┘\n"
      ]
     },
     "metadata": {},
     "output_type": "display_data"
    },
    {
     "data": {
      "text/html": [
       "<pre style=\"white-space:pre;overflow-x:auto;line-height:normal;font-family:Menlo,'DejaVu Sans Mono',consolas,'Courier New',monospace\"><span style=\"font-weight: bold\"> Total params: </span><span style=\"color: #00af00; text-decoration-color: #00af00\">673,616</span> (2.57 MB)\n",
       "</pre>\n"
      ],
      "text/plain": [
       "\u001b[1m Total params: \u001b[0m\u001b[38;5;34m673,616\u001b[0m (2.57 MB)\n"
      ]
     },
     "metadata": {},
     "output_type": "display_data"
    },
    {
     "data": {
      "text/html": [
       "<pre style=\"white-space:pre;overflow-x:auto;line-height:normal;font-family:Menlo,'DejaVu Sans Mono',consolas,'Courier New',monospace\"><span style=\"font-weight: bold\"> Trainable params: </span><span style=\"color: #00af00; text-decoration-color: #00af00\">673,616</span> (2.57 MB)\n",
       "</pre>\n"
      ],
      "text/plain": [
       "\u001b[1m Trainable params: \u001b[0m\u001b[38;5;34m673,616\u001b[0m (2.57 MB)\n"
      ]
     },
     "metadata": {},
     "output_type": "display_data"
    },
    {
     "data": {
      "text/html": [
       "<pre style=\"white-space:pre;overflow-x:auto;line-height:normal;font-family:Menlo,'DejaVu Sans Mono',consolas,'Courier New',monospace\"><span style=\"font-weight: bold\"> Non-trainable params: </span><span style=\"color: #00af00; text-decoration-color: #00af00\">0</span> (0.00 B)\n",
       "</pre>\n"
      ],
      "text/plain": [
       "\u001b[1m Non-trainable params: \u001b[0m\u001b[38;5;34m0\u001b[0m (0.00 B)\n"
      ]
     },
     "metadata": {},
     "output_type": "display_data"
    }
   ],
   "source": [
    "# Example input shape: (timesteps, features)\n",
    "features = train_prefix_trace_encoded.shape[1]\n",
    "sequence = train_prefix_trace_encoded.shape[2]\n",
    "output = train_target_encoded.shape[1]\n",
    "prefix_model = Sequential()\n",
    "\n",
    "#LSTM Layers\n",
    "prefix_model.add(LSTM(400, return_sequences=False, input_shape=(features, sequence)))\n",
    "\n",
    "# Output layer (classification)\n",
    "prefix_model.add(Dense(output, activation='softmax'))\n",
    "prefix_model.compile(optimizer='adagrad', loss='categorical_crossentropy', metrics=['categorical_accuracy'])\n",
    "prefix_model.summary()"
   ]
  },
  {
   "cell_type": "code",
   "execution_count": 8,
   "id": "e098c19d-0b1a-4d95-a847-3e3c40c6a4f0",
   "metadata": {
    "scrolled": true
   },
   "outputs": [
    {
     "name": "stdout",
     "output_type": "stream",
     "text": [
      "Epoch 1/100\n",
      "\u001b[1m164/164\u001b[0m \u001b[32m━━━━━━━━━━━━━━━━━━━━\u001b[0m\u001b[37m\u001b[0m \u001b[1m26s\u001b[0m 141ms/step - categorical_accuracy: 0.2001 - loss: 2.7302 - val_categorical_accuracy: 0.2018 - val_loss: 2.6294\n",
      "Epoch 2/100\n",
      "\u001b[1m164/164\u001b[0m \u001b[32m━━━━━━━━━━━━━━━━━━━━\u001b[0m\u001b[37m\u001b[0m \u001b[1m22s\u001b[0m 132ms/step - categorical_accuracy: 0.2395 - loss: 2.5977 - val_categorical_accuracy: 0.1934 - val_loss: 2.5029\n",
      "Epoch 3/100\n",
      "\u001b[1m164/164\u001b[0m \u001b[32m━━━━━━━━━━━━━━━━━━━━\u001b[0m\u001b[37m\u001b[0m \u001b[1m22s\u001b[0m 131ms/step - categorical_accuracy: 0.2383 - loss: 2.4630 - val_categorical_accuracy: 0.1899 - val_loss: 2.3262\n",
      "Epoch 4/100\n",
      "\u001b[1m164/164\u001b[0m \u001b[32m━━━━━━━━━━━━━━━━━━━━\u001b[0m\u001b[37m\u001b[0m \u001b[1m22s\u001b[0m 134ms/step - categorical_accuracy: 0.2175 - loss: 2.2595 - val_categorical_accuracy: 0.1868 - val_loss: 2.0437\n",
      "Epoch 5/100\n",
      "\u001b[1m164/164\u001b[0m \u001b[32m━━━━━━━━━━━━━━━━━━━━\u001b[0m\u001b[37m\u001b[0m \u001b[1m23s\u001b[0m 138ms/step - categorical_accuracy: 0.2094 - loss: 1.9814 - val_categorical_accuracy: 0.1868 - val_loss: 1.8336\n",
      "Epoch 6/100\n",
      "\u001b[1m164/164\u001b[0m \u001b[32m━━━━━━━━━━━━━━━━━━━━\u001b[0m\u001b[37m\u001b[0m \u001b[1m22s\u001b[0m 134ms/step - categorical_accuracy: 0.2119 - loss: 1.8185 - val_categorical_accuracy: 0.1927 - val_loss: 1.7665\n",
      "Epoch 7/100\n",
      "\u001b[1m164/164\u001b[0m \u001b[32m━━━━━━━━━━━━━━━━━━━━\u001b[0m\u001b[37m\u001b[0m \u001b[1m22s\u001b[0m 136ms/step - categorical_accuracy: 0.2356 - loss: 1.7713 - val_categorical_accuracy: 0.3861 - val_loss: 1.7370\n",
      "Epoch 8/100\n",
      "\u001b[1m164/164\u001b[0m \u001b[32m━━━━━━━━━━━━━━━━━━━━\u001b[0m\u001b[37m\u001b[0m \u001b[1m23s\u001b[0m 138ms/step - categorical_accuracy: 0.4189 - loss: 1.7325 - val_categorical_accuracy: 0.3872 - val_loss: 1.7180\n",
      "Epoch 9/100\n",
      "\u001b[1m164/164\u001b[0m \u001b[32m━━━━━━━━━━━━━━━━━━━━\u001b[0m\u001b[37m\u001b[0m \u001b[1m23s\u001b[0m 139ms/step - categorical_accuracy: 0.3620 - loss: 1.7364 - val_categorical_accuracy: 0.5659 - val_loss: 1.7027\n",
      "Epoch 10/100\n",
      "\u001b[1m164/164\u001b[0m \u001b[32m━━━━━━━━━━━━━━━━━━━━\u001b[0m\u001b[37m\u001b[0m \u001b[1m23s\u001b[0m 137ms/step - categorical_accuracy: 0.4510 - loss: 1.7144 - val_categorical_accuracy: 0.5712 - val_loss: 1.6905\n",
      "Epoch 11/100\n",
      "\u001b[1m164/164\u001b[0m \u001b[32m━━━━━━━━━━━━━━━━━━━━\u001b[0m\u001b[37m\u001b[0m \u001b[1m22s\u001b[0m 136ms/step - categorical_accuracy: 0.5980 - loss: 1.7053 - val_categorical_accuracy: 0.5694 - val_loss: 1.6796\n",
      "Epoch 12/100\n",
      "\u001b[1m164/164\u001b[0m \u001b[32m━━━━━━━━━━━━━━━━━━━━\u001b[0m\u001b[37m\u001b[0m \u001b[1m23s\u001b[0m 138ms/step - categorical_accuracy: 0.4772 - loss: 1.6872 - val_categorical_accuracy: 0.6177 - val_loss: 1.6696\n",
      "Epoch 13/100\n",
      "\u001b[1m164/164\u001b[0m \u001b[32m━━━━━━━━━━━━━━━━━━━━\u001b[0m\u001b[37m\u001b[0m \u001b[1m22s\u001b[0m 135ms/step - categorical_accuracy: 0.6654 - loss: 1.6777 - val_categorical_accuracy: 0.7037 - val_loss: 1.6600\n",
      "Epoch 14/100\n",
      "\u001b[1m164/164\u001b[0m \u001b[32m━━━━━━━━━━━━━━━━━━━━\u001b[0m\u001b[37m\u001b[0m \u001b[1m22s\u001b[0m 134ms/step - categorical_accuracy: 0.6449 - loss: 1.6735 - val_categorical_accuracy: 0.8713 - val_loss: 1.6500\n",
      "Epoch 15/100\n",
      "\u001b[1m164/164\u001b[0m \u001b[32m━━━━━━━━━━━━━━━━━━━━\u001b[0m\u001b[37m\u001b[0m \u001b[1m22s\u001b[0m 134ms/step - categorical_accuracy: 0.7758 - loss: 1.6649 - val_categorical_accuracy: 0.7412 - val_loss: 1.6416\n",
      "Epoch 16/100\n",
      "\u001b[1m164/164\u001b[0m \u001b[32m━━━━━━━━━━━━━━━━━━━━\u001b[0m\u001b[37m\u001b[0m \u001b[1m22s\u001b[0m 135ms/step - categorical_accuracy: 0.7410 - loss: 1.6542 - val_categorical_accuracy: 0.5862 - val_loss: 1.6323\n",
      "Epoch 17/100\n",
      "\u001b[1m164/164\u001b[0m \u001b[32m━━━━━━━━━━━━━━━━━━━━\u001b[0m\u001b[37m\u001b[0m \u001b[1m23s\u001b[0m 139ms/step - categorical_accuracy: 0.7294 - loss: 1.6482 - val_categorical_accuracy: 0.8734 - val_loss: 1.6223\n",
      "Epoch 18/100\n",
      "\u001b[1m164/164\u001b[0m \u001b[32m━━━━━━━━━━━━━━━━━━━━\u001b[0m\u001b[37m\u001b[0m \u001b[1m23s\u001b[0m 138ms/step - categorical_accuracy: 0.7884 - loss: 1.6332 - val_categorical_accuracy: 0.8720 - val_loss: 1.6124\n",
      "Epoch 19/100\n",
      "\u001b[1m164/164\u001b[0m \u001b[32m━━━━━━━━━━━━━━━━━━━━\u001b[0m\u001b[37m\u001b[0m \u001b[1m22s\u001b[0m 136ms/step - categorical_accuracy: 0.7836 - loss: 1.6265 - val_categorical_accuracy: 0.8730 - val_loss: 1.6029\n",
      "Epoch 20/100\n",
      "\u001b[1m164/164\u001b[0m \u001b[32m━━━━━━━━━━━━━━━━━━━━\u001b[0m\u001b[37m\u001b[0m \u001b[1m23s\u001b[0m 138ms/step - categorical_accuracy: 0.7947 - loss: 1.6216 - val_categorical_accuracy: 0.8737 - val_loss: 1.5929\n",
      "Epoch 21/100\n",
      "\u001b[1m164/164\u001b[0m \u001b[32m━━━━━━━━━━━━━━━━━━━━\u001b[0m\u001b[37m\u001b[0m \u001b[1m22s\u001b[0m 136ms/step - categorical_accuracy: 0.8549 - loss: 1.6057 - val_categorical_accuracy: 0.8720 - val_loss: 1.5825\n",
      "Epoch 22/100\n",
      "\u001b[1m164/164\u001b[0m \u001b[32m━━━━━━━━━━━━━━━━━━━━\u001b[0m\u001b[37m\u001b[0m \u001b[1m22s\u001b[0m 134ms/step - categorical_accuracy: 0.8620 - loss: 1.5945 - val_categorical_accuracy: 0.7457 - val_loss: 1.5726\n",
      "Epoch 23/100\n",
      "\u001b[1m164/164\u001b[0m \u001b[32m━━━━━━━━━━━━━━━━━━━━\u001b[0m\u001b[37m\u001b[0m \u001b[1m22s\u001b[0m 133ms/step - categorical_accuracy: 0.7973 - loss: 1.5836 - val_categorical_accuracy: 0.8748 - val_loss: 1.5606\n",
      "Epoch 24/100\n",
      "\u001b[1m164/164\u001b[0m \u001b[32m━━━━━━━━━━━━━━━━━━━━\u001b[0m\u001b[37m\u001b[0m \u001b[1m22s\u001b[0m 136ms/step - categorical_accuracy: 0.8661 - loss: 1.5768 - val_categorical_accuracy: 0.8737 - val_loss: 1.5502\n",
      "Epoch 25/100\n",
      "\u001b[1m164/164\u001b[0m \u001b[32m━━━━━━━━━━━━━━━━━━━━\u001b[0m\u001b[37m\u001b[0m \u001b[1m22s\u001b[0m 135ms/step - categorical_accuracy: 0.7880 - loss: 1.5647 - val_categorical_accuracy: 0.8748 - val_loss: 1.5388\n",
      "Epoch 26/100\n",
      "\u001b[1m164/164\u001b[0m \u001b[32m━━━━━━━━━━━━━━━━━━━━\u001b[0m\u001b[37m\u001b[0m \u001b[1m22s\u001b[0m 134ms/step - categorical_accuracy: 0.8656 - loss: 1.5490 - val_categorical_accuracy: 0.8751 - val_loss: 1.5261\n",
      "Epoch 27/100\n",
      "\u001b[1m164/164\u001b[0m \u001b[32m━━━━━━━━━━━━━━━━━━━━\u001b[0m\u001b[37m\u001b[0m \u001b[1m22s\u001b[0m 133ms/step - categorical_accuracy: 0.8609 - loss: 1.5435 - val_categorical_accuracy: 0.8751 - val_loss: 1.5133\n",
      "Epoch 28/100\n",
      "\u001b[1m164/164\u001b[0m \u001b[32m━━━━━━━━━━━━━━━━━━━━\u001b[0m\u001b[37m\u001b[0m \u001b[1m22s\u001b[0m 133ms/step - categorical_accuracy: 0.8654 - loss: 1.5242 - val_categorical_accuracy: 0.8800 - val_loss: 1.5000\n",
      "Epoch 29/100\n",
      "\u001b[1m164/164\u001b[0m \u001b[32m━━━━━━━━━━━━━━━━━━━━\u001b[0m\u001b[37m\u001b[0m \u001b[1m22s\u001b[0m 134ms/step - categorical_accuracy: 0.8600 - loss: 1.5193 - val_categorical_accuracy: 0.8734 - val_loss: 1.4890\n",
      "Epoch 30/100\n",
      "\u001b[1m164/164\u001b[0m \u001b[32m━━━━━━━━━━━━━━━━━━━━\u001b[0m\u001b[37m\u001b[0m \u001b[1m22s\u001b[0m 133ms/step - categorical_accuracy: 0.8641 - loss: 1.5022 - val_categorical_accuracy: 0.8751 - val_loss: 1.4736\n",
      "Epoch 31/100\n",
      "\u001b[1m164/164\u001b[0m \u001b[32m━━━━━━━━━━━━━━━━━━━━\u001b[0m\u001b[37m\u001b[0m \u001b[1m22s\u001b[0m 135ms/step - categorical_accuracy: 0.8590 - loss: 1.4930 - val_categorical_accuracy: 0.8800 - val_loss: 1.4588\n",
      "Epoch 32/100\n",
      "\u001b[1m164/164\u001b[0m \u001b[32m━━━━━━━━━━━━━━━━━━━━\u001b[0m\u001b[37m\u001b[0m \u001b[1m22s\u001b[0m 136ms/step - categorical_accuracy: 0.8612 - loss: 1.4761 - val_categorical_accuracy: 0.8828 - val_loss: 1.4432\n",
      "Epoch 33/100\n",
      "\u001b[1m164/164\u001b[0m \u001b[32m━━━━━━━━━━━━━━━━━━━━\u001b[0m\u001b[37m\u001b[0m \u001b[1m23s\u001b[0m 138ms/step - categorical_accuracy: 0.8579 - loss: 1.4637 - val_categorical_accuracy: 0.8727 - val_loss: 1.4276\n",
      "Epoch 34/100\n",
      "\u001b[1m164/164\u001b[0m \u001b[32m━━━━━━━━━━━━━━━━━━━━\u001b[0m\u001b[37m\u001b[0m \u001b[1m22s\u001b[0m 132ms/step - categorical_accuracy: 0.8580 - loss: 1.4480 - val_categorical_accuracy: 0.8730 - val_loss: 1.4115\n",
      "Epoch 35/100\n",
      "\u001b[1m164/164\u001b[0m \u001b[32m━━━━━━━━━━━━━━━━━━━━\u001b[0m\u001b[37m\u001b[0m \u001b[1m23s\u001b[0m 137ms/step - categorical_accuracy: 0.8597 - loss: 1.4265 - val_categorical_accuracy: 0.8825 - val_loss: 1.3932\n",
      "Epoch 36/100\n",
      "\u001b[1m164/164\u001b[0m \u001b[32m━━━━━━━━━━━━━━━━━━━━\u001b[0m\u001b[37m\u001b[0m \u001b[1m22s\u001b[0m 137ms/step - categorical_accuracy: 0.8627 - loss: 1.4039 - val_categorical_accuracy: 0.9122 - val_loss: 1.3745\n",
      "Epoch 37/100\n",
      "\u001b[1m164/164\u001b[0m \u001b[32m━━━━━━━━━━━━━━━━━━━━\u001b[0m\u001b[37m\u001b[0m \u001b[1m22s\u001b[0m 136ms/step - categorical_accuracy: 0.8556 - loss: 1.3934 - val_categorical_accuracy: 0.9122 - val_loss: 1.3551\n",
      "Epoch 38/100\n",
      "\u001b[1m164/164\u001b[0m \u001b[32m━━━━━━━━━━━━━━━━━━━━\u001b[0m\u001b[37m\u001b[0m \u001b[1m22s\u001b[0m 136ms/step - categorical_accuracy: 0.8530 - loss: 1.3713 - val_categorical_accuracy: 0.9126 - val_loss: 1.3338\n",
      "Epoch 39/100\n",
      "\u001b[1m164/164\u001b[0m \u001b[32m━━━━━━━━━━━━━━━━━━━━\u001b[0m\u001b[37m\u001b[0m \u001b[1m22s\u001b[0m 136ms/step - categorical_accuracy: 0.8543 - loss: 1.3579 - val_categorical_accuracy: 0.9122 - val_loss: 1.3135\n",
      "Epoch 40/100\n",
      "\u001b[1m164/164\u001b[0m \u001b[32m━━━━━━━━━━━━━━━━━━━━\u001b[0m\u001b[37m\u001b[0m \u001b[1m22s\u001b[0m 135ms/step - categorical_accuracy: 0.8557 - loss: 1.3302 - val_categorical_accuracy: 0.9049 - val_loss: 1.2919\n",
      "Epoch 41/100\n",
      "\u001b[1m164/164\u001b[0m \u001b[32m━━━━━━━━━━━━━━━━━━━━\u001b[0m\u001b[37m\u001b[0m \u001b[1m22s\u001b[0m 136ms/step - categorical_accuracy: 0.8465 - loss: 1.3096 - val_categorical_accuracy: 0.9108 - val_loss: 1.2658\n",
      "Epoch 42/100\n",
      "\u001b[1m164/164\u001b[0m \u001b[32m━━━━━━━━━━━━━━━━━━━━\u001b[0m\u001b[37m\u001b[0m \u001b[1m22s\u001b[0m 137ms/step - categorical_accuracy: 0.8477 - loss: 1.2902 - val_categorical_accuracy: 0.9035 - val_loss: 1.2425\n",
      "Epoch 43/100\n",
      "\u001b[1m164/164\u001b[0m \u001b[32m━━━━━━━━━━━━━━━━━━━━\u001b[0m\u001b[37m\u001b[0m \u001b[1m23s\u001b[0m 139ms/step - categorical_accuracy: 0.8409 - loss: 1.2643 - val_categorical_accuracy: 0.9035 - val_loss: 1.2154\n",
      "Epoch 44/100\n",
      "\u001b[1m164/164\u001b[0m \u001b[32m━━━━━━━━━━━━━━━━━━━━\u001b[0m\u001b[37m\u001b[0m \u001b[1m22s\u001b[0m 136ms/step - categorical_accuracy: 0.8404 - loss: 1.2426 - val_categorical_accuracy: 0.9052 - val_loss: 1.1879\n",
      "Epoch 45/100\n",
      "\u001b[1m164/164\u001b[0m \u001b[32m━━━━━━━━━━━━━━━━━━━━\u001b[0m\u001b[37m\u001b[0m \u001b[1m23s\u001b[0m 138ms/step - categorical_accuracy: 0.8412 - loss: 1.2216 - val_categorical_accuracy: 0.9007 - val_loss: 1.1596\n",
      "Epoch 46/100\n",
      "\u001b[1m164/164\u001b[0m \u001b[32m━━━━━━━━━━━━━━━━━━━━\u001b[0m\u001b[37m\u001b[0m \u001b[1m23s\u001b[0m 140ms/step - categorical_accuracy: 0.8323 - loss: 1.1962 - val_categorical_accuracy: 0.9000 - val_loss: 1.1323\n",
      "Epoch 47/100\n",
      "\u001b[1m164/164\u001b[0m \u001b[32m━━━━━━━━━━━━━━━━━━━━\u001b[0m\u001b[37m\u001b[0m \u001b[1m22s\u001b[0m 137ms/step - categorical_accuracy: 0.8355 - loss: 1.1547 - val_categorical_accuracy: 0.9000 - val_loss: 1.0994\n",
      "Epoch 48/100\n",
      "\u001b[1m164/164\u001b[0m \u001b[32m━━━━━━━━━━━━━━━━━━━━\u001b[0m\u001b[37m\u001b[0m \u001b[1m22s\u001b[0m 133ms/step - categorical_accuracy: 0.8348 - loss: 1.1268 - val_categorical_accuracy: 0.8993 - val_loss: 1.0696\n",
      "Epoch 49/100\n",
      "\u001b[1m164/164\u001b[0m \u001b[32m━━━━━━━━━━━━━━━━━━━━\u001b[0m\u001b[37m\u001b[0m \u001b[1m23s\u001b[0m 138ms/step - categorical_accuracy: 0.8348 - loss: 1.1049 - val_categorical_accuracy: 0.9073 - val_loss: 1.0357\n",
      "Epoch 50/100\n",
      "\u001b[1m164/164\u001b[0m \u001b[32m━━━━━━━━━━━━━━━━━━━━\u001b[0m\u001b[37m\u001b[0m \u001b[1m23s\u001b[0m 141ms/step - categorical_accuracy: 0.8247 - loss: 1.0996 - val_categorical_accuracy: 0.8989 - val_loss: 1.0119\n",
      "Epoch 51/100\n",
      "\u001b[1m164/164\u001b[0m \u001b[32m━━━━━━━━━━━━━━━━━━━━\u001b[0m\u001b[37m\u001b[0m \u001b[1m23s\u001b[0m 138ms/step - categorical_accuracy: 0.8305 - loss: 1.0631 - val_categorical_accuracy: 0.8958 - val_loss: 0.9817\n",
      "Epoch 52/100\n",
      "\u001b[1m164/164\u001b[0m \u001b[32m━━━━━━━━━━━━━━━━━━━━\u001b[0m\u001b[37m\u001b[0m \u001b[1m22s\u001b[0m 136ms/step - categorical_accuracy: 0.8266 - loss: 1.0485 - val_categorical_accuracy: 0.8944 - val_loss: 0.9568\n",
      "Epoch 53/100\n",
      "\u001b[1m164/164\u001b[0m \u001b[32m━━━━━━━━━━━━━━━━━━━━\u001b[0m\u001b[37m\u001b[0m \u001b[1m23s\u001b[0m 139ms/step - categorical_accuracy: 0.8211 - loss: 1.0272 - val_categorical_accuracy: 0.9014 - val_loss: 0.9232\n",
      "Epoch 54/100\n",
      "\u001b[1m164/164\u001b[0m \u001b[32m━━━━━━━━━━━━━━━━━━━━\u001b[0m\u001b[37m\u001b[0m \u001b[1m23s\u001b[0m 140ms/step - categorical_accuracy: 0.8213 - loss: 1.0089 - val_categorical_accuracy: 0.8940 - val_loss: 0.9061\n",
      "Epoch 55/100\n",
      "\u001b[1m164/164\u001b[0m \u001b[32m━━━━━━━━━━━━━━━━━━━━\u001b[0m\u001b[37m\u001b[0m \u001b[1m23s\u001b[0m 137ms/step - categorical_accuracy: 0.8199 - loss: 0.9902 - val_categorical_accuracy: 0.8940 - val_loss: 0.8779\n",
      "Epoch 56/100\n",
      "\u001b[1m164/164\u001b[0m \u001b[32m━━━━━━━━━━━━━━━━━━━━\u001b[0m\u001b[37m\u001b[0m \u001b[1m21s\u001b[0m 126ms/step - categorical_accuracy: 0.8214 - loss: 0.9609 - val_categorical_accuracy: 0.8954 - val_loss: 0.8568\n",
      "Epoch 57/100\n",
      "\u001b[1m164/164\u001b[0m \u001b[32m━━━━━━━━━━━━━━━━━━━━\u001b[0m\u001b[37m\u001b[0m \u001b[1m22s\u001b[0m 131ms/step - categorical_accuracy: 0.8226 - loss: 0.9386 - val_categorical_accuracy: 0.8940 - val_loss: 0.8462\n",
      "Epoch 58/100\n",
      "\u001b[1m164/164\u001b[0m \u001b[32m━━━━━━━━━━━━━━━━━━━━\u001b[0m\u001b[37m\u001b[0m \u001b[1m23s\u001b[0m 138ms/step - categorical_accuracy: 0.8213 - loss: 0.9292 - val_categorical_accuracy: 0.8951 - val_loss: 0.8341\n",
      "Epoch 59/100\n",
      "\u001b[1m164/164\u001b[0m \u001b[32m━━━━━━━━━━━━━━━━━━━━\u001b[0m\u001b[37m\u001b[0m \u001b[1m23s\u001b[0m 138ms/step - categorical_accuracy: 0.8173 - loss: 0.9165 - val_categorical_accuracy: 0.9007 - val_loss: 0.7963\n",
      "Epoch 60/100\n",
      "\u001b[1m164/164\u001b[0m \u001b[32m━━━━━━━━━━━━━━━━━━━━\u001b[0m\u001b[37m\u001b[0m \u001b[1m23s\u001b[0m 140ms/step - categorical_accuracy: 0.8235 - loss: 0.8893 - val_categorical_accuracy: 0.8933 - val_loss: 0.7839\n",
      "Epoch 61/100\n",
      "\u001b[1m164/164\u001b[0m \u001b[32m━━━━━━━━━━━━━━━━━━━━\u001b[0m\u001b[37m\u001b[0m \u001b[1m22s\u001b[0m 135ms/step - categorical_accuracy: 0.8225 - loss: 0.8740 - val_categorical_accuracy: 0.8951 - val_loss: 0.7730\n",
      "Epoch 62/100\n",
      "\u001b[1m164/164\u001b[0m \u001b[32m━━━━━━━━━━━━━━━━━━━━\u001b[0m\u001b[37m\u001b[0m \u001b[1m21s\u001b[0m 127ms/step - categorical_accuracy: 0.8188 - loss: 0.8780 - val_categorical_accuracy: 0.8933 - val_loss: 0.7504\n",
      "Epoch 63/100\n",
      "\u001b[1m164/164\u001b[0m \u001b[32m━━━━━━━━━━━━━━━━━━━━\u001b[0m\u001b[37m\u001b[0m \u001b[1m21s\u001b[0m 127ms/step - categorical_accuracy: 0.8132 - loss: 0.8610 - val_categorical_accuracy: 0.9007 - val_loss: 0.7344\n",
      "Epoch 64/100\n",
      "\u001b[1m164/164\u001b[0m \u001b[32m━━━━━━━━━━━━━━━━━━━━\u001b[0m\u001b[37m\u001b[0m \u001b[1m21s\u001b[0m 125ms/step - categorical_accuracy: 0.8262 - loss: 0.8324 - val_categorical_accuracy: 0.8972 - val_loss: 0.7237\n",
      "Epoch 65/100\n",
      "\u001b[1m164/164\u001b[0m \u001b[32m━━━━━━━━━━━━━━━━━━━━\u001b[0m\u001b[37m\u001b[0m \u001b[1m23s\u001b[0m 139ms/step - categorical_accuracy: 0.8212 - loss: 0.8327 - val_categorical_accuracy: 0.9007 - val_loss: 0.7064\n",
      "Epoch 66/100\n",
      "\u001b[1m164/164\u001b[0m \u001b[32m━━━━━━━━━━━━━━━━━━━━\u001b[0m\u001b[37m\u001b[0m \u001b[1m22s\u001b[0m 137ms/step - categorical_accuracy: 0.8264 - loss: 0.8104 - val_categorical_accuracy: 0.8972 - val_loss: 0.7001\n",
      "Epoch 67/100\n",
      "\u001b[1m164/164\u001b[0m \u001b[32m━━━━━━━━━━━━━━━━━━━━\u001b[0m\u001b[37m\u001b[0m \u001b[1m22s\u001b[0m 132ms/step - categorical_accuracy: 0.8298 - loss: 0.8001 - val_categorical_accuracy: 0.9003 - val_loss: 0.6809\n",
      "Epoch 68/100\n",
      "\u001b[1m164/164\u001b[0m \u001b[32m━━━━━━━━━━━━━━━━━━━━\u001b[0m\u001b[37m\u001b[0m \u001b[1m23s\u001b[0m 137ms/step - categorical_accuracy: 0.8248 - loss: 0.7911 - val_categorical_accuracy: 0.9038 - val_loss: 0.6729\n",
      "Epoch 69/100\n",
      "\u001b[1m164/164\u001b[0m \u001b[32m━━━━━━━━━━━━━━━━━━━━\u001b[0m\u001b[37m\u001b[0m \u001b[1m22s\u001b[0m 133ms/step - categorical_accuracy: 0.8320 - loss: 0.7808 - val_categorical_accuracy: 0.9052 - val_loss: 0.6546\n",
      "Epoch 70/100\n",
      "\u001b[1m164/164\u001b[0m \u001b[32m━━━━━━━━━━━━━━━━━━━━\u001b[0m\u001b[37m\u001b[0m \u001b[1m23s\u001b[0m 137ms/step - categorical_accuracy: 0.8340 - loss: 0.7616 - val_categorical_accuracy: 0.9059 - val_loss: 0.6557\n",
      "Epoch 71/100\n",
      "\u001b[1m164/164\u001b[0m \u001b[32m━━━━━━━━━━━━━━━━━━━━\u001b[0m\u001b[37m\u001b[0m \u001b[1m22s\u001b[0m 135ms/step - categorical_accuracy: 0.8411 - loss: 0.7438 - val_categorical_accuracy: 0.9066 - val_loss: 0.6365\n",
      "Epoch 72/100\n",
      "\u001b[1m164/164\u001b[0m \u001b[32m━━━━━━━━━━━━━━━━━━━━\u001b[0m\u001b[37m\u001b[0m \u001b[1m23s\u001b[0m 141ms/step - categorical_accuracy: 0.8410 - loss: 0.7342 - val_categorical_accuracy: 0.9049 - val_loss: 0.6284\n",
      "Epoch 73/100\n",
      "\u001b[1m164/164\u001b[0m \u001b[32m━━━━━━━━━━━━━━━━━━━━\u001b[0m\u001b[37m\u001b[0m \u001b[1m23s\u001b[0m 139ms/step - categorical_accuracy: 0.8421 - loss: 0.7312 - val_categorical_accuracy: 0.9049 - val_loss: 0.6159\n",
      "Epoch 74/100\n",
      "\u001b[1m164/164\u001b[0m \u001b[32m━━━━━━━━━━━━━━━━━━━━\u001b[0m\u001b[37m\u001b[0m \u001b[1m22s\u001b[0m 136ms/step - categorical_accuracy: 0.8465 - loss: 0.7161 - val_categorical_accuracy: 0.9084 - val_loss: 0.6134\n",
      "Epoch 75/100\n",
      "\u001b[1m164/164\u001b[0m \u001b[32m━━━━━━━━━━━━━━━━━━━━\u001b[0m\u001b[37m\u001b[0m \u001b[1m23s\u001b[0m 137ms/step - categorical_accuracy: 0.8460 - loss: 0.7077 - val_categorical_accuracy: 0.9084 - val_loss: 0.5968\n",
      "Epoch 76/100\n",
      "\u001b[1m164/164\u001b[0m \u001b[32m━━━━━━━━━━━━━━━━━━━━\u001b[0m\u001b[37m\u001b[0m \u001b[1m23s\u001b[0m 140ms/step - categorical_accuracy: 0.8464 - loss: 0.6962 - val_categorical_accuracy: 0.9084 - val_loss: 0.5866\n",
      "Epoch 77/100\n",
      "\u001b[1m164/164\u001b[0m \u001b[32m━━━━━━━━━━━━━━━━━━━━\u001b[0m\u001b[37m\u001b[0m \u001b[1m22s\u001b[0m 137ms/step - categorical_accuracy: 0.8475 - loss: 0.6884 - val_categorical_accuracy: 0.9101 - val_loss: 0.5746\n",
      "Epoch 78/100\n",
      "\u001b[1m164/164\u001b[0m \u001b[32m━━━━━━━━━━━━━━━━━━━━\u001b[0m\u001b[37m\u001b[0m \u001b[1m23s\u001b[0m 141ms/step - categorical_accuracy: 0.8488 - loss: 0.6816 - val_categorical_accuracy: 0.9101 - val_loss: 0.5620\n",
      "Epoch 79/100\n",
      "\u001b[1m164/164\u001b[0m \u001b[32m━━━━━━━━━━━━━━━━━━━━\u001b[0m\u001b[37m\u001b[0m \u001b[1m23s\u001b[0m 138ms/step - categorical_accuracy: 0.8506 - loss: 0.6577 - val_categorical_accuracy: 0.9084 - val_loss: 0.5602\n",
      "Epoch 80/100\n",
      "\u001b[1m164/164\u001b[0m \u001b[32m━━━━━━━━━━━━━━━━━━━━\u001b[0m\u001b[37m\u001b[0m \u001b[1m23s\u001b[0m 138ms/step - categorical_accuracy: 0.8472 - loss: 0.6709 - val_categorical_accuracy: 0.9105 - val_loss: 0.5478\n",
      "Epoch 81/100\n",
      "\u001b[1m164/164\u001b[0m \u001b[32m━━━━━━━━━━━━━━━━━━━━\u001b[0m\u001b[37m\u001b[0m \u001b[1m23s\u001b[0m 138ms/step - categorical_accuracy: 0.8469 - loss: 0.6543 - val_categorical_accuracy: 0.9108 - val_loss: 0.5428\n",
      "Epoch 82/100\n",
      "\u001b[1m164/164\u001b[0m \u001b[32m━━━━━━━━━━━━━━━━━━━━\u001b[0m\u001b[37m\u001b[0m \u001b[1m22s\u001b[0m 135ms/step - categorical_accuracy: 0.8515 - loss: 0.6398 - val_categorical_accuracy: 0.9087 - val_loss: 0.5347\n",
      "Epoch 83/100\n",
      "\u001b[1m164/164\u001b[0m \u001b[32m━━━━━━━━━━━━━━━━━━━━\u001b[0m\u001b[37m\u001b[0m \u001b[1m23s\u001b[0m 140ms/step - categorical_accuracy: 0.8502 - loss: 0.6368 - val_categorical_accuracy: 0.9122 - val_loss: 0.5253\n",
      "Epoch 84/100\n",
      "\u001b[1m164/164\u001b[0m \u001b[32m━━━━━━━━━━━━━━━━━━━━\u001b[0m\u001b[37m\u001b[0m \u001b[1m23s\u001b[0m 140ms/step - categorical_accuracy: 0.8537 - loss: 0.6259 - val_categorical_accuracy: 0.9119 - val_loss: 0.5180\n",
      "Epoch 85/100\n",
      "\u001b[1m164/164\u001b[0m \u001b[32m━━━━━━━━━━━━━━━━━━━━\u001b[0m\u001b[37m\u001b[0m \u001b[1m22s\u001b[0m 136ms/step - categorical_accuracy: 0.8539 - loss: 0.6136 - val_categorical_accuracy: 0.9080 - val_loss: 0.5194\n",
      "Epoch 86/100\n",
      "\u001b[1m164/164\u001b[0m \u001b[32m━━━━━━━━━━━━━━━━━━━━\u001b[0m\u001b[37m\u001b[0m \u001b[1m23s\u001b[0m 140ms/step - categorical_accuracy: 0.8533 - loss: 0.6198 - val_categorical_accuracy: 0.9108 - val_loss: 0.5063\n",
      "Epoch 87/100\n",
      "\u001b[1m164/164\u001b[0m \u001b[32m━━━━━━━━━━━━━━━━━━━━\u001b[0m\u001b[37m\u001b[0m \u001b[1m22s\u001b[0m 136ms/step - categorical_accuracy: 0.8529 - loss: 0.6058 - val_categorical_accuracy: 0.9115 - val_loss: 0.5001\n",
      "Epoch 88/100\n",
      "\u001b[1m164/164\u001b[0m \u001b[32m━━━━━━━━━━━━━━━━━━━━\u001b[0m\u001b[37m\u001b[0m \u001b[1m23s\u001b[0m 137ms/step - categorical_accuracy: 0.8556 - loss: 0.6043 - val_categorical_accuracy: 0.9101 - val_loss: 0.4958\n",
      "Epoch 89/100\n",
      "\u001b[1m164/164\u001b[0m \u001b[32m━━━━━━━━━━━━━━━━━━━━\u001b[0m\u001b[37m\u001b[0m \u001b[1m23s\u001b[0m 138ms/step - categorical_accuracy: 0.8554 - loss: 0.5979 - val_categorical_accuracy: 0.9115 - val_loss: 0.4883\n",
      "Epoch 90/100\n",
      "\u001b[1m164/164\u001b[0m \u001b[32m━━━━━━━━━━━━━━━━━━━━\u001b[0m\u001b[37m\u001b[0m \u001b[1m23s\u001b[0m 138ms/step - categorical_accuracy: 0.8575 - loss: 0.5823 - val_categorical_accuracy: 0.9112 - val_loss: 0.4908\n",
      "Epoch 91/100\n",
      "\u001b[1m164/164\u001b[0m \u001b[32m━━━━━━━━━━━━━━━━━━━━\u001b[0m\u001b[37m\u001b[0m \u001b[1m23s\u001b[0m 138ms/step - categorical_accuracy: 0.8595 - loss: 0.5758 - val_categorical_accuracy: 0.9115 - val_loss: 0.4855\n",
      "Epoch 92/100\n",
      "\u001b[1m164/164\u001b[0m \u001b[32m━━━━━━━━━━━━━━━━━━━━\u001b[0m\u001b[37m\u001b[0m \u001b[1m23s\u001b[0m 140ms/step - categorical_accuracy: 0.8554 - loss: 0.5816 - val_categorical_accuracy: 0.9066 - val_loss: 0.4910\n",
      "Epoch 93/100\n",
      "\u001b[1m164/164\u001b[0m \u001b[32m━━━━━━━━━━━━━━━━━━━━\u001b[0m\u001b[37m\u001b[0m \u001b[1m23s\u001b[0m 140ms/step - categorical_accuracy: 0.8572 - loss: 0.5749 - val_categorical_accuracy: 0.9115 - val_loss: 0.4711\n",
      "Epoch 94/100\n",
      "\u001b[1m164/164\u001b[0m \u001b[32m━━━━━━━━━━━━━━━━━━━━\u001b[0m\u001b[37m\u001b[0m \u001b[1m23s\u001b[0m 137ms/step - categorical_accuracy: 0.8581 - loss: 0.5703 - val_categorical_accuracy: 0.9084 - val_loss: 0.4759\n",
      "Epoch 95/100\n",
      "\u001b[1m164/164\u001b[0m \u001b[32m━━━━━━━━━━━━━━━━━━━━\u001b[0m\u001b[37m\u001b[0m \u001b[1m23s\u001b[0m 141ms/step - categorical_accuracy: 0.8629 - loss: 0.5615 - val_categorical_accuracy: 0.9052 - val_loss: 0.4937\n",
      "Epoch 96/100\n",
      "\u001b[1m164/164\u001b[0m \u001b[32m━━━━━━━━━━━━━━━━━━━━\u001b[0m\u001b[37m\u001b[0m \u001b[1m23s\u001b[0m 139ms/step - categorical_accuracy: 0.8551 - loss: 0.5717 - val_categorical_accuracy: 0.9084 - val_loss: 0.4591\n",
      "Epoch 97/100\n",
      "\u001b[1m164/164\u001b[0m \u001b[32m━━━━━━━━━━━━━━━━━━━━\u001b[0m\u001b[37m\u001b[0m \u001b[1m24s\u001b[0m 143ms/step - categorical_accuracy: 0.8635 - loss: 0.5531 - val_categorical_accuracy: 0.9084 - val_loss: 0.4546\n",
      "Epoch 98/100\n",
      "\u001b[1m164/164\u001b[0m \u001b[32m━━━━━━━━━━━━━━━━━━━━\u001b[0m\u001b[37m\u001b[0m \u001b[1m23s\u001b[0m 138ms/step - categorical_accuracy: 0.8641 - loss: 0.5459 - val_categorical_accuracy: 0.9084 - val_loss: 0.4531\n",
      "Epoch 99/100\n",
      "\u001b[1m164/164\u001b[0m \u001b[32m━━━━━━━━━━━━━━━━━━━━\u001b[0m\u001b[37m\u001b[0m \u001b[1m23s\u001b[0m 142ms/step - categorical_accuracy: 0.8601 - loss: 0.5537 - val_categorical_accuracy: 0.9084 - val_loss: 0.4543\n",
      "Epoch 100/100\n",
      "\u001b[1m164/164\u001b[0m \u001b[32m━━━━━━━━━━━━━━━━━━━━\u001b[0m\u001b[37m\u001b[0m \u001b[1m23s\u001b[0m 139ms/step - categorical_accuracy: 0.8595 - loss: 0.5510 - val_categorical_accuracy: 0.9084 - val_loss: 0.4488\n"
     ]
    }
   ],
   "source": [
    "# 9. Train Model\n",
    "history = prefix_model.fit(train_prefix_trace_encoded, train_target_encoded, epochs=100, batch_size=100, validation_data = (val_prefix_trace_encoded, val_target_encoded))"
   ]
  },
  {
   "cell_type": "code",
   "execution_count": 9,
   "id": "a3ba6dff-f17c-4ed8-84ec-ee0b86398ba7",
   "metadata": {},
   "outputs": [
    {
     "data": {
      "image/png": "[encoded data removed]",
      "text/plain": [
       "<Figure size 640x480 with 1 Axes>"
      ]
     },
     "metadata": {},
     "output_type": "display_data"
    }
   ],
   "source": [
    "train_loss = history.history['loss']\n",
    "val_loss = history.history['val_loss']\n",
    "epochs = range(1, len(train_loss) + 1)\n",
    "\n",
    "plt.plot(epochs, train_loss, label='Training loss')\n",
    "plt.plot(epochs, val_loss, label='Validation loss')\n",
    "plt.title('Training and validation loss')\n",
    "plt.xlabel('Epochs')\n",
    "plt.ylabel('Loss')\n",
    "plt.legend()\n",
    "plt.show()"
   ]
  },
  {
   "cell_type": "markdown",
   "id": "a23f4e9e-e91e-4832-82fa-da36000a34fc",
   "metadata": {},
   "source": [
    "## Check Predictions"
   ]
  },
  {
   "cell_type": "code",
   "execution_count": 10,
   "id": "2a619a0e-a5b5-4366-a600-66fa2212c296",
   "metadata": {},
   "outputs": [],
   "source": [
    "from predictions import single_input_prediction, multi_input_prediction"
   ]
  },
  {
   "cell_type": "code",
   "execution_count": 11,
   "id": "6b3d67ad-74ca-4a39-b287-b4cc359e991d",
   "metadata": {},
   "outputs": [
    {
     "name": "stdout",
     "output_type": "stream",
     "text": [
      "\u001b[1m512/512\u001b[0m \u001b[32m━━━━━━━━━━━━━━━━━━━━\u001b[0m\u001b[37m\u001b[0m \u001b[1m13s\u001b[0m 25ms/step\n",
      "train model recall 86.15779502536209%\n"
     ]
    },
    {
     "data": {
      "text/plain": [
       "array(['assign seriousness', 'take in charge ticket', 'resolve ticket',\n",
       "       ..., 'resolve ticket', 'closed', 'zos'], dtype=object)"
      ]
     },
     "execution_count": 11,
     "metadata": {},
     "output_type": "execute_result"
    }
   ],
   "source": [
    "actual_label = train_target[\"activity\"]\n",
    "single_input_prediction(prefix_model, train_prefix_trace_encoded, label_encoder,actual_label)"
   ]
  },
  {
   "cell_type": "code",
   "execution_count": 12,
   "id": "44c251c6-1807-48ac-ae5d-dad834f72aaa",
   "metadata": {},
   "outputs": [
    {
     "name": "stdout",
     "output_type": "stream",
     "text": [
      "\u001b[1m206/206\u001b[0m \u001b[32m━━━━━━━━━━━━━━━━━━━━\u001b[0m\u001b[37m\u001b[0m \u001b[1m5s\u001b[0m 23ms/step\n",
      "test model recall 82.3985408116735%\n"
     ]
    }
   ],
   "source": [
    "actual_label = test_target[\"activity\"]\n",
    "test_predictions = single_input_prediction(prefix_model, test_prefix_trace_encoded, label_encoder,actual_label,\"test\")"
   ]
  },
  {
   "cell_type": "code",
   "execution_count": 25,
   "id": "45206932-c1ba-4ea5-b22c-abd07494b18f",
   "metadata": {},
   "outputs": [
    {
     "name": "stdout",
     "output_type": "stream",
     "text": [
      "INFO:tensorflow:Assets written to: saved_model/prefix_model\\assets\n"
     ]
    },
    {
     "name": "stderr",
     "output_type": "stream",
     "text": [
      "INFO:tensorflow:Assets written to: saved_model/prefix_model\\assets\n"
     ]
    },
    {
     "name": "stdout",
     "output_type": "stream",
     "text": [
      "Saved artifact at 'saved_model/prefix_model'. The following endpoints are available:\n",
      "\n",
      "* Endpoint 'serve'\n",
      "  args_0 (POSITIONAL_ONLY): TensorSpec(shape=(None, 16, 16), dtype=tf.float32, name='keras_tensor')\n",
      "Output Type:\n",
      "  TensorSpec(shape=(None, 16), dtype=tf.float32, name=None)\n",
      "Captures:\n",
      "  1848135320784: TensorSpec(shape=(), dtype=tf.resource, name=None)\n",
      "  1848135322128: TensorSpec(shape=(), dtype=tf.resource, name=None)\n",
      "  1848135321936: TensorSpec(shape=(), dtype=tf.resource, name=None)\n",
      "  1848135323472: TensorSpec(shape=(), dtype=tf.resource, name=None)\n",
      "  1848135322320: TensorSpec(shape=(), dtype=tf.resource, name=None)\n"
     ]
    }
   ],
   "source": [
    "#save model\n",
    "prefix_model.export(\"saved_model/prefix_model\")"
   ]
  },
  {
   "cell_type": "code",
   "execution_count": 14,
   "id": "e9f4e93c-f337-46fb-af67-13aa383a7552",
   "metadata": {},
   "outputs": [
    {
     "name": "stdout",
     "output_type": "stream",
     "text": [
      "\u001b[1m206/206\u001b[0m \u001b[32m━━━━━━━━━━━━━━━━━━━━\u001b[0m\u001b[37m\u001b[0m \u001b[1m5s\u001b[0m 26ms/step - categorical_accuracy: 0.8194 - loss: 0.8481\n"
     ]
    },
    {
     "data": {
      "text/plain": [
       "[0.8298004865646362, 0.8239853978157043]"
      ]
     },
     "execution_count": 14,
     "metadata": {},
     "output_type": "execute_result"
    }
   ],
   "source": [
    "#prefix_model.evaluate(train_target[\"activity\"],test_target[\"activity\"])\n",
    "prefix_model.evaluate(test_prefix_trace_encoded,test_target_encoded)"
   ]
  },
  {
   "cell_type": "markdown",
   "id": "402e064a-871d-42eb-929d-88c0a4d2fba1",
   "metadata": {},
   "source": [
    "## DFG Model Only"
   ]
  },
  {
   "cell_type": "code",
   "execution_count": 15,
   "id": "853af73d-6ad9-4bad-b3af-30611f9f3493",
   "metadata": {},
   "outputs": [
    {
     "name": "stderr",
     "output_type": "stream",
     "text": [
      "C:\\Users\\obami\\anaconda3\\Lib\\site-packages\\keras\\src\\layers\\core\\dense.py:87: UserWarning: Do not pass an `input_shape`/`input_dim` argument to a layer. When using Sequential models, prefer using an `Input(shape)` object as the first layer in the model instead.\n",
      "  super().__init__(activity_regularizer=activity_regularizer, **kwargs)\n"
     ]
    },
    {
     "data": {
      "text/html": [
       "<pre style=\"white-space:pre;overflow-x:auto;line-height:normal;font-family:Menlo,'DejaVu Sans Mono',consolas,'Courier New',monospace\"><span style=\"font-weight: bold\">Model: \"sequential_2\"</span>\n",
       "</pre>\n"
      ],
      "text/plain": [
       "\u001b[1mModel: \"sequential_2\"\u001b[0m\n"
      ]
     },
     "metadata": {},
     "output_type": "display_data"
    },
    {
     "data": {
      "text/html": [
       "<pre style=\"white-space:pre;overflow-x:auto;line-height:normal;font-family:Menlo,'DejaVu Sans Mono',consolas,'Courier New',monospace\">┏━━━━━━━━━━━━━━━━━━━━━━━━━━━━━━━━━┳━━━━━━━━━━━━━━━━━━━━━━━━┳━━━━━━━━━━━━━━━┓\n",
       "┃<span style=\"font-weight: bold\"> Layer (type)                    </span>┃<span style=\"font-weight: bold\"> Output Shape           </span>┃<span style=\"font-weight: bold\">       Param # </span>┃\n",
       "┡━━━━━━━━━━━━━━━━━━━━━━━━━━━━━━━━━╇━━━━━━━━━━━━━━━━━━━━━━━━╇━━━━━━━━━━━━━━━┩\n",
       "│ dense_2 (<span style=\"color: #0087ff; text-decoration-color: #0087ff\">Dense</span>)                 │ (<span style=\"color: #00d7ff; text-decoration-color: #00d7ff\">None</span>, <span style=\"color: #00af00; text-decoration-color: #00af00\">100</span>)            │         <span style=\"color: #00af00; text-decoration-color: #00af00\">1,700</span> │\n",
       "├─────────────────────────────────┼────────────────────────┼───────────────┤\n",
       "│ dense_3 (<span style=\"color: #0087ff; text-decoration-color: #0087ff\">Dense</span>)                 │ (<span style=\"color: #00d7ff; text-decoration-color: #00d7ff\">None</span>, <span style=\"color: #00af00; text-decoration-color: #00af00\">16</span>)             │         <span style=\"color: #00af00; text-decoration-color: #00af00\">1,616</span> │\n",
       "└─────────────────────────────────┴────────────────────────┴───────────────┘\n",
       "</pre>\n"
      ],
      "text/plain": [
       "┏━━━━━━━━━━━━━━━━━━━━━━━━━━━━━━━━━┳━━━━━━━━━━━━━━━━━━━━━━━━┳━━━━━━━━━━━━━━━┓\n",
       "┃\u001b[1m \u001b[0m\u001b[1mLayer (type)                   \u001b[0m\u001b[1m \u001b[0m┃\u001b[1m \u001b[0m\u001b[1mOutput Shape          \u001b[0m\u001b[1m \u001b[0m┃\u001b[1m \u001b[0m\u001b[1m      Param #\u001b[0m\u001b[1m \u001b[0m┃\n",
       "┡━━━━━━━━━━━━━━━━━━━━━━━━━━━━━━━━━╇━━━━━━━━━━━━━━━━━━━━━━━━╇━━━━━━━━━━━━━━━┩\n",
       "│ dense_2 (\u001b[38;5;33mDense\u001b[0m)                 │ (\u001b[38;5;45mNone\u001b[0m, \u001b[38;5;34m100\u001b[0m)            │         \u001b[38;5;34m1,700\u001b[0m │\n",
       "├─────────────────────────────────┼────────────────────────┼───────────────┤\n",
       "│ dense_3 (\u001b[38;5;33mDense\u001b[0m)                 │ (\u001b[38;5;45mNone\u001b[0m, \u001b[38;5;34m16\u001b[0m)             │         \u001b[38;5;34m1,616\u001b[0m │\n",
       "└─────────────────────────────────┴────────────────────────┴───────────────┘\n"
      ]
     },
     "metadata": {},
     "output_type": "display_data"
    },
    {
     "data": {
      "text/html": [
       "<pre style=\"white-space:pre;overflow-x:auto;line-height:normal;font-family:Menlo,'DejaVu Sans Mono',consolas,'Courier New',monospace\"><span style=\"font-weight: bold\"> Total params: </span><span style=\"color: #00af00; text-decoration-color: #00af00\">3,316</span> (12.95 KB)\n",
       "</pre>\n"
      ],
      "text/plain": [
       "\u001b[1m Total params: \u001b[0m\u001b[38;5;34m3,316\u001b[0m (12.95 KB)\n"
      ]
     },
     "metadata": {},
     "output_type": "display_data"
    },
    {
     "data": {
      "text/html": [
       "<pre style=\"white-space:pre;overflow-x:auto;line-height:normal;font-family:Menlo,'DejaVu Sans Mono',consolas,'Courier New',monospace\"><span style=\"font-weight: bold\"> Trainable params: </span><span style=\"color: #00af00; text-decoration-color: #00af00\">3,316</span> (12.95 KB)\n",
       "</pre>\n"
      ],
      "text/plain": [
       "\u001b[1m Trainable params: \u001b[0m\u001b[38;5;34m3,316\u001b[0m (12.95 KB)\n"
      ]
     },
     "metadata": {},
     "output_type": "display_data"
    },
    {
     "data": {
      "text/html": [
       "<pre style=\"white-space:pre;overflow-x:auto;line-height:normal;font-family:Menlo,'DejaVu Sans Mono',consolas,'Courier New',monospace\"><span style=\"font-weight: bold\"> Non-trainable params: </span><span style=\"color: #00af00; text-decoration-color: #00af00\">0</span> (0.00 B)\n",
       "</pre>\n"
      ],
      "text/plain": [
       "\u001b[1m Non-trainable params: \u001b[0m\u001b[38;5;34m0\u001b[0m (0.00 B)\n"
      ]
     },
     "metadata": {},
     "output_type": "display_data"
    }
   ],
   "source": [
    "from tensorflow.keras.layers import Dropout\n",
    "\n",
    "dfg_model = Sequential()\n",
    "\n",
    "#Layers\n",
    "dfg_model.add(Dense(100,activation=\"relu\", input_shape=(train_dfg_probability.shape[1],)))\n",
    "\n",
    "\n",
    "# Output layer (classification)\n",
    "dfg_model.add(Dense(train_target_encoded.shape[1], activation='softmax'))\n",
    "dfg_model.compile(optimizer='adagrad', loss='categorical_crossentropy', metrics=['categorical_accuracy'])\n",
    "dfg_model.summary()"
   ]
  },
  {
   "cell_type": "code",
   "execution_count": 16,
   "id": "24abf2e2-8606-4c91-b1f5-d1add6b20266",
   "metadata": {},
   "outputs": [
    {
     "name": "stdout",
     "output_type": "stream",
     "text": [
      "Epoch 1/100\n",
      "\u001b[1m164/164\u001b[0m \u001b[32m━━━━━━━━━━━━━━━━━━━━\u001b[0m\u001b[37m\u001b[0m \u001b[1m3s\u001b[0m 8ms/step - categorical_accuracy: 0.1900 - loss: 2.5237 - val_categorical_accuracy: 0.3627 - val_loss: 2.1895\n",
      "Epoch 2/100\n",
      "\u001b[1m164/164\u001b[0m \u001b[32m━━━━━━━━━━━━━━━━━━━━\u001b[0m\u001b[37m\u001b[0m \u001b[1m1s\u001b[0m 5ms/step - categorical_accuracy: 0.3450 - loss: 2.1543 - val_categorical_accuracy: 0.5481 - val_loss: 2.0209\n",
      "Epoch 3/100\n",
      "\u001b[1m164/164\u001b[0m \u001b[32m━━━━━━━━━━━━━━━━━━━━\u001b[0m\u001b[37m\u001b[0m \u001b[1m1s\u001b[0m 6ms/step - categorical_accuracy: 0.5100 - loss: 2.0208 - val_categorical_accuracy: 0.5481 - val_loss: 1.9249\n",
      "Epoch 4/100\n",
      "\u001b[1m164/164\u001b[0m \u001b[32m━━━━━━━━━━━━━━━━━━━━\u001b[0m\u001b[37m\u001b[0m \u001b[1m1s\u001b[0m 6ms/step - categorical_accuracy: 0.5028 - loss: 1.9357 - val_categorical_accuracy: 0.5481 - val_loss: 1.8562\n",
      "Epoch 5/100\n",
      "\u001b[1m164/164\u001b[0m \u001b[32m━━━━━━━━━━━━━━━━━━━━\u001b[0m\u001b[37m\u001b[0m \u001b[1m1s\u001b[0m 6ms/step - categorical_accuracy: 0.5123 - loss: 1.8736 - val_categorical_accuracy: 0.5481 - val_loss: 1.7978\n",
      "Epoch 6/100\n",
      "\u001b[1m164/164\u001b[0m \u001b[32m━━━━━━━━━━━━━━━━━━━━\u001b[0m\u001b[37m\u001b[0m \u001b[1m1s\u001b[0m 6ms/step - categorical_accuracy: 0.5531 - loss: 1.8206 - val_categorical_accuracy: 0.7359 - val_loss: 1.7461\n",
      "Epoch 7/100\n",
      "\u001b[1m164/164\u001b[0m \u001b[32m━━━━━━━━━━━━━━━━━━━━\u001b[0m\u001b[37m\u001b[0m \u001b[1m1s\u001b[0m 5ms/step - categorical_accuracy: 0.7049 - loss: 1.7691 - val_categorical_accuracy: 0.9143 - val_loss: 1.7019\n",
      "Epoch 8/100\n",
      "\u001b[1m164/164\u001b[0m \u001b[32m━━━━━━━━━━━━━━━━━━━━\u001b[0m\u001b[37m\u001b[0m \u001b[1m1s\u001b[0m 5ms/step - categorical_accuracy: 0.8568 - loss: 1.7307 - val_categorical_accuracy: 0.9143 - val_loss: 1.6607\n",
      "Epoch 9/100\n",
      "\u001b[1m164/164\u001b[0m \u001b[32m━━━━━━━━━━━━━━━━━━━━\u001b[0m\u001b[37m\u001b[0m \u001b[1m1s\u001b[0m 5ms/step - categorical_accuracy: 0.8598 - loss: 1.6812 - val_categorical_accuracy: 0.9143 - val_loss: 1.6224\n",
      "Epoch 10/100\n",
      "\u001b[1m164/164\u001b[0m \u001b[32m━━━━━━━━━━━━━━━━━━━━\u001b[0m\u001b[37m\u001b[0m \u001b[1m1s\u001b[0m 5ms/step - categorical_accuracy: 0.8527 - loss: 1.6629 - val_categorical_accuracy: 0.9143 - val_loss: 1.5856\n",
      "Epoch 11/100\n",
      "\u001b[1m164/164\u001b[0m \u001b[32m━━━━━━━━━━━━━━━━━━━━\u001b[0m\u001b[37m\u001b[0m \u001b[1m1s\u001b[0m 6ms/step - categorical_accuracy: 0.8555 - loss: 1.6144 - val_categorical_accuracy: 0.9143 - val_loss: 1.5506\n",
      "Epoch 12/100\n",
      "\u001b[1m164/164\u001b[0m \u001b[32m━━━━━━━━━━━━━━━━━━━━\u001b[0m\u001b[37m\u001b[0m \u001b[1m1s\u001b[0m 6ms/step - categorical_accuracy: 0.8583 - loss: 1.5798 - val_categorical_accuracy: 0.9143 - val_loss: 1.5165\n",
      "Epoch 13/100\n",
      "\u001b[1m164/164\u001b[0m \u001b[32m━━━━━━━━━━━━━━━━━━━━\u001b[0m\u001b[37m\u001b[0m \u001b[1m1s\u001b[0m 5ms/step - categorical_accuracy: 0.8544 - loss: 1.5543 - val_categorical_accuracy: 0.9143 - val_loss: 1.4835\n",
      "Epoch 14/100\n",
      "\u001b[1m164/164\u001b[0m \u001b[32m━━━━━━━━━━━━━━━━━━━━\u001b[0m\u001b[37m\u001b[0m \u001b[1m1s\u001b[0m 6ms/step - categorical_accuracy: 0.8530 - loss: 1.5225 - val_categorical_accuracy: 0.9143 - val_loss: 1.4517\n",
      "Epoch 15/100\n",
      "\u001b[1m164/164\u001b[0m \u001b[32m━━━━━━━━━━━━━━━━━━━━\u001b[0m\u001b[37m\u001b[0m \u001b[1m1s\u001b[0m 6ms/step - categorical_accuracy: 0.8561 - loss: 1.4859 - val_categorical_accuracy: 0.9143 - val_loss: 1.4212\n",
      "Epoch 16/100\n",
      "\u001b[1m164/164\u001b[0m \u001b[32m━━━━━━━━━━━━━━━━━━━━\u001b[0m\u001b[37m\u001b[0m \u001b[1m1s\u001b[0m 6ms/step - categorical_accuracy: 0.8521 - loss: 1.4633 - val_categorical_accuracy: 0.9143 - val_loss: 1.3917\n",
      "Epoch 17/100\n",
      "\u001b[1m164/164\u001b[0m \u001b[32m━━━━━━━━━━━━━━━━━━━━\u001b[0m\u001b[37m\u001b[0m \u001b[1m1s\u001b[0m 6ms/step - categorical_accuracy: 0.8548 - loss: 1.4337 - val_categorical_accuracy: 0.9143 - val_loss: 1.3626\n",
      "Epoch 18/100\n",
      "\u001b[1m164/164\u001b[0m \u001b[32m━━━━━━━━━━━━━━━━━━━━\u001b[0m\u001b[37m\u001b[0m \u001b[1m1s\u001b[0m 5ms/step - categorical_accuracy: 0.8573 - loss: 1.4025 - val_categorical_accuracy: 0.9143 - val_loss: 1.3347\n",
      "Epoch 19/100\n",
      "\u001b[1m164/164\u001b[0m \u001b[32m━━━━━━━━━━━━━━━━━━━━\u001b[0m\u001b[37m\u001b[0m \u001b[1m1s\u001b[0m 5ms/step - categorical_accuracy: 0.8548 - loss: 1.3797 - val_categorical_accuracy: 0.9143 - val_loss: 1.3073\n",
      "Epoch 20/100\n",
      "\u001b[1m164/164\u001b[0m \u001b[32m━━━━━━━━━━━━━━━━━━━━\u001b[0m\u001b[37m\u001b[0m \u001b[1m1s\u001b[0m 6ms/step - categorical_accuracy: 0.8579 - loss: 1.3455 - val_categorical_accuracy: 0.9143 - val_loss: 1.2803\n",
      "Epoch 21/100\n",
      "\u001b[1m164/164\u001b[0m \u001b[32m━━━━━━━━━━━━━━━━━━━━\u001b[0m\u001b[37m\u001b[0m \u001b[1m1s\u001b[0m 6ms/step - categorical_accuracy: 0.8533 - loss: 1.3259 - val_categorical_accuracy: 0.9143 - val_loss: 1.2541\n",
      "Epoch 22/100\n",
      "\u001b[1m164/164\u001b[0m \u001b[32m━━━━━━━━━━━━━━━━━━━━\u001b[0m\u001b[37m\u001b[0m \u001b[1m1s\u001b[0m 6ms/step - categorical_accuracy: 0.8514 - loss: 1.3004 - val_categorical_accuracy: 0.9143 - val_loss: 1.2289\n",
      "Epoch 23/100\n",
      "\u001b[1m164/164\u001b[0m \u001b[32m━━━━━━━━━━━━━━━━━━━━\u001b[0m\u001b[37m\u001b[0m \u001b[1m1s\u001b[0m 6ms/step - categorical_accuracy: 0.8530 - loss: 1.2750 - val_categorical_accuracy: 0.9143 - val_loss: 1.2047\n",
      "Epoch 24/100\n",
      "\u001b[1m164/164\u001b[0m \u001b[32m━━━━━━━━━━━━━━━━━━━━\u001b[0m\u001b[37m\u001b[0m \u001b[1m1s\u001b[0m 6ms/step - categorical_accuracy: 0.8509 - loss: 1.2569 - val_categorical_accuracy: 0.9143 - val_loss: 1.1812\n",
      "Epoch 25/100\n",
      "\u001b[1m164/164\u001b[0m \u001b[32m━━━━━━━━━━━━━━━━━━━━\u001b[0m\u001b[37m\u001b[0m \u001b[1m1s\u001b[0m 6ms/step - categorical_accuracy: 0.8535 - loss: 1.2287 - val_categorical_accuracy: 0.9143 - val_loss: 1.1584\n",
      "Epoch 26/100\n",
      "\u001b[1m164/164\u001b[0m \u001b[32m━━━━━━━━━━━━━━━━━━━━\u001b[0m\u001b[37m\u001b[0m \u001b[1m1s\u001b[0m 6ms/step - categorical_accuracy: 0.8524 - loss: 1.2124 - val_categorical_accuracy: 0.9143 - val_loss: 1.1365\n",
      "Epoch 27/100\n",
      "\u001b[1m164/164\u001b[0m \u001b[32m━━━━━━━━━━━━━━━━━━━━\u001b[0m\u001b[37m\u001b[0m \u001b[1m1s\u001b[0m 6ms/step - categorical_accuracy: 0.8520 - loss: 1.1902 - val_categorical_accuracy: 0.9143 - val_loss: 1.1146\n",
      "Epoch 28/100\n",
      "\u001b[1m164/164\u001b[0m \u001b[32m━━━━━━━━━━━━━━━━━━━━\u001b[0m\u001b[37m\u001b[0m \u001b[1m1s\u001b[0m 6ms/step - categorical_accuracy: 0.8576 - loss: 1.1591 - val_categorical_accuracy: 0.9143 - val_loss: 1.0945\n",
      "Epoch 29/100\n",
      "\u001b[1m164/164\u001b[0m \u001b[32m━━━━━━━━━━━━━━━━━━━━\u001b[0m\u001b[37m\u001b[0m \u001b[1m1s\u001b[0m 6ms/step - categorical_accuracy: 0.8580 - loss: 1.1383 - val_categorical_accuracy: 0.9143 - val_loss: 1.0745\n",
      "Epoch 30/100\n",
      "\u001b[1m164/164\u001b[0m \u001b[32m━━━━━━━━━━━━━━━━━━━━\u001b[0m\u001b[37m\u001b[0m \u001b[1m1s\u001b[0m 5ms/step - categorical_accuracy: 0.8541 - loss: 1.1260 - val_categorical_accuracy: 0.9143 - val_loss: 1.0544\n",
      "Epoch 31/100\n",
      "\u001b[1m164/164\u001b[0m \u001b[32m━━━━━━━━━━━━━━━━━━━━\u001b[0m\u001b[37m\u001b[0m \u001b[1m1s\u001b[0m 6ms/step - categorical_accuracy: 0.8546 - loss: 1.1024 - val_categorical_accuracy: 0.9143 - val_loss: 1.0356\n",
      "Epoch 32/100\n",
      "\u001b[1m164/164\u001b[0m \u001b[32m━━━━━━━━━━━━━━━━━━━━\u001b[0m\u001b[37m\u001b[0m \u001b[1m1s\u001b[0m 5ms/step - categorical_accuracy: 0.8533 - loss: 1.0901 - val_categorical_accuracy: 0.9143 - val_loss: 1.0171\n",
      "Epoch 33/100\n",
      "\u001b[1m164/164\u001b[0m \u001b[32m━━━━━━━━━━━━━━━━━━━━\u001b[0m\u001b[37m\u001b[0m \u001b[1m1s\u001b[0m 5ms/step - categorical_accuracy: 0.8548 - loss: 1.0714 - val_categorical_accuracy: 0.9143 - val_loss: 0.9991\n",
      "Epoch 34/100\n",
      "\u001b[1m164/164\u001b[0m \u001b[32m━━━━━━━━━━━━━━━━━━━━\u001b[0m\u001b[37m\u001b[0m \u001b[1m1s\u001b[0m 5ms/step - categorical_accuracy: 0.8565 - loss: 1.0479 - val_categorical_accuracy: 0.9143 - val_loss: 0.9819\n",
      "Epoch 35/100\n",
      "\u001b[1m164/164\u001b[0m \u001b[32m━━━━━━━━━━━━━━━━━━━━\u001b[0m\u001b[37m\u001b[0m \u001b[1m1s\u001b[0m 5ms/step - categorical_accuracy: 0.8571 - loss: 1.0352 - val_categorical_accuracy: 0.9143 - val_loss: 0.9655\n",
      "Epoch 36/100\n",
      "\u001b[1m164/164\u001b[0m \u001b[32m━━━━━━━━━━━━━━━━━━━━\u001b[0m\u001b[37m\u001b[0m \u001b[1m1s\u001b[0m 5ms/step - categorical_accuracy: 0.8537 - loss: 1.0244 - val_categorical_accuracy: 0.9143 - val_loss: 0.9490\n",
      "Epoch 37/100\n",
      "\u001b[1m164/164\u001b[0m \u001b[32m━━━━━━━━━━━━━━━━━━━━\u001b[0m\u001b[37m\u001b[0m \u001b[1m1s\u001b[0m 5ms/step - categorical_accuracy: 0.8613 - loss: 0.9965 - val_categorical_accuracy: 0.9143 - val_loss: 0.9330\n",
      "Epoch 38/100\n",
      "\u001b[1m164/164\u001b[0m \u001b[32m━━━━━━━━━━━━━━━━━━━━\u001b[0m\u001b[37m\u001b[0m \u001b[1m1s\u001b[0m 5ms/step - categorical_accuracy: 0.8568 - loss: 0.9920 - val_categorical_accuracy: 0.9143 - val_loss: 0.9176\n",
      "Epoch 39/100\n",
      "\u001b[1m164/164\u001b[0m \u001b[32m━━━━━━━━━━━━━━━━━━━━\u001b[0m\u001b[37m\u001b[0m \u001b[1m1s\u001b[0m 5ms/step - categorical_accuracy: 0.8500 - loss: 0.9819 - val_categorical_accuracy: 0.9143 - val_loss: 0.9026\n",
      "Epoch 40/100\n",
      "\u001b[1m164/164\u001b[0m \u001b[32m━━━━━━━━━━━━━━━━━━━━\u001b[0m\u001b[37m\u001b[0m \u001b[1m1s\u001b[0m 5ms/step - categorical_accuracy: 0.8521 - loss: 0.9689 - val_categorical_accuracy: 0.9143 - val_loss: 0.8884\n",
      "Epoch 41/100\n",
      "\u001b[1m164/164\u001b[0m \u001b[32m━━━━━━━━━━━━━━━━━━━━\u001b[0m\u001b[37m\u001b[0m \u001b[1m1s\u001b[0m 5ms/step - categorical_accuracy: 0.8551 - loss: 0.9484 - val_categorical_accuracy: 0.9143 - val_loss: 0.8747\n",
      "Epoch 42/100\n",
      "\u001b[1m164/164\u001b[0m \u001b[32m━━━━━━━━━━━━━━━━━━━━\u001b[0m\u001b[37m\u001b[0m \u001b[1m1s\u001b[0m 5ms/step - categorical_accuracy: 0.8522 - loss: 0.9431 - val_categorical_accuracy: 0.9143 - val_loss: 0.8616\n",
      "Epoch 43/100\n",
      "\u001b[1m164/164\u001b[0m \u001b[32m━━━━━━━━━━━━━━━━━━━━\u001b[0m\u001b[37m\u001b[0m \u001b[1m1s\u001b[0m 5ms/step - categorical_accuracy: 0.8549 - loss: 0.9275 - val_categorical_accuracy: 0.9143 - val_loss: 0.8488\n",
      "Epoch 44/100\n",
      "\u001b[1m164/164\u001b[0m \u001b[32m━━━━━━━━━━━━━━━━━━━━\u001b[0m\u001b[37m\u001b[0m \u001b[1m1s\u001b[0m 6ms/step - categorical_accuracy: 0.8504 - loss: 0.9138 - val_categorical_accuracy: 0.9143 - val_loss: 0.8366\n",
      "Epoch 45/100\n",
      "\u001b[1m164/164\u001b[0m \u001b[32m━━━━━━━━━━━━━━━━━━━━\u001b[0m\u001b[37m\u001b[0m \u001b[1m1s\u001b[0m 5ms/step - categorical_accuracy: 0.8546 - loss: 0.8949 - val_categorical_accuracy: 0.9143 - val_loss: 0.8251\n",
      "Epoch 46/100\n",
      "\u001b[1m164/164\u001b[0m \u001b[32m━━━━━━━━━━━━━━━━━━━━\u001b[0m\u001b[37m\u001b[0m \u001b[1m1s\u001b[0m 5ms/step - categorical_accuracy: 0.8563 - loss: 0.8864 - val_categorical_accuracy: 0.9143 - val_loss: 0.8134\n",
      "Epoch 47/100\n",
      "\u001b[1m164/164\u001b[0m \u001b[32m━━━━━━━━━━━━━━━━━━━━\u001b[0m\u001b[37m\u001b[0m \u001b[1m1s\u001b[0m 5ms/step - categorical_accuracy: 0.8523 - loss: 0.8754 - val_categorical_accuracy: 0.9143 - val_loss: 0.8025\n",
      "Epoch 48/100\n",
      "\u001b[1m164/164\u001b[0m \u001b[32m━━━━━━━━━━━━━━━━━━━━\u001b[0m\u001b[37m\u001b[0m \u001b[1m1s\u001b[0m 5ms/step - categorical_accuracy: 0.8543 - loss: 0.8590 - val_categorical_accuracy: 0.9143 - val_loss: 0.7917\n",
      "Epoch 49/100\n",
      "\u001b[1m164/164\u001b[0m \u001b[32m━━━━━━━━━━━━━━━━━━━━\u001b[0m\u001b[37m\u001b[0m \u001b[1m1s\u001b[0m 5ms/step - categorical_accuracy: 0.8585 - loss: 0.8459 - val_categorical_accuracy: 0.9143 - val_loss: 0.7816\n",
      "Epoch 50/100\n",
      "\u001b[1m164/164\u001b[0m \u001b[32m━━━━━━━━━━━━━━━━━━━━\u001b[0m\u001b[37m\u001b[0m \u001b[1m1s\u001b[0m 5ms/step - categorical_accuracy: 0.8563 - loss: 0.8362 - val_categorical_accuracy: 0.9143 - val_loss: 0.7713\n",
      "Epoch 51/100\n",
      "\u001b[1m164/164\u001b[0m \u001b[32m━━━━━━━━━━━━━━━━━━━━\u001b[0m\u001b[37m\u001b[0m \u001b[1m1s\u001b[0m 6ms/step - categorical_accuracy: 0.8554 - loss: 0.8362 - val_categorical_accuracy: 0.9143 - val_loss: 0.7616\n",
      "Epoch 52/100\n",
      "\u001b[1m164/164\u001b[0m \u001b[32m━━━━━━━━━━━━━━━━━━━━\u001b[0m\u001b[37m\u001b[0m \u001b[1m1s\u001b[0m 6ms/step - categorical_accuracy: 0.8588 - loss: 0.8195 - val_categorical_accuracy: 0.9143 - val_loss: 0.7523\n",
      "Epoch 53/100\n",
      "\u001b[1m164/164\u001b[0m \u001b[32m━━━━━━━━━━━━━━━━━━━━\u001b[0m\u001b[37m\u001b[0m \u001b[1m1s\u001b[0m 6ms/step - categorical_accuracy: 0.8550 - loss: 0.8243 - val_categorical_accuracy: 0.9143 - val_loss: 0.7432\n",
      "Epoch 54/100\n",
      "\u001b[1m164/164\u001b[0m \u001b[32m━━━━━━━━━━━━━━━━━━━━\u001b[0m\u001b[37m\u001b[0m \u001b[1m1s\u001b[0m 5ms/step - categorical_accuracy: 0.8505 - loss: 0.8178 - val_categorical_accuracy: 0.9143 - val_loss: 0.7344\n",
      "Epoch 55/100\n",
      "\u001b[1m164/164\u001b[0m \u001b[32m━━━━━━━━━━━━━━━━━━━━\u001b[0m\u001b[37m\u001b[0m \u001b[1m1s\u001b[0m 5ms/step - categorical_accuracy: 0.8523 - loss: 0.8023 - val_categorical_accuracy: 0.9143 - val_loss: 0.7260\n",
      "Epoch 56/100\n",
      "\u001b[1m164/164\u001b[0m \u001b[32m━━━━━━━━━━━━━━━━━━━━\u001b[0m\u001b[37m\u001b[0m \u001b[1m1s\u001b[0m 5ms/step - categorical_accuracy: 0.8547 - loss: 0.7947 - val_categorical_accuracy: 0.9143 - val_loss: 0.7176\n",
      "Epoch 57/100\n",
      "\u001b[1m164/164\u001b[0m \u001b[32m━━━━━━━━━━━━━━━━━━━━\u001b[0m\u001b[37m\u001b[0m \u001b[1m1s\u001b[0m 5ms/step - categorical_accuracy: 0.8585 - loss: 0.7727 - val_categorical_accuracy: 0.9143 - val_loss: 0.7096\n",
      "Epoch 58/100\n",
      "\u001b[1m164/164\u001b[0m \u001b[32m━━━━━━━━━━━━━━━━━━━━\u001b[0m\u001b[37m\u001b[0m \u001b[1m1s\u001b[0m 5ms/step - categorical_accuracy: 0.8561 - loss: 0.7706 - val_categorical_accuracy: 0.9143 - val_loss: 0.7020\n",
      "Epoch 59/100\n",
      "\u001b[1m164/164\u001b[0m \u001b[32m━━━━━━━━━━━━━━━━━━━━\u001b[0m\u001b[37m\u001b[0m \u001b[1m1s\u001b[0m 5ms/step - categorical_accuracy: 0.8538 - loss: 0.7686 - val_categorical_accuracy: 0.9143 - val_loss: 0.6943\n",
      "Epoch 60/100\n",
      "\u001b[1m164/164\u001b[0m \u001b[32m━━━━━━━━━━━━━━━━━━━━\u001b[0m\u001b[37m\u001b[0m \u001b[1m1s\u001b[0m 5ms/step - categorical_accuracy: 0.8534 - loss: 0.7646 - val_categorical_accuracy: 0.9143 - val_loss: 0.6869\n",
      "Epoch 61/100\n",
      "\u001b[1m164/164\u001b[0m \u001b[32m━━━━━━━━━━━━━━━━━━━━\u001b[0m\u001b[37m\u001b[0m \u001b[1m1s\u001b[0m 5ms/step - categorical_accuracy: 0.8544 - loss: 0.7560 - val_categorical_accuracy: 0.9143 - val_loss: 0.6798\n",
      "Epoch 62/100\n",
      "\u001b[1m164/164\u001b[0m \u001b[32m━━━━━━━━━━━━━━━━━━━━\u001b[0m\u001b[37m\u001b[0m \u001b[1m1s\u001b[0m 5ms/step - categorical_accuracy: 0.8535 - loss: 0.7526 - val_categorical_accuracy: 0.9143 - val_loss: 0.6730\n",
      "Epoch 63/100\n",
      "\u001b[1m164/164\u001b[0m \u001b[32m━━━━━━━━━━━━━━━━━━━━\u001b[0m\u001b[37m\u001b[0m \u001b[1m1s\u001b[0m 5ms/step - categorical_accuracy: 0.8497 - loss: 0.7576 - val_categorical_accuracy: 0.9143 - val_loss: 0.6662\n",
      "Epoch 64/100\n",
      "\u001b[1m164/164\u001b[0m \u001b[32m━━━━━━━━━━━━━━━━━━━━\u001b[0m\u001b[37m\u001b[0m \u001b[1m1s\u001b[0m 5ms/step - categorical_accuracy: 0.8526 - loss: 0.7369 - val_categorical_accuracy: 0.9143 - val_loss: 0.6597\n",
      "Epoch 65/100\n",
      "\u001b[1m164/164\u001b[0m \u001b[32m━━━━━━━━━━━━━━━━━━━━\u001b[0m\u001b[37m\u001b[0m \u001b[1m1s\u001b[0m 5ms/step - categorical_accuracy: 0.8593 - loss: 0.7121 - val_categorical_accuracy: 0.9143 - val_loss: 0.6536\n",
      "Epoch 66/100\n",
      "\u001b[1m164/164\u001b[0m \u001b[32m━━━━━━━━━━━━━━━━━━━━\u001b[0m\u001b[37m\u001b[0m \u001b[1m1s\u001b[0m 5ms/step - categorical_accuracy: 0.8528 - loss: 0.7298 - val_categorical_accuracy: 0.9143 - val_loss: 0.6475\n",
      "Epoch 67/100\n",
      "\u001b[1m164/164\u001b[0m \u001b[32m━━━━━━━━━━━━━━━━━━━━\u001b[0m\u001b[37m\u001b[0m \u001b[1m1s\u001b[0m 6ms/step - categorical_accuracy: 0.8556 - loss: 0.7106 - val_categorical_accuracy: 0.9143 - val_loss: 0.6417\n",
      "Epoch 68/100\n",
      "\u001b[1m164/164\u001b[0m \u001b[32m━━━━━━━━━━━━━━━━━━━━\u001b[0m\u001b[37m\u001b[0m \u001b[1m1s\u001b[0m 5ms/step - categorical_accuracy: 0.8531 - loss: 0.7185 - val_categorical_accuracy: 0.9143 - val_loss: 0.6361\n",
      "Epoch 69/100\n",
      "\u001b[1m164/164\u001b[0m \u001b[32m━━━━━━━━━━━━━━━━━━━━\u001b[0m\u001b[37m\u001b[0m \u001b[1m1s\u001b[0m 5ms/step - categorical_accuracy: 0.8547 - loss: 0.7039 - val_categorical_accuracy: 0.9143 - val_loss: 0.6301\n",
      "Epoch 70/100\n",
      "\u001b[1m164/164\u001b[0m \u001b[32m━━━━━━━━━━━━━━━━━━━━\u001b[0m\u001b[37m\u001b[0m \u001b[1m1s\u001b[0m 5ms/step - categorical_accuracy: 0.8563 - loss: 0.7016 - val_categorical_accuracy: 0.9143 - val_loss: 0.6247\n",
      "Epoch 71/100\n",
      "\u001b[1m164/164\u001b[0m \u001b[32m━━━━━━━━━━━━━━━━━━━━\u001b[0m\u001b[37m\u001b[0m \u001b[1m1s\u001b[0m 5ms/step - categorical_accuracy: 0.8557 - loss: 0.6952 - val_categorical_accuracy: 0.9143 - val_loss: 0.6194\n",
      "Epoch 72/100\n",
      "\u001b[1m164/164\u001b[0m \u001b[32m━━━━━━━━━━━━━━━━━━━━\u001b[0m\u001b[37m\u001b[0m \u001b[1m1s\u001b[0m 5ms/step - categorical_accuracy: 0.8484 - loss: 0.7033 - val_categorical_accuracy: 0.9143 - val_loss: 0.6143\n",
      "Epoch 73/100\n",
      "\u001b[1m164/164\u001b[0m \u001b[32m━━━━━━━━━━━━━━━━━━━━\u001b[0m\u001b[37m\u001b[0m \u001b[1m1s\u001b[0m 5ms/step - categorical_accuracy: 0.8540 - loss: 0.6920 - val_categorical_accuracy: 0.9143 - val_loss: 0.6096\n",
      "Epoch 74/100\n",
      "\u001b[1m164/164\u001b[0m \u001b[32m━━━━━━━━━━━━━━━━━━━━\u001b[0m\u001b[37m\u001b[0m \u001b[1m1s\u001b[0m 5ms/step - categorical_accuracy: 0.8492 - loss: 0.6882 - val_categorical_accuracy: 0.9143 - val_loss: 0.6045\n",
      "Epoch 75/100\n",
      "\u001b[1m164/164\u001b[0m \u001b[32m━━━━━━━━━━━━━━━━━━━━\u001b[0m\u001b[37m\u001b[0m \u001b[1m1s\u001b[0m 5ms/step - categorical_accuracy: 0.8556 - loss: 0.6726 - val_categorical_accuracy: 0.9143 - val_loss: 0.5998\n",
      "Epoch 76/100\n",
      "\u001b[1m164/164\u001b[0m \u001b[32m━━━━━━━━━━━━━━━━━━━━\u001b[0m\u001b[37m\u001b[0m \u001b[1m1s\u001b[0m 6ms/step - categorical_accuracy: 0.8542 - loss: 0.6693 - val_categorical_accuracy: 0.9143 - val_loss: 0.5952\n",
      "Epoch 77/100\n",
      "\u001b[1m164/164\u001b[0m \u001b[32m━━━━━━━━━━━━━━━━━━━━\u001b[0m\u001b[37m\u001b[0m \u001b[1m1s\u001b[0m 5ms/step - categorical_accuracy: 0.8552 - loss: 0.6686 - val_categorical_accuracy: 0.9143 - val_loss: 0.5908\n",
      "Epoch 78/100\n",
      "\u001b[1m164/164\u001b[0m \u001b[32m━━━━━━━━━━━━━━━━━━━━\u001b[0m\u001b[37m\u001b[0m \u001b[1m1s\u001b[0m 6ms/step - categorical_accuracy: 0.8523 - loss: 0.6627 - val_categorical_accuracy: 0.9143 - val_loss: 0.5865\n",
      "Epoch 79/100\n",
      "\u001b[1m164/164\u001b[0m \u001b[32m━━━━━━━━━━━━━━━━━━━━\u001b[0m\u001b[37m\u001b[0m \u001b[1m1s\u001b[0m 6ms/step - categorical_accuracy: 0.8510 - loss: 0.6657 - val_categorical_accuracy: 0.9143 - val_loss: 0.5823\n",
      "Epoch 80/100\n",
      "\u001b[1m164/164\u001b[0m \u001b[32m━━━━━━━━━━━━━━━━━━━━\u001b[0m\u001b[37m\u001b[0m \u001b[1m1s\u001b[0m 6ms/step - categorical_accuracy: 0.8508 - loss: 0.6598 - val_categorical_accuracy: 0.9143 - val_loss: 0.5781\n",
      "Epoch 81/100\n",
      "\u001b[1m164/164\u001b[0m \u001b[32m━━━━━━━━━━━━━━━━━━━━\u001b[0m\u001b[37m\u001b[0m \u001b[1m1s\u001b[0m 6ms/step - categorical_accuracy: 0.8574 - loss: 0.6458 - val_categorical_accuracy: 0.9143 - val_loss: 0.5743\n",
      "Epoch 82/100\n",
      "\u001b[1m164/164\u001b[0m \u001b[32m━━━━━━━━━━━━━━━━━━━━\u001b[0m\u001b[37m\u001b[0m \u001b[1m1s\u001b[0m 5ms/step - categorical_accuracy: 0.8546 - loss: 0.6433 - val_categorical_accuracy: 0.9143 - val_loss: 0.5704\n",
      "Epoch 83/100\n",
      "\u001b[1m164/164\u001b[0m \u001b[32m━━━━━━━━━━━━━━━━━━━━\u001b[0m\u001b[37m\u001b[0m \u001b[1m1s\u001b[0m 5ms/step - categorical_accuracy: 0.8561 - loss: 0.6379 - val_categorical_accuracy: 0.9143 - val_loss: 0.5664\n",
      "Epoch 84/100\n",
      "\u001b[1m164/164\u001b[0m \u001b[32m━━━━━━━━━━━━━━━━━━━━\u001b[0m\u001b[37m\u001b[0m \u001b[1m1s\u001b[0m 6ms/step - categorical_accuracy: 0.8494 - loss: 0.6469 - val_categorical_accuracy: 0.9143 - val_loss: 0.5626\n",
      "Epoch 85/100\n",
      "\u001b[1m164/164\u001b[0m \u001b[32m━━━━━━━━━━━━━━━━━━━━\u001b[0m\u001b[37m\u001b[0m \u001b[1m1s\u001b[0m 6ms/step - categorical_accuracy: 0.8565 - loss: 0.6320 - val_categorical_accuracy: 0.9143 - val_loss: 0.5592\n",
      "Epoch 86/100\n",
      "\u001b[1m164/164\u001b[0m \u001b[32m━━━━━━━━━━━━━━━━━━━━\u001b[0m\u001b[37m\u001b[0m \u001b[1m1s\u001b[0m 6ms/step - categorical_accuracy: 0.8545 - loss: 0.6294 - val_categorical_accuracy: 0.9143 - val_loss: 0.5558\n",
      "Epoch 87/100\n",
      "\u001b[1m164/164\u001b[0m \u001b[32m━━━━━━━━━━━━━━━━━━━━\u001b[0m\u001b[37m\u001b[0m \u001b[1m1s\u001b[0m 5ms/step - categorical_accuracy: 0.8584 - loss: 0.6207 - val_categorical_accuracy: 0.9143 - val_loss: 0.5524\n",
      "Epoch 88/100\n",
      "\u001b[1m164/164\u001b[0m \u001b[32m━━━━━━━━━━━━━━━━━━━━\u001b[0m\u001b[37m\u001b[0m \u001b[1m1s\u001b[0m 6ms/step - categorical_accuracy: 0.8547 - loss: 0.6236 - val_categorical_accuracy: 0.9143 - val_loss: 0.5491\n",
      "Epoch 89/100\n",
      "\u001b[1m164/164\u001b[0m \u001b[32m━━━━━━━━━━━━━━━━━━━━\u001b[0m\u001b[37m\u001b[0m \u001b[1m1s\u001b[0m 6ms/step - categorical_accuracy: 0.8568 - loss: 0.6190 - val_categorical_accuracy: 0.9143 - val_loss: 0.5458\n",
      "Epoch 90/100\n",
      "\u001b[1m164/164\u001b[0m \u001b[32m━━━━━━━━━━━━━━━━━━━━\u001b[0m\u001b[37m\u001b[0m \u001b[1m1s\u001b[0m 6ms/step - categorical_accuracy: 0.8527 - loss: 0.6210 - val_categorical_accuracy: 0.9143 - val_loss: 0.5426\n",
      "Epoch 91/100\n",
      "\u001b[1m164/164\u001b[0m \u001b[32m━━━━━━━━━━━━━━━━━━━━\u001b[0m\u001b[37m\u001b[0m \u001b[1m1s\u001b[0m 5ms/step - categorical_accuracy: 0.8544 - loss: 0.6151 - val_categorical_accuracy: 0.9143 - val_loss: 0.5394\n",
      "Epoch 92/100\n",
      "\u001b[1m164/164\u001b[0m \u001b[32m━━━━━━━━━━━━━━━━━━━━\u001b[0m\u001b[37m\u001b[0m \u001b[1m1s\u001b[0m 5ms/step - categorical_accuracy: 0.8545 - loss: 0.6076 - val_categorical_accuracy: 0.9143 - val_loss: 0.5363\n",
      "Epoch 93/100\n",
      "\u001b[1m164/164\u001b[0m \u001b[32m━━━━━━━━━━━━━━━━━━━━\u001b[0m\u001b[37m\u001b[0m \u001b[1m1s\u001b[0m 6ms/step - categorical_accuracy: 0.8570 - loss: 0.6052 - val_categorical_accuracy: 0.9143 - val_loss: 0.5334\n",
      "Epoch 94/100\n",
      "\u001b[1m164/164\u001b[0m \u001b[32m━━━━━━━━━━━━━━━━━━━━\u001b[0m\u001b[37m\u001b[0m \u001b[1m1s\u001b[0m 6ms/step - categorical_accuracy: 0.8544 - loss: 0.6067 - val_categorical_accuracy: 0.9143 - val_loss: 0.5307\n",
      "Epoch 95/100\n",
      "\u001b[1m164/164\u001b[0m \u001b[32m━━━━━━━━━━━━━━━━━━━━\u001b[0m\u001b[37m\u001b[0m \u001b[1m1s\u001b[0m 5ms/step - categorical_accuracy: 0.8534 - loss: 0.6010 - val_categorical_accuracy: 0.9143 - val_loss: 0.5279\n",
      "Epoch 96/100\n",
      "\u001b[1m164/164\u001b[0m \u001b[32m━━━━━━━━━━━━━━━━━━━━\u001b[0m\u001b[37m\u001b[0m \u001b[1m1s\u001b[0m 6ms/step - categorical_accuracy: 0.8531 - loss: 0.6050 - val_categorical_accuracy: 0.9143 - val_loss: 0.5251\n",
      "Epoch 97/100\n",
      "\u001b[1m164/164\u001b[0m \u001b[32m━━━━━━━━━━━━━━━━━━━━\u001b[0m\u001b[37m\u001b[0m \u001b[1m1s\u001b[0m 5ms/step - categorical_accuracy: 0.8562 - loss: 0.5845 - val_categorical_accuracy: 0.9143 - val_loss: 0.5223\n",
      "Epoch 98/100\n",
      "\u001b[1m164/164\u001b[0m \u001b[32m━━━━━━━━━━━━━━━━━━━━\u001b[0m\u001b[37m\u001b[0m \u001b[1m1s\u001b[0m 5ms/step - categorical_accuracy: 0.8577 - loss: 0.5937 - val_categorical_accuracy: 0.9143 - val_loss: 0.5200\n",
      "Epoch 99/100\n",
      "\u001b[1m164/164\u001b[0m \u001b[32m━━━━━━━━━━━━━━━━━━━━\u001b[0m\u001b[37m\u001b[0m \u001b[1m1s\u001b[0m 6ms/step - categorical_accuracy: 0.8549 - loss: 0.5907 - val_categorical_accuracy: 0.9143 - val_loss: 0.5174\n",
      "Epoch 100/100\n",
      "\u001b[1m164/164\u001b[0m \u001b[32m━━━━━━━━━━━━━━━━━━━━\u001b[0m\u001b[37m\u001b[0m \u001b[1m1s\u001b[0m 5ms/step - categorical_accuracy: 0.8552 - loss: 0.5865 - val_categorical_accuracy: 0.9143 - val_loss: 0.5148\n"
     ]
    }
   ],
   "source": [
    "# 9. Train Model\n",
    "history = dfg_model.fit(train_dfg_probability, train_target_encoded, epochs=100, batch_size=100, validation_data = (val_dfg_probability, val_target_encoded))"
   ]
  },
  {
   "cell_type": "code",
   "execution_count": 17,
   "id": "c96481e8-c531-4697-af44-13479abfa521",
   "metadata": {},
   "outputs": [
    {
     "data": {
      "image/png": "[encoded data removed]",
      "text/plain": [
       "<Figure size 640x480 with 1 Axes>"
      ]
     },
     "metadata": {},
     "output_type": "display_data"
    }
   ],
   "source": [
    "import matplotlib.pyplot as plt\n",
    "train_loss = history.history['loss']\n",
    "val_loss = history.history['val_loss']\n",
    "epochs = range(1, len(train_loss) + 1)\n",
    "\n",
    "plt.plot(epochs, train_loss, label='Training loss')\n",
    "plt.plot(epochs, val_loss, label='Validation loss')\n",
    "plt.title('Training and validation loss')\n",
    "plt.xlabel('Epochs')\n",
    "plt.ylabel('Loss')\n",
    "plt.legend()\n",
    "plt.show()"
   ]
  },
  {
   "cell_type": "code",
   "execution_count": 18,
   "id": "033b6022-e8b0-481a-97ad-b0bf378a1890",
   "metadata": {},
   "outputs": [
    {
     "name": "stdout",
     "output_type": "stream",
     "text": [
      "\u001b[1m512/512\u001b[0m \u001b[32m━━━━━━━━━━━━━━━━━━━━\u001b[0m\u001b[37m\u001b[0m \u001b[1m2s\u001b[0m 3ms/step\n",
      "train model recall 85.4366558699505%\n"
     ]
    },
    {
     "data": {
      "text/plain": [
       "array(['assign seriousness', 'take in charge ticket', 'resolve ticket',\n",
       "       ..., 'resolve ticket', 'closed', 'zos'], dtype=object)"
      ]
     },
     "execution_count": 18,
     "metadata": {},
     "output_type": "execute_result"
    }
   ],
   "source": [
    "actual_label = train_target[\"activity\"]\n",
    "single_input_prediction(dfg_model, train_dfg_probability, label_encoder,actual_label)"
   ]
  },
  {
   "cell_type": "code",
   "execution_count": 19,
   "id": "82db62fe-5cc1-472f-bcb2-16c1bee38e4c",
   "metadata": {},
   "outputs": [
    {
     "name": "stdout",
     "output_type": "stream",
     "text": [
      "\u001b[1m206/206\u001b[0m \u001b[32m━━━━━━━━━━━━━━━━━━━━\u001b[0m\u001b[37m\u001b[0m \u001b[1m1s\u001b[0m 3ms/step\n",
      "test model recall 84.16172670618634%\n"
     ]
    },
    {
     "data": {
      "text/plain": [
       "array(['assign seriousness', 'take in charge ticket', 'resolve ticket',\n",
       "       ..., 'resolve ticket', 'closed', 'zos'], dtype=object)"
      ]
     },
     "execution_count": 19,
     "metadata": {},
     "output_type": "execute_result"
    }
   ],
   "source": [
    "actual_label = test_target[\"activity\"]\n",
    "single_input_prediction(dfg_model, test_dfg_probability, label_encoder,actual_label,\"test\")"
   ]
  },
  {
   "cell_type": "markdown",
   "id": "75dfbc86-59f4-4218-8689-2486faf713ec",
   "metadata": {},
   "source": [
    "## Prefix DFG Model_1"
   ]
  },
  {
   "cell_type": "code",
   "execution_count": 20,
   "id": "961a6337-3992-4ba2-a570-a984b7d4f183",
   "metadata": {},
   "outputs": [
    {
     "data": {
      "text/html": [
       "<pre style=\"white-space:pre;overflow-x:auto;line-height:normal;font-family:Menlo,'DejaVu Sans Mono',consolas,'Courier New',monospace\"><span style=\"font-weight: bold\">Model: \"functional_6\"</span>\n",
       "</pre>\n"
      ],
      "text/plain": [
       "\u001b[1mModel: \"functional_6\"\u001b[0m\n"
      ]
     },
     "metadata": {},
     "output_type": "display_data"
    },
    {
     "data": {
      "text/html": [
       "<pre style=\"white-space:pre;overflow-x:auto;line-height:normal;font-family:Menlo,'DejaVu Sans Mono',consolas,'Courier New',monospace\">┏━━━━━━━━━━━━━━━━━━━━━┳━━━━━━━━━━━━━━━━━━━┳━━━━━━━━━━━━┳━━━━━━━━━━━━━━━━━━━┓\n",
       "┃<span style=\"font-weight: bold\"> Layer (type)        </span>┃<span style=\"font-weight: bold\"> Output Shape      </span>┃<span style=\"font-weight: bold\">    Param # </span>┃<span style=\"font-weight: bold\"> Connected to      </span>┃\n",
       "┡━━━━━━━━━━━━━━━━━━━━━╇━━━━━━━━━━━━━━━━━━━╇━━━━━━━━━━━━╇━━━━━━━━━━━━━━━━━━━┩\n",
       "│ prefix (<span style=\"color: #0087ff; text-decoration-color: #0087ff\">InputLayer</span>) │ (<span style=\"color: #00d7ff; text-decoration-color: #00d7ff\">None</span>, <span style=\"color: #00af00; text-decoration-color: #00af00\">16</span>, <span style=\"color: #00af00; text-decoration-color: #00af00\">16</span>)    │          <span style=\"color: #00af00; text-decoration-color: #00af00\">0</span> │ -                 │\n",
       "├─────────────────────┼───────────────────┼────────────┼───────────────────┤\n",
       "│ dfg (<span style=\"color: #0087ff; text-decoration-color: #0087ff\">InputLayer</span>)    │ (<span style=\"color: #00d7ff; text-decoration-color: #00d7ff\">None</span>, <span style=\"color: #00af00; text-decoration-color: #00af00\">16</span>)        │          <span style=\"color: #00af00; text-decoration-color: #00af00\">0</span> │ -                 │\n",
       "├─────────────────────┼───────────────────┼────────────┼───────────────────┤\n",
       "│ prefix_layer_1      │ (<span style=\"color: #00d7ff; text-decoration-color: #00d7ff\">None</span>, <span style=\"color: #00af00; text-decoration-color: #00af00\">20</span>)        │      <span style=\"color: #00af00; text-decoration-color: #00af00\">2,960</span> │ prefix[<span style=\"color: #00af00; text-decoration-color: #00af00\">0</span>][<span style=\"color: #00af00; text-decoration-color: #00af00\">0</span>]      │\n",
       "│ (<span style=\"color: #0087ff; text-decoration-color: #0087ff\">LSTM</span>)              │                   │            │                   │\n",
       "├─────────────────────┼───────────────────┼────────────┼───────────────────┤\n",
       "│ dfg_layer_1 (<span style=\"color: #0087ff; text-decoration-color: #0087ff\">Dense</span>) │ (<span style=\"color: #00d7ff; text-decoration-color: #00d7ff\">None</span>, <span style=\"color: #00af00; text-decoration-color: #00af00\">10</span>)        │        <span style=\"color: #00af00; text-decoration-color: #00af00\">170</span> │ dfg[<span style=\"color: #00af00; text-decoration-color: #00af00\">0</span>][<span style=\"color: #00af00; text-decoration-color: #00af00\">0</span>]         │\n",
       "├─────────────────────┼───────────────────┼────────────┼───────────────────┤\n",
       "│ Concatenated_Layer  │ (<span style=\"color: #00d7ff; text-decoration-color: #00d7ff\">None</span>, <span style=\"color: #00af00; text-decoration-color: #00af00\">30</span>)        │          <span style=\"color: #00af00; text-decoration-color: #00af00\">0</span> │ prefix_layer_1[<span style=\"color: #00af00; text-decoration-color: #00af00\">0</span>… │\n",
       "│ (<span style=\"color: #0087ff; text-decoration-color: #0087ff\">Concatenate</span>)       │                   │            │ dfg_layer_1[<span style=\"color: #00af00; text-decoration-color: #00af00\">0</span>][<span style=\"color: #00af00; text-decoration-color: #00af00\">0</span>] │\n",
       "├─────────────────────┼───────────────────┼────────────┼───────────────────┤\n",
       "│ dense_4 (<span style=\"color: #0087ff; text-decoration-color: #0087ff\">Dense</span>)     │ (<span style=\"color: #00d7ff; text-decoration-color: #00d7ff\">None</span>, <span style=\"color: #00af00; text-decoration-color: #00af00\">16</span>)        │        <span style=\"color: #00af00; text-decoration-color: #00af00\">496</span> │ Concatenated_Lay… │\n",
       "└─────────────────────┴───────────────────┴────────────┴───────────────────┘\n",
       "</pre>\n"
      ],
      "text/plain": [
       "┏━━━━━━━━━━━━━━━━━━━━━┳━━━━━━━━━━━━━━━━━━━┳━━━━━━━━━━━━┳━━━━━━━━━━━━━━━━━━━┓\n",
       "┃\u001b[1m \u001b[0m\u001b[1mLayer (type)       \u001b[0m\u001b[1m \u001b[0m┃\u001b[1m \u001b[0m\u001b[1mOutput Shape     \u001b[0m\u001b[1m \u001b[0m┃\u001b[1m \u001b[0m\u001b[1m   Param #\u001b[0m\u001b[1m \u001b[0m┃\u001b[1m \u001b[0m\u001b[1mConnected to     \u001b[0m\u001b[1m \u001b[0m┃\n",
       "┡━━━━━━━━━━━━━━━━━━━━━╇━━━━━━━━━━━━━━━━━━━╇━━━━━━━━━━━━╇━━━━━━━━━━━━━━━━━━━┩\n",
       "│ prefix (\u001b[38;5;33mInputLayer\u001b[0m) │ (\u001b[38;5;45mNone\u001b[0m, \u001b[38;5;34m16\u001b[0m, \u001b[38;5;34m16\u001b[0m)    │          \u001b[38;5;34m0\u001b[0m │ -                 │\n",
       "├─────────────────────┼───────────────────┼────────────┼───────────────────┤\n",
       "│ dfg (\u001b[38;5;33mInputLayer\u001b[0m)    │ (\u001b[38;5;45mNone\u001b[0m, \u001b[38;5;34m16\u001b[0m)        │          \u001b[38;5;34m0\u001b[0m │ -                 │\n",
       "├─────────────────────┼───────────────────┼────────────┼───────────────────┤\n",
       "│ prefix_layer_1      │ (\u001b[38;5;45mNone\u001b[0m, \u001b[38;5;34m20\u001b[0m)        │      \u001b[38;5;34m2,960\u001b[0m │ prefix[\u001b[38;5;34m0\u001b[0m][\u001b[38;5;34m0\u001b[0m]      │\n",
       "│ (\u001b[38;5;33mLSTM\u001b[0m)              │                   │            │                   │\n",
       "├─────────────────────┼───────────────────┼────────────┼───────────────────┤\n",
       "│ dfg_layer_1 (\u001b[38;5;33mDense\u001b[0m) │ (\u001b[38;5;45mNone\u001b[0m, \u001b[38;5;34m10\u001b[0m)        │        \u001b[38;5;34m170\u001b[0m │ dfg[\u001b[38;5;34m0\u001b[0m][\u001b[38;5;34m0\u001b[0m]         │\n",
       "├─────────────────────┼───────────────────┼────────────┼───────────────────┤\n",
       "│ Concatenated_Layer  │ (\u001b[38;5;45mNone\u001b[0m, \u001b[38;5;34m30\u001b[0m)        │          \u001b[38;5;34m0\u001b[0m │ prefix_layer_1[\u001b[38;5;34m0\u001b[0m… │\n",
       "│ (\u001b[38;5;33mConcatenate\u001b[0m)       │                   │            │ dfg_layer_1[\u001b[38;5;34m0\u001b[0m][\u001b[38;5;34m0\u001b[0m] │\n",
       "├─────────────────────┼───────────────────┼────────────┼───────────────────┤\n",
       "│ dense_4 (\u001b[38;5;33mDense\u001b[0m)     │ (\u001b[38;5;45mNone\u001b[0m, \u001b[38;5;34m16\u001b[0m)        │        \u001b[38;5;34m496\u001b[0m │ Concatenated_Lay… │\n",
       "└─────────────────────┴───────────────────┴────────────┴───────────────────┘\n"
      ]
     },
     "metadata": {},
     "output_type": "display_data"
    },
    {
     "data": {
      "text/html": [
       "<pre style=\"white-space:pre;overflow-x:auto;line-height:normal;font-family:Menlo,'DejaVu Sans Mono',consolas,'Courier New',monospace\"><span style=\"font-weight: bold\"> Total params: </span><span style=\"color: #00af00; text-decoration-color: #00af00\">3,626</span> (14.16 KB)\n",
       "</pre>\n"
      ],
      "text/plain": [
       "\u001b[1m Total params: \u001b[0m\u001b[38;5;34m3,626\u001b[0m (14.16 KB)\n"
      ]
     },
     "metadata": {},
     "output_type": "display_data"
    },
    {
     "data": {
      "text/html": [
       "<pre style=\"white-space:pre;overflow-x:auto;line-height:normal;font-family:Menlo,'DejaVu Sans Mono',consolas,'Courier New',monospace\"><span style=\"font-weight: bold\"> Trainable params: </span><span style=\"color: #00af00; text-decoration-color: #00af00\">3,626</span> (14.16 KB)\n",
       "</pre>\n"
      ],
      "text/plain": [
       "\u001b[1m Trainable params: \u001b[0m\u001b[38;5;34m3,626\u001b[0m (14.16 KB)\n"
      ]
     },
     "metadata": {},
     "output_type": "display_data"
    },
    {
     "data": {
      "text/html": [
       "<pre style=\"white-space:pre;overflow-x:auto;line-height:normal;font-family:Menlo,'DejaVu Sans Mono',consolas,'Courier New',monospace\"><span style=\"font-weight: bold\"> Non-trainable params: </span><span style=\"color: #00af00; text-decoration-color: #00af00\">0</span> (0.00 B)\n",
       "</pre>\n"
      ],
      "text/plain": [
       "\u001b[1m Non-trainable params: \u001b[0m\u001b[38;5;34m0\u001b[0m (0.00 B)\n"
      ]
     },
     "metadata": {},
     "output_type": "display_data"
    }
   ],
   "source": [
    "from tensorflow.keras.models import Model\n",
    "from tensorflow.keras.layers import Input, Dense, Concatenate\n",
    "\n",
    "#prefix input\n",
    "prefix_features = train_prefix_trace_encoded.shape[1]\n",
    "prefix_sequence = train_prefix_trace_encoded.shape[2]\n",
    "\n",
    "prefix_input = Input(shape=(prefix_sequence,prefix_features),name=\"prefix\")\n",
    "prefix_model = LSTM(20, return_sequences=False, name=\"prefix_layer_1\")(prefix_input)\n",
    "\n",
    "# dfg input\n",
    "dfg_features = train_dfg_probability.shape[1]\n",
    "\n",
    "dfg_input = Input(shape=(dfg_features,),name=\"dfg\")\n",
    "dfg_model = Dense(10, activation=\"relu\", name=\"dfg_layer_1\")(dfg_input)\n",
    "\n",
    "\n",
    "#Concatenate Layers\n",
    "concatenated = Concatenate(name='Concatenated_Layer')([prefix_model, dfg_model])\n",
    "\n",
    "# Output layer (classification)\n",
    "output = train_target_encoded.shape[1]\n",
    "output_layer = Dense(output,activation='softmax')(concatenated)\n",
    "\n",
    "#Define model\n",
    "prefix_dfg_model = Model(inputs=[prefix_input,dfg_input],outputs=output_layer)\n",
    "prefix_dfg_model.compile(optimizer='adagrad', loss='categorical_crossentropy', metrics=['categorical_accuracy'])\n",
    "prefix_dfg_model.summary()"
   ]
  },
  {
   "cell_type": "code",
   "execution_count": 21,
   "id": "467ac96a-62c5-43bc-98f5-b9184d18bce0",
   "metadata": {},
   "outputs": [
    {
     "name": "stdout",
     "output_type": "stream",
     "text": [
      "Epoch 1/100\n",
      "\u001b[1m164/164\u001b[0m \u001b[32m━━━━━━━━━━━━━━━━━━━━\u001b[0m\u001b[37m\u001b[0m \u001b[1m7s\u001b[0m 20ms/step - categorical_accuracy: 1.6720e-04 - loss: 3.2411 - val_categorical_accuracy: 6.9955e-04 - val_loss: 3.0862\n",
      "Epoch 2/100\n",
      "\u001b[1m164/164\u001b[0m \u001b[32m━━━━━━━━━━━━━━━━━━━━\u001b[0m\u001b[37m\u001b[0m \u001b[1m3s\u001b[0m 16ms/step - categorical_accuracy: 8.4949e-04 - loss: 3.0063 - val_categorical_accuracy: 0.1773 - val_loss: 2.9569\n",
      "Epoch 3/100\n",
      "\u001b[1m164/164\u001b[0m \u001b[32m━━━━━━━━━━━━━━━━━━━━\u001b[0m\u001b[37m\u001b[0m \u001b[1m3s\u001b[0m 16ms/step - categorical_accuracy: 0.1720 - loss: 2.9058 - val_categorical_accuracy: 0.1885 - val_loss: 2.8601\n",
      "Epoch 4/100\n",
      "\u001b[1m164/164\u001b[0m \u001b[32m━━━━━━━━━━━━━━━━━━━━\u001b[0m\u001b[37m\u001b[0m \u001b[1m3s\u001b[0m 15ms/step - categorical_accuracy: 0.1836 - loss: 2.8041 - val_categorical_accuracy: 0.1906 - val_loss: 2.7773\n",
      "Epoch 5/100\n",
      "\u001b[1m164/164\u001b[0m \u001b[32m━━━━━━━━━━━━━━━━━━━━\u001b[0m\u001b[37m\u001b[0m \u001b[1m3s\u001b[0m 16ms/step - categorical_accuracy: 0.1804 - loss: 2.7283 - val_categorical_accuracy: 0.1906 - val_loss: 2.7012\n",
      "Epoch 6/100\n",
      "\u001b[1m164/164\u001b[0m \u001b[32m━━━━━━━━━━━━━━━━━━━━\u001b[0m\u001b[37m\u001b[0m \u001b[1m3s\u001b[0m 16ms/step - categorical_accuracy: 0.1781 - loss: 2.6576 - val_categorical_accuracy: 0.1906 - val_loss: 2.6272\n",
      "Epoch 7/100\n",
      "\u001b[1m164/164\u001b[0m \u001b[32m━━━━━━━━━━━━━━━━━━━━\u001b[0m\u001b[37m\u001b[0m \u001b[1m3s\u001b[0m 16ms/step - categorical_accuracy: 0.1824 - loss: 2.5803 - val_categorical_accuracy: 0.1920 - val_loss: 2.5525\n",
      "Epoch 8/100\n",
      "\u001b[1m164/164\u001b[0m \u001b[32m━━━━━━━━━━━━━━━━━━━━\u001b[0m\u001b[37m\u001b[0m \u001b[1m2s\u001b[0m 15ms/step - categorical_accuracy: 0.2338 - loss: 2.5111 - val_categorical_accuracy: 0.3652 - val_loss: 2.4750\n",
      "Epoch 9/100\n",
      "\u001b[1m164/164\u001b[0m \u001b[32m━━━━━━━━━━━━━━━━━━━━\u001b[0m\u001b[37m\u001b[0m \u001b[1m3s\u001b[0m 16ms/step - categorical_accuracy: 0.3309 - loss: 2.4409 - val_categorical_accuracy: 0.3652 - val_loss: 2.3934\n",
      "Epoch 10/100\n",
      "\u001b[1m164/164\u001b[0m \u001b[32m━━━━━━━━━━━━━━━━━━━━\u001b[0m\u001b[37m\u001b[0m \u001b[1m3s\u001b[0m 16ms/step - categorical_accuracy: 0.3418 - loss: 2.3544 - val_categorical_accuracy: 0.3652 - val_loss: 2.3085\n",
      "Epoch 11/100\n",
      "\u001b[1m164/164\u001b[0m \u001b[32m━━━━━━━━━━━━━━━━━━━━\u001b[0m\u001b[37m\u001b[0m \u001b[1m3s\u001b[0m 15ms/step - categorical_accuracy: 0.3386 - loss: 2.2754 - val_categorical_accuracy: 0.3673 - val_loss: 2.2232\n",
      "Epoch 12/100\n",
      "\u001b[1m164/164\u001b[0m \u001b[32m━━━━━━━━━━━━━━━━━━━━\u001b[0m\u001b[37m\u001b[0m \u001b[1m3s\u001b[0m 15ms/step - categorical_accuracy: 0.3444 - loss: 2.1872 - val_categorical_accuracy: 0.3701 - val_loss: 2.1412\n",
      "Epoch 13/100\n",
      "\u001b[1m164/164\u001b[0m \u001b[32m━━━━━━━━━━━━━━━━━━━━\u001b[0m\u001b[37m\u001b[0m \u001b[1m3s\u001b[0m 16ms/step - categorical_accuracy: 0.3491 - loss: 2.1048 - val_categorical_accuracy: 0.3718 - val_loss: 2.0656\n",
      "Epoch 14/100\n",
      "\u001b[1m164/164\u001b[0m \u001b[32m━━━━━━━━━━━━━━━━━━━━\u001b[0m\u001b[37m\u001b[0m \u001b[1m3s\u001b[0m 16ms/step - categorical_accuracy: 0.3557 - loss: 2.0456 - val_categorical_accuracy: 0.4169 - val_loss: 1.9981\n",
      "Epoch 15/100\n",
      "\u001b[1m164/164\u001b[0m \u001b[32m━━━━━━━━━━━━━━━━━━━━\u001b[0m\u001b[37m\u001b[0m \u001b[1m3s\u001b[0m 16ms/step - categorical_accuracy: 0.3743 - loss: 1.9813 - val_categorical_accuracy: 0.5425 - val_loss: 1.9387\n",
      "Epoch 16/100\n",
      "\u001b[1m164/164\u001b[0m \u001b[32m━━━━━━━━━━━━━━━━━━━━\u001b[0m\u001b[37m\u001b[0m \u001b[1m3s\u001b[0m 16ms/step - categorical_accuracy: 0.4921 - loss: 1.9257 - val_categorical_accuracy: 0.3872 - val_loss: 1.8866\n",
      "Epoch 17/100\n",
      "\u001b[1m164/164\u001b[0m \u001b[32m━━━━━━━━━━━━━━━━━━━━\u001b[0m\u001b[37m\u001b[0m \u001b[1m3s\u001b[0m 16ms/step - categorical_accuracy: 0.3788 - loss: 1.8782 - val_categorical_accuracy: 0.3868 - val_loss: 1.8408\n",
      "Epoch 18/100\n",
      "\u001b[1m164/164\u001b[0m \u001b[32m━━━━━━━━━━━━━━━━━━━━\u001b[0m\u001b[37m\u001b[0m \u001b[1m3s\u001b[0m 16ms/step - categorical_accuracy: 0.3619 - loss: 1.8384 - val_categorical_accuracy: 0.3865 - val_loss: 1.8002\n",
      "Epoch 19/100\n",
      "\u001b[1m164/164\u001b[0m \u001b[32m━━━━━━━━━━━━━━━━━━━━\u001b[0m\u001b[37m\u001b[0m \u001b[1m3s\u001b[0m 16ms/step - categorical_accuracy: 0.3612 - loss: 1.7959 - val_categorical_accuracy: 0.3861 - val_loss: 1.7639\n",
      "Epoch 20/100\n",
      "\u001b[1m164/164\u001b[0m \u001b[32m━━━━━━━━━━━━━━━━━━━━\u001b[0m\u001b[37m\u001b[0m \u001b[1m3s\u001b[0m 16ms/step - categorical_accuracy: 0.3625 - loss: 1.7642 - val_categorical_accuracy: 0.3861 - val_loss: 1.7311\n",
      "Epoch 21/100\n",
      "\u001b[1m164/164\u001b[0m \u001b[32m━━━━━━━━━━━━━━━━━━━━\u001b[0m\u001b[37m\u001b[0m \u001b[1m3s\u001b[0m 16ms/step - categorical_accuracy: 0.3650 - loss: 1.7352 - val_categorical_accuracy: 0.3861 - val_loss: 1.7013\n",
      "Epoch 22/100\n",
      "\u001b[1m164/164\u001b[0m \u001b[32m━━━━━━━━━━━━━━━━━━━━\u001b[0m\u001b[37m\u001b[0m \u001b[1m3s\u001b[0m 16ms/step - categorical_accuracy: 0.4213 - loss: 1.7091 - val_categorical_accuracy: 0.5722 - val_loss: 1.6726\n",
      "Epoch 23/100\n",
      "\u001b[1m164/164\u001b[0m \u001b[32m━━━━━━━━━━━━━━━━━━━━\u001b[0m\u001b[37m\u001b[0m \u001b[1m3s\u001b[0m 16ms/step - categorical_accuracy: 0.5294 - loss: 1.6861 - val_categorical_accuracy: 0.5722 - val_loss: 1.6460\n",
      "Epoch 24/100\n",
      "\u001b[1m164/164\u001b[0m \u001b[32m━━━━━━━━━━━━━━━━━━━━\u001b[0m\u001b[37m\u001b[0m \u001b[1m3s\u001b[0m 16ms/step - categorical_accuracy: 0.5309 - loss: 1.6538 - val_categorical_accuracy: 0.5722 - val_loss: 1.6076\n",
      "Epoch 25/100\n",
      "\u001b[1m164/164\u001b[0m \u001b[32m━━━━━━━━━━━━━━━━━━━━\u001b[0m\u001b[37m\u001b[0m \u001b[1m3s\u001b[0m 16ms/step - categorical_accuracy: 0.5238 - loss: 1.6203 - val_categorical_accuracy: 0.5722 - val_loss: 1.5777\n",
      "Epoch 26/100\n",
      "\u001b[1m164/164\u001b[0m \u001b[32m━━━━━━━━━━━━━━━━━━━━\u001b[0m\u001b[37m\u001b[0m \u001b[1m3s\u001b[0m 16ms/step - categorical_accuracy: 0.5294 - loss: 1.5924 - val_categorical_accuracy: 0.5722 - val_loss: 1.5510\n",
      "Epoch 27/100\n",
      "\u001b[1m164/164\u001b[0m \u001b[32m━━━━━━━━━━━━━━━━━━━━\u001b[0m\u001b[37m\u001b[0m \u001b[1m3s\u001b[0m 16ms/step - categorical_accuracy: 0.5369 - loss: 1.5654 - val_categorical_accuracy: 0.5726 - val_loss: 1.5263\n",
      "Epoch 28/100\n",
      "\u001b[1m164/164\u001b[0m \u001b[32m━━━━━━━━━━━━━━━━━━━━\u001b[0m\u001b[37m\u001b[0m \u001b[1m3s\u001b[0m 17ms/step - categorical_accuracy: 0.5628 - loss: 1.5487 - val_categorical_accuracy: 0.7044 - val_loss: 1.5032\n",
      "Epoch 29/100\n",
      "\u001b[1m164/164\u001b[0m \u001b[32m━━━━━━━━━━━━━━━━━━━━\u001b[0m\u001b[37m\u001b[0m \u001b[1m3s\u001b[0m 17ms/step - categorical_accuracy: 0.7904 - loss: 1.5239 - val_categorical_accuracy: 0.8692 - val_loss: 1.4814\n",
      "Epoch 30/100\n",
      "\u001b[1m164/164\u001b[0m \u001b[32m━━━━━━━━━━━━━━━━━━━━\u001b[0m\u001b[37m\u001b[0m \u001b[1m3s\u001b[0m 16ms/step - categorical_accuracy: 0.8283 - loss: 1.5074 - val_categorical_accuracy: 0.8734 - val_loss: 1.4609\n",
      "Epoch 31/100\n",
      "\u001b[1m164/164\u001b[0m \u001b[32m━━━━━━━━━━━━━━━━━━━━\u001b[0m\u001b[37m\u001b[0m \u001b[1m3s\u001b[0m 16ms/step - categorical_accuracy: 0.8406 - loss: 1.4865 - val_categorical_accuracy: 0.8737 - val_loss: 1.4414\n",
      "Epoch 32/100\n",
      "\u001b[1m164/164\u001b[0m \u001b[32m━━━━━━━━━━━━━━━━━━━━\u001b[0m\u001b[37m\u001b[0m \u001b[1m3s\u001b[0m 17ms/step - categorical_accuracy: 0.8383 - loss: 1.4751 - val_categorical_accuracy: 0.8737 - val_loss: 1.4228\n",
      "Epoch 33/100\n",
      "\u001b[1m164/164\u001b[0m \u001b[32m━━━━━━━━━━━━━━━━━━━━\u001b[0m\u001b[37m\u001b[0m \u001b[1m3s\u001b[0m 16ms/step - categorical_accuracy: 0.8402 - loss: 1.4518 - val_categorical_accuracy: 0.8737 - val_loss: 1.4050\n",
      "Epoch 34/100\n",
      "\u001b[1m164/164\u001b[0m \u001b[32m━━━━━━━━━━━━━━━━━━━━\u001b[0m\u001b[37m\u001b[0m \u001b[1m3s\u001b[0m 16ms/step - categorical_accuracy: 0.8416 - loss: 1.4360 - val_categorical_accuracy: 0.8737 - val_loss: 1.3880\n",
      "Epoch 35/100\n",
      "\u001b[1m164/164\u001b[0m \u001b[32m━━━━━━━━━━━━━━━━━━━━\u001b[0m\u001b[37m\u001b[0m \u001b[1m3s\u001b[0m 16ms/step - categorical_accuracy: 0.8409 - loss: 1.4212 - val_categorical_accuracy: 0.8737 - val_loss: 1.3716\n",
      "Epoch 36/100\n",
      "\u001b[1m164/164\u001b[0m \u001b[32m━━━━━━━━━━━━━━━━━━━━\u001b[0m\u001b[37m\u001b[0m \u001b[1m3s\u001b[0m 16ms/step - categorical_accuracy: 0.8482 - loss: 1.3999 - val_categorical_accuracy: 0.8737 - val_loss: 1.3559\n",
      "Epoch 37/100\n",
      "\u001b[1m164/164\u001b[0m \u001b[32m━━━━━━━━━━━━━━━━━━━━\u001b[0m\u001b[37m\u001b[0m \u001b[1m3s\u001b[0m 16ms/step - categorical_accuracy: 0.8460 - loss: 1.3904 - val_categorical_accuracy: 0.8737 - val_loss: 1.3408\n",
      "Epoch 38/100\n",
      "\u001b[1m164/164\u001b[0m \u001b[32m━━━━━━━━━━━━━━━━━━━━\u001b[0m\u001b[37m\u001b[0m \u001b[1m3s\u001b[0m 17ms/step - categorical_accuracy: 0.8406 - loss: 1.3780 - val_categorical_accuracy: 0.8737 - val_loss: 1.3262\n",
      "Epoch 39/100\n",
      "\u001b[1m164/164\u001b[0m \u001b[32m━━━━━━━━━━━━━━━━━━━━\u001b[0m\u001b[37m\u001b[0m \u001b[1m3s\u001b[0m 17ms/step - categorical_accuracy: 0.8373 - loss: 1.3737 - val_categorical_accuracy: 0.8737 - val_loss: 1.3121\n",
      "Epoch 40/100\n",
      "\u001b[1m164/164\u001b[0m \u001b[32m━━━━━━━━━━━━━━━━━━━━\u001b[0m\u001b[37m\u001b[0m \u001b[1m3s\u001b[0m 16ms/step - categorical_accuracy: 0.8430 - loss: 1.3518 - val_categorical_accuracy: 0.8737 - val_loss: 1.2985\n",
      "Epoch 41/100\n",
      "\u001b[1m164/164\u001b[0m \u001b[32m━━━━━━━━━━━━━━━━━━━━\u001b[0m\u001b[37m\u001b[0m \u001b[1m3s\u001b[0m 17ms/step - categorical_accuracy: 0.8357 - loss: 1.3480 - val_categorical_accuracy: 0.8741 - val_loss: 1.2855\n",
      "Epoch 42/100\n",
      "\u001b[1m164/164\u001b[0m \u001b[32m━━━━━━━━━━━━━━━━━━━━\u001b[0m\u001b[37m\u001b[0m \u001b[1m3s\u001b[0m 16ms/step - categorical_accuracy: 0.8369 - loss: 1.3425 - val_categorical_accuracy: 0.8741 - val_loss: 1.2731\n",
      "Epoch 43/100\n",
      "\u001b[1m164/164\u001b[0m \u001b[32m━━━━━━━━━━━━━━━━━━━━\u001b[0m\u001b[37m\u001b[0m \u001b[1m3s\u001b[0m 16ms/step - categorical_accuracy: 0.8377 - loss: 1.3196 - val_categorical_accuracy: 0.8741 - val_loss: 1.2611\n",
      "Epoch 44/100\n",
      "\u001b[1m164/164\u001b[0m \u001b[32m━━━━━━━━━━━━━━━━━━━━\u001b[0m\u001b[37m\u001b[0m \u001b[1m3s\u001b[0m 16ms/step - categorical_accuracy: 0.8417 - loss: 1.3012 - val_categorical_accuracy: 0.8741 - val_loss: 1.2494\n",
      "Epoch 45/100\n",
      "\u001b[1m164/164\u001b[0m \u001b[32m━━━━━━━━━━━━━━━━━━━━\u001b[0m\u001b[37m\u001b[0m \u001b[1m3s\u001b[0m 16ms/step - categorical_accuracy: 0.8392 - loss: 1.3021 - val_categorical_accuracy: 0.8741 - val_loss: 1.2380\n",
      "Epoch 46/100\n",
      "\u001b[1m164/164\u001b[0m \u001b[32m━━━━━━━━━━━━━━━━━━━━\u001b[0m\u001b[37m\u001b[0m \u001b[1m3s\u001b[0m 16ms/step - categorical_accuracy: 0.8401 - loss: 1.2895 - val_categorical_accuracy: 0.8737 - val_loss: 1.2270\n",
      "Epoch 47/100\n",
      "\u001b[1m164/164\u001b[0m \u001b[32m━━━━━━━━━━━━━━━━━━━━\u001b[0m\u001b[37m\u001b[0m \u001b[1m3s\u001b[0m 16ms/step - categorical_accuracy: 0.8418 - loss: 1.2736 - val_categorical_accuracy: 0.8737 - val_loss: 1.2162\n",
      "Epoch 48/100\n",
      "\u001b[1m164/164\u001b[0m \u001b[32m━━━━━━━━━━━━━━━━━━━━\u001b[0m\u001b[37m\u001b[0m \u001b[1m3s\u001b[0m 17ms/step - categorical_accuracy: 0.8403 - loss: 1.2646 - val_categorical_accuracy: 0.8737 - val_loss: 1.2057\n",
      "Epoch 49/100\n",
      "\u001b[1m164/164\u001b[0m \u001b[32m━━━━━━━━━━━━━━━━━━━━\u001b[0m\u001b[37m\u001b[0m \u001b[1m3s\u001b[0m 16ms/step - categorical_accuracy: 0.8418 - loss: 1.2619 - val_categorical_accuracy: 0.8737 - val_loss: 1.1954\n",
      "Epoch 50/100\n",
      "\u001b[1m164/164\u001b[0m \u001b[32m━━━━━━━━━━━━━━━━━━━━\u001b[0m\u001b[37m\u001b[0m \u001b[1m3s\u001b[0m 17ms/step - categorical_accuracy: 0.8403 - loss: 1.2451 - val_categorical_accuracy: 0.8737 - val_loss: 1.1854\n",
      "Epoch 51/100\n",
      "\u001b[1m164/164\u001b[0m \u001b[32m━━━━━━━━━━━━━━━━━━━━\u001b[0m\u001b[37m\u001b[0m \u001b[1m3s\u001b[0m 16ms/step - categorical_accuracy: 0.8386 - loss: 1.2438 - val_categorical_accuracy: 0.8737 - val_loss: 1.1757\n",
      "Epoch 52/100\n",
      "\u001b[1m164/164\u001b[0m \u001b[32m━━━━━━━━━━━━━━━━━━━━\u001b[0m\u001b[37m\u001b[0m \u001b[1m3s\u001b[0m 16ms/step - categorical_accuracy: 0.8421 - loss: 1.2290 - val_categorical_accuracy: 0.8737 - val_loss: 1.1661\n",
      "Epoch 53/100\n",
      "\u001b[1m164/164\u001b[0m \u001b[32m━━━━━━━━━━━━━━━━━━━━\u001b[0m\u001b[37m\u001b[0m \u001b[1m3s\u001b[0m 16ms/step - categorical_accuracy: 0.8392 - loss: 1.2267 - val_categorical_accuracy: 0.8737 - val_loss: 1.1567\n",
      "Epoch 54/100\n",
      "\u001b[1m164/164\u001b[0m \u001b[32m━━━━━━━━━━━━━━━━━━━━\u001b[0m\u001b[37m\u001b[0m \u001b[1m3s\u001b[0m 15ms/step - categorical_accuracy: 0.8413 - loss: 1.2150 - val_categorical_accuracy: 0.8737 - val_loss: 1.1475\n",
      "Epoch 55/100\n",
      "\u001b[1m164/164\u001b[0m \u001b[32m━━━━━━━━━━━━━━━━━━━━\u001b[0m\u001b[37m\u001b[0m \u001b[1m3s\u001b[0m 15ms/step - categorical_accuracy: 0.8414 - loss: 1.2047 - val_categorical_accuracy: 0.8737 - val_loss: 1.1385\n",
      "Epoch 56/100\n",
      "\u001b[1m164/164\u001b[0m \u001b[32m━━━━━━━━━━━━━━━━━━━━\u001b[0m\u001b[37m\u001b[0m \u001b[1m2s\u001b[0m 15ms/step - categorical_accuracy: 0.8414 - loss: 1.1952 - val_categorical_accuracy: 0.8737 - val_loss: 1.1297\n",
      "Epoch 57/100\n",
      "\u001b[1m164/164\u001b[0m \u001b[32m━━━━━━━━━━━━━━━━━━━━\u001b[0m\u001b[37m\u001b[0m \u001b[1m2s\u001b[0m 14ms/step - categorical_accuracy: 0.8413 - loss: 1.1865 - val_categorical_accuracy: 0.8737 - val_loss: 1.1211\n",
      "Epoch 58/100\n",
      "\u001b[1m164/164\u001b[0m \u001b[32m━━━━━━━━━━━━━━━━━━━━\u001b[0m\u001b[37m\u001b[0m \u001b[1m3s\u001b[0m 15ms/step - categorical_accuracy: 0.8356 - loss: 1.1880 - val_categorical_accuracy: 0.8737 - val_loss: 1.1126\n",
      "Epoch 59/100\n",
      "\u001b[1m164/164\u001b[0m \u001b[32m━━━━━━━━━━━━━━━━━━━━\u001b[0m\u001b[37m\u001b[0m \u001b[1m3s\u001b[0m 16ms/step - categorical_accuracy: 0.8432 - loss: 1.1728 - val_categorical_accuracy: 0.8737 - val_loss: 1.1043\n",
      "Epoch 60/100\n",
      "\u001b[1m164/164\u001b[0m \u001b[32m━━━━━━━━━━━━━━━━━━━━\u001b[0m\u001b[37m\u001b[0m \u001b[1m3s\u001b[0m 16ms/step - categorical_accuracy: 0.8413 - loss: 1.1658 - val_categorical_accuracy: 0.8737 - val_loss: 1.0961\n",
      "Epoch 61/100\n",
      "\u001b[1m164/164\u001b[0m \u001b[32m━━━━━━━━━━━━━━━━━━━━\u001b[0m\u001b[37m\u001b[0m \u001b[1m3s\u001b[0m 15ms/step - categorical_accuracy: 0.8381 - loss: 1.1585 - val_categorical_accuracy: 0.8737 - val_loss: 1.0880\n",
      "Epoch 62/100\n",
      "\u001b[1m164/164\u001b[0m \u001b[32m━━━━━━━━━━━━━━━━━━━━\u001b[0m\u001b[37m\u001b[0m \u001b[1m3s\u001b[0m 17ms/step - categorical_accuracy: 0.8398 - loss: 1.1487 - val_categorical_accuracy: 0.8737 - val_loss: 1.0802\n",
      "Epoch 63/100\n",
      "\u001b[1m164/164\u001b[0m \u001b[32m━━━━━━━━━━━━━━━━━━━━\u001b[0m\u001b[37m\u001b[0m \u001b[1m3s\u001b[0m 15ms/step - categorical_accuracy: 0.8430 - loss: 1.1426 - val_categorical_accuracy: 0.8737 - val_loss: 1.0724\n",
      "Epoch 64/100\n",
      "\u001b[1m164/164\u001b[0m \u001b[32m━━━━━━━━━━━━━━━━━━━━\u001b[0m\u001b[37m\u001b[0m \u001b[1m3s\u001b[0m 15ms/step - categorical_accuracy: 0.8429 - loss: 1.1356 - val_categorical_accuracy: 0.8741 - val_loss: 1.0648\n",
      "Epoch 65/100\n",
      "\u001b[1m164/164\u001b[0m \u001b[32m━━━━━━━━━━━━━━━━━━━━\u001b[0m\u001b[37m\u001b[0m \u001b[1m3s\u001b[0m 15ms/step - categorical_accuracy: 0.8395 - loss: 1.1310 - val_categorical_accuracy: 0.8741 - val_loss: 1.0573\n",
      "Epoch 66/100\n",
      "\u001b[1m164/164\u001b[0m \u001b[32m━━━━━━━━━━━━━━━━━━━━\u001b[0m\u001b[37m\u001b[0m \u001b[1m3s\u001b[0m 15ms/step - categorical_accuracy: 0.8352 - loss: 1.1358 - val_categorical_accuracy: 0.8741 - val_loss: 1.0499\n",
      "Epoch 67/100\n",
      "\u001b[1m164/164\u001b[0m \u001b[32m━━━━━━━━━━━━━━━━━━━━\u001b[0m\u001b[37m\u001b[0m \u001b[1m2s\u001b[0m 14ms/step - categorical_accuracy: 0.8374 - loss: 1.1274 - val_categorical_accuracy: 0.8741 - val_loss: 1.0425\n",
      "Epoch 68/100\n",
      "\u001b[1m164/164\u001b[0m \u001b[32m━━━━━━━━━━━━━━━━━━━━\u001b[0m\u001b[37m\u001b[0m \u001b[1m3s\u001b[0m 16ms/step - categorical_accuracy: 0.8358 - loss: 1.1172 - val_categorical_accuracy: 0.8741 - val_loss: 1.0353\n",
      "Epoch 69/100\n",
      "\u001b[1m164/164\u001b[0m \u001b[32m━━━━━━━━━━━━━━━━━━━━\u001b[0m\u001b[37m\u001b[0m \u001b[1m3s\u001b[0m 17ms/step - categorical_accuracy: 0.8398 - loss: 1.1097 - val_categorical_accuracy: 0.8741 - val_loss: 1.0284\n",
      "Epoch 70/100\n",
      "\u001b[1m164/164\u001b[0m \u001b[32m━━━━━━━━━━━━━━━━━━━━\u001b[0m\u001b[37m\u001b[0m \u001b[1m3s\u001b[0m 17ms/step - categorical_accuracy: 0.8406 - loss: 1.1026 - val_categorical_accuracy: 0.8741 - val_loss: 1.0214\n",
      "Epoch 71/100\n",
      "\u001b[1m164/164\u001b[0m \u001b[32m━━━━━━━━━━━━━━━━━━━━\u001b[0m\u001b[37m\u001b[0m \u001b[1m3s\u001b[0m 16ms/step - categorical_accuracy: 0.8385 - loss: 1.0952 - val_categorical_accuracy: 0.8744 - val_loss: 1.0145\n",
      "Epoch 72/100\n",
      "\u001b[1m164/164\u001b[0m \u001b[32m━━━━━━━━━━━━━━━━━━━━\u001b[0m\u001b[37m\u001b[0m \u001b[1m3s\u001b[0m 17ms/step - categorical_accuracy: 0.8391 - loss: 1.0908 - val_categorical_accuracy: 0.8748 - val_loss: 1.0078\n",
      "Epoch 73/100\n",
      "\u001b[1m164/164\u001b[0m \u001b[32m━━━━━━━━━━━━━━━━━━━━\u001b[0m\u001b[37m\u001b[0m \u001b[1m3s\u001b[0m 17ms/step - categorical_accuracy: 0.8426 - loss: 1.0871 - val_categorical_accuracy: 0.8748 - val_loss: 1.0011\n",
      "Epoch 74/100\n",
      "\u001b[1m164/164\u001b[0m \u001b[32m━━━━━━━━━━━━━━━━━━━━\u001b[0m\u001b[37m\u001b[0m \u001b[1m3s\u001b[0m 16ms/step - categorical_accuracy: 0.8472 - loss: 1.0748 - val_categorical_accuracy: 0.9108 - val_loss: 0.9945\n",
      "Epoch 75/100\n",
      "\u001b[1m164/164\u001b[0m \u001b[32m━━━━━━━━━━━━━━━━━━━━\u001b[0m\u001b[37m\u001b[0m \u001b[1m3s\u001b[0m 15ms/step - categorical_accuracy: 0.8513 - loss: 1.0629 - val_categorical_accuracy: 0.9108 - val_loss: 0.9880\n",
      "Epoch 76/100\n",
      "\u001b[1m164/164\u001b[0m \u001b[32m━━━━━━━━━━━━━━━━━━━━\u001b[0m\u001b[37m\u001b[0m \u001b[1m3s\u001b[0m 16ms/step - categorical_accuracy: 0.8494 - loss: 1.0650 - val_categorical_accuracy: 0.9108 - val_loss: 0.9816\n",
      "Epoch 77/100\n",
      "\u001b[1m164/164\u001b[0m \u001b[32m━━━━━━━━━━━━━━━━━━━━\u001b[0m\u001b[37m\u001b[0m \u001b[1m3s\u001b[0m 17ms/step - categorical_accuracy: 0.8502 - loss: 1.0577 - val_categorical_accuracy: 0.9108 - val_loss: 0.9753\n",
      "Epoch 78/100\n",
      "\u001b[1m164/164\u001b[0m \u001b[32m━━━━━━━━━━━━━━━━━━━━\u001b[0m\u001b[37m\u001b[0m \u001b[1m3s\u001b[0m 17ms/step - categorical_accuracy: 0.8465 - loss: 1.0615 - val_categorical_accuracy: 0.9108 - val_loss: 0.9691\n",
      "Epoch 79/100\n",
      "\u001b[1m164/164\u001b[0m \u001b[32m━━━━━━━━━━━━━━━━━━━━\u001b[0m\u001b[37m\u001b[0m \u001b[1m3s\u001b[0m 16ms/step - categorical_accuracy: 0.8451 - loss: 1.0529 - val_categorical_accuracy: 0.9108 - val_loss: 0.9629\n",
      "Epoch 80/100\n",
      "\u001b[1m164/164\u001b[0m \u001b[32m━━━━━━━━━━━━━━━━━━━━\u001b[0m\u001b[37m\u001b[0m \u001b[1m3s\u001b[0m 16ms/step - categorical_accuracy: 0.8539 - loss: 1.0373 - val_categorical_accuracy: 0.9108 - val_loss: 0.9569\n",
      "Epoch 81/100\n",
      "\u001b[1m164/164\u001b[0m \u001b[32m━━━━━━━━━━━━━━━━━━━━\u001b[0m\u001b[37m\u001b[0m \u001b[1m3s\u001b[0m 16ms/step - categorical_accuracy: 0.8503 - loss: 1.0366 - val_categorical_accuracy: 0.9108 - val_loss: 0.9509\n",
      "Epoch 82/100\n",
      "\u001b[1m164/164\u001b[0m \u001b[32m━━━━━━━━━━━━━━━━━━━━\u001b[0m\u001b[37m\u001b[0m \u001b[1m3s\u001b[0m 17ms/step - categorical_accuracy: 0.8481 - loss: 1.0374 - val_categorical_accuracy: 0.9108 - val_loss: 0.9449\n",
      "Epoch 83/100\n",
      "\u001b[1m164/164\u001b[0m \u001b[32m━━━━━━━━━━━━━━━━━━━━\u001b[0m\u001b[37m\u001b[0m \u001b[1m3s\u001b[0m 16ms/step - categorical_accuracy: 0.8478 - loss: 1.0298 - val_categorical_accuracy: 0.9108 - val_loss: 0.9393\n",
      "Epoch 84/100\n",
      "\u001b[1m164/164\u001b[0m \u001b[32m━━━━━━━━━━━━━━━━━━━━\u001b[0m\u001b[37m\u001b[0m \u001b[1m3s\u001b[0m 17ms/step - categorical_accuracy: 0.8465 - loss: 1.0291 - val_categorical_accuracy: 0.9108 - val_loss: 0.9334\n",
      "Epoch 85/100\n",
      "\u001b[1m164/164\u001b[0m \u001b[32m━━━━━━━━━━━━━━━━━━━━\u001b[0m\u001b[37m\u001b[0m \u001b[1m3s\u001b[0m 17ms/step - categorical_accuracy: 0.8494 - loss: 1.0167 - val_categorical_accuracy: 0.9108 - val_loss: 0.9277\n",
      "Epoch 86/100\n",
      "\u001b[1m164/164\u001b[0m \u001b[32m━━━━━━━━━━━━━━━━━━━━\u001b[0m\u001b[37m\u001b[0m \u001b[1m3s\u001b[0m 16ms/step - categorical_accuracy: 0.8479 - loss: 1.0150 - val_categorical_accuracy: 0.9108 - val_loss: 0.9220\n",
      "Epoch 87/100\n",
      "\u001b[1m164/164\u001b[0m \u001b[32m━━━━━━━━━━━━━━━━━━━━\u001b[0m\u001b[37m\u001b[0m \u001b[1m3s\u001b[0m 16ms/step - categorical_accuracy: 0.8496 - loss: 1.0118 - val_categorical_accuracy: 0.9108 - val_loss: 0.9166\n",
      "Epoch 88/100\n",
      "\u001b[1m164/164\u001b[0m \u001b[32m━━━━━━━━━━━━━━━━━━━━\u001b[0m\u001b[37m\u001b[0m \u001b[1m2s\u001b[0m 14ms/step - categorical_accuracy: 0.8517 - loss: 0.9972 - val_categorical_accuracy: 0.9108 - val_loss: 0.9110\n",
      "Epoch 89/100\n",
      "\u001b[1m164/164\u001b[0m \u001b[32m━━━━━━━━━━━━━━━━━━━━\u001b[0m\u001b[37m\u001b[0m \u001b[1m3s\u001b[0m 15ms/step - categorical_accuracy: 0.8515 - loss: 0.9996 - val_categorical_accuracy: 0.9108 - val_loss: 0.9056\n",
      "Epoch 90/100\n",
      "\u001b[1m164/164\u001b[0m \u001b[32m━━━━━━━━━━━━━━━━━━━━\u001b[0m\u001b[37m\u001b[0m \u001b[1m3s\u001b[0m 15ms/step - categorical_accuracy: 0.8500 - loss: 0.9935 - val_categorical_accuracy: 0.9108 - val_loss: 0.9002\n",
      "Epoch 91/100\n",
      "\u001b[1m164/164\u001b[0m \u001b[32m━━━━━━━━━━━━━━━━━━━━\u001b[0m\u001b[37m\u001b[0m \u001b[1m3s\u001b[0m 15ms/step - categorical_accuracy: 0.8522 - loss: 0.9834 - val_categorical_accuracy: 0.9108 - val_loss: 0.8949\n",
      "Epoch 92/100\n",
      "\u001b[1m164/164\u001b[0m \u001b[32m━━━━━━━━━━━━━━━━━━━━\u001b[0m\u001b[37m\u001b[0m \u001b[1m3s\u001b[0m 16ms/step - categorical_accuracy: 0.8508 - loss: 0.9791 - val_categorical_accuracy: 0.9119 - val_loss: 0.8899\n",
      "Epoch 93/100\n",
      "\u001b[1m164/164\u001b[0m \u001b[32m━━━━━━━━━━━━━━━━━━━━\u001b[0m\u001b[37m\u001b[0m \u001b[1m3s\u001b[0m 15ms/step - categorical_accuracy: 0.8521 - loss: 0.9787 - val_categorical_accuracy: 0.9119 - val_loss: 0.8847\n",
      "Epoch 94/100\n",
      "\u001b[1m164/164\u001b[0m \u001b[32m━━━━━━━━━━━━━━━━━━━━\u001b[0m\u001b[37m\u001b[0m \u001b[1m3s\u001b[0m 16ms/step - categorical_accuracy: 0.8460 - loss: 0.9828 - val_categorical_accuracy: 0.9119 - val_loss: 0.8794\n",
      "Epoch 95/100\n",
      "\u001b[1m164/164\u001b[0m \u001b[32m━━━━━━━━━━━━━━━━━━━━\u001b[0m\u001b[37m\u001b[0m \u001b[1m3s\u001b[0m 16ms/step - categorical_accuracy: 0.8524 - loss: 0.9697 - val_categorical_accuracy: 0.9119 - val_loss: 0.8745\n",
      "Epoch 96/100\n",
      "\u001b[1m164/164\u001b[0m \u001b[32m━━━━━━━━━━━━━━━━━━━━\u001b[0m\u001b[37m\u001b[0m \u001b[1m3s\u001b[0m 16ms/step - categorical_accuracy: 0.8476 - loss: 0.9668 - val_categorical_accuracy: 0.9119 - val_loss: 0.8694\n",
      "Epoch 97/100\n",
      "\u001b[1m164/164\u001b[0m \u001b[32m━━━━━━━━━━━━━━━━━━━━\u001b[0m\u001b[37m\u001b[0m \u001b[1m3s\u001b[0m 16ms/step - categorical_accuracy: 0.8483 - loss: 0.9671 - val_categorical_accuracy: 0.9119 - val_loss: 0.8646\n",
      "Epoch 98/100\n",
      "\u001b[1m164/164\u001b[0m \u001b[32m━━━━━━━━━━━━━━━━━━━━\u001b[0m\u001b[37m\u001b[0m \u001b[1m3s\u001b[0m 16ms/step - categorical_accuracy: 0.8532 - loss: 0.9505 - val_categorical_accuracy: 0.9119 - val_loss: 0.8599\n",
      "Epoch 99/100\n",
      "\u001b[1m164/164\u001b[0m \u001b[32m━━━━━━━━━━━━━━━━━━━━\u001b[0m\u001b[37m\u001b[0m \u001b[1m3s\u001b[0m 16ms/step - categorical_accuracy: 0.8511 - loss: 0.9494 - val_categorical_accuracy: 0.9119 - val_loss: 0.8550\n",
      "Epoch 100/100\n",
      "\u001b[1m164/164\u001b[0m \u001b[32m━━━━━━━━━━━━━━━━━━━━\u001b[0m\u001b[37m\u001b[0m \u001b[1m3s\u001b[0m 17ms/step - categorical_accuracy: 0.8495 - loss: 0.9464 - val_categorical_accuracy: 0.9119 - val_loss: 0.8503\n"
     ]
    }
   ],
   "source": [
    "history = prefix_dfg_model.fit([train_prefix_trace_encoded,train_dfg_probability], train_target_encoded, epochs=100, batch_size=100, validation_data = ([val_prefix_trace_encoded,val_dfg_probability], val_target_encoded))"
   ]
  },
  {
   "cell_type": "code",
   "execution_count": 22,
   "id": "f38265b6-2928-482c-8fc9-d9f4c8b11211",
   "metadata": {},
   "outputs": [
    {
     "data": {
      "image/png": "[encoded data removed]",
      "text/plain": [
       "<Figure size 640x480 with 1 Axes>"
      ]
     },
     "metadata": {},
     "output_type": "display_data"
    }
   ],
   "source": [
    "import matplotlib.pyplot as plt\n",
    "train_loss = history.history['loss']\n",
    "val_loss = history.history['val_loss']\n",
    "epochs = range(1, len(train_loss) + 1)\n",
    "\n",
    "plt.plot(epochs, train_loss, label='Training loss')\n",
    "plt.plot(epochs, val_loss, label='Validation loss')\n",
    "plt.title('Training and validation loss')\n",
    "plt.xlabel('Epochs')\n",
    "plt.ylabel('Loss')\n",
    "plt.legend()\n",
    "plt.show()"
   ]
  },
  {
   "cell_type": "code",
   "execution_count": 23,
   "id": "73ae75be-e0dc-4952-8ef8-88085cb9358b",
   "metadata": {},
   "outputs": [
    {
     "name": "stdout",
     "output_type": "stream",
     "text": [
      "\u001b[1m512/512\u001b[0m \u001b[32m━━━━━━━━━━━━━━━━━━━━\u001b[0m\u001b[37m\u001b[0m \u001b[1m4s\u001b[0m 7ms/step\n",
      "train model recall 85.11886573366742%\n"
     ]
    },
    {
     "data": {
      "text/plain": [
       "array(['assign seriousness', 'take in charge ticket', 'resolve ticket',\n",
       "       ..., 'resolve ticket', 'closed', 'zos'], dtype=object)"
      ]
     },
     "execution_count": 23,
     "metadata": {},
     "output_type": "execute_result"
    }
   ],
   "source": [
    "actual_label = train_target[\"activity\"]\n",
    "multi_input_prediction(prefix_dfg_model,train_prefix_trace_encoded, train_dfg_probability, label_encoder,actual_label)"
   ]
  },
  {
   "cell_type": "code",
   "execution_count": 24,
   "id": "519ce89c-8f9e-4ce5-8675-f5ae787de2b7",
   "metadata": {},
   "outputs": [
    {
     "name": "stdout",
     "output_type": "stream",
     "text": [
      "\u001b[1m206/206\u001b[0m \u001b[32m━━━━━━━━━━━━━━━━━━━━\u001b[0m\u001b[37m\u001b[0m \u001b[1m1s\u001b[0m 6ms/step\n",
      "train model recall 83.66013071895425%\n"
     ]
    },
    {
     "data": {
      "text/plain": [
       "array(['assign seriousness', 'take in charge ticket', 'resolve ticket',\n",
       "       ..., 'resolve ticket', 'closed', 'zos'], dtype=object)"
      ]
     },
     "execution_count": 24,
     "metadata": {},
     "output_type": "execute_result"
    }
   ],
   "source": [
    "actual_label = test_target[\"activity\"]\n",
    "multi_input_prediction(prefix_dfg_model,test_prefix_trace_encoded, test_dfg_probability, label_encoder,actual_label)"
   ]
  },
  {
   "cell_type": "markdown",
   "id": "5175dd96-d635-4106-9e66-8150a0c1dc12",
   "metadata": {},
   "source": [
    "## Prefix_DFG Model_2"
   ]
  },
  {
   "cell_type": "code",
   "execution_count": 25,
   "id": "73ffb0ae-1004-4937-aa42-450ed2c27e33",
   "metadata": {},
   "outputs": [
    {
     "data": {
      "text/html": [
       "<pre style=\"white-space:pre;overflow-x:auto;line-height:normal;font-family:Menlo,'DejaVu Sans Mono',consolas,'Courier New',monospace\"><span style=\"font-weight: bold\">Model: \"functional_7\"</span>\n",
       "</pre>\n"
      ],
      "text/plain": [
       "\u001b[1mModel: \"functional_7\"\u001b[0m\n"
      ]
     },
     "metadata": {},
     "output_type": "display_data"
    },
    {
     "data": {
      "text/html": [
       "<pre style=\"white-space:pre;overflow-x:auto;line-height:normal;font-family:Menlo,'DejaVu Sans Mono',consolas,'Courier New',monospace\">┏━━━━━━━━━━━━━━━━━━━━━┳━━━━━━━━━━━━━━━━━━━┳━━━━━━━━━━━━┳━━━━━━━━━━━━━━━━━━━┓\n",
       "┃<span style=\"font-weight: bold\"> Layer (type)        </span>┃<span style=\"font-weight: bold\"> Output Shape      </span>┃<span style=\"font-weight: bold\">    Param # </span>┃<span style=\"font-weight: bold\"> Connected to      </span>┃\n",
       "┡━━━━━━━━━━━━━━━━━━━━━╇━━━━━━━━━━━━━━━━━━━╇━━━━━━━━━━━━╇━━━━━━━━━━━━━━━━━━━┩\n",
       "│ prefix (<span style=\"color: #0087ff; text-decoration-color: #0087ff\">InputLayer</span>) │ (<span style=\"color: #00d7ff; text-decoration-color: #00d7ff\">None</span>, <span style=\"color: #00af00; text-decoration-color: #00af00\">16</span>, <span style=\"color: #00af00; text-decoration-color: #00af00\">16</span>)    │          <span style=\"color: #00af00; text-decoration-color: #00af00\">0</span> │ -                 │\n",
       "├─────────────────────┼───────────────────┼────────────┼───────────────────┤\n",
       "│ prefix_layer_1      │ (<span style=\"color: #00d7ff; text-decoration-color: #00d7ff\">None</span>, <span style=\"color: #00af00; text-decoration-color: #00af00\">20</span>)        │      <span style=\"color: #00af00; text-decoration-color: #00af00\">2,960</span> │ prefix[<span style=\"color: #00af00; text-decoration-color: #00af00\">0</span>][<span style=\"color: #00af00; text-decoration-color: #00af00\">0</span>]      │\n",
       "│ (<span style=\"color: #0087ff; text-decoration-color: #0087ff\">LSTM</span>)              │                   │            │                   │\n",
       "├─────────────────────┼───────────────────┼────────────┼───────────────────┤\n",
       "│ dfg (<span style=\"color: #0087ff; text-decoration-color: #0087ff\">InputLayer</span>)    │ (<span style=\"color: #00d7ff; text-decoration-color: #00d7ff\">None</span>, <span style=\"color: #00af00; text-decoration-color: #00af00\">16</span>)        │          <span style=\"color: #00af00; text-decoration-color: #00af00\">0</span> │ -                 │\n",
       "├─────────────────────┼───────────────────┼────────────┼───────────────────┤\n",
       "│ prefix_dfg_input    │ (<span style=\"color: #00d7ff; text-decoration-color: #00d7ff\">None</span>, <span style=\"color: #00af00; text-decoration-color: #00af00\">36</span>)        │          <span style=\"color: #00af00; text-decoration-color: #00af00\">0</span> │ prefix_layer_1[<span style=\"color: #00af00; text-decoration-color: #00af00\">0</span>… │\n",
       "│ (<span style=\"color: #0087ff; text-decoration-color: #0087ff\">Concatenate</span>)       │                   │            │ dfg[<span style=\"color: #00af00; text-decoration-color: #00af00\">0</span>][<span style=\"color: #00af00; text-decoration-color: #00af00\">0</span>]         │\n",
       "├─────────────────────┼───────────────────┼────────────┼───────────────────┤\n",
       "│ dfg_layer_1 (<span style=\"color: #0087ff; text-decoration-color: #0087ff\">Dense</span>) │ (<span style=\"color: #00d7ff; text-decoration-color: #00d7ff\">None</span>, <span style=\"color: #00af00; text-decoration-color: #00af00\">20</span>)        │        <span style=\"color: #00af00; text-decoration-color: #00af00\">740</span> │ prefix_dfg_input… │\n",
       "├─────────────────────┼───────────────────┼────────────┼───────────────────┤\n",
       "│ dense_5 (<span style=\"color: #0087ff; text-decoration-color: #0087ff\">Dense</span>)     │ (<span style=\"color: #00d7ff; text-decoration-color: #00d7ff\">None</span>, <span style=\"color: #00af00; text-decoration-color: #00af00\">16</span>)        │        <span style=\"color: #00af00; text-decoration-color: #00af00\">336</span> │ dfg_layer_1[<span style=\"color: #00af00; text-decoration-color: #00af00\">0</span>][<span style=\"color: #00af00; text-decoration-color: #00af00\">0</span>] │\n",
       "└─────────────────────┴───────────────────┴────────────┴───────────────────┘\n",
       "</pre>\n"
      ],
      "text/plain": [
       "┏━━━━━━━━━━━━━━━━━━━━━┳━━━━━━━━━━━━━━━━━━━┳━━━━━━━━━━━━┳━━━━━━━━━━━━━━━━━━━┓\n",
       "┃\u001b[1m \u001b[0m\u001b[1mLayer (type)       \u001b[0m\u001b[1m \u001b[0m┃\u001b[1m \u001b[0m\u001b[1mOutput Shape     \u001b[0m\u001b[1m \u001b[0m┃\u001b[1m \u001b[0m\u001b[1m   Param #\u001b[0m\u001b[1m \u001b[0m┃\u001b[1m \u001b[0m\u001b[1mConnected to     \u001b[0m\u001b[1m \u001b[0m┃\n",
       "┡━━━━━━━━━━━━━━━━━━━━━╇━━━━━━━━━━━━━━━━━━━╇━━━━━━━━━━━━╇━━━━━━━━━━━━━━━━━━━┩\n",
       "│ prefix (\u001b[38;5;33mInputLayer\u001b[0m) │ (\u001b[38;5;45mNone\u001b[0m, \u001b[38;5;34m16\u001b[0m, \u001b[38;5;34m16\u001b[0m)    │          \u001b[38;5;34m0\u001b[0m │ -                 │\n",
       "├─────────────────────┼───────────────────┼────────────┼───────────────────┤\n",
       "│ prefix_layer_1      │ (\u001b[38;5;45mNone\u001b[0m, \u001b[38;5;34m20\u001b[0m)        │      \u001b[38;5;34m2,960\u001b[0m │ prefix[\u001b[38;5;34m0\u001b[0m][\u001b[38;5;34m0\u001b[0m]      │\n",
       "│ (\u001b[38;5;33mLSTM\u001b[0m)              │                   │            │                   │\n",
       "├─────────────────────┼───────────────────┼────────────┼───────────────────┤\n",
       "│ dfg (\u001b[38;5;33mInputLayer\u001b[0m)    │ (\u001b[38;5;45mNone\u001b[0m, \u001b[38;5;34m16\u001b[0m)        │          \u001b[38;5;34m0\u001b[0m │ -                 │\n",
       "├─────────────────────┼───────────────────┼────────────┼───────────────────┤\n",
       "│ prefix_dfg_input    │ (\u001b[38;5;45mNone\u001b[0m, \u001b[38;5;34m36\u001b[0m)        │          \u001b[38;5;34m0\u001b[0m │ prefix_layer_1[\u001b[38;5;34m0\u001b[0m… │\n",
       "│ (\u001b[38;5;33mConcatenate\u001b[0m)       │                   │            │ dfg[\u001b[38;5;34m0\u001b[0m][\u001b[38;5;34m0\u001b[0m]         │\n",
       "├─────────────────────┼───────────────────┼────────────┼───────────────────┤\n",
       "│ dfg_layer_1 (\u001b[38;5;33mDense\u001b[0m) │ (\u001b[38;5;45mNone\u001b[0m, \u001b[38;5;34m20\u001b[0m)        │        \u001b[38;5;34m740\u001b[0m │ prefix_dfg_input… │\n",
       "├─────────────────────┼───────────────────┼────────────┼───────────────────┤\n",
       "│ dense_5 (\u001b[38;5;33mDense\u001b[0m)     │ (\u001b[38;5;45mNone\u001b[0m, \u001b[38;5;34m16\u001b[0m)        │        \u001b[38;5;34m336\u001b[0m │ dfg_layer_1[\u001b[38;5;34m0\u001b[0m][\u001b[38;5;34m0\u001b[0m] │\n",
       "└─────────────────────┴───────────────────┴────────────┴───────────────────┘\n"
      ]
     },
     "metadata": {},
     "output_type": "display_data"
    },
    {
     "data": {
      "text/html": [
       "<pre style=\"white-space:pre;overflow-x:auto;line-height:normal;font-family:Menlo,'DejaVu Sans Mono',consolas,'Courier New',monospace\"><span style=\"font-weight: bold\"> Total params: </span><span style=\"color: #00af00; text-decoration-color: #00af00\">4,036</span> (15.77 KB)\n",
       "</pre>\n"
      ],
      "text/plain": [
       "\u001b[1m Total params: \u001b[0m\u001b[38;5;34m4,036\u001b[0m (15.77 KB)\n"
      ]
     },
     "metadata": {},
     "output_type": "display_data"
    },
    {
     "data": {
      "text/html": [
       "<pre style=\"white-space:pre;overflow-x:auto;line-height:normal;font-family:Menlo,'DejaVu Sans Mono',consolas,'Courier New',monospace\"><span style=\"font-weight: bold\"> Trainable params: </span><span style=\"color: #00af00; text-decoration-color: #00af00\">4,036</span> (15.77 KB)\n",
       "</pre>\n"
      ],
      "text/plain": [
       "\u001b[1m Trainable params: \u001b[0m\u001b[38;5;34m4,036\u001b[0m (15.77 KB)\n"
      ]
     },
     "metadata": {},
     "output_type": "display_data"
    },
    {
     "data": {
      "text/html": [
       "<pre style=\"white-space:pre;overflow-x:auto;line-height:normal;font-family:Menlo,'DejaVu Sans Mono',consolas,'Courier New',monospace\"><span style=\"font-weight: bold\"> Non-trainable params: </span><span style=\"color: #00af00; text-decoration-color: #00af00\">0</span> (0.00 B)\n",
       "</pre>\n"
      ],
      "text/plain": [
       "\u001b[1m Non-trainable params: \u001b[0m\u001b[38;5;34m0\u001b[0m (0.00 B)\n"
      ]
     },
     "metadata": {},
     "output_type": "display_data"
    }
   ],
   "source": [
    "#prefix input\n",
    "prefix_features = train_prefix_trace_encoded.shape[1]\n",
    "prefix_sequence = train_prefix_trace_encoded.shape[2]\n",
    "\n",
    "#prefix layer\n",
    "prefix_input = Input(shape=(prefix_sequence,prefix_features),name=\"prefix\")\n",
    "prefix_model = LSTM(20, return_sequences=False, name=\"prefix_layer_1\")(prefix_input)\n",
    "\n",
    "#dfg input\n",
    "dfg_features = train_dfg_probability.shape[1]\n",
    "dfg_input = Input(shape=(dfg_features,),name=\"dfg\")\n",
    "\n",
    "# combine prefix with dfg input\n",
    "combined_input = Concatenate(name=\"prefix_dfg_input\")([prefix_model,dfg_input])\n",
    "prefix_dfg_layer = Dense(20, activation=\"relu\", name=\"dfg_layer_1\")(combined_input)\n",
    "\n",
    "# Output layer (classification)\n",
    "output = train_target_encoded.shape[1]\n",
    "output_layer = Dense(output,activation='softmax')(prefix_dfg_layer)\n",
    "\n",
    "#Define model\n",
    "prefix_dfg_model_2 = Model(inputs=[prefix_input,dfg_input],outputs=output_layer)\n",
    "prefix_dfg_model_2.compile(optimizer='adagrad', loss='categorical_crossentropy', metrics=['categorical_accuracy'])\n",
    "prefix_dfg_model_2.summary()"
   ]
  },
  {
   "cell_type": "code",
   "execution_count": 26,
   "id": "6cb5023c-3471-41d9-87ea-b329a20068bd",
   "metadata": {},
   "outputs": [
    {
     "name": "stdout",
     "output_type": "stream",
     "text": [
      "Epoch 1/200\n",
      "\u001b[1m164/164\u001b[0m \u001b[32m━━━━━━━━━━━━━━━━━━━━\u001b[0m\u001b[37m\u001b[0m \u001b[1m7s\u001b[0m 22ms/step - categorical_accuracy: 0.3423 - loss: 2.5229 - val_categorical_accuracy: 0.3627 - val_loss: 2.3680\n",
      "Epoch 2/200\n",
      "\u001b[1m164/164\u001b[0m \u001b[32m━━━━━━━━━━━━━━━━━━━━\u001b[0m\u001b[37m\u001b[0m \u001b[1m3s\u001b[0m 16ms/step - categorical_accuracy: 0.3396 - loss: 2.3707 - val_categorical_accuracy: 0.3627 - val_loss: 2.2738\n",
      "Epoch 3/200\n",
      "\u001b[1m164/164\u001b[0m \u001b[32m━━━━━━━━━━━━━━━━━━━━\u001b[0m\u001b[37m\u001b[0m \u001b[1m3s\u001b[0m 16ms/step - categorical_accuracy: 0.3446 - loss: 2.2772 - val_categorical_accuracy: 0.3627 - val_loss: 2.2047\n",
      "Epoch 4/200\n",
      "\u001b[1m164/164\u001b[0m \u001b[32m━━━━━━━━━━━━━━━━━━━━\u001b[0m\u001b[37m\u001b[0m \u001b[1m3s\u001b[0m 15ms/step - categorical_accuracy: 0.3487 - loss: 2.1952 - val_categorical_accuracy: 0.3627 - val_loss: 2.1488\n",
      "Epoch 5/200\n",
      "\u001b[1m164/164\u001b[0m \u001b[32m━━━━━━━━━━━━━━━━━━━━\u001b[0m\u001b[37m\u001b[0m \u001b[1m3s\u001b[0m 16ms/step - categorical_accuracy: 0.3453 - loss: 2.1499 - val_categorical_accuracy: 0.3627 - val_loss: 2.1000\n",
      "Epoch 6/200\n",
      "\u001b[1m164/164\u001b[0m \u001b[32m━━━━━━━━━━━━━━━━━━━━\u001b[0m\u001b[37m\u001b[0m \u001b[1m3s\u001b[0m 16ms/step - categorical_accuracy: 0.3470 - loss: 2.1040 - val_categorical_accuracy: 0.3627 - val_loss: 2.0557\n",
      "Epoch 7/200\n",
      "\u001b[1m164/164\u001b[0m \u001b[32m━━━━━━━━━━━━━━━━━━━━\u001b[0m\u001b[37m\u001b[0m \u001b[1m3s\u001b[0m 16ms/step - categorical_accuracy: 0.3446 - loss: 2.0663 - val_categorical_accuracy: 0.3627 - val_loss: 2.0134\n",
      "Epoch 8/200\n",
      "\u001b[1m164/164\u001b[0m \u001b[32m━━━━━━━━━━━━━━━━━━━━\u001b[0m\u001b[37m\u001b[0m \u001b[1m3s\u001b[0m 16ms/step - categorical_accuracy: 0.3395 - loss: 2.0280 - val_categorical_accuracy: 0.3648 - val_loss: 1.9736\n",
      "Epoch 9/200\n",
      "\u001b[1m164/164\u001b[0m \u001b[32m━━━━━━━━━━━━━━━━━━━━\u001b[0m\u001b[37m\u001b[0m \u001b[1m3s\u001b[0m 16ms/step - categorical_accuracy: 0.3471 - loss: 1.9815 - val_categorical_accuracy: 0.3648 - val_loss: 1.9356\n",
      "Epoch 10/200\n",
      "\u001b[1m164/164\u001b[0m \u001b[32m━━━━━━━━━━━━━━━━━━━━\u001b[0m\u001b[37m\u001b[0m \u001b[1m3s\u001b[0m 17ms/step - categorical_accuracy: 0.3502 - loss: 1.9436 - val_categorical_accuracy: 0.3648 - val_loss: 1.8987\n",
      "Epoch 11/200\n",
      "\u001b[1m164/164\u001b[0m \u001b[32m━━━━━━━━━━━━━━━━━━━━\u001b[0m\u001b[37m\u001b[0m \u001b[1m3s\u001b[0m 16ms/step - categorical_accuracy: 0.3440 - loss: 1.9116 - val_categorical_accuracy: 0.3648 - val_loss: 1.8631\n",
      "Epoch 12/200\n",
      "\u001b[1m164/164\u001b[0m \u001b[32m━━━━━━━━━━━━━━━━━━━━\u001b[0m\u001b[37m\u001b[0m \u001b[1m3s\u001b[0m 17ms/step - categorical_accuracy: 0.3369 - loss: 1.8881 - val_categorical_accuracy: 0.3662 - val_loss: 1.8266\n",
      "Epoch 13/200\n",
      "\u001b[1m164/164\u001b[0m \u001b[32m━━━━━━━━━━━━━━━━━━━━\u001b[0m\u001b[37m\u001b[0m \u001b[1m3s\u001b[0m 15ms/step - categorical_accuracy: 0.3463 - loss: 1.8448 - val_categorical_accuracy: 0.3662 - val_loss: 1.7881\n",
      "Epoch 14/200\n",
      "\u001b[1m164/164\u001b[0m \u001b[32m━━━━━━━━━━━━━━━━━━━━\u001b[0m\u001b[37m\u001b[0m \u001b[1m3s\u001b[0m 15ms/step - categorical_accuracy: 0.3510 - loss: 1.8053 - val_categorical_accuracy: 0.3673 - val_loss: 1.7491\n",
      "Epoch 15/200\n",
      "\u001b[1m164/164\u001b[0m \u001b[32m━━━━━━━━━━━━━━━━━━━━\u001b[0m\u001b[37m\u001b[0m \u001b[1m2s\u001b[0m 12ms/step - categorical_accuracy: 0.3531 - loss: 1.7608 - val_categorical_accuracy: 0.3725 - val_loss: 1.7064\n",
      "Epoch 16/200\n",
      "\u001b[1m164/164\u001b[0m \u001b[32m━━━━━━━━━━━━━━━━━━━━\u001b[0m\u001b[37m\u001b[0m \u001b[1m2s\u001b[0m 12ms/step - categorical_accuracy: 0.3656 - loss: 1.7166 - val_categorical_accuracy: 0.3739 - val_loss: 1.6616\n",
      "Epoch 17/200\n",
      "\u001b[1m164/164\u001b[0m \u001b[32m━━━━━━━━━━━━━━━━━━━━\u001b[0m\u001b[37m\u001b[0m \u001b[1m2s\u001b[0m 12ms/step - categorical_accuracy: 0.3605 - loss: 1.6748 - val_categorical_accuracy: 0.3746 - val_loss: 1.6158\n",
      "Epoch 18/200\n",
      "\u001b[1m164/164\u001b[0m \u001b[32m━━━━━━━━━━━━━━━━━━━━\u001b[0m\u001b[37m\u001b[0m \u001b[1m2s\u001b[0m 11ms/step - categorical_accuracy: 0.3573 - loss: 1.6374 - val_categorical_accuracy: 0.3771 - val_loss: 1.5684\n",
      "Epoch 19/200\n",
      "\u001b[1m164/164\u001b[0m \u001b[32m━━━━━━━━━━━━━━━━━━━━\u001b[0m\u001b[37m\u001b[0m \u001b[1m2s\u001b[0m 12ms/step - categorical_accuracy: 0.3689 - loss: 1.5755 - val_categorical_accuracy: 0.3806 - val_loss: 1.5203\n",
      "Epoch 20/200\n",
      "\u001b[1m164/164\u001b[0m \u001b[32m━━━━━━━━━━━━━━━━━━━━\u001b[0m\u001b[37m\u001b[0m \u001b[1m2s\u001b[0m 12ms/step - categorical_accuracy: 0.3744 - loss: 1.5437 - val_categorical_accuracy: 0.5037 - val_loss: 1.4744\n",
      "Epoch 21/200\n",
      "\u001b[1m164/164\u001b[0m \u001b[32m━━━━━━━━━━━━━━━━━━━━\u001b[0m\u001b[37m\u001b[0m \u001b[1m2s\u001b[0m 12ms/step - categorical_accuracy: 0.4773 - loss: 1.4914 - val_categorical_accuracy: 0.6901 - val_loss: 1.4299\n",
      "Epoch 22/200\n",
      "\u001b[1m164/164\u001b[0m \u001b[32m━━━━━━━━━━━━━━━━━━━━\u001b[0m\u001b[37m\u001b[0m \u001b[1m2s\u001b[0m 12ms/step - categorical_accuracy: 0.6537 - loss: 1.4574 - val_categorical_accuracy: 0.7331 - val_loss: 1.3875\n",
      "Epoch 23/200\n",
      "\u001b[1m164/164\u001b[0m \u001b[32m━━━━━━━━━━━━━━━━━━━━\u001b[0m\u001b[37m\u001b[0m \u001b[1m2s\u001b[0m 12ms/step - categorical_accuracy: 0.6910 - loss: 1.4173 - val_categorical_accuracy: 0.9112 - val_loss: 1.3473\n",
      "Epoch 24/200\n",
      "\u001b[1m164/164\u001b[0m \u001b[32m━━━━━━━━━━━━━━━━━━━━\u001b[0m\u001b[37m\u001b[0m \u001b[1m2s\u001b[0m 12ms/step - categorical_accuracy: 0.8435 - loss: 1.3816 - val_categorical_accuracy: 0.9140 - val_loss: 1.3096\n",
      "Epoch 25/200\n",
      "\u001b[1m164/164\u001b[0m \u001b[32m━━━━━━━━━━━━━━━━━━━━\u001b[0m\u001b[37m\u001b[0m \u001b[1m2s\u001b[0m 12ms/step - categorical_accuracy: 0.8548 - loss: 1.3361 - val_categorical_accuracy: 0.9133 - val_loss: 1.2744\n",
      "Epoch 26/200\n",
      "\u001b[1m164/164\u001b[0m \u001b[32m━━━━━━━━━━━━━━━━━━━━\u001b[0m\u001b[37m\u001b[0m \u001b[1m2s\u001b[0m 12ms/step - categorical_accuracy: 0.8544 - loss: 1.3105 - val_categorical_accuracy: 0.9133 - val_loss: 1.2419\n",
      "Epoch 27/200\n",
      "\u001b[1m164/164\u001b[0m \u001b[32m━━━━━━━━━━━━━━━━━━━━\u001b[0m\u001b[37m\u001b[0m \u001b[1m2s\u001b[0m 12ms/step - categorical_accuracy: 0.8526 - loss: 1.2789 - val_categorical_accuracy: 0.9133 - val_loss: 1.2119\n",
      "Epoch 28/200\n",
      "\u001b[1m164/164\u001b[0m \u001b[32m━━━━━━━━━━━━━━━━━━━━\u001b[0m\u001b[37m\u001b[0m \u001b[1m2s\u001b[0m 12ms/step - categorical_accuracy: 0.8539 - loss: 1.2513 - val_categorical_accuracy: 0.9133 - val_loss: 1.1842\n",
      "Epoch 29/200\n",
      "\u001b[1m164/164\u001b[0m \u001b[32m━━━━━━━━━━━━━━━━━━━━\u001b[0m\u001b[37m\u001b[0m \u001b[1m2s\u001b[0m 12ms/step - categorical_accuracy: 0.8565 - loss: 1.2220 - val_categorical_accuracy: 0.9133 - val_loss: 1.1588\n",
      "Epoch 30/200\n",
      "\u001b[1m164/164\u001b[0m \u001b[32m━━━━━━━━━━━━━━━━━━━━\u001b[0m\u001b[37m\u001b[0m \u001b[1m2s\u001b[0m 12ms/step - categorical_accuracy: 0.8503 - loss: 1.2015 - val_categorical_accuracy: 0.9133 - val_loss: 1.1353\n",
      "Epoch 31/200\n",
      "\u001b[1m164/164\u001b[0m \u001b[32m━━━━━━━━━━━━━━━━━━━━\u001b[0m\u001b[37m\u001b[0m \u001b[1m2s\u001b[0m 12ms/step - categorical_accuracy: 0.8559 - loss: 1.1774 - val_categorical_accuracy: 0.9133 - val_loss: 1.1136\n",
      "Epoch 32/200\n",
      "\u001b[1m164/164\u001b[0m \u001b[32m━━━━━━━━━━━━━━━━━━━━\u001b[0m\u001b[37m\u001b[0m \u001b[1m2s\u001b[0m 12ms/step - categorical_accuracy: 0.8503 - loss: 1.1617 - val_categorical_accuracy: 0.9133 - val_loss: 1.0935\n",
      "Epoch 33/200\n",
      "\u001b[1m164/164\u001b[0m \u001b[32m━━━━━━━━━━━━━━━━━━━━\u001b[0m\u001b[37m\u001b[0m \u001b[1m2s\u001b[0m 11ms/step - categorical_accuracy: 0.8538 - loss: 1.1341 - val_categorical_accuracy: 0.9133 - val_loss: 1.0749\n",
      "Epoch 34/200\n",
      "\u001b[1m164/164\u001b[0m \u001b[32m━━━━━━━━━━━━━━━━━━━━\u001b[0m\u001b[37m\u001b[0m \u001b[1m2s\u001b[0m 12ms/step - categorical_accuracy: 0.8539 - loss: 1.1224 - val_categorical_accuracy: 0.9133 - val_loss: 1.0575\n",
      "Epoch 35/200\n",
      "\u001b[1m164/164\u001b[0m \u001b[32m━━━━━━━━━━━━━━━━━━━━\u001b[0m\u001b[37m\u001b[0m \u001b[1m2s\u001b[0m 12ms/step - categorical_accuracy: 0.8518 - loss: 1.1084 - val_categorical_accuracy: 0.9133 - val_loss: 1.0413\n",
      "Epoch 36/200\n",
      "\u001b[1m164/164\u001b[0m \u001b[32m━━━━━━━━━━━━━━━━━━━━\u001b[0m\u001b[37m\u001b[0m \u001b[1m2s\u001b[0m 11ms/step - categorical_accuracy: 0.8522 - loss: 1.0962 - val_categorical_accuracy: 0.9133 - val_loss: 1.0260\n",
      "Epoch 37/200\n",
      "\u001b[1m164/164\u001b[0m \u001b[32m━━━━━━━━━━━━━━━━━━━━\u001b[0m\u001b[37m\u001b[0m \u001b[1m2s\u001b[0m 12ms/step - categorical_accuracy: 0.8495 - loss: 1.0905 - val_categorical_accuracy: 0.9133 - val_loss: 1.0117\n",
      "Epoch 38/200\n",
      "\u001b[1m164/164\u001b[0m \u001b[32m━━━━━━━━━━━━━━━━━━━━\u001b[0m\u001b[37m\u001b[0m \u001b[1m2s\u001b[0m 12ms/step - categorical_accuracy: 0.8541 - loss: 1.0621 - val_categorical_accuracy: 0.9133 - val_loss: 0.9981\n",
      "Epoch 39/200\n",
      "\u001b[1m164/164\u001b[0m \u001b[32m━━━━━━━━━━━━━━━━━━━━\u001b[0m\u001b[37m\u001b[0m \u001b[1m2s\u001b[0m 12ms/step - categorical_accuracy: 0.8471 - loss: 1.0642 - val_categorical_accuracy: 0.9133 - val_loss: 0.9853\n",
      "Epoch 40/200\n",
      "\u001b[1m164/164\u001b[0m \u001b[32m━━━━━━━━━━━━━━━━━━━━\u001b[0m\u001b[37m\u001b[0m \u001b[1m2s\u001b[0m 12ms/step - categorical_accuracy: 0.8533 - loss: 1.0429 - val_categorical_accuracy: 0.9133 - val_loss: 0.9730\n",
      "Epoch 41/200\n",
      "\u001b[1m164/164\u001b[0m \u001b[32m━━━━━━━━━━━━━━━━━━━━\u001b[0m\u001b[37m\u001b[0m \u001b[1m2s\u001b[0m 12ms/step - categorical_accuracy: 0.8520 - loss: 1.0329 - val_categorical_accuracy: 0.9133 - val_loss: 0.9613\n",
      "Epoch 42/200\n",
      "\u001b[1m164/164\u001b[0m \u001b[32m━━━━━━━━━━━━━━━━━━━━\u001b[0m\u001b[37m\u001b[0m \u001b[1m2s\u001b[0m 12ms/step - categorical_accuracy: 0.8476 - loss: 1.0270 - val_categorical_accuracy: 0.9133 - val_loss: 0.9502\n",
      "Epoch 43/200\n",
      "\u001b[1m164/164\u001b[0m \u001b[32m━━━━━━━━━━━━━━━━━━━━\u001b[0m\u001b[37m\u001b[0m \u001b[1m2s\u001b[0m 12ms/step - categorical_accuracy: 0.8515 - loss: 1.0137 - val_categorical_accuracy: 0.9133 - val_loss: 0.9396\n",
      "Epoch 44/200\n",
      "\u001b[1m164/164\u001b[0m \u001b[32m━━━━━━━━━━━━━━━━━━━━\u001b[0m\u001b[37m\u001b[0m \u001b[1m2s\u001b[0m 11ms/step - categorical_accuracy: 0.8521 - loss: 1.0047 - val_categorical_accuracy: 0.9133 - val_loss: 0.9293\n",
      "Epoch 45/200\n",
      "\u001b[1m164/164\u001b[0m \u001b[32m━━━━━━━━━━━━━━━━━━━━\u001b[0m\u001b[37m\u001b[0m \u001b[1m2s\u001b[0m 12ms/step - categorical_accuracy: 0.8494 - loss: 0.9960 - val_categorical_accuracy: 0.9133 - val_loss: 0.9195\n",
      "Epoch 46/200\n",
      "\u001b[1m164/164\u001b[0m \u001b[32m━━━━━━━━━━━━━━━━━━━━\u001b[0m\u001b[37m\u001b[0m \u001b[1m2s\u001b[0m 12ms/step - categorical_accuracy: 0.8503 - loss: 0.9907 - val_categorical_accuracy: 0.9133 - val_loss: 0.9100\n",
      "Epoch 47/200\n",
      "\u001b[1m164/164\u001b[0m \u001b[32m━━━━━━━━━━━━━━━━━━━━\u001b[0m\u001b[37m\u001b[0m \u001b[1m2s\u001b[0m 12ms/step - categorical_accuracy: 0.8602 - loss: 0.9689 - val_categorical_accuracy: 0.9133 - val_loss: 0.9009\n",
      "Epoch 48/200\n",
      "\u001b[1m164/164\u001b[0m \u001b[32m━━━━━━━━━━━━━━━━━━━━\u001b[0m\u001b[37m\u001b[0m \u001b[1m2s\u001b[0m 12ms/step - categorical_accuracy: 0.8561 - loss: 0.9613 - val_categorical_accuracy: 0.9133 - val_loss: 0.8921\n",
      "Epoch 49/200\n",
      "\u001b[1m164/164\u001b[0m \u001b[32m━━━━━━━━━━━━━━━━━━━━\u001b[0m\u001b[37m\u001b[0m \u001b[1m2s\u001b[0m 12ms/step - categorical_accuracy: 0.8517 - loss: 0.9604 - val_categorical_accuracy: 0.9133 - val_loss: 0.8835\n",
      "Epoch 50/200\n",
      "\u001b[1m164/164\u001b[0m \u001b[32m━━━━━━━━━━━━━━━━━━━━\u001b[0m\u001b[37m\u001b[0m \u001b[1m2s\u001b[0m 12ms/step - categorical_accuracy: 0.8533 - loss: 0.9599 - val_categorical_accuracy: 0.9133 - val_loss: 0.8751\n",
      "Epoch 51/200\n",
      "\u001b[1m164/164\u001b[0m \u001b[32m━━━━━━━━━━━━━━━━━━━━\u001b[0m\u001b[37m\u001b[0m \u001b[1m2s\u001b[0m 12ms/step - categorical_accuracy: 0.8478 - loss: 0.9492 - val_categorical_accuracy: 0.9133 - val_loss: 0.8670\n",
      "Epoch 52/200\n",
      "\u001b[1m164/164\u001b[0m \u001b[32m━━━━━━━━━━━━━━━━━━━━\u001b[0m\u001b[37m\u001b[0m \u001b[1m2s\u001b[0m 12ms/step - categorical_accuracy: 0.8474 - loss: 0.9473 - val_categorical_accuracy: 0.9133 - val_loss: 0.8592\n",
      "Epoch 53/200\n",
      "\u001b[1m164/164\u001b[0m \u001b[32m━━━━━━━━━━━━━━━━━━━━\u001b[0m\u001b[37m\u001b[0m \u001b[1m2s\u001b[0m 12ms/step - categorical_accuracy: 0.8504 - loss: 0.9361 - val_categorical_accuracy: 0.9133 - val_loss: 0.8515\n",
      "Epoch 54/200\n",
      "\u001b[1m164/164\u001b[0m \u001b[32m━━━━━━━━━━━━━━━━━━━━\u001b[0m\u001b[37m\u001b[0m \u001b[1m2s\u001b[0m 12ms/step - categorical_accuracy: 0.8543 - loss: 0.9192 - val_categorical_accuracy: 0.9133 - val_loss: 0.8441\n",
      "Epoch 55/200\n",
      "\u001b[1m164/164\u001b[0m \u001b[32m━━━━━━━━━━━━━━━━━━━━\u001b[0m\u001b[37m\u001b[0m \u001b[1m2s\u001b[0m 11ms/step - categorical_accuracy: 0.8543 - loss: 0.9102 - val_categorical_accuracy: 0.9133 - val_loss: 0.8369\n",
      "Epoch 56/200\n",
      "\u001b[1m164/164\u001b[0m \u001b[32m━━━━━━━━━━━━━━━━━━━━\u001b[0m\u001b[37m\u001b[0m \u001b[1m2s\u001b[0m 12ms/step - categorical_accuracy: 0.8495 - loss: 0.9185 - val_categorical_accuracy: 0.9133 - val_loss: 0.8298\n",
      "Epoch 57/200\n",
      "\u001b[1m164/164\u001b[0m \u001b[32m━━━━━━━━━━━━━━━━━━━━\u001b[0m\u001b[37m\u001b[0m \u001b[1m2s\u001b[0m 12ms/step - categorical_accuracy: 0.8540 - loss: 0.8961 - val_categorical_accuracy: 0.9133 - val_loss: 0.8228\n",
      "Epoch 58/200\n",
      "\u001b[1m164/164\u001b[0m \u001b[32m━━━━━━━━━━━━━━━━━━━━\u001b[0m\u001b[37m\u001b[0m \u001b[1m2s\u001b[0m 12ms/step - categorical_accuracy: 0.8452 - loss: 0.9115 - val_categorical_accuracy: 0.9133 - val_loss: 0.8160\n",
      "Epoch 59/200\n",
      "\u001b[1m164/164\u001b[0m \u001b[32m━━━━━━━━━━━━━━━━━━━━\u001b[0m\u001b[37m\u001b[0m \u001b[1m2s\u001b[0m 11ms/step - categorical_accuracy: 0.8492 - loss: 0.8924 - val_categorical_accuracy: 0.9133 - val_loss: 0.8093\n",
      "Epoch 60/200\n",
      "\u001b[1m164/164\u001b[0m \u001b[32m━━━━━━━━━━━━━━━━━━━━\u001b[0m\u001b[37m\u001b[0m \u001b[1m2s\u001b[0m 12ms/step - categorical_accuracy: 0.8480 - loss: 0.8948 - val_categorical_accuracy: 0.9133 - val_loss: 0.8028\n",
      "Epoch 61/200\n",
      "\u001b[1m164/164\u001b[0m \u001b[32m━━━━━━━━━━━━━━━━━━━━\u001b[0m\u001b[37m\u001b[0m \u001b[1m2s\u001b[0m 12ms/step - categorical_accuracy: 0.8533 - loss: 0.8856 - val_categorical_accuracy: 0.9133 - val_loss: 0.7964\n",
      "Epoch 62/200\n",
      "\u001b[1m164/164\u001b[0m \u001b[32m━━━━━━━━━━━━━━━━━━━━\u001b[0m\u001b[37m\u001b[0m \u001b[1m2s\u001b[0m 12ms/step - categorical_accuracy: 0.8562 - loss: 0.8672 - val_categorical_accuracy: 0.9133 - val_loss: 0.7901\n",
      "Epoch 63/200\n",
      "\u001b[1m164/164\u001b[0m \u001b[32m━━━━━━━━━━━━━━━━━━━━\u001b[0m\u001b[37m\u001b[0m \u001b[1m2s\u001b[0m 12ms/step - categorical_accuracy: 0.8489 - loss: 0.8731 - val_categorical_accuracy: 0.9133 - val_loss: 0.7839\n",
      "Epoch 64/200\n",
      "\u001b[1m164/164\u001b[0m \u001b[32m━━━━━━━━━━━━━━━━━━━━\u001b[0m\u001b[37m\u001b[0m \u001b[1m2s\u001b[0m 12ms/step - categorical_accuracy: 0.8494 - loss: 0.8642 - val_categorical_accuracy: 0.9133 - val_loss: 0.7778\n",
      "Epoch 65/200\n",
      "\u001b[1m164/164\u001b[0m \u001b[32m━━━━━━━━━━━━━━━━━━━━\u001b[0m\u001b[37m\u001b[0m \u001b[1m2s\u001b[0m 12ms/step - categorical_accuracy: 0.8506 - loss: 0.8591 - val_categorical_accuracy: 0.9133 - val_loss: 0.7720\n",
      "Epoch 66/200\n",
      "\u001b[1m164/164\u001b[0m \u001b[32m━━━━━━━━━━━━━━━━━━━━\u001b[0m\u001b[37m\u001b[0m \u001b[1m2s\u001b[0m 11ms/step - categorical_accuracy: 0.8510 - loss: 0.8510 - val_categorical_accuracy: 0.9133 - val_loss: 0.7662\n",
      "Epoch 67/200\n",
      "\u001b[1m164/164\u001b[0m \u001b[32m━━━━━━━━━━━━━━━━━━━━\u001b[0m\u001b[37m\u001b[0m \u001b[1m2s\u001b[0m 12ms/step - categorical_accuracy: 0.8541 - loss: 0.8434 - val_categorical_accuracy: 0.9133 - val_loss: 0.7606\n",
      "Epoch 68/200\n",
      "\u001b[1m164/164\u001b[0m \u001b[32m━━━━━━━━━━━━━━━━━━━━\u001b[0m\u001b[37m\u001b[0m \u001b[1m2s\u001b[0m 12ms/step - categorical_accuracy: 0.8479 - loss: 0.8446 - val_categorical_accuracy: 0.9133 - val_loss: 0.7550\n",
      "Epoch 69/200\n",
      "\u001b[1m164/164\u001b[0m \u001b[32m━━━━━━━━━━━━━━━━━━━━\u001b[0m\u001b[37m\u001b[0m \u001b[1m2s\u001b[0m 12ms/step - categorical_accuracy: 0.8508 - loss: 0.8324 - val_categorical_accuracy: 0.9133 - val_loss: 0.7495\n",
      "Epoch 70/200\n",
      "\u001b[1m164/164\u001b[0m \u001b[32m━━━━━━━━━━━━━━━━━━━━\u001b[0m\u001b[37m\u001b[0m \u001b[1m2s\u001b[0m 11ms/step - categorical_accuracy: 0.8539 - loss: 0.8263 - val_categorical_accuracy: 0.9133 - val_loss: 0.7441\n",
      "Epoch 71/200\n",
      "\u001b[1m164/164\u001b[0m \u001b[32m━━━━━━━━━━━━━━━━━━━━\u001b[0m\u001b[37m\u001b[0m \u001b[1m2s\u001b[0m 12ms/step - categorical_accuracy: 0.8533 - loss: 0.8259 - val_categorical_accuracy: 0.9133 - val_loss: 0.7387\n",
      "Epoch 72/200\n",
      "\u001b[1m164/164\u001b[0m \u001b[32m━━━━━━━━━━━━━━━━━━━━\u001b[0m\u001b[37m\u001b[0m \u001b[1m2s\u001b[0m 12ms/step - categorical_accuracy: 0.8521 - loss: 0.8224 - val_categorical_accuracy: 0.9133 - val_loss: 0.7334\n",
      "Epoch 73/200\n",
      "\u001b[1m164/164\u001b[0m \u001b[32m━━━━━━━━━━━━━━━━━━━━\u001b[0m\u001b[37m\u001b[0m \u001b[1m2s\u001b[0m 12ms/step - categorical_accuracy: 0.8493 - loss: 0.8203 - val_categorical_accuracy: 0.9133 - val_loss: 0.7282\n",
      "Epoch 74/200\n",
      "\u001b[1m164/164\u001b[0m \u001b[32m━━━━━━━━━━━━━━━━━━━━\u001b[0m\u001b[37m\u001b[0m \u001b[1m2s\u001b[0m 12ms/step - categorical_accuracy: 0.8531 - loss: 0.8085 - val_categorical_accuracy: 0.9133 - val_loss: 0.7231\n",
      "Epoch 75/200\n",
      "\u001b[1m164/164\u001b[0m \u001b[32m━━━━━━━━━━━━━━━━━━━━\u001b[0m\u001b[37m\u001b[0m \u001b[1m2s\u001b[0m 12ms/step - categorical_accuracy: 0.8550 - loss: 0.7985 - val_categorical_accuracy: 0.9133 - val_loss: 0.7180\n",
      "Epoch 76/200\n",
      "\u001b[1m164/164\u001b[0m \u001b[32m━━━━━━━━━━━━━━━━━━━━\u001b[0m\u001b[37m\u001b[0m \u001b[1m2s\u001b[0m 12ms/step - categorical_accuracy: 0.8508 - loss: 0.8004 - val_categorical_accuracy: 0.9133 - val_loss: 0.7130\n",
      "Epoch 77/200\n",
      "\u001b[1m164/164\u001b[0m \u001b[32m━━━━━━━━━━━━━━━━━━━━\u001b[0m\u001b[37m\u001b[0m \u001b[1m2s\u001b[0m 12ms/step - categorical_accuracy: 0.8556 - loss: 0.7915 - val_categorical_accuracy: 0.9133 - val_loss: 0.7081\n",
      "Epoch 78/200\n",
      "\u001b[1m164/164\u001b[0m \u001b[32m━━━━━━━━━━━━━━━━━━━━\u001b[0m\u001b[37m\u001b[0m \u001b[1m2s\u001b[0m 12ms/step - categorical_accuracy: 0.8494 - loss: 0.7959 - val_categorical_accuracy: 0.9133 - val_loss: 0.7032\n",
      "Epoch 79/200\n",
      "\u001b[1m164/164\u001b[0m \u001b[32m━━━━━━━━━━━━━━━━━━━━\u001b[0m\u001b[37m\u001b[0m \u001b[1m2s\u001b[0m 12ms/step - categorical_accuracy: 0.8482 - loss: 0.7985 - val_categorical_accuracy: 0.9133 - val_loss: 0.6985\n",
      "Epoch 80/200\n",
      "\u001b[1m164/164\u001b[0m \u001b[32m━━━━━━━━━━━━━━━━━━━━\u001b[0m\u001b[37m\u001b[0m \u001b[1m2s\u001b[0m 12ms/step - categorical_accuracy: 0.8556 - loss: 0.7802 - val_categorical_accuracy: 0.9133 - val_loss: 0.6938\n",
      "Epoch 81/200\n",
      "\u001b[1m164/164\u001b[0m \u001b[32m━━━━━━━━━━━━━━━━━━━━\u001b[0m\u001b[37m\u001b[0m \u001b[1m2s\u001b[0m 12ms/step - categorical_accuracy: 0.8541 - loss: 0.7760 - val_categorical_accuracy: 0.9133 - val_loss: 0.6891\n",
      "Epoch 82/200\n",
      "\u001b[1m164/164\u001b[0m \u001b[32m━━━━━━━━━━━━━━━━━━━━\u001b[0m\u001b[37m\u001b[0m \u001b[1m2s\u001b[0m 12ms/step - categorical_accuracy: 0.8522 - loss: 0.7753 - val_categorical_accuracy: 0.9133 - val_loss: 0.6845\n",
      "Epoch 83/200\n",
      "\u001b[1m164/164\u001b[0m \u001b[32m━━━━━━━━━━━━━━━━━━━━\u001b[0m\u001b[37m\u001b[0m \u001b[1m2s\u001b[0m 12ms/step - categorical_accuracy: 0.8530 - loss: 0.7576 - val_categorical_accuracy: 0.9133 - val_loss: 0.6799\n",
      "Epoch 84/200\n",
      "\u001b[1m164/164\u001b[0m \u001b[32m━━━━━━━━━━━━━━━━━━━━\u001b[0m\u001b[37m\u001b[0m \u001b[1m2s\u001b[0m 12ms/step - categorical_accuracy: 0.8556 - loss: 0.7619 - val_categorical_accuracy: 0.9133 - val_loss: 0.6754\n",
      "Epoch 85/200\n",
      "\u001b[1m164/164\u001b[0m \u001b[32m━━━━━━━━━━━━━━━━━━━━\u001b[0m\u001b[37m\u001b[0m \u001b[1m2s\u001b[0m 12ms/step - categorical_accuracy: 0.8547 - loss: 0.7542 - val_categorical_accuracy: 0.9133 - val_loss: 0.6710\n",
      "Epoch 86/200\n",
      "\u001b[1m164/164\u001b[0m \u001b[32m━━━━━━━━━━━━━━━━━━━━\u001b[0m\u001b[37m\u001b[0m \u001b[1m2s\u001b[0m 12ms/step - categorical_accuracy: 0.8538 - loss: 0.7543 - val_categorical_accuracy: 0.9133 - val_loss: 0.6666\n",
      "Epoch 87/200\n",
      "\u001b[1m164/164\u001b[0m \u001b[32m━━━━━━━━━━━━━━━━━━━━\u001b[0m\u001b[37m\u001b[0m \u001b[1m2s\u001b[0m 12ms/step - categorical_accuracy: 0.8528 - loss: 0.7493 - val_categorical_accuracy: 0.9133 - val_loss: 0.6623\n",
      "Epoch 88/200\n",
      "\u001b[1m164/164\u001b[0m \u001b[32m━━━━━━━━━━━━━━━━━━━━\u001b[0m\u001b[37m\u001b[0m \u001b[1m2s\u001b[0m 12ms/step - categorical_accuracy: 0.8503 - loss: 0.7506 - val_categorical_accuracy: 0.9133 - val_loss: 0.6579\n",
      "Epoch 89/200\n",
      "\u001b[1m164/164\u001b[0m \u001b[32m━━━━━━━━━━━━━━━━━━━━\u001b[0m\u001b[37m\u001b[0m \u001b[1m2s\u001b[0m 12ms/step - categorical_accuracy: 0.8515 - loss: 0.7451 - val_categorical_accuracy: 0.9133 - val_loss: 0.6537\n",
      "Epoch 90/200\n",
      "\u001b[1m164/164\u001b[0m \u001b[32m━━━━━━━━━━━━━━━━━━━━\u001b[0m\u001b[37m\u001b[0m \u001b[1m2s\u001b[0m 12ms/step - categorical_accuracy: 0.8530 - loss: 0.7426 - val_categorical_accuracy: 0.9133 - val_loss: 0.6495\n",
      "Epoch 91/200\n",
      "\u001b[1m164/164\u001b[0m \u001b[32m━━━━━━━━━━━━━━━━━━━━\u001b[0m\u001b[37m\u001b[0m \u001b[1m2s\u001b[0m 12ms/step - categorical_accuracy: 0.8535 - loss: 0.7324 - val_categorical_accuracy: 0.9133 - val_loss: 0.6453\n",
      "Epoch 92/200\n",
      "\u001b[1m164/164\u001b[0m \u001b[32m━━━━━━━━━━━━━━━━━━━━\u001b[0m\u001b[37m\u001b[0m \u001b[1m2s\u001b[0m 12ms/step - categorical_accuracy: 0.8544 - loss: 0.7242 - val_categorical_accuracy: 0.9133 - val_loss: 0.6413\n",
      "Epoch 93/200\n",
      "\u001b[1m164/164\u001b[0m \u001b[32m━━━━━━━━━━━━━━━━━━━━\u001b[0m\u001b[37m\u001b[0m \u001b[1m2s\u001b[0m 12ms/step - categorical_accuracy: 0.8533 - loss: 0.7321 - val_categorical_accuracy: 0.9133 - val_loss: 0.6373\n",
      "Epoch 94/200\n",
      "\u001b[1m164/164\u001b[0m \u001b[32m━━━━━━━━━━━━━━━━━━━━\u001b[0m\u001b[37m\u001b[0m \u001b[1m2s\u001b[0m 12ms/step - categorical_accuracy: 0.8511 - loss: 0.7332 - val_categorical_accuracy: 0.9133 - val_loss: 0.6333\n",
      "Epoch 95/200\n",
      "\u001b[1m164/164\u001b[0m \u001b[32m━━━━━━━━━━━━━━━━━━━━\u001b[0m\u001b[37m\u001b[0m \u001b[1m2s\u001b[0m 12ms/step - categorical_accuracy: 0.8507 - loss: 0.7287 - val_categorical_accuracy: 0.9133 - val_loss: 0.6293\n",
      "Epoch 96/200\n",
      "\u001b[1m164/164\u001b[0m \u001b[32m━━━━━━━━━━━━━━━━━━━━\u001b[0m\u001b[37m\u001b[0m \u001b[1m2s\u001b[0m 12ms/step - categorical_accuracy: 0.8518 - loss: 0.7187 - val_categorical_accuracy: 0.9133 - val_loss: 0.6254\n",
      "Epoch 97/200\n",
      "\u001b[1m164/164\u001b[0m \u001b[32m━━━━━━━━━━━━━━━━━━━━\u001b[0m\u001b[37m\u001b[0m \u001b[1m2s\u001b[0m 11ms/step - categorical_accuracy: 0.8511 - loss: 0.7179 - val_categorical_accuracy: 0.9133 - val_loss: 0.6216\n",
      "Epoch 98/200\n",
      "\u001b[1m164/164\u001b[0m \u001b[32m━━━━━━━━━━━━━━━━━━━━\u001b[0m\u001b[37m\u001b[0m \u001b[1m2s\u001b[0m 11ms/step - categorical_accuracy: 0.8531 - loss: 0.7072 - val_categorical_accuracy: 0.9133 - val_loss: 0.6178\n",
      "Epoch 99/200\n",
      "\u001b[1m164/164\u001b[0m \u001b[32m━━━━━━━━━━━━━━━━━━━━\u001b[0m\u001b[37m\u001b[0m \u001b[1m2s\u001b[0m 12ms/step - categorical_accuracy: 0.8527 - loss: 0.7082 - val_categorical_accuracy: 0.9133 - val_loss: 0.6140\n",
      "Epoch 100/200\n",
      "\u001b[1m164/164\u001b[0m \u001b[32m━━━━━━━━━━━━━━━━━━━━\u001b[0m\u001b[37m\u001b[0m \u001b[1m2s\u001b[0m 12ms/step - categorical_accuracy: 0.8540 - loss: 0.7035 - val_categorical_accuracy: 0.9133 - val_loss: 0.6104\n",
      "Epoch 101/200\n",
      "\u001b[1m164/164\u001b[0m \u001b[32m━━━━━━━━━━━━━━━━━━━━\u001b[0m\u001b[37m\u001b[0m \u001b[1m2s\u001b[0m 14ms/step - categorical_accuracy: 0.8549 - loss: 0.6897 - val_categorical_accuracy: 0.9133 - val_loss: 0.6068\n",
      "Epoch 102/200\n",
      "\u001b[1m164/164\u001b[0m \u001b[32m━━━━━━━━━━━━━━━━━━━━\u001b[0m\u001b[37m\u001b[0m \u001b[1m2s\u001b[0m 13ms/step - categorical_accuracy: 0.8492 - loss: 0.7057 - val_categorical_accuracy: 0.9133 - val_loss: 0.6032\n",
      "Epoch 103/200\n",
      "\u001b[1m164/164\u001b[0m \u001b[32m━━━━━━━━━━━━━━━━━━━━\u001b[0m\u001b[37m\u001b[0m \u001b[1m2s\u001b[0m 12ms/step - categorical_accuracy: 0.8523 - loss: 0.6967 - val_categorical_accuracy: 0.9133 - val_loss: 0.5997\n",
      "Epoch 104/200\n",
      "\u001b[1m164/164\u001b[0m \u001b[32m━━━━━━━━━━━━━━━━━━━━\u001b[0m\u001b[37m\u001b[0m \u001b[1m2s\u001b[0m 12ms/step - categorical_accuracy: 0.8495 - loss: 0.6989 - val_categorical_accuracy: 0.9133 - val_loss: 0.5962\n",
      "Epoch 105/200\n",
      "\u001b[1m164/164\u001b[0m \u001b[32m━━━━━━━━━━━━━━━━━━━━\u001b[0m\u001b[37m\u001b[0m \u001b[1m2s\u001b[0m 12ms/step - categorical_accuracy: 0.8490 - loss: 0.6873 - val_categorical_accuracy: 0.9133 - val_loss: 0.5928\n",
      "Epoch 106/200\n",
      "\u001b[1m164/164\u001b[0m \u001b[32m━━━━━━━━━━━━━━━━━━━━\u001b[0m\u001b[37m\u001b[0m \u001b[1m2s\u001b[0m 12ms/step - categorical_accuracy: 0.8516 - loss: 0.6856 - val_categorical_accuracy: 0.9133 - val_loss: 0.5894\n",
      "Epoch 107/200\n",
      "\u001b[1m164/164\u001b[0m \u001b[32m━━━━━━━━━━━━━━━━━━━━\u001b[0m\u001b[37m\u001b[0m \u001b[1m2s\u001b[0m 12ms/step - categorical_accuracy: 0.8496 - loss: 0.6817 - val_categorical_accuracy: 0.9133 - val_loss: 0.5860\n",
      "Epoch 108/200\n",
      "\u001b[1m164/164\u001b[0m \u001b[32m━━━━━━━━━━━━━━━━━━━━\u001b[0m\u001b[37m\u001b[0m \u001b[1m2s\u001b[0m 12ms/step - categorical_accuracy: 0.8542 - loss: 0.6687 - val_categorical_accuracy: 0.9133 - val_loss: 0.5827\n",
      "Epoch 109/200\n",
      "\u001b[1m164/164\u001b[0m \u001b[32m━━━━━━━━━━━━━━━━━━━━\u001b[0m\u001b[37m\u001b[0m \u001b[1m2s\u001b[0m 12ms/step - categorical_accuracy: 0.8566 - loss: 0.6674 - val_categorical_accuracy: 0.9133 - val_loss: 0.5795\n",
      "Epoch 110/200\n",
      "\u001b[1m164/164\u001b[0m \u001b[32m━━━━━━━━━━━━━━━━━━━━\u001b[0m\u001b[37m\u001b[0m \u001b[1m2s\u001b[0m 12ms/step - categorical_accuracy: 0.8523 - loss: 0.6645 - val_categorical_accuracy: 0.9133 - val_loss: 0.5762\n",
      "Epoch 111/200\n",
      "\u001b[1m164/164\u001b[0m \u001b[32m━━━━━━━━━━━━━━━━━━━━\u001b[0m\u001b[37m\u001b[0m \u001b[1m2s\u001b[0m 12ms/step - categorical_accuracy: 0.8492 - loss: 0.6762 - val_categorical_accuracy: 0.9133 - val_loss: 0.5731\n",
      "Epoch 112/200\n",
      "\u001b[1m164/164\u001b[0m \u001b[32m━━━━━━━━━━━━━━━━━━━━\u001b[0m\u001b[37m\u001b[0m \u001b[1m2s\u001b[0m 12ms/step - categorical_accuracy: 0.8533 - loss: 0.6613 - val_categorical_accuracy: 0.9133 - val_loss: 0.5699\n",
      "Epoch 113/200\n",
      "\u001b[1m164/164\u001b[0m \u001b[32m━━━━━━━━━━━━━━━━━━━━\u001b[0m\u001b[37m\u001b[0m \u001b[1m2s\u001b[0m 12ms/step - categorical_accuracy: 0.8550 - loss: 0.6542 - val_categorical_accuracy: 0.9133 - val_loss: 0.5668\n",
      "Epoch 114/200\n",
      "\u001b[1m164/164\u001b[0m \u001b[32m━━━━━━━━━━━━━━━━━━━━\u001b[0m\u001b[37m\u001b[0m \u001b[1m2s\u001b[0m 12ms/step - categorical_accuracy: 0.8558 - loss: 0.6515 - val_categorical_accuracy: 0.9133 - val_loss: 0.5637\n",
      "Epoch 115/200\n",
      "\u001b[1m164/164\u001b[0m \u001b[32m━━━━━━━━━━━━━━━━━━━━\u001b[0m\u001b[37m\u001b[0m \u001b[1m2s\u001b[0m 12ms/step - categorical_accuracy: 0.8528 - loss: 0.6518 - val_categorical_accuracy: 0.9133 - val_loss: 0.5607\n",
      "Epoch 116/200\n",
      "\u001b[1m164/164\u001b[0m \u001b[32m━━━━━━━━━━━━━━━━━━━━\u001b[0m\u001b[37m\u001b[0m \u001b[1m2s\u001b[0m 12ms/step - categorical_accuracy: 0.8509 - loss: 0.6558 - val_categorical_accuracy: 0.9133 - val_loss: 0.5578\n",
      "Epoch 117/200\n",
      "\u001b[1m164/164\u001b[0m \u001b[32m━━━━━━━━━━━━━━━━━━━━\u001b[0m\u001b[37m\u001b[0m \u001b[1m3s\u001b[0m 12ms/step - categorical_accuracy: 0.8541 - loss: 0.6477 - val_categorical_accuracy: 0.9133 - val_loss: 0.5549\n",
      "Epoch 118/200\n",
      "\u001b[1m164/164\u001b[0m \u001b[32m━━━━━━━━━━━━━━━━━━━━\u001b[0m\u001b[37m\u001b[0m \u001b[1m2s\u001b[0m 12ms/step - categorical_accuracy: 0.8505 - loss: 0.6473 - val_categorical_accuracy: 0.9133 - val_loss: 0.5519\n",
      "Epoch 119/200\n",
      "\u001b[1m164/164\u001b[0m \u001b[32m━━━━━━━━━━━━━━━━━━━━\u001b[0m\u001b[37m\u001b[0m \u001b[1m2s\u001b[0m 12ms/step - categorical_accuracy: 0.8505 - loss: 0.6405 - val_categorical_accuracy: 0.9133 - val_loss: 0.5491\n",
      "Epoch 120/200\n",
      "\u001b[1m164/164\u001b[0m \u001b[32m━━━━━━━━━━━━━━━━━━━━\u001b[0m\u001b[37m\u001b[0m \u001b[1m2s\u001b[0m 12ms/step - categorical_accuracy: 0.8481 - loss: 0.6488 - val_categorical_accuracy: 0.9133 - val_loss: 0.5463\n",
      "Epoch 121/200\n",
      "\u001b[1m164/164\u001b[0m \u001b[32m━━━━━━━━━━━━━━━━━━━━\u001b[0m\u001b[37m\u001b[0m \u001b[1m2s\u001b[0m 12ms/step - categorical_accuracy: 0.8504 - loss: 0.6422 - val_categorical_accuracy: 0.9133 - val_loss: 0.5435\n",
      "Epoch 122/200\n",
      "\u001b[1m164/164\u001b[0m \u001b[32m━━━━━━━━━━━━━━━━━━━━\u001b[0m\u001b[37m\u001b[0m \u001b[1m2s\u001b[0m 12ms/step - categorical_accuracy: 0.8524 - loss: 0.6377 - val_categorical_accuracy: 0.9133 - val_loss: 0.5407\n",
      "Epoch 123/200\n",
      "\u001b[1m164/164\u001b[0m \u001b[32m━━━━━━━━━━━━━━━━━━━━\u001b[0m\u001b[37m\u001b[0m \u001b[1m2s\u001b[0m 11ms/step - categorical_accuracy: 0.8498 - loss: 0.6380 - val_categorical_accuracy: 0.9133 - val_loss: 0.5380\n",
      "Epoch 124/200\n",
      "\u001b[1m164/164\u001b[0m \u001b[32m━━━━━━━━━━━━━━━━━━━━\u001b[0m\u001b[37m\u001b[0m \u001b[1m2s\u001b[0m 12ms/step - categorical_accuracy: 0.8507 - loss: 0.6404 - val_categorical_accuracy: 0.9133 - val_loss: 0.5353\n",
      "Epoch 125/200\n",
      "\u001b[1m164/164\u001b[0m \u001b[32m━━━━━━━━━━━━━━━━━━━━\u001b[0m\u001b[37m\u001b[0m \u001b[1m2s\u001b[0m 12ms/step - categorical_accuracy: 0.8527 - loss: 0.6258 - val_categorical_accuracy: 0.9133 - val_loss: 0.5327\n",
      "Epoch 126/200\n",
      "\u001b[1m164/164\u001b[0m \u001b[32m━━━━━━━━━━━━━━━━━━━━\u001b[0m\u001b[37m\u001b[0m \u001b[1m2s\u001b[0m 12ms/step - categorical_accuracy: 0.8583 - loss: 0.6145 - val_categorical_accuracy: 0.9133 - val_loss: 0.5301\n",
      "Epoch 127/200\n",
      "\u001b[1m164/164\u001b[0m \u001b[32m━━━━━━━━━━━━━━━━━━━━\u001b[0m\u001b[37m\u001b[0m \u001b[1m2s\u001b[0m 12ms/step - categorical_accuracy: 0.8516 - loss: 0.6240 - val_categorical_accuracy: 0.9133 - val_loss: 0.5275\n",
      "Epoch 128/200\n",
      "\u001b[1m164/164\u001b[0m \u001b[32m━━━━━━━━━━━━━━━━━━━━\u001b[0m\u001b[37m\u001b[0m \u001b[1m2s\u001b[0m 12ms/step - categorical_accuracy: 0.8519 - loss: 0.6199 - val_categorical_accuracy: 0.9133 - val_loss: 0.5250\n",
      "Epoch 129/200\n",
      "\u001b[1m164/164\u001b[0m \u001b[32m━━━━━━━━━━━━━━━━━━━━\u001b[0m\u001b[37m\u001b[0m \u001b[1m3s\u001b[0m 12ms/step - categorical_accuracy: 0.8549 - loss: 0.6167 - val_categorical_accuracy: 0.9133 - val_loss: 0.5226\n",
      "Epoch 130/200\n",
      "\u001b[1m164/164\u001b[0m \u001b[32m━━━━━━━━━━━━━━━━━━━━\u001b[0m\u001b[37m\u001b[0m \u001b[1m2s\u001b[0m 12ms/step - categorical_accuracy: 0.8511 - loss: 0.6175 - val_categorical_accuracy: 0.9133 - val_loss: 0.5201\n",
      "Epoch 131/200\n",
      "\u001b[1m164/164\u001b[0m \u001b[32m━━━━━━━━━━━━━━━━━━━━\u001b[0m\u001b[37m\u001b[0m \u001b[1m2s\u001b[0m 13ms/step - categorical_accuracy: 0.8486 - loss: 0.6176 - val_categorical_accuracy: 0.9133 - val_loss: 0.5177\n",
      "Epoch 132/200\n",
      "\u001b[1m164/164\u001b[0m \u001b[32m━━━━━━━━━━━━━━━━━━━━\u001b[0m\u001b[37m\u001b[0m \u001b[1m2s\u001b[0m 12ms/step - categorical_accuracy: 0.8509 - loss: 0.6148 - val_categorical_accuracy: 0.9133 - val_loss: 0.5153\n",
      "Epoch 133/200\n",
      "\u001b[1m164/164\u001b[0m \u001b[32m━━━━━━━━━━━━━━━━━━━━\u001b[0m\u001b[37m\u001b[0m \u001b[1m2s\u001b[0m 12ms/step - categorical_accuracy: 0.8538 - loss: 0.6041 - val_categorical_accuracy: 0.9133 - val_loss: 0.5131\n",
      "Epoch 134/200\n",
      "\u001b[1m164/164\u001b[0m \u001b[32m━━━━━━━━━━━━━━━━━━━━\u001b[0m\u001b[37m\u001b[0m \u001b[1m2s\u001b[0m 12ms/step - categorical_accuracy: 0.8466 - loss: 0.6185 - val_categorical_accuracy: 0.9133 - val_loss: 0.5107\n",
      "Epoch 135/200\n",
      "\u001b[1m164/164\u001b[0m \u001b[32m━━━━━━━━━━━━━━━━━━━━\u001b[0m\u001b[37m\u001b[0m \u001b[1m3s\u001b[0m 12ms/step - categorical_accuracy: 0.8501 - loss: 0.6134 - val_categorical_accuracy: 0.9133 - val_loss: 0.5084\n",
      "Epoch 136/200\n",
      "\u001b[1m164/164\u001b[0m \u001b[32m━━━━━━━━━━━━━━━━━━━━\u001b[0m\u001b[37m\u001b[0m \u001b[1m2s\u001b[0m 12ms/step - categorical_accuracy: 0.8553 - loss: 0.5984 - val_categorical_accuracy: 0.9133 - val_loss: 0.5062\n",
      "Epoch 137/200\n",
      "\u001b[1m164/164\u001b[0m \u001b[32m━━━━━━━━━━━━━━━━━━━━\u001b[0m\u001b[37m\u001b[0m \u001b[1m2s\u001b[0m 12ms/step - categorical_accuracy: 0.8525 - loss: 0.5948 - val_categorical_accuracy: 0.9133 - val_loss: 0.5040\n",
      "Epoch 138/200\n",
      "\u001b[1m164/164\u001b[0m \u001b[32m━━━━━━━━━━━━━━━━━━━━\u001b[0m\u001b[37m\u001b[0m \u001b[1m2s\u001b[0m 12ms/step - categorical_accuracy: 0.8510 - loss: 0.5995 - val_categorical_accuracy: 0.9133 - val_loss: 0.5019\n",
      "Epoch 139/200\n",
      "\u001b[1m164/164\u001b[0m \u001b[32m━━━━━━━━━━━━━━━━━━━━\u001b[0m\u001b[37m\u001b[0m \u001b[1m2s\u001b[0m 12ms/step - categorical_accuracy: 0.8499 - loss: 0.6046 - val_categorical_accuracy: 0.9133 - val_loss: 0.4997\n",
      "Epoch 140/200\n",
      "\u001b[1m164/164\u001b[0m \u001b[32m━━━━━━━━━━━━━━━━━━━━\u001b[0m\u001b[37m\u001b[0m \u001b[1m2s\u001b[0m 12ms/step - categorical_accuracy: 0.8506 - loss: 0.5935 - val_categorical_accuracy: 0.9133 - val_loss: 0.4976\n",
      "Epoch 141/200\n",
      "\u001b[1m164/164\u001b[0m \u001b[32m━━━━━━━━━━━━━━━━━━━━\u001b[0m\u001b[37m\u001b[0m \u001b[1m2s\u001b[0m 12ms/step - categorical_accuracy: 0.8518 - loss: 0.5886 - val_categorical_accuracy: 0.9133 - val_loss: 0.4955\n",
      "Epoch 142/200\n",
      "\u001b[1m164/164\u001b[0m \u001b[32m━━━━━━━━━━━━━━━━━━━━\u001b[0m\u001b[37m\u001b[0m \u001b[1m2s\u001b[0m 12ms/step - categorical_accuracy: 0.8561 - loss: 0.5815 - val_categorical_accuracy: 0.9133 - val_loss: 0.4935\n",
      "Epoch 143/200\n",
      "\u001b[1m164/164\u001b[0m \u001b[32m━━━━━━━━━━━━━━━━━━━━\u001b[0m\u001b[37m\u001b[0m \u001b[1m2s\u001b[0m 12ms/step - categorical_accuracy: 0.8519 - loss: 0.5892 - val_categorical_accuracy: 0.9133 - val_loss: 0.4915\n",
      "Epoch 144/200\n",
      "\u001b[1m164/164\u001b[0m \u001b[32m━━━━━━━━━━━━━━━━━━━━\u001b[0m\u001b[37m\u001b[0m \u001b[1m2s\u001b[0m 12ms/step - categorical_accuracy: 0.8528 - loss: 0.5839 - val_categorical_accuracy: 0.9133 - val_loss: 0.4895\n",
      "Epoch 145/200\n",
      "\u001b[1m164/164\u001b[0m \u001b[32m━━━━━━━━━━━━━━━━━━━━\u001b[0m\u001b[37m\u001b[0m \u001b[1m2s\u001b[0m 13ms/step - categorical_accuracy: 0.8467 - loss: 0.5974 - val_categorical_accuracy: 0.9133 - val_loss: 0.4877\n",
      "Epoch 146/200\n",
      "\u001b[1m164/164\u001b[0m \u001b[32m━━━━━━━━━━━━━━━━━━━━\u001b[0m\u001b[37m\u001b[0m \u001b[1m2s\u001b[0m 13ms/step - categorical_accuracy: 0.8511 - loss: 0.5935 - val_categorical_accuracy: 0.9133 - val_loss: 0.4857\n",
      "Epoch 147/200\n",
      "\u001b[1m164/164\u001b[0m \u001b[32m━━━━━━━━━━━━━━━━━━━━\u001b[0m\u001b[37m\u001b[0m \u001b[1m2s\u001b[0m 12ms/step - categorical_accuracy: 0.8539 - loss: 0.5776 - val_categorical_accuracy: 0.9133 - val_loss: 0.4839\n",
      "Epoch 148/200\n",
      "\u001b[1m164/164\u001b[0m \u001b[32m━━━━━━━━━━━━━━━━━━━━\u001b[0m\u001b[37m\u001b[0m \u001b[1m2s\u001b[0m 12ms/step - categorical_accuracy: 0.8563 - loss: 0.5692 - val_categorical_accuracy: 0.9133 - val_loss: 0.4820\n",
      "Epoch 149/200\n",
      "\u001b[1m164/164\u001b[0m \u001b[32m━━━━━━━━━━━━━━━━━━━━\u001b[0m\u001b[37m\u001b[0m \u001b[1m2s\u001b[0m 12ms/step - categorical_accuracy: 0.8518 - loss: 0.5808 - val_categorical_accuracy: 0.9133 - val_loss: 0.4802\n",
      "Epoch 150/200\n",
      "\u001b[1m164/164\u001b[0m \u001b[32m━━━━━━━━━━━━━━━━━━━━\u001b[0m\u001b[37m\u001b[0m \u001b[1m2s\u001b[0m 11ms/step - categorical_accuracy: 0.8513 - loss: 0.5763 - val_categorical_accuracy: 0.9133 - val_loss: 0.4784\n",
      "Epoch 151/200\n",
      "\u001b[1m164/164\u001b[0m \u001b[32m━━━━━━━━━━━━━━━━━━━━\u001b[0m\u001b[37m\u001b[0m \u001b[1m2s\u001b[0m 12ms/step - categorical_accuracy: 0.8477 - loss: 0.5805 - val_categorical_accuracy: 0.9133 - val_loss: 0.4766\n",
      "Epoch 152/200\n",
      "\u001b[1m164/164\u001b[0m \u001b[32m━━━━━━━━━━━━━━━━━━━━\u001b[0m\u001b[37m\u001b[0m \u001b[1m2s\u001b[0m 12ms/step - categorical_accuracy: 0.8523 - loss: 0.5685 - val_categorical_accuracy: 0.9133 - val_loss: 0.4749\n",
      "Epoch 153/200\n",
      "\u001b[1m164/164\u001b[0m \u001b[32m━━━━━━━━━━━━━━━━━━━━\u001b[0m\u001b[37m\u001b[0m \u001b[1m2s\u001b[0m 12ms/step - categorical_accuracy: 0.8549 - loss: 0.5623 - val_categorical_accuracy: 0.9133 - val_loss: 0.4732\n",
      "Epoch 154/200\n",
      "\u001b[1m164/164\u001b[0m \u001b[32m━━━━━━━━━━━━━━━━━━━━\u001b[0m\u001b[37m\u001b[0m \u001b[1m2s\u001b[0m 12ms/step - categorical_accuracy: 0.8449 - loss: 0.5827 - val_categorical_accuracy: 0.9133 - val_loss: 0.4715\n",
      "Epoch 155/200\n",
      "\u001b[1m164/164\u001b[0m \u001b[32m━━━━━━━━━━━━━━━━━━━━\u001b[0m\u001b[37m\u001b[0m \u001b[1m2s\u001b[0m 12ms/step - categorical_accuracy: 0.8511 - loss: 0.5595 - val_categorical_accuracy: 0.9133 - val_loss: 0.4699\n",
      "Epoch 156/200\n",
      "\u001b[1m164/164\u001b[0m \u001b[32m━━━━━━━━━━━━━━━━━━━━\u001b[0m\u001b[37m\u001b[0m \u001b[1m2s\u001b[0m 13ms/step - categorical_accuracy: 0.8552 - loss: 0.5548 - val_categorical_accuracy: 0.9133 - val_loss: 0.4684\n",
      "Epoch 157/200\n",
      "\u001b[1m164/164\u001b[0m \u001b[32m━━━━━━━━━━━━━━━━━━━━\u001b[0m\u001b[37m\u001b[0m \u001b[1m2s\u001b[0m 12ms/step - categorical_accuracy: 0.8567 - loss: 0.5556 - val_categorical_accuracy: 0.9133 - val_loss: 0.4669\n",
      "Epoch 158/200\n",
      "\u001b[1m164/164\u001b[0m \u001b[32m━━━━━━━━━━━━━━━━━━━━\u001b[0m\u001b[37m\u001b[0m \u001b[1m2s\u001b[0m 12ms/step - categorical_accuracy: 0.8494 - loss: 0.5670 - val_categorical_accuracy: 0.9133 - val_loss: 0.4654\n",
      "Epoch 159/200\n",
      "\u001b[1m164/164\u001b[0m \u001b[32m━━━━━━━━━━━━━━━━━━━━\u001b[0m\u001b[37m\u001b[0m \u001b[1m2s\u001b[0m 12ms/step - categorical_accuracy: 0.8526 - loss: 0.5632 - val_categorical_accuracy: 0.9133 - val_loss: 0.4638\n",
      "Epoch 160/200\n",
      "\u001b[1m164/164\u001b[0m \u001b[32m━━━━━━━━━━━━━━━━━━━━\u001b[0m\u001b[37m\u001b[0m \u001b[1m2s\u001b[0m 14ms/step - categorical_accuracy: 0.8528 - loss: 0.5541 - val_categorical_accuracy: 0.9133 - val_loss: 0.4624\n",
      "Epoch 161/200\n",
      "\u001b[1m164/164\u001b[0m \u001b[32m━━━━━━━━━━━━━━━━━━━━\u001b[0m\u001b[37m\u001b[0m \u001b[1m2s\u001b[0m 12ms/step - categorical_accuracy: 0.8571 - loss: 0.5504 - val_categorical_accuracy: 0.9133 - val_loss: 0.4610\n",
      "Epoch 162/200\n",
      "\u001b[1m164/164\u001b[0m \u001b[32m━━━━━━━━━━━━━━━━━━━━\u001b[0m\u001b[37m\u001b[0m \u001b[1m2s\u001b[0m 13ms/step - categorical_accuracy: 0.8533 - loss: 0.5593 - val_categorical_accuracy: 0.9133 - val_loss: 0.4596\n",
      "Epoch 163/200\n",
      "\u001b[1m164/164\u001b[0m \u001b[32m━━━━━━━━━━━━━━━━━━━━\u001b[0m\u001b[37m\u001b[0m \u001b[1m2s\u001b[0m 12ms/step - categorical_accuracy: 0.8535 - loss: 0.5445 - val_categorical_accuracy: 0.9133 - val_loss: 0.4581\n",
      "Epoch 164/200\n",
      "\u001b[1m164/164\u001b[0m \u001b[32m━━━━━━━━━━━━━━━━━━━━\u001b[0m\u001b[37m\u001b[0m \u001b[1m2s\u001b[0m 13ms/step - categorical_accuracy: 0.8474 - loss: 0.5667 - val_categorical_accuracy: 0.9133 - val_loss: 0.4567\n",
      "Epoch 165/200\n",
      "\u001b[1m164/164\u001b[0m \u001b[32m━━━━━━━━━━━━━━━━━━━━\u001b[0m\u001b[37m\u001b[0m \u001b[1m2s\u001b[0m 11ms/step - categorical_accuracy: 0.8553 - loss: 0.5485 - val_categorical_accuracy: 0.9133 - val_loss: 0.4554\n",
      "Epoch 166/200\n",
      "\u001b[1m164/164\u001b[0m \u001b[32m━━━━━━━━━━━━━━━━━━━━\u001b[0m\u001b[37m\u001b[0m \u001b[1m2s\u001b[0m 12ms/step - categorical_accuracy: 0.8528 - loss: 0.5541 - val_categorical_accuracy: 0.9133 - val_loss: 0.4542\n",
      "Epoch 167/200\n",
      "\u001b[1m164/164\u001b[0m \u001b[32m━━━━━━━━━━━━━━━━━━━━\u001b[0m\u001b[37m\u001b[0m \u001b[1m2s\u001b[0m 11ms/step - categorical_accuracy: 0.8526 - loss: 0.5479 - val_categorical_accuracy: 0.9133 - val_loss: 0.4529\n",
      "Epoch 168/200\n",
      "\u001b[1m164/164\u001b[0m \u001b[32m━━━━━━━━━━━━━━━━━━━━\u001b[0m\u001b[37m\u001b[0m \u001b[1m2s\u001b[0m 12ms/step - categorical_accuracy: 0.8566 - loss: 0.5410 - val_categorical_accuracy: 0.9133 - val_loss: 0.4516\n",
      "Epoch 169/200\n",
      "\u001b[1m164/164\u001b[0m \u001b[32m━━━━━━━━━━━━━━━━━━━━\u001b[0m\u001b[37m\u001b[0m \u001b[1m2s\u001b[0m 12ms/step - categorical_accuracy: 0.8519 - loss: 0.5440 - val_categorical_accuracy: 0.9133 - val_loss: 0.4503\n",
      "Epoch 170/200\n",
      "\u001b[1m164/164\u001b[0m \u001b[32m━━━━━━━━━━━━━━━━━━━━\u001b[0m\u001b[37m\u001b[0m \u001b[1m2s\u001b[0m 12ms/step - categorical_accuracy: 0.8544 - loss: 0.5528 - val_categorical_accuracy: 0.9133 - val_loss: 0.4491\n",
      "Epoch 171/200\n",
      "\u001b[1m164/164\u001b[0m \u001b[32m━━━━━━━━━━━━━━━━━━━━\u001b[0m\u001b[37m\u001b[0m \u001b[1m2s\u001b[0m 12ms/step - categorical_accuracy: 0.8524 - loss: 0.5394 - val_categorical_accuracy: 0.9133 - val_loss: 0.4478\n",
      "Epoch 172/200\n",
      "\u001b[1m164/164\u001b[0m \u001b[32m━━━━━━━━━━━━━━━━━━━━\u001b[0m\u001b[37m\u001b[0m \u001b[1m2s\u001b[0m 12ms/step - categorical_accuracy: 0.8490 - loss: 0.5555 - val_categorical_accuracy: 0.9133 - val_loss: 0.4467\n",
      "Epoch 173/200\n",
      "\u001b[1m164/164\u001b[0m \u001b[32m━━━━━━━━━━━━━━━━━━━━\u001b[0m\u001b[37m\u001b[0m \u001b[1m2s\u001b[0m 11ms/step - categorical_accuracy: 0.8498 - loss: 0.5466 - val_categorical_accuracy: 0.9133 - val_loss: 0.4455\n",
      "Epoch 174/200\n",
      "\u001b[1m164/164\u001b[0m \u001b[32m━━━━━━━━━━━━━━━━━━━━\u001b[0m\u001b[37m\u001b[0m \u001b[1m2s\u001b[0m 13ms/step - categorical_accuracy: 0.8506 - loss: 0.5490 - val_categorical_accuracy: 0.9133 - val_loss: 0.4443\n",
      "Epoch 175/200\n",
      "\u001b[1m164/164\u001b[0m \u001b[32m━━━━━━━━━━━━━━━━━━━━\u001b[0m\u001b[37m\u001b[0m \u001b[1m2s\u001b[0m 13ms/step - categorical_accuracy: 0.8481 - loss: 0.5500 - val_categorical_accuracy: 0.9133 - val_loss: 0.4432\n",
      "Epoch 176/200\n",
      "\u001b[1m164/164\u001b[0m \u001b[32m━━━━━━━━━━━━━━━━━━━━\u001b[0m\u001b[37m\u001b[0m \u001b[1m2s\u001b[0m 13ms/step - categorical_accuracy: 0.8522 - loss: 0.5328 - val_categorical_accuracy: 0.9133 - val_loss: 0.4420\n",
      "Epoch 177/200\n",
      "\u001b[1m164/164\u001b[0m \u001b[32m━━━━━━━━━━━━━━━━━━━━\u001b[0m\u001b[37m\u001b[0m \u001b[1m2s\u001b[0m 12ms/step - categorical_accuracy: 0.8555 - loss: 0.5273 - val_categorical_accuracy: 0.9133 - val_loss: 0.4410\n",
      "Epoch 178/200\n",
      "\u001b[1m164/164\u001b[0m \u001b[32m━━━━━━━━━━━━━━━━━━━━\u001b[0m\u001b[37m\u001b[0m \u001b[1m2s\u001b[0m 12ms/step - categorical_accuracy: 0.8493 - loss: 0.5444 - val_categorical_accuracy: 0.9133 - val_loss: 0.4399\n",
      "Epoch 179/200\n",
      "\u001b[1m164/164\u001b[0m \u001b[32m━━━━━━━━━━━━━━━━━━━━\u001b[0m\u001b[37m\u001b[0m \u001b[1m3s\u001b[0m 15ms/step - categorical_accuracy: 0.8502 - loss: 0.5370 - val_categorical_accuracy: 0.9133 - val_loss: 0.4388\n",
      "Epoch 180/200\n",
      "\u001b[1m164/164\u001b[0m \u001b[32m━━━━━━━━━━━━━━━━━━━━\u001b[0m\u001b[37m\u001b[0m \u001b[1m2s\u001b[0m 13ms/step - categorical_accuracy: 0.8506 - loss: 0.5419 - val_categorical_accuracy: 0.9133 - val_loss: 0.4378\n",
      "Epoch 181/200\n",
      "\u001b[1m164/164\u001b[0m \u001b[32m━━━━━━━━━━━━━━━━━━━━\u001b[0m\u001b[37m\u001b[0m \u001b[1m2s\u001b[0m 13ms/step - categorical_accuracy: 0.8528 - loss: 0.5245 - val_categorical_accuracy: 0.9133 - val_loss: 0.4368\n",
      "Epoch 182/200\n",
      "\u001b[1m164/164\u001b[0m \u001b[32m━━━━━━━━━━━━━━━━━━━━\u001b[0m\u001b[37m\u001b[0m \u001b[1m2s\u001b[0m 12ms/step - categorical_accuracy: 0.8570 - loss: 0.5187 - val_categorical_accuracy: 0.9133 - val_loss: 0.4358\n",
      "Epoch 183/200\n",
      "\u001b[1m164/164\u001b[0m \u001b[32m━━━━━━━━━━━━━━━━━━━━\u001b[0m\u001b[37m\u001b[0m \u001b[1m2s\u001b[0m 12ms/step - categorical_accuracy: 0.8518 - loss: 0.5339 - val_categorical_accuracy: 0.9133 - val_loss: 0.4348\n",
      "Epoch 184/200\n",
      "\u001b[1m164/164\u001b[0m \u001b[32m━━━━━━━━━━━━━━━━━━━━\u001b[0m\u001b[37m\u001b[0m \u001b[1m2s\u001b[0m 12ms/step - categorical_accuracy: 0.8544 - loss: 0.5346 - val_categorical_accuracy: 0.9133 - val_loss: 0.4339\n",
      "Epoch 185/200\n",
      "\u001b[1m164/164\u001b[0m \u001b[32m━━━━━━━━━━━━━━━━━━━━\u001b[0m\u001b[37m\u001b[0m \u001b[1m2s\u001b[0m 13ms/step - categorical_accuracy: 0.8501 - loss: 0.5389 - val_categorical_accuracy: 0.9133 - val_loss: 0.4329\n",
      "Epoch 186/200\n",
      "\u001b[1m164/164\u001b[0m \u001b[32m━━━━━━━━━━━━━━━━━━━━\u001b[0m\u001b[37m\u001b[0m \u001b[1m2s\u001b[0m 13ms/step - categorical_accuracy: 0.8573 - loss: 0.5172 - val_categorical_accuracy: 0.9133 - val_loss: 0.4320\n",
      "Epoch 187/200\n",
      "\u001b[1m164/164\u001b[0m \u001b[32m━━━━━━━━━━━━━━━━━━━━\u001b[0m\u001b[37m\u001b[0m \u001b[1m2s\u001b[0m 13ms/step - categorical_accuracy: 0.8463 - loss: 0.5390 - val_categorical_accuracy: 0.9133 - val_loss: 0.4310\n",
      "Epoch 188/200\n",
      "\u001b[1m164/164\u001b[0m \u001b[32m━━━━━━━━━━━━━━━━━━━━\u001b[0m\u001b[37m\u001b[0m \u001b[1m2s\u001b[0m 14ms/step - categorical_accuracy: 0.8489 - loss: 0.5284 - val_categorical_accuracy: 0.9133 - val_loss: 0.4301\n",
      "Epoch 189/200\n",
      "\u001b[1m164/164\u001b[0m \u001b[32m━━━━━━━━━━━━━━━━━━━━\u001b[0m\u001b[37m\u001b[0m \u001b[1m2s\u001b[0m 13ms/step - categorical_accuracy: 0.8488 - loss: 0.5313 - val_categorical_accuracy: 0.9133 - val_loss: 0.4292\n",
      "Epoch 190/200\n",
      "\u001b[1m164/164\u001b[0m \u001b[32m━━━━━━━━━━━━━━━━━━━━\u001b[0m\u001b[37m\u001b[0m \u001b[1m2s\u001b[0m 13ms/step - categorical_accuracy: 0.8532 - loss: 0.5208 - val_categorical_accuracy: 0.9133 - val_loss: 0.4284\n",
      "Epoch 191/200\n",
      "\u001b[1m164/164\u001b[0m \u001b[32m━━━━━━━━━━━━━━━━━━━━\u001b[0m\u001b[37m\u001b[0m \u001b[1m2s\u001b[0m 12ms/step - categorical_accuracy: 0.8509 - loss: 0.5308 - val_categorical_accuracy: 0.9133 - val_loss: 0.4275\n",
      "Epoch 192/200\n",
      "\u001b[1m164/164\u001b[0m \u001b[32m━━━━━━━━━━━━━━━━━━━━\u001b[0m\u001b[37m\u001b[0m \u001b[1m2s\u001b[0m 13ms/step - categorical_accuracy: 0.8524 - loss: 0.5236 - val_categorical_accuracy: 0.9133 - val_loss: 0.4267\n",
      "Epoch 193/200\n",
      "\u001b[1m164/164\u001b[0m \u001b[32m━━━━━━━━━━━━━━━━━━━━\u001b[0m\u001b[37m\u001b[0m \u001b[1m2s\u001b[0m 13ms/step - categorical_accuracy: 0.8470 - loss: 0.5406 - val_categorical_accuracy: 0.9133 - val_loss: 0.4259\n",
      "Epoch 194/200\n",
      "\u001b[1m164/164\u001b[0m \u001b[32m━━━━━━━━━━━━━━━━━━━━\u001b[0m\u001b[37m\u001b[0m \u001b[1m2s\u001b[0m 14ms/step - categorical_accuracy: 0.8555 - loss: 0.5165 - val_categorical_accuracy: 0.9133 - val_loss: 0.4251\n",
      "Epoch 195/200\n",
      "\u001b[1m164/164\u001b[0m \u001b[32m━━━━━━━━━━━━━━━━━━━━\u001b[0m\u001b[37m\u001b[0m \u001b[1m2s\u001b[0m 12ms/step - categorical_accuracy: 0.8586 - loss: 0.5055 - val_categorical_accuracy: 0.9133 - val_loss: 0.4242\n",
      "Epoch 196/200\n",
      "\u001b[1m164/164\u001b[0m \u001b[32m━━━━━━━━━━━━━━━━━━━━\u001b[0m\u001b[37m\u001b[0m \u001b[1m2s\u001b[0m 13ms/step - categorical_accuracy: 0.8472 - loss: 0.5336 - val_categorical_accuracy: 0.9133 - val_loss: 0.4235\n",
      "Epoch 197/200\n",
      "\u001b[1m164/164\u001b[0m \u001b[32m━━━━━━━━━━━━━━━━━━━━\u001b[0m\u001b[37m\u001b[0m \u001b[1m2s\u001b[0m 13ms/step - categorical_accuracy: 0.8534 - loss: 0.5237 - val_categorical_accuracy: 0.9133 - val_loss: 0.4227\n",
      "Epoch 198/200\n",
      "\u001b[1m164/164\u001b[0m \u001b[32m━━━━━━━━━━━━━━━━━━━━\u001b[0m\u001b[37m\u001b[0m \u001b[1m2s\u001b[0m 13ms/step - categorical_accuracy: 0.8539 - loss: 0.5252 - val_categorical_accuracy: 0.9133 - val_loss: 0.4220\n",
      "Epoch 199/200\n",
      "\u001b[1m164/164\u001b[0m \u001b[32m━━━━━━━━━━━━━━━━━━━━\u001b[0m\u001b[37m\u001b[0m \u001b[1m2s\u001b[0m 13ms/step - categorical_accuracy: 0.8530 - loss: 0.5108 - val_categorical_accuracy: 0.9133 - val_loss: 0.4212\n",
      "Epoch 200/200\n",
      "\u001b[1m164/164\u001b[0m \u001b[32m━━━━━━━━━━━━━━━━━━━━\u001b[0m\u001b[37m\u001b[0m \u001b[1m2s\u001b[0m 12ms/step - categorical_accuracy: 0.8488 - loss: 0.5215 - val_categorical_accuracy: 0.9133 - val_loss: 0.4205\n"
     ]
    }
   ],
   "source": [
    "history = prefix_dfg_model_2.fit([train_prefix_trace_encoded,train_dfg_probability], train_target_encoded, epochs=200, batch_size=100, validation_data = ([val_prefix_trace_encoded,val_dfg_probability], val_target_encoded))"
   ]
  },
  {
   "cell_type": "code",
   "execution_count": 27,
   "id": "d770f6f6-0b4b-4dfc-9a70-9e9d20d95c90",
   "metadata": {},
   "outputs": [
    {
     "data": {
      "image/png": "[encoded data removed]",
      "text/plain": [
       "<Figure size 640x480 with 1 Axes>"
      ]
     },
     "metadata": {},
     "output_type": "display_data"
    }
   ],
   "source": [
    "train_loss = history.history['loss']\n",
    "val_loss = history.history['val_loss']\n",
    "epochs = range(1, len(train_loss) + 1)\n",
    "\n",
    "plt.plot(epochs, train_loss, label='Training loss')\n",
    "plt.plot(epochs, val_loss, label='Validation loss')\n",
    "plt.title('Training and validation loss')\n",
    "plt.xlabel('Epochs')\n",
    "plt.ylabel('Loss')\n",
    "plt.legend()\n",
    "plt.show()"
   ]
  },
  {
   "cell_type": "code",
   "execution_count": 28,
   "id": "58e9bdf6-2bac-4111-a273-ce71404ca3c7",
   "metadata": {},
   "outputs": [
    {
     "name": "stdout",
     "output_type": "stream",
     "text": [
      "\u001b[1m512/512\u001b[0m \u001b[32m━━━━━━━━━━━━━━━━━━━━\u001b[0m\u001b[37m\u001b[0m \u001b[1m3s\u001b[0m 5ms/step\n",
      "train model recall 85.22887001161156%\n"
     ]
    },
    {
     "data": {
      "text/plain": [
       "array(['assign seriousness', 'take in charge ticket', 'resolve ticket',\n",
       "       ..., 'resolve ticket', 'closed', 'zos'], dtype=object)"
      ]
     },
     "execution_count": 28,
     "metadata": {},
     "output_type": "execute_result"
    }
   ],
   "source": [
    "actual_label = train_target[\"activity\"]\n",
    "multi_input_prediction(prefix_dfg_model_2,train_prefix_trace_encoded, train_dfg_probability, label_encoder,actual_label)"
   ]
  },
  {
   "cell_type": "code",
   "execution_count": 29,
   "id": "89611f71-5d14-4593-915f-fc01b99f57c4",
   "metadata": {},
   "outputs": [
    {
     "name": "stdout",
     "output_type": "stream",
     "text": [
      "\u001b[1m206/206\u001b[0m \u001b[32m━━━━━━━━━━━━━━━━━━━━\u001b[0m\u001b[37m\u001b[0m \u001b[1m1s\u001b[0m 5ms/step\n",
      "train model recall 82.93053655570756%\n"
     ]
    },
    {
     "data": {
      "text/plain": [
       "array(['assign seriousness', 'take in charge ticket', 'resolve ticket',\n",
       "       ..., 'resolve ticket', 'closed', 'zos'], dtype=object)"
      ]
     },
     "execution_count": 29,
     "metadata": {},
     "output_type": "execute_result"
    }
   ],
   "source": [
    "actual_label = test_target[\"activity\"]\n",
    "multi_input_prediction(prefix_dfg_model_2,test_prefix_trace_encoded, test_dfg_probability, label_encoder,actual_label)"
   ]
  },
  {
   "cell_type": "markdown",
   "id": "c79eda4d-341d-45ec-b0ee-dfdb628eea2a",
   "metadata": {},
   "source": [
    "## Prefix_DFG Model_3"
   ]
  },
  {
   "cell_type": "code",
   "execution_count": 30,
   "id": "c8a24208-8b26-46fc-ade0-41b021fe453f",
   "metadata": {},
   "outputs": [
    {
     "data": {
      "text/html": [
       "<pre style=\"white-space:pre;overflow-x:auto;line-height:normal;font-family:Menlo,'DejaVu Sans Mono',consolas,'Courier New',monospace\"><span style=\"font-weight: bold\">Model: \"functional_8\"</span>\n",
       "</pre>\n"
      ],
      "text/plain": [
       "\u001b[1mModel: \"functional_8\"\u001b[0m\n"
      ]
     },
     "metadata": {},
     "output_type": "display_data"
    },
    {
     "data": {
      "text/html": [
       "<pre style=\"white-space:pre;overflow-x:auto;line-height:normal;font-family:Menlo,'DejaVu Sans Mono',consolas,'Courier New',monospace\">┏━━━━━━━━━━━━━━━━━━━━━┳━━━━━━━━━━━━━━━━━━━┳━━━━━━━━━━━━┳━━━━━━━━━━━━━━━━━━━┓\n",
       "┃<span style=\"font-weight: bold\"> Layer (type)        </span>┃<span style=\"font-weight: bold\"> Output Shape      </span>┃<span style=\"font-weight: bold\">    Param # </span>┃<span style=\"font-weight: bold\"> Connected to      </span>┃\n",
       "┡━━━━━━━━━━━━━━━━━━━━━╇━━━━━━━━━━━━━━━━━━━╇━━━━━━━━━━━━╇━━━━━━━━━━━━━━━━━━━┩\n",
       "│ prefix (<span style=\"color: #0087ff; text-decoration-color: #0087ff\">InputLayer</span>) │ (<span style=\"color: #00d7ff; text-decoration-color: #00d7ff\">None</span>, <span style=\"color: #00af00; text-decoration-color: #00af00\">16</span>, <span style=\"color: #00af00; text-decoration-color: #00af00\">16</span>)    │          <span style=\"color: #00af00; text-decoration-color: #00af00\">0</span> │ -                 │\n",
       "├─────────────────────┼───────────────────┼────────────┼───────────────────┤\n",
       "│ dfg (<span style=\"color: #0087ff; text-decoration-color: #0087ff\">InputLayer</span>)    │ (<span style=\"color: #00d7ff; text-decoration-color: #00d7ff\">None</span>, <span style=\"color: #00af00; text-decoration-color: #00af00\">16</span>)        │          <span style=\"color: #00af00; text-decoration-color: #00af00\">0</span> │ -                 │\n",
       "├─────────────────────┼───────────────────┼────────────┼───────────────────┤\n",
       "│ prefix_dfg_layer    │ (<span style=\"color: #00d7ff; text-decoration-color: #00d7ff\">None</span>, <span style=\"color: #00af00; text-decoration-color: #00af00\">20</span>)        │      <span style=\"color: #00af00; text-decoration-color: #00af00\">2,960</span> │ prefix[<span style=\"color: #00af00; text-decoration-color: #00af00\">0</span>][<span style=\"color: #00af00; text-decoration-color: #00af00\">0</span>]      │\n",
       "│ (<span style=\"color: #0087ff; text-decoration-color: #0087ff\">LSTM</span>)              │                   │            │                   │\n",
       "├─────────────────────┼───────────────────┼────────────┼───────────────────┤\n",
       "│ prefix_dfg_input    │ (<span style=\"color: #00d7ff; text-decoration-color: #00d7ff\">None</span>, <span style=\"color: #00af00; text-decoration-color: #00af00\">36</span>)        │          <span style=\"color: #00af00; text-decoration-color: #00af00\">0</span> │ dfg[<span style=\"color: #00af00; text-decoration-color: #00af00\">0</span>][<span style=\"color: #00af00; text-decoration-color: #00af00\">0</span>],        │\n",
       "│ (<span style=\"color: #0087ff; text-decoration-color: #0087ff\">Concatenate</span>)       │                   │            │ prefix_dfg_layer… │\n",
       "├─────────────────────┼───────────────────┼────────────┼───────────────────┤\n",
       "│ dense_6 (<span style=\"color: #0087ff; text-decoration-color: #0087ff\">Dense</span>)     │ (<span style=\"color: #00d7ff; text-decoration-color: #00d7ff\">None</span>, <span style=\"color: #00af00; text-decoration-color: #00af00\">16</span>)        │        <span style=\"color: #00af00; text-decoration-color: #00af00\">592</span> │ prefix_dfg_input… │\n",
       "└─────────────────────┴───────────────────┴────────────┴───────────────────┘\n",
       "</pre>\n"
      ],
      "text/plain": [
       "┏━━━━━━━━━━━━━━━━━━━━━┳━━━━━━━━━━━━━━━━━━━┳━━━━━━━━━━━━┳━━━━━━━━━━━━━━━━━━━┓\n",
       "┃\u001b[1m \u001b[0m\u001b[1mLayer (type)       \u001b[0m\u001b[1m \u001b[0m┃\u001b[1m \u001b[0m\u001b[1mOutput Shape     \u001b[0m\u001b[1m \u001b[0m┃\u001b[1m \u001b[0m\u001b[1m   Param #\u001b[0m\u001b[1m \u001b[0m┃\u001b[1m \u001b[0m\u001b[1mConnected to     \u001b[0m\u001b[1m \u001b[0m┃\n",
       "┡━━━━━━━━━━━━━━━━━━━━━╇━━━━━━━━━━━━━━━━━━━╇━━━━━━━━━━━━╇━━━━━━━━━━━━━━━━━━━┩\n",
       "│ prefix (\u001b[38;5;33mInputLayer\u001b[0m) │ (\u001b[38;5;45mNone\u001b[0m, \u001b[38;5;34m16\u001b[0m, \u001b[38;5;34m16\u001b[0m)    │          \u001b[38;5;34m0\u001b[0m │ -                 │\n",
       "├─────────────────────┼───────────────────┼────────────┼───────────────────┤\n",
       "│ dfg (\u001b[38;5;33mInputLayer\u001b[0m)    │ (\u001b[38;5;45mNone\u001b[0m, \u001b[38;5;34m16\u001b[0m)        │          \u001b[38;5;34m0\u001b[0m │ -                 │\n",
       "├─────────────────────┼───────────────────┼────────────┼───────────────────┤\n",
       "│ prefix_dfg_layer    │ (\u001b[38;5;45mNone\u001b[0m, \u001b[38;5;34m20\u001b[0m)        │      \u001b[38;5;34m2,960\u001b[0m │ prefix[\u001b[38;5;34m0\u001b[0m][\u001b[38;5;34m0\u001b[0m]      │\n",
       "│ (\u001b[38;5;33mLSTM\u001b[0m)              │                   │            │                   │\n",
       "├─────────────────────┼───────────────────┼────────────┼───────────────────┤\n",
       "│ prefix_dfg_input    │ (\u001b[38;5;45mNone\u001b[0m, \u001b[38;5;34m36\u001b[0m)        │          \u001b[38;5;34m0\u001b[0m │ dfg[\u001b[38;5;34m0\u001b[0m][\u001b[38;5;34m0\u001b[0m],        │\n",
       "│ (\u001b[38;5;33mConcatenate\u001b[0m)       │                   │            │ prefix_dfg_layer… │\n",
       "├─────────────────────┼───────────────────┼────────────┼───────────────────┤\n",
       "│ dense_6 (\u001b[38;5;33mDense\u001b[0m)     │ (\u001b[38;5;45mNone\u001b[0m, \u001b[38;5;34m16\u001b[0m)        │        \u001b[38;5;34m592\u001b[0m │ prefix_dfg_input… │\n",
       "└─────────────────────┴───────────────────┴────────────┴───────────────────┘\n"
      ]
     },
     "metadata": {},
     "output_type": "display_data"
    },
    {
     "data": {
      "text/html": [
       "<pre style=\"white-space:pre;overflow-x:auto;line-height:normal;font-family:Menlo,'DejaVu Sans Mono',consolas,'Courier New',monospace\"><span style=\"font-weight: bold\"> Total params: </span><span style=\"color: #00af00; text-decoration-color: #00af00\">3,552</span> (13.88 KB)\n",
       "</pre>\n"
      ],
      "text/plain": [
       "\u001b[1m Total params: \u001b[0m\u001b[38;5;34m3,552\u001b[0m (13.88 KB)\n"
      ]
     },
     "metadata": {},
     "output_type": "display_data"
    },
    {
     "data": {
      "text/html": [
       "<pre style=\"white-space:pre;overflow-x:auto;line-height:normal;font-family:Menlo,'DejaVu Sans Mono',consolas,'Courier New',monospace\"><span style=\"font-weight: bold\"> Trainable params: </span><span style=\"color: #00af00; text-decoration-color: #00af00\">3,552</span> (13.88 KB)\n",
       "</pre>\n"
      ],
      "text/plain": [
       "\u001b[1m Trainable params: \u001b[0m\u001b[38;5;34m3,552\u001b[0m (13.88 KB)\n"
      ]
     },
     "metadata": {},
     "output_type": "display_data"
    },
    {
     "data": {
      "text/html": [
       "<pre style=\"white-space:pre;overflow-x:auto;line-height:normal;font-family:Menlo,'DejaVu Sans Mono',consolas,'Courier New',monospace\"><span style=\"font-weight: bold\"> Non-trainable params: </span><span style=\"color: #00af00; text-decoration-color: #00af00\">0</span> (0.00 B)\n",
       "</pre>\n"
      ],
      "text/plain": [
       "\u001b[1m Non-trainable params: \u001b[0m\u001b[38;5;34m0\u001b[0m (0.00 B)\n"
      ]
     },
     "metadata": {},
     "output_type": "display_data"
    }
   ],
   "source": [
    "#dfg input layer\n",
    "dfg_features = train_dfg_probability.shape[1]\n",
    "dfg_input = Input(shape=(dfg_features,),name=\"dfg\")\n",
    "dfg_layer = Dense(100, activation=\"relu\", name=\"dfg_layer\")(dfg_input)\n",
    "\n",
    "#prefix layer\n",
    "prefix_features = train_prefix_trace_encoded.shape[1]\n",
    "prefix_sequence = train_prefix_trace_encoded.shape[2]\n",
    "prefix_input = Input(shape=(prefix_sequence,prefix_features),name=\"prefix\")\n",
    "prefix_layer = LSTM(20, return_sequences=False, name=\"prefix_dfg_layer\")(prefix_input)\n",
    "\n",
    "# combine dfg with prefix input\n",
    "combined_input = Concatenate(name=\"prefix_dfg_input\")([dfg_input,prefix_layer])\n",
    "\n",
    "# Output layer (classification)\n",
    "output = train_target_encoded.shape[1]\n",
    "output_layer = Dense(output,activation='softmax')(combined_input)\n",
    "\n",
    "#Define model\n",
    "prefix_dfg_model_3 = Model(inputs=[dfg_input,prefix_input],outputs=output_layer)\n",
    "prefix_dfg_model_3.compile(optimizer='adagrad', loss='categorical_crossentropy', metrics=['categorical_accuracy'])\n",
    "prefix_dfg_model_3.summary()"
   ]
  },
  {
   "cell_type": "code",
   "execution_count": 31,
   "id": "7593a351-c961-41e0-97f7-ce90f6679999",
   "metadata": {},
   "outputs": [
    {
     "name": "stdout",
     "output_type": "stream",
     "text": [
      "Epoch 1/200\n",
      "\u001b[1m164/164\u001b[0m \u001b[32m━━━━━━━━━━━━━━━━━━━━\u001b[0m\u001b[37m\u001b[0m \u001b[1m5s\u001b[0m 17ms/step - categorical_accuracy: 0.0203 - loss: 2.6018 - val_categorical_accuracy: 0.1868 - val_loss: 2.5205\n",
      "Epoch 2/200\n",
      "\u001b[1m164/164\u001b[0m \u001b[32m━━━━━━━━━━━━━━━━━━━━\u001b[0m\u001b[37m\u001b[0m \u001b[1m2s\u001b[0m 11ms/step - categorical_accuracy: 0.1774 - loss: 2.4689 - val_categorical_accuracy: 0.3627 - val_loss: 2.4324\n",
      "Epoch 3/200\n",
      "\u001b[1m164/164\u001b[0m \u001b[32m━━━━━━━━━━━━━━━━━━━━\u001b[0m\u001b[37m\u001b[0m \u001b[1m2s\u001b[0m 11ms/step - categorical_accuracy: 0.3357 - loss: 2.3933 - val_categorical_accuracy: 0.3631 - val_loss: 2.3652\n",
      "Epoch 4/200\n",
      "\u001b[1m164/164\u001b[0m \u001b[32m━━━━━━━━━━━━━━━━━━━━\u001b[0m\u001b[37m\u001b[0m \u001b[1m2s\u001b[0m 13ms/step - categorical_accuracy: 0.3327 - loss: 2.3448 - val_categorical_accuracy: 0.3648 - val_loss: 2.3080\n",
      "Epoch 5/200\n",
      "\u001b[1m164/164\u001b[0m \u001b[32m━━━━━━━━━━━━━━━━━━━━\u001b[0m\u001b[37m\u001b[0m \u001b[1m2s\u001b[0m 12ms/step - categorical_accuracy: 0.3392 - loss: 2.2851 - val_categorical_accuracy: 0.3648 - val_loss: 2.2567\n",
      "Epoch 6/200\n",
      "\u001b[1m164/164\u001b[0m \u001b[32m━━━━━━━━━━━━━━━━━━━━\u001b[0m\u001b[37m\u001b[0m \u001b[1m2s\u001b[0m 12ms/step - categorical_accuracy: 0.3423 - loss: 2.2450 - val_categorical_accuracy: 0.3648 - val_loss: 2.2086\n",
      "Epoch 7/200\n",
      "\u001b[1m164/164\u001b[0m \u001b[32m━━━━━━━━━━━━━━━━━━━━\u001b[0m\u001b[37m\u001b[0m \u001b[1m2s\u001b[0m 12ms/step - categorical_accuracy: 0.3379 - loss: 2.1918 - val_categorical_accuracy: 0.3648 - val_loss: 2.1621\n",
      "Epoch 8/200\n",
      "\u001b[1m164/164\u001b[0m \u001b[32m━━━━━━━━━━━━━━━━━━━━\u001b[0m\u001b[37m\u001b[0m \u001b[1m2s\u001b[0m 12ms/step - categorical_accuracy: 0.3388 - loss: 2.1534 - val_categorical_accuracy: 0.3648 - val_loss: 2.1161\n",
      "Epoch 9/200\n",
      "\u001b[1m164/164\u001b[0m \u001b[32m━━━━━━━━━━━━━━━━━━━━\u001b[0m\u001b[37m\u001b[0m \u001b[1m2s\u001b[0m 12ms/step - categorical_accuracy: 0.3403 - loss: 2.1019 - val_categorical_accuracy: 0.3648 - val_loss: 2.0696\n",
      "Epoch 10/200\n",
      "\u001b[1m164/164\u001b[0m \u001b[32m━━━━━━━━━━━━━━━━━━━━\u001b[0m\u001b[37m\u001b[0m \u001b[1m2s\u001b[0m 12ms/step - categorical_accuracy: 0.3367 - loss: 2.0565 - val_categorical_accuracy: 0.3648 - val_loss: 2.0223\n",
      "Epoch 11/200\n",
      "\u001b[1m164/164\u001b[0m \u001b[32m━━━━━━━━━━━━━━━━━━━━\u001b[0m\u001b[37m\u001b[0m \u001b[1m2s\u001b[0m 11ms/step - categorical_accuracy: 0.3386 - loss: 2.0132 - val_categorical_accuracy: 0.3655 - val_loss: 1.9742\n",
      "Epoch 12/200\n",
      "\u001b[1m164/164\u001b[0m \u001b[32m━━━━━━━━━━━━━━━━━━━━\u001b[0m\u001b[37m\u001b[0m \u001b[1m2s\u001b[0m 12ms/step - categorical_accuracy: 0.3454 - loss: 1.9676 - val_categorical_accuracy: 0.3655 - val_loss: 1.9260\n",
      "Epoch 13/200\n",
      "\u001b[1m164/164\u001b[0m \u001b[32m━━━━━━━━━━━━━━━━━━━━\u001b[0m\u001b[37m\u001b[0m \u001b[1m2s\u001b[0m 12ms/step - categorical_accuracy: 0.3560 - loss: 1.9246 - val_categorical_accuracy: 0.3697 - val_loss: 1.8785\n",
      "Epoch 14/200\n",
      "\u001b[1m164/164\u001b[0m \u001b[32m━━━━━━━━━━━━━━━━━━━━\u001b[0m\u001b[37m\u001b[0m \u001b[1m2s\u001b[0m 12ms/step - categorical_accuracy: 0.5435 - loss: 1.8772 - val_categorical_accuracy: 0.6835 - val_loss: 1.8328\n",
      "Epoch 15/200\n",
      "\u001b[1m164/164\u001b[0m \u001b[32m━━━━━━━━━━━━━━━━━━━━\u001b[0m\u001b[37m\u001b[0m \u001b[1m2s\u001b[0m 12ms/step - categorical_accuracy: 0.6598 - loss: 1.8276 - val_categorical_accuracy: 0.6845 - val_loss: 1.7896\n",
      "Epoch 16/200\n",
      "\u001b[1m164/164\u001b[0m \u001b[32m━━━━━━━━━━━━━━━━━━━━\u001b[0m\u001b[37m\u001b[0m \u001b[1m3s\u001b[0m 12ms/step - categorical_accuracy: 0.6519 - loss: 1.7906 - val_categorical_accuracy: 0.6842 - val_loss: 1.7490\n",
      "Epoch 17/200\n",
      "\u001b[1m164/164\u001b[0m \u001b[32m━━━━━━━━━━━━━━━━━━━━\u001b[0m\u001b[37m\u001b[0m \u001b[1m2s\u001b[0m 12ms/step - categorical_accuracy: 0.6517 - loss: 1.7533 - val_categorical_accuracy: 0.6842 - val_loss: 1.7113\n",
      "Epoch 18/200\n",
      "\u001b[1m164/164\u001b[0m \u001b[32m━━━━━━━━━━━━━━━━━━━━\u001b[0m\u001b[37m\u001b[0m \u001b[1m2s\u001b[0m 12ms/step - categorical_accuracy: 0.6499 - loss: 1.7149 - val_categorical_accuracy: 0.6845 - val_loss: 1.6764\n",
      "Epoch 19/200\n",
      "\u001b[1m164/164\u001b[0m \u001b[32m━━━━━━━━━━━━━━━━━━━━\u001b[0m\u001b[37m\u001b[0m \u001b[1m2s\u001b[0m 12ms/step - categorical_accuracy: 0.6444 - loss: 1.6917 - val_categorical_accuracy: 0.6845 - val_loss: 1.6441\n",
      "Epoch 20/200\n",
      "\u001b[1m164/164\u001b[0m \u001b[32m━━━━━━━━━━━━━━━━━━━━\u001b[0m\u001b[37m\u001b[0m \u001b[1m2s\u001b[0m 12ms/step - categorical_accuracy: 0.5900 - loss: 1.6506 - val_categorical_accuracy: 0.5142 - val_loss: 1.6143\n",
      "Epoch 21/200\n",
      "\u001b[1m164/164\u001b[0m \u001b[32m━━━━━━━━━━━━━━━━━━━━\u001b[0m\u001b[37m\u001b[0m \u001b[1m2s\u001b[0m 12ms/step - categorical_accuracy: 0.5335 - loss: 1.6159 - val_categorical_accuracy: 0.5128 - val_loss: 1.5868\n",
      "Epoch 22/200\n",
      "\u001b[1m164/164\u001b[0m \u001b[32m━━━━━━━━━━━━━━━━━━━━\u001b[0m\u001b[37m\u001b[0m \u001b[1m2s\u001b[0m 12ms/step - categorical_accuracy: 0.5277 - loss: 1.5977 - val_categorical_accuracy: 0.5128 - val_loss: 1.5614\n",
      "Epoch 23/200\n",
      "\u001b[1m164/164\u001b[0m \u001b[32m━━━━━━━━━━━━━━━━━━━━\u001b[0m\u001b[37m\u001b[0m \u001b[1m2s\u001b[0m 12ms/step - categorical_accuracy: 0.5266 - loss: 1.5688 - val_categorical_accuracy: 0.5128 - val_loss: 1.5379\n",
      "Epoch 24/200\n",
      "\u001b[1m164/164\u001b[0m \u001b[32m━━━━━━━━━━━━━━━━━━━━\u001b[0m\u001b[37m\u001b[0m \u001b[1m2s\u001b[0m 12ms/step - categorical_accuracy: 0.5240 - loss: 1.5533 - val_categorical_accuracy: 0.5131 - val_loss: 1.5161\n",
      "Epoch 25/200\n",
      "\u001b[1m164/164\u001b[0m \u001b[32m━━━━━━━━━━━━━━━━━━━━\u001b[0m\u001b[37m\u001b[0m \u001b[1m2s\u001b[0m 12ms/step - categorical_accuracy: 0.5281 - loss: 1.5317 - val_categorical_accuracy: 0.5131 - val_loss: 1.4960\n",
      "Epoch 26/200\n",
      "\u001b[1m164/164\u001b[0m \u001b[32m━━━━━━━━━━━━━━━━━━━━\u001b[0m\u001b[37m\u001b[0m \u001b[1m2s\u001b[0m 12ms/step - categorical_accuracy: 0.5260 - loss: 1.5089 - val_categorical_accuracy: 0.5131 - val_loss: 1.4773\n",
      "Epoch 27/200\n",
      "\u001b[1m164/164\u001b[0m \u001b[32m━━━━━━━━━━━━━━━━━━━━\u001b[0m\u001b[37m\u001b[0m \u001b[1m2s\u001b[0m 12ms/step - categorical_accuracy: 0.5257 - loss: 1.4969 - val_categorical_accuracy: 0.5131 - val_loss: 1.4599\n",
      "Epoch 28/200\n",
      "\u001b[1m164/164\u001b[0m \u001b[32m━━━━━━━━━━━━━━━━━━━━\u001b[0m\u001b[37m\u001b[0m \u001b[1m2s\u001b[0m 12ms/step - categorical_accuracy: 0.5328 - loss: 1.4774 - val_categorical_accuracy: 0.5131 - val_loss: 1.4437\n",
      "Epoch 29/200\n",
      "\u001b[1m164/164\u001b[0m \u001b[32m━━━━━━━━━━━━━━━━━━━━\u001b[0m\u001b[37m\u001b[0m \u001b[1m2s\u001b[0m 12ms/step - categorical_accuracy: 0.5240 - loss: 1.4567 - val_categorical_accuracy: 0.5131 - val_loss: 1.4285\n",
      "Epoch 30/200\n",
      "\u001b[1m164/164\u001b[0m \u001b[32m━━━━━━━━━━━━━━━━━━━━\u001b[0m\u001b[37m\u001b[0m \u001b[1m2s\u001b[0m 12ms/step - categorical_accuracy: 0.5294 - loss: 1.4517 - val_categorical_accuracy: 0.5131 - val_loss: 1.4143\n",
      "Epoch 31/200\n",
      "\u001b[1m164/164\u001b[0m \u001b[32m━━━━━━━━━━━━━━━━━━━━\u001b[0m\u001b[37m\u001b[0m \u001b[1m2s\u001b[0m 12ms/step - categorical_accuracy: 0.5207 - loss: 1.4402 - val_categorical_accuracy: 0.5131 - val_loss: 1.4009\n",
      "Epoch 32/200\n",
      "\u001b[1m164/164\u001b[0m \u001b[32m━━━━━━━━━━━━━━━━━━━━\u001b[0m\u001b[37m\u001b[0m \u001b[1m2s\u001b[0m 12ms/step - categorical_accuracy: 0.5260 - loss: 1.4210 - val_categorical_accuracy: 0.5131 - val_loss: 1.3883\n",
      "Epoch 33/200\n",
      "\u001b[1m164/164\u001b[0m \u001b[32m━━━━━━━━━━━━━━━━━━━━\u001b[0m\u001b[37m\u001b[0m \u001b[1m2s\u001b[0m 12ms/step - categorical_accuracy: 0.5327 - loss: 1.4054 - val_categorical_accuracy: 0.5131 - val_loss: 1.3764\n",
      "Epoch 34/200\n",
      "\u001b[1m164/164\u001b[0m \u001b[32m━━━━━━━━━━━━━━━━━━━━\u001b[0m\u001b[37m\u001b[0m \u001b[1m2s\u001b[0m 12ms/step - categorical_accuracy: 0.5256 - loss: 1.3997 - val_categorical_accuracy: 0.5131 - val_loss: 1.3651\n",
      "Epoch 35/200\n",
      "\u001b[1m164/164\u001b[0m \u001b[32m━━━━━━━━━━━━━━━━━━━━\u001b[0m\u001b[37m\u001b[0m \u001b[1m2s\u001b[0m 12ms/step - categorical_accuracy: 0.5277 - loss: 1.3921 - val_categorical_accuracy: 0.5131 - val_loss: 1.3544\n",
      "Epoch 36/200\n",
      "\u001b[1m164/164\u001b[0m \u001b[32m━━━━━━━━━━━━━━━━━━━━\u001b[0m\u001b[37m\u001b[0m \u001b[1m2s\u001b[0m 12ms/step - categorical_accuracy: 0.5275 - loss: 1.3819 - val_categorical_accuracy: 0.5131 - val_loss: 1.3442\n",
      "Epoch 37/200\n",
      "\u001b[1m164/164\u001b[0m \u001b[32m━━━━━━━━━━━━━━━━━━━━\u001b[0m\u001b[37m\u001b[0m \u001b[1m2s\u001b[0m 12ms/step - categorical_accuracy: 0.5224 - loss: 1.3708 - val_categorical_accuracy: 0.5131 - val_loss: 1.3345\n",
      "Epoch 38/200\n",
      "\u001b[1m164/164\u001b[0m \u001b[32m━━━━━━━━━━━━━━━━━━━━\u001b[0m\u001b[37m\u001b[0m \u001b[1m2s\u001b[0m 11ms/step - categorical_accuracy: 0.5244 - loss: 1.3670 - val_categorical_accuracy: 0.5131 - val_loss: 1.3252\n",
      "Epoch 39/200\n",
      "\u001b[1m164/164\u001b[0m \u001b[32m━━━━━━━━━━━━━━━━━━━━\u001b[0m\u001b[37m\u001b[0m \u001b[1m2s\u001b[0m 12ms/step - categorical_accuracy: 0.5330 - loss: 1.3538 - val_categorical_accuracy: 0.5128 - val_loss: 1.3162\n",
      "Epoch 40/200\n",
      "\u001b[1m164/164\u001b[0m \u001b[32m━━━━━━━━━━━━━━━━━━━━\u001b[0m\u001b[37m\u001b[0m \u001b[1m2s\u001b[0m 12ms/step - categorical_accuracy: 0.5264 - loss: 1.3493 - val_categorical_accuracy: 0.5128 - val_loss: 1.3077\n",
      "Epoch 41/200\n",
      "\u001b[1m164/164\u001b[0m \u001b[32m━━━━━━━━━━━━━━━━━━━━\u001b[0m\u001b[37m\u001b[0m \u001b[1m2s\u001b[0m 12ms/step - categorical_accuracy: 0.5218 - loss: 1.3415 - val_categorical_accuracy: 0.5128 - val_loss: 1.2994\n",
      "Epoch 42/200\n",
      "\u001b[1m164/164\u001b[0m \u001b[32m━━━━━━━━━━━━━━━━━━━━\u001b[0m\u001b[37m\u001b[0m \u001b[1m2s\u001b[0m 12ms/step - categorical_accuracy: 0.5315 - loss: 1.3285 - val_categorical_accuracy: 0.5128 - val_loss: 1.2914\n",
      "Epoch 43/200\n",
      "\u001b[1m164/164\u001b[0m \u001b[32m━━━━━━━━━━━━━━━━━━━━\u001b[0m\u001b[37m\u001b[0m \u001b[1m2s\u001b[0m 12ms/step - categorical_accuracy: 0.5265 - loss: 1.3239 - val_categorical_accuracy: 0.5128 - val_loss: 1.2837\n",
      "Epoch 44/200\n",
      "\u001b[1m164/164\u001b[0m \u001b[32m━━━━━━━━━━━━━━━━━━━━\u001b[0m\u001b[37m\u001b[0m \u001b[1m2s\u001b[0m 12ms/step - categorical_accuracy: 0.5260 - loss: 1.3235 - val_categorical_accuracy: 0.5131 - val_loss: 1.2763\n",
      "Epoch 45/200\n",
      "\u001b[1m164/164\u001b[0m \u001b[32m━━━━━━━━━━━━━━━━━━━━\u001b[0m\u001b[37m\u001b[0m \u001b[1m2s\u001b[0m 12ms/step - categorical_accuracy: 0.5293 - loss: 1.3139 - val_categorical_accuracy: 0.5131 - val_loss: 1.2691\n",
      "Epoch 46/200\n",
      "\u001b[1m164/164\u001b[0m \u001b[32m━━━━━━━━━━━━━━━━━━━━\u001b[0m\u001b[37m\u001b[0m \u001b[1m2s\u001b[0m 11ms/step - categorical_accuracy: 0.5245 - loss: 1.3082 - val_categorical_accuracy: 0.5135 - val_loss: 1.2622\n",
      "Epoch 47/200\n",
      "\u001b[1m164/164\u001b[0m \u001b[32m━━━━━━━━━━━━━━━━━━━━\u001b[0m\u001b[37m\u001b[0m \u001b[1m2s\u001b[0m 12ms/step - categorical_accuracy: 0.5428 - loss: 1.3014 - val_categorical_accuracy: 0.5589 - val_loss: 1.2554\n",
      "Epoch 48/200\n",
      "\u001b[1m164/164\u001b[0m \u001b[32m━━━━━━━━━━━━━━━━━━━━\u001b[0m\u001b[37m\u001b[0m \u001b[1m2s\u001b[0m 12ms/step - categorical_accuracy: 0.6344 - loss: 1.2976 - val_categorical_accuracy: 0.6971 - val_loss: 1.2488\n",
      "Epoch 49/200\n",
      "\u001b[1m164/164\u001b[0m \u001b[32m━━━━━━━━━━━━━━━━━━━━\u001b[0m\u001b[37m\u001b[0m \u001b[1m2s\u001b[0m 12ms/step - categorical_accuracy: 0.6981 - loss: 1.2905 - val_categorical_accuracy: 0.7013 - val_loss: 1.2424\n",
      "Epoch 50/200\n",
      "\u001b[1m164/164\u001b[0m \u001b[32m━━━━━━━━━━━━━━━━━━━━\u001b[0m\u001b[37m\u001b[0m \u001b[1m2s\u001b[0m 12ms/step - categorical_accuracy: 0.7001 - loss: 1.2838 - val_categorical_accuracy: 0.7013 - val_loss: 1.2362\n",
      "Epoch 51/200\n",
      "\u001b[1m164/164\u001b[0m \u001b[32m━━━━━━━━━━━━━━━━━━━━\u001b[0m\u001b[37m\u001b[0m \u001b[1m2s\u001b[0m 12ms/step - categorical_accuracy: 0.7042 - loss: 1.2728 - val_categorical_accuracy: 0.7380 - val_loss: 1.2302\n",
      "Epoch 52/200\n",
      "\u001b[1m164/164\u001b[0m \u001b[32m━━━━━━━━━━━━━━━━━━━━\u001b[0m\u001b[37m\u001b[0m \u001b[1m2s\u001b[0m 12ms/step - categorical_accuracy: 0.7131 - loss: 1.2748 - val_categorical_accuracy: 0.7384 - val_loss: 1.2243\n",
      "Epoch 53/200\n",
      "\u001b[1m164/164\u001b[0m \u001b[32m━━━━━━━━━━━━━━━━━━━━\u001b[0m\u001b[37m\u001b[0m \u001b[1m2s\u001b[0m 12ms/step - categorical_accuracy: 0.7060 - loss: 1.2704 - val_categorical_accuracy: 0.7387 - val_loss: 1.2185\n",
      "Epoch 54/200\n",
      "\u001b[1m164/164\u001b[0m \u001b[32m━━━━━━━━━━━━━━━━━━━━\u001b[0m\u001b[37m\u001b[0m \u001b[1m2s\u001b[0m 12ms/step - categorical_accuracy: 0.7202 - loss: 1.2507 - val_categorical_accuracy: 0.7387 - val_loss: 1.2129\n",
      "Epoch 55/200\n",
      "\u001b[1m164/164\u001b[0m \u001b[32m━━━━━━━━━━━━━━━━━━━━\u001b[0m\u001b[37m\u001b[0m \u001b[1m2s\u001b[0m 12ms/step - categorical_accuracy: 0.7166 - loss: 1.2496 - val_categorical_accuracy: 0.7415 - val_loss: 1.2074\n",
      "Epoch 56/200\n",
      "\u001b[1m164/164\u001b[0m \u001b[32m━━━━━━━━━━━━━━━━━━━━\u001b[0m\u001b[37m\u001b[0m \u001b[1m2s\u001b[0m 12ms/step - categorical_accuracy: 0.7120 - loss: 1.2495 - val_categorical_accuracy: 0.7422 - val_loss: 1.2020\n",
      "Epoch 57/200\n",
      "\u001b[1m164/164\u001b[0m \u001b[32m━━━━━━━━━━━━━━━━━━━━\u001b[0m\u001b[37m\u001b[0m \u001b[1m2s\u001b[0m 12ms/step - categorical_accuracy: 0.7179 - loss: 1.2393 - val_categorical_accuracy: 0.7422 - val_loss: 1.1967\n",
      "Epoch 58/200\n",
      "\u001b[1m164/164\u001b[0m \u001b[32m━━━━━━━━━━━━━━━━━━━━\u001b[0m\u001b[37m\u001b[0m \u001b[1m2s\u001b[0m 11ms/step - categorical_accuracy: 0.7155 - loss: 1.2421 - val_categorical_accuracy: 0.7422 - val_loss: 1.1916\n",
      "Epoch 59/200\n",
      "\u001b[1m164/164\u001b[0m \u001b[32m━━━━━━━━━━━━━━━━━━━━\u001b[0m\u001b[37m\u001b[0m \u001b[1m2s\u001b[0m 11ms/step - categorical_accuracy: 0.7161 - loss: 1.2290 - val_categorical_accuracy: 0.7422 - val_loss: 1.1865\n",
      "Epoch 60/200\n",
      "\u001b[1m164/164\u001b[0m \u001b[32m━━━━━━━━━━━━━━━━━━━━\u001b[0m\u001b[37m\u001b[0m \u001b[1m2s\u001b[0m 12ms/step - categorical_accuracy: 0.7150 - loss: 1.2322 - val_categorical_accuracy: 0.7422 - val_loss: 1.1815\n",
      "Epoch 61/200\n",
      "\u001b[1m164/164\u001b[0m \u001b[32m━━━━━━━━━━━━━━━━━━━━\u001b[0m\u001b[37m\u001b[0m \u001b[1m2s\u001b[0m 12ms/step - categorical_accuracy: 0.7140 - loss: 1.2253 - val_categorical_accuracy: 0.7419 - val_loss: 1.1766\n",
      "Epoch 62/200\n",
      "\u001b[1m164/164\u001b[0m \u001b[32m━━━━━━━━━━━━━━━━━━━━\u001b[0m\u001b[37m\u001b[0m \u001b[1m2s\u001b[0m 12ms/step - categorical_accuracy: 0.7169 - loss: 1.2208 - val_categorical_accuracy: 0.7419 - val_loss: 1.1719\n",
      "Epoch 63/200\n",
      "\u001b[1m164/164\u001b[0m \u001b[32m━━━━━━━━━━━━━━━━━━━━\u001b[0m\u001b[37m\u001b[0m \u001b[1m2s\u001b[0m 12ms/step - categorical_accuracy: 0.7128 - loss: 1.2229 - val_categorical_accuracy: 0.7419 - val_loss: 1.1672\n",
      "Epoch 64/200\n",
      "\u001b[1m164/164\u001b[0m \u001b[32m━━━━━━━━━━━━━━━━━━━━\u001b[0m\u001b[37m\u001b[0m \u001b[1m2s\u001b[0m 11ms/step - categorical_accuracy: 0.7125 - loss: 1.2197 - val_categorical_accuracy: 0.7419 - val_loss: 1.1625\n",
      "Epoch 65/200\n",
      "\u001b[1m164/164\u001b[0m \u001b[32m━━━━━━━━━━━━━━━━━━━━\u001b[0m\u001b[37m\u001b[0m \u001b[1m2s\u001b[0m 12ms/step - categorical_accuracy: 0.7159 - loss: 1.2148 - val_categorical_accuracy: 0.7433 - val_loss: 1.1580\n",
      "Epoch 66/200\n",
      "\u001b[1m164/164\u001b[0m \u001b[32m━━━━━━━━━━━━━━━━━━━━\u001b[0m\u001b[37m\u001b[0m \u001b[1m2s\u001b[0m 11ms/step - categorical_accuracy: 0.7325 - loss: 1.2035 - val_categorical_accuracy: 0.7433 - val_loss: 1.1535\n",
      "Epoch 67/200\n",
      "\u001b[1m164/164\u001b[0m \u001b[32m━━━━━━━━━━━━━━━━━━━━\u001b[0m\u001b[37m\u001b[0m \u001b[1m2s\u001b[0m 12ms/step - categorical_accuracy: 0.7302 - loss: 1.2061 - val_categorical_accuracy: 0.7433 - val_loss: 1.1490\n",
      "Epoch 68/200\n",
      "\u001b[1m164/164\u001b[0m \u001b[32m━━━━━━━━━━━━━━━━━━━━\u001b[0m\u001b[37m\u001b[0m \u001b[1m2s\u001b[0m 12ms/step - categorical_accuracy: 0.7359 - loss: 1.1960 - val_categorical_accuracy: 0.7433 - val_loss: 1.1447\n",
      "Epoch 69/200\n",
      "\u001b[1m164/164\u001b[0m \u001b[32m━━━━━━━━━━━━━━━━━━━━\u001b[0m\u001b[37m\u001b[0m \u001b[1m2s\u001b[0m 12ms/step - categorical_accuracy: 0.7317 - loss: 1.1896 - val_categorical_accuracy: 0.7436 - val_loss: 1.1404\n",
      "Epoch 70/200\n",
      "\u001b[1m164/164\u001b[0m \u001b[32m━━━━━━━━━━━━━━━━━━━━\u001b[0m\u001b[37m\u001b[0m \u001b[1m2s\u001b[0m 12ms/step - categorical_accuracy: 0.7389 - loss: 1.1964 - val_categorical_accuracy: 0.7436 - val_loss: 1.1361\n",
      "Epoch 71/200\n",
      "\u001b[1m164/164\u001b[0m \u001b[32m━━━━━━━━━━━━━━━━━━━━\u001b[0m\u001b[37m\u001b[0m \u001b[1m2s\u001b[0m 12ms/step - categorical_accuracy: 0.7389 - loss: 1.1858 - val_categorical_accuracy: 0.9147 - val_loss: 1.1319\n",
      "Epoch 72/200\n",
      "\u001b[1m164/164\u001b[0m \u001b[32m━━━━━━━━━━━━━━━━━━━━\u001b[0m\u001b[37m\u001b[0m \u001b[1m2s\u001b[0m 12ms/step - categorical_accuracy: 0.8525 - loss: 1.1852 - val_categorical_accuracy: 0.9147 - val_loss: 1.1278\n",
      "Epoch 73/200\n",
      "\u001b[1m164/164\u001b[0m \u001b[32m━━━━━━━━━━━━━━━━━━━━\u001b[0m\u001b[37m\u001b[0m \u001b[1m2s\u001b[0m 12ms/step - categorical_accuracy: 0.8523 - loss: 1.1807 - val_categorical_accuracy: 0.9147 - val_loss: 1.1237\n",
      "Epoch 74/200\n",
      "\u001b[1m164/164\u001b[0m \u001b[32m━━━━━━━━━━━━━━━━━━━━\u001b[0m\u001b[37m\u001b[0m \u001b[1m2s\u001b[0m 12ms/step - categorical_accuracy: 0.8508 - loss: 1.1780 - val_categorical_accuracy: 0.9147 - val_loss: 1.1196\n",
      "Epoch 75/200\n",
      "\u001b[1m164/164\u001b[0m \u001b[32m━━━━━━━━━━━━━━━━━━━━\u001b[0m\u001b[37m\u001b[0m \u001b[1m2s\u001b[0m 12ms/step - categorical_accuracy: 0.8490 - loss: 1.1786 - val_categorical_accuracy: 0.9147 - val_loss: 1.1156\n",
      "Epoch 76/200\n",
      "\u001b[1m164/164\u001b[0m \u001b[32m━━━━━━━━━━━━━━━━━━━━\u001b[0m\u001b[37m\u001b[0m \u001b[1m2s\u001b[0m 12ms/step - categorical_accuracy: 0.8543 - loss: 1.1710 - val_categorical_accuracy: 0.9147 - val_loss: 1.1116\n",
      "Epoch 77/200\n",
      "\u001b[1m164/164\u001b[0m \u001b[32m━━━━━━━━━━━━━━━━━━━━\u001b[0m\u001b[37m\u001b[0m \u001b[1m2s\u001b[0m 12ms/step - categorical_accuracy: 0.8536 - loss: 1.1650 - val_categorical_accuracy: 0.9147 - val_loss: 1.1077\n",
      "Epoch 78/200\n",
      "\u001b[1m164/164\u001b[0m \u001b[32m━━━━━━━━━━━━━━━━━━━━\u001b[0m\u001b[37m\u001b[0m \u001b[1m2s\u001b[0m 12ms/step - categorical_accuracy: 0.8510 - loss: 1.1659 - val_categorical_accuracy: 0.9147 - val_loss: 1.1038\n",
      "Epoch 79/200\n",
      "\u001b[1m164/164\u001b[0m \u001b[32m━━━━━━━━━━━━━━━━━━━━\u001b[0m\u001b[37m\u001b[0m \u001b[1m2s\u001b[0m 12ms/step - categorical_accuracy: 0.8514 - loss: 1.1598 - val_categorical_accuracy: 0.9147 - val_loss: 1.1000\n",
      "Epoch 80/200\n",
      "\u001b[1m164/164\u001b[0m \u001b[32m━━━━━━━━━━━━━━━━━━━━\u001b[0m\u001b[37m\u001b[0m \u001b[1m2s\u001b[0m 12ms/step - categorical_accuracy: 0.8506 - loss: 1.1536 - val_categorical_accuracy: 0.9147 - val_loss: 1.0961\n",
      "Epoch 81/200\n",
      "\u001b[1m164/164\u001b[0m \u001b[32m━━━━━━━━━━━━━━━━━━━━\u001b[0m\u001b[37m\u001b[0m \u001b[1m2s\u001b[0m 12ms/step - categorical_accuracy: 0.8522 - loss: 1.1555 - val_categorical_accuracy: 0.9147 - val_loss: 1.0923\n",
      "Epoch 82/200\n",
      "\u001b[1m164/164\u001b[0m \u001b[32m━━━━━━━━━━━━━━━━━━━━\u001b[0m\u001b[37m\u001b[0m \u001b[1m2s\u001b[0m 12ms/step - categorical_accuracy: 0.8544 - loss: 1.1442 - val_categorical_accuracy: 0.9147 - val_loss: 1.0886\n",
      "Epoch 83/200\n",
      "\u001b[1m164/164\u001b[0m \u001b[32m━━━━━━━━━━━━━━━━━━━━\u001b[0m\u001b[37m\u001b[0m \u001b[1m2s\u001b[0m 12ms/step - categorical_accuracy: 0.8552 - loss: 1.1367 - val_categorical_accuracy: 0.9147 - val_loss: 1.0848\n",
      "Epoch 84/200\n",
      "\u001b[1m164/164\u001b[0m \u001b[32m━━━━━━━━━━━━━━━━━━━━\u001b[0m\u001b[37m\u001b[0m \u001b[1m2s\u001b[0m 12ms/step - categorical_accuracy: 0.8551 - loss: 1.1422 - val_categorical_accuracy: 0.9147 - val_loss: 1.0811\n",
      "Epoch 85/200\n",
      "\u001b[1m164/164\u001b[0m \u001b[32m━━━━━━━━━━━━━━━━━━━━\u001b[0m\u001b[37m\u001b[0m \u001b[1m2s\u001b[0m 12ms/step - categorical_accuracy: 0.8482 - loss: 1.1442 - val_categorical_accuracy: 0.9147 - val_loss: 1.0774\n",
      "Epoch 86/200\n",
      "\u001b[1m164/164\u001b[0m \u001b[32m━━━━━━━━━━━━━━━━━━━━\u001b[0m\u001b[37m\u001b[0m \u001b[1m2s\u001b[0m 12ms/step - categorical_accuracy: 0.8498 - loss: 1.1364 - val_categorical_accuracy: 0.9147 - val_loss: 1.0737\n",
      "Epoch 87/200\n",
      "\u001b[1m164/164\u001b[0m \u001b[32m━━━━━━━━━━━━━━━━━━━━\u001b[0m\u001b[37m\u001b[0m \u001b[1m2s\u001b[0m 12ms/step - categorical_accuracy: 0.8482 - loss: 1.1443 - val_categorical_accuracy: 0.9147 - val_loss: 1.0701\n",
      "Epoch 88/200\n",
      "\u001b[1m164/164\u001b[0m \u001b[32m━━━━━━━━━━━━━━━━━━━━\u001b[0m\u001b[37m\u001b[0m \u001b[1m2s\u001b[0m 12ms/step - categorical_accuracy: 0.8513 - loss: 1.1290 - val_categorical_accuracy: 0.9147 - val_loss: 1.0664\n",
      "Epoch 89/200\n",
      "\u001b[1m164/164\u001b[0m \u001b[32m━━━━━━━━━━━━━━━━━━━━\u001b[0m\u001b[37m\u001b[0m \u001b[1m2s\u001b[0m 12ms/step - categorical_accuracy: 0.8540 - loss: 1.1247 - val_categorical_accuracy: 0.9147 - val_loss: 1.0628\n",
      "Epoch 90/200\n",
      "\u001b[1m164/164\u001b[0m \u001b[32m━━━━━━━━━━━━━━━━━━━━\u001b[0m\u001b[37m\u001b[0m \u001b[1m2s\u001b[0m 12ms/step - categorical_accuracy: 0.8508 - loss: 1.1202 - val_categorical_accuracy: 0.9147 - val_loss: 1.0592\n",
      "Epoch 91/200\n",
      "\u001b[1m164/164\u001b[0m \u001b[32m━━━━━━━━━━━━━━━━━━━━\u001b[0m\u001b[37m\u001b[0m \u001b[1m2s\u001b[0m 12ms/step - categorical_accuracy: 0.8534 - loss: 1.1170 - val_categorical_accuracy: 0.9147 - val_loss: 1.0556\n",
      "Epoch 92/200\n",
      "\u001b[1m164/164\u001b[0m \u001b[32m━━━━━━━━━━━━━━━━━━━━\u001b[0m\u001b[37m\u001b[0m \u001b[1m2s\u001b[0m 12ms/step - categorical_accuracy: 0.8494 - loss: 1.1239 - val_categorical_accuracy: 0.9147 - val_loss: 1.0521\n",
      "Epoch 93/200\n",
      "\u001b[1m164/164\u001b[0m \u001b[32m━━━━━━━━━━━━━━━━━━━━\u001b[0m\u001b[37m\u001b[0m \u001b[1m2s\u001b[0m 13ms/step - categorical_accuracy: 0.8544 - loss: 1.1082 - val_categorical_accuracy: 0.9147 - val_loss: 1.0485\n",
      "Epoch 94/200\n",
      "\u001b[1m164/164\u001b[0m \u001b[32m━━━━━━━━━━━━━━━━━━━━\u001b[0m\u001b[37m\u001b[0m \u001b[1m2s\u001b[0m 12ms/step - categorical_accuracy: 0.8501 - loss: 1.1129 - val_categorical_accuracy: 0.9147 - val_loss: 1.0450\n",
      "Epoch 95/200\n",
      "\u001b[1m164/164\u001b[0m \u001b[32m━━━━━━━━━━━━━━━━━━━━\u001b[0m\u001b[37m\u001b[0m \u001b[1m2s\u001b[0m 12ms/step - categorical_accuracy: 0.8536 - loss: 1.1109 - val_categorical_accuracy: 0.9147 - val_loss: 1.0414\n",
      "Epoch 96/200\n",
      "\u001b[1m164/164\u001b[0m \u001b[32m━━━━━━━━━━━━━━━━━━━━\u001b[0m\u001b[37m\u001b[0m \u001b[1m2s\u001b[0m 12ms/step - categorical_accuracy: 0.8476 - loss: 1.1083 - val_categorical_accuracy: 0.9147 - val_loss: 1.0379\n",
      "Epoch 97/200\n",
      "\u001b[1m164/164\u001b[0m \u001b[32m━━━━━━━━━━━━━━━━━━━━\u001b[0m\u001b[37m\u001b[0m \u001b[1m2s\u001b[0m 12ms/step - categorical_accuracy: 0.8521 - loss: 1.0995 - val_categorical_accuracy: 0.9147 - val_loss: 1.0344\n",
      "Epoch 98/200\n",
      "\u001b[1m164/164\u001b[0m \u001b[32m━━━━━━━━━━━━━━━━━━━━\u001b[0m\u001b[37m\u001b[0m \u001b[1m2s\u001b[0m 12ms/step - categorical_accuracy: 0.8468 - loss: 1.1097 - val_categorical_accuracy: 0.9147 - val_loss: 1.0309\n",
      "Epoch 99/200\n",
      "\u001b[1m164/164\u001b[0m \u001b[32m━━━━━━━━━━━━━━━━━━━━\u001b[0m\u001b[37m\u001b[0m \u001b[1m2s\u001b[0m 12ms/step - categorical_accuracy: 0.8551 - loss: 1.0867 - val_categorical_accuracy: 0.9147 - val_loss: 1.0274\n",
      "Epoch 100/200\n",
      "\u001b[1m164/164\u001b[0m \u001b[32m━━━━━━━━━━━━━━━━━━━━\u001b[0m\u001b[37m\u001b[0m \u001b[1m2s\u001b[0m 12ms/step - categorical_accuracy: 0.8535 - loss: 1.0916 - val_categorical_accuracy: 0.9147 - val_loss: 1.0240\n",
      "Epoch 101/200\n",
      "\u001b[1m164/164\u001b[0m \u001b[32m━━━━━━━━━━━━━━━━━━━━\u001b[0m\u001b[37m\u001b[0m \u001b[1m2s\u001b[0m 12ms/step - categorical_accuracy: 0.8506 - loss: 1.0849 - val_categorical_accuracy: 0.9147 - val_loss: 1.0205\n",
      "Epoch 102/200\n",
      "\u001b[1m164/164\u001b[0m \u001b[32m━━━━━━━━━━━━━━━━━━━━\u001b[0m\u001b[37m\u001b[0m \u001b[1m2s\u001b[0m 12ms/step - categorical_accuracy: 0.8580 - loss: 1.0783 - val_categorical_accuracy: 0.9147 - val_loss: 1.0171\n",
      "Epoch 103/200\n",
      "\u001b[1m164/164\u001b[0m \u001b[32m━━━━━━━━━━━━━━━━━━━━\u001b[0m\u001b[37m\u001b[0m \u001b[1m2s\u001b[0m 12ms/step - categorical_accuracy: 0.8505 - loss: 1.0724 - val_categorical_accuracy: 0.9147 - val_loss: 1.0136\n",
      "Epoch 104/200\n",
      "\u001b[1m164/164\u001b[0m \u001b[32m━━━━━━━━━━━━━━━━━━━━\u001b[0m\u001b[37m\u001b[0m \u001b[1m2s\u001b[0m 12ms/step - categorical_accuracy: 0.8542 - loss: 1.0681 - val_categorical_accuracy: 0.9147 - val_loss: 1.0102\n",
      "Epoch 105/200\n",
      "\u001b[1m164/164\u001b[0m \u001b[32m━━━━━━━━━━━━━━━━━━━━\u001b[0m\u001b[37m\u001b[0m \u001b[1m2s\u001b[0m 12ms/step - categorical_accuracy: 0.8531 - loss: 1.0697 - val_categorical_accuracy: 0.9147 - val_loss: 1.0067\n",
      "Epoch 106/200\n",
      "\u001b[1m164/164\u001b[0m \u001b[32m━━━━━━━━━━━━━━━━━━━━\u001b[0m\u001b[37m\u001b[0m \u001b[1m2s\u001b[0m 11ms/step - categorical_accuracy: 0.8551 - loss: 1.0640 - val_categorical_accuracy: 0.9147 - val_loss: 1.0033\n",
      "Epoch 107/200\n",
      "\u001b[1m164/164\u001b[0m \u001b[32m━━━━━━━━━━━━━━━━━━━━\u001b[0m\u001b[37m\u001b[0m \u001b[1m2s\u001b[0m 12ms/step - categorical_accuracy: 0.8515 - loss: 1.0691 - val_categorical_accuracy: 0.9147 - val_loss: 0.9999\n",
      "Epoch 108/200\n",
      "\u001b[1m164/164\u001b[0m \u001b[32m━━━━━━━━━━━━━━━━━━━━\u001b[0m\u001b[37m\u001b[0m \u001b[1m2s\u001b[0m 12ms/step - categorical_accuracy: 0.8455 - loss: 1.0782 - val_categorical_accuracy: 0.9147 - val_loss: 0.9965\n",
      "Epoch 109/200\n",
      "\u001b[1m164/164\u001b[0m \u001b[32m━━━━━━━━━━━━━━━━━━━━\u001b[0m\u001b[37m\u001b[0m \u001b[1m2s\u001b[0m 12ms/step - categorical_accuracy: 0.8554 - loss: 1.0618 - val_categorical_accuracy: 0.9147 - val_loss: 0.9931\n",
      "Epoch 110/200\n",
      "\u001b[1m164/164\u001b[0m \u001b[32m━━━━━━━━━━━━━━━━━━━━\u001b[0m\u001b[37m\u001b[0m \u001b[1m2s\u001b[0m 12ms/step - categorical_accuracy: 0.8486 - loss: 1.0638 - val_categorical_accuracy: 0.9147 - val_loss: 0.9897\n",
      "Epoch 111/200\n",
      "\u001b[1m164/164\u001b[0m \u001b[32m━━━━━━━━━━━━━━━━━━━━\u001b[0m\u001b[37m\u001b[0m \u001b[1m2s\u001b[0m 12ms/step - categorical_accuracy: 0.8548 - loss: 1.0518 - val_categorical_accuracy: 0.9147 - val_loss: 0.9863\n",
      "Epoch 112/200\n",
      "\u001b[1m164/164\u001b[0m \u001b[32m━━━━━━━━━━━━━━━━━━━━\u001b[0m\u001b[37m\u001b[0m \u001b[1m2s\u001b[0m 12ms/step - categorical_accuracy: 0.8480 - loss: 1.0545 - val_categorical_accuracy: 0.9147 - val_loss: 0.9829\n",
      "Epoch 113/200\n",
      "\u001b[1m164/164\u001b[0m \u001b[32m━━━━━━━━━━━━━━━━━━━━\u001b[0m\u001b[37m\u001b[0m \u001b[1m2s\u001b[0m 12ms/step - categorical_accuracy: 0.8540 - loss: 1.0389 - val_categorical_accuracy: 0.9147 - val_loss: 0.9795\n",
      "Epoch 114/200\n",
      "\u001b[1m164/164\u001b[0m \u001b[32m━━━━━━━━━━━━━━━━━━━━\u001b[0m\u001b[37m\u001b[0m \u001b[1m3s\u001b[0m 12ms/step - categorical_accuracy: 0.8555 - loss: 1.0460 - val_categorical_accuracy: 0.9147 - val_loss: 0.9761\n",
      "Epoch 115/200\n",
      "\u001b[1m164/164\u001b[0m \u001b[32m━━━━━━━━━━━━━━━━━━━━\u001b[0m\u001b[37m\u001b[0m \u001b[1m2s\u001b[0m 12ms/step - categorical_accuracy: 0.8483 - loss: 1.0499 - val_categorical_accuracy: 0.9147 - val_loss: 0.9727\n",
      "Epoch 116/200\n",
      "\u001b[1m164/164\u001b[0m \u001b[32m━━━━━━━━━━━━━━━━━━━━\u001b[0m\u001b[37m\u001b[0m \u001b[1m2s\u001b[0m 12ms/step - categorical_accuracy: 0.8528 - loss: 1.0333 - val_categorical_accuracy: 0.9147 - val_loss: 0.9693\n",
      "Epoch 117/200\n",
      "\u001b[1m164/164\u001b[0m \u001b[32m━━━━━━━━━━━━━━━━━━━━\u001b[0m\u001b[37m\u001b[0m \u001b[1m2s\u001b[0m 12ms/step - categorical_accuracy: 0.8493 - loss: 1.0350 - val_categorical_accuracy: 0.9147 - val_loss: 0.9659\n",
      "Epoch 118/200\n",
      "\u001b[1m164/164\u001b[0m \u001b[32m━━━━━━━━━━━━━━━━━━━━\u001b[0m\u001b[37m\u001b[0m \u001b[1m2s\u001b[0m 12ms/step - categorical_accuracy: 0.8558 - loss: 1.0283 - val_categorical_accuracy: 0.9147 - val_loss: 0.9625\n",
      "Epoch 119/200\n",
      "\u001b[1m164/164\u001b[0m \u001b[32m━━━━━━━━━━━━━━━━━━━━\u001b[0m\u001b[37m\u001b[0m \u001b[1m2s\u001b[0m 12ms/step - categorical_accuracy: 0.8580 - loss: 1.0169 - val_categorical_accuracy: 0.9147 - val_loss: 0.9591\n",
      "Epoch 120/200\n",
      "\u001b[1m164/164\u001b[0m \u001b[32m━━━━━━━━━━━━━━━━━━━━\u001b[0m\u001b[37m\u001b[0m \u001b[1m2s\u001b[0m 12ms/step - categorical_accuracy: 0.8547 - loss: 1.0188 - val_categorical_accuracy: 0.9147 - val_loss: 0.9558\n",
      "Epoch 121/200\n",
      "\u001b[1m164/164\u001b[0m \u001b[32m━━━━━━━━━━━━━━━━━━━━\u001b[0m\u001b[37m\u001b[0m \u001b[1m2s\u001b[0m 12ms/step - categorical_accuracy: 0.8514 - loss: 1.0172 - val_categorical_accuracy: 0.9147 - val_loss: 0.9524\n",
      "Epoch 122/200\n",
      "\u001b[1m164/164\u001b[0m \u001b[32m━━━━━━━━━━━━━━━━━━━━\u001b[0m\u001b[37m\u001b[0m \u001b[1m2s\u001b[0m 14ms/step - categorical_accuracy: 0.8532 - loss: 1.0183 - val_categorical_accuracy: 0.9147 - val_loss: 0.9490\n",
      "Epoch 123/200\n",
      "\u001b[1m164/164\u001b[0m \u001b[32m━━━━━━━━━━━━━━━━━━━━\u001b[0m\u001b[37m\u001b[0m \u001b[1m2s\u001b[0m 12ms/step - categorical_accuracy: 0.8526 - loss: 1.0207 - val_categorical_accuracy: 0.9147 - val_loss: 0.9457\n",
      "Epoch 124/200\n",
      "\u001b[1m164/164\u001b[0m \u001b[32m━━━━━━━━━━━━━━━━━━━━\u001b[0m\u001b[37m\u001b[0m \u001b[1m2s\u001b[0m 12ms/step - categorical_accuracy: 0.8528 - loss: 1.0127 - val_categorical_accuracy: 0.9147 - val_loss: 0.9423\n",
      "Epoch 125/200\n",
      "\u001b[1m164/164\u001b[0m \u001b[32m━━━━━━━━━━━━━━━━━━━━\u001b[0m\u001b[37m\u001b[0m \u001b[1m2s\u001b[0m 12ms/step - categorical_accuracy: 0.8528 - loss: 1.0168 - val_categorical_accuracy: 0.9147 - val_loss: 0.9389\n",
      "Epoch 126/200\n",
      "\u001b[1m164/164\u001b[0m \u001b[32m━━━━━━━━━━━━━━━━━━━━\u001b[0m\u001b[37m\u001b[0m \u001b[1m2s\u001b[0m 12ms/step - categorical_accuracy: 0.8528 - loss: 1.0083 - val_categorical_accuracy: 0.9147 - val_loss: 0.9355\n",
      "Epoch 127/200\n",
      "\u001b[1m164/164\u001b[0m \u001b[32m━━━━━━━━━━━━━━━━━━━━\u001b[0m\u001b[37m\u001b[0m \u001b[1m2s\u001b[0m 12ms/step - categorical_accuracy: 0.8538 - loss: 0.9996 - val_categorical_accuracy: 0.9147 - val_loss: 0.9322\n",
      "Epoch 128/200\n",
      "\u001b[1m164/164\u001b[0m \u001b[32m━━━━━━━━━━━━━━━━━━━━\u001b[0m\u001b[37m\u001b[0m \u001b[1m2s\u001b[0m 12ms/step - categorical_accuracy: 0.8516 - loss: 0.9984 - val_categorical_accuracy: 0.9147 - val_loss: 0.9288\n",
      "Epoch 129/200\n",
      "\u001b[1m164/164\u001b[0m \u001b[32m━━━━━━━━━━━━━━━━━━━━\u001b[0m\u001b[37m\u001b[0m \u001b[1m2s\u001b[0m 12ms/step - categorical_accuracy: 0.8537 - loss: 0.9988 - val_categorical_accuracy: 0.9147 - val_loss: 0.9255\n",
      "Epoch 130/200\n",
      "\u001b[1m164/164\u001b[0m \u001b[32m━━━━━━━━━━━━━━━━━━━━\u001b[0m\u001b[37m\u001b[0m \u001b[1m2s\u001b[0m 12ms/step - categorical_accuracy: 0.8534 - loss: 0.9983 - val_categorical_accuracy: 0.9147 - val_loss: 0.9221\n",
      "Epoch 131/200\n",
      "\u001b[1m164/164\u001b[0m \u001b[32m━━━━━━━━━━━━━━━━━━━━\u001b[0m\u001b[37m\u001b[0m \u001b[1m2s\u001b[0m 12ms/step - categorical_accuracy: 0.8517 - loss: 0.9969 - val_categorical_accuracy: 0.9147 - val_loss: 0.9188\n",
      "Epoch 132/200\n",
      "\u001b[1m164/164\u001b[0m \u001b[32m━━━━━━━━━━━━━━━━━━━━\u001b[0m\u001b[37m\u001b[0m \u001b[1m2s\u001b[0m 12ms/step - categorical_accuracy: 0.8569 - loss: 0.9788 - val_categorical_accuracy: 0.9147 - val_loss: 0.9154\n",
      "Epoch 133/200\n",
      "\u001b[1m164/164\u001b[0m \u001b[32m━━━━━━━━━━━━━━━━━━━━\u001b[0m\u001b[37m\u001b[0m \u001b[1m2s\u001b[0m 12ms/step - categorical_accuracy: 0.8545 - loss: 0.9783 - val_categorical_accuracy: 0.9147 - val_loss: 0.9121\n",
      "Epoch 134/200\n",
      "\u001b[1m164/164\u001b[0m \u001b[32m━━━━━━━━━━━━━━━━━━━━\u001b[0m\u001b[37m\u001b[0m \u001b[1m2s\u001b[0m 12ms/step - categorical_accuracy: 0.8532 - loss: 0.9842 - val_categorical_accuracy: 0.9147 - val_loss: 0.9088\n",
      "Epoch 135/200\n",
      "\u001b[1m164/164\u001b[0m \u001b[32m━━━━━━━━━━━━━━━━━━━━\u001b[0m\u001b[37m\u001b[0m \u001b[1m2s\u001b[0m 12ms/step - categorical_accuracy: 0.8558 - loss: 0.9747 - val_categorical_accuracy: 0.9140 - val_loss: 0.9054\n",
      "Epoch 136/200\n",
      "\u001b[1m164/164\u001b[0m \u001b[32m━━━━━━━━━━━━━━━━━━━━\u001b[0m\u001b[37m\u001b[0m \u001b[1m2s\u001b[0m 12ms/step - categorical_accuracy: 0.8573 - loss: 0.9714 - val_categorical_accuracy: 0.9140 - val_loss: 0.9021\n",
      "Epoch 137/200\n",
      "\u001b[1m164/164\u001b[0m \u001b[32m━━━━━━━━━━━━━━━━━━━━\u001b[0m\u001b[37m\u001b[0m \u001b[1m2s\u001b[0m 13ms/step - categorical_accuracy: 0.8492 - loss: 0.9808 - val_categorical_accuracy: 0.9140 - val_loss: 0.8988\n",
      "Epoch 138/200\n",
      "\u001b[1m164/164\u001b[0m \u001b[32m━━━━━━━━━━━━━━━━━━━━\u001b[0m\u001b[37m\u001b[0m \u001b[1m2s\u001b[0m 12ms/step - categorical_accuracy: 0.8489 - loss: 0.9782 - val_categorical_accuracy: 0.9140 - val_loss: 0.8955\n",
      "Epoch 139/200\n",
      "\u001b[1m164/164\u001b[0m \u001b[32m━━━━━━━━━━━━━━━━━━━━\u001b[0m\u001b[37m\u001b[0m \u001b[1m2s\u001b[0m 12ms/step - categorical_accuracy: 0.8524 - loss: 0.9680 - val_categorical_accuracy: 0.9140 - val_loss: 0.8921\n",
      "Epoch 140/200\n",
      "\u001b[1m164/164\u001b[0m \u001b[32m━━━━━━━━━━━━━━━━━━━━\u001b[0m\u001b[37m\u001b[0m \u001b[1m2s\u001b[0m 12ms/step - categorical_accuracy: 0.8536 - loss: 0.9621 - val_categorical_accuracy: 0.9140 - val_loss: 0.8888\n",
      "Epoch 141/200\n",
      "\u001b[1m164/164\u001b[0m \u001b[32m━━━━━━━━━━━━━━━━━━━━\u001b[0m\u001b[37m\u001b[0m \u001b[1m2s\u001b[0m 12ms/step - categorical_accuracy: 0.8491 - loss: 0.9681 - val_categorical_accuracy: 0.9140 - val_loss: 0.8856\n",
      "Epoch 142/200\n",
      "\u001b[1m164/164\u001b[0m \u001b[32m━━━━━━━━━━━━━━━━━━━━\u001b[0m\u001b[37m\u001b[0m \u001b[1m2s\u001b[0m 12ms/step - categorical_accuracy: 0.8518 - loss: 0.9565 - val_categorical_accuracy: 0.9140 - val_loss: 0.8822\n",
      "Epoch 143/200\n",
      "\u001b[1m164/164\u001b[0m \u001b[32m━━━━━━━━━━━━━━━━━━━━\u001b[0m\u001b[37m\u001b[0m \u001b[1m2s\u001b[0m 12ms/step - categorical_accuracy: 0.8556 - loss: 0.9509 - val_categorical_accuracy: 0.9140 - val_loss: 0.8789\n",
      "Epoch 144/200\n",
      "\u001b[1m164/164\u001b[0m \u001b[32m━━━━━━━━━━━━━━━━━━━━\u001b[0m\u001b[37m\u001b[0m \u001b[1m2s\u001b[0m 12ms/step - categorical_accuracy: 0.8547 - loss: 0.9536 - val_categorical_accuracy: 0.9140 - val_loss: 0.8756\n",
      "Epoch 145/200\n",
      "\u001b[1m164/164\u001b[0m \u001b[32m━━━━━━━━━━━━━━━━━━━━\u001b[0m\u001b[37m\u001b[0m \u001b[1m2s\u001b[0m 12ms/step - categorical_accuracy: 0.8490 - loss: 0.9514 - val_categorical_accuracy: 0.9140 - val_loss: 0.8723\n",
      "Epoch 146/200\n",
      "\u001b[1m164/164\u001b[0m \u001b[32m━━━━━━━━━━━━━━━━━━━━\u001b[0m\u001b[37m\u001b[0m \u001b[1m2s\u001b[0m 12ms/step - categorical_accuracy: 0.8523 - loss: 0.9498 - val_categorical_accuracy: 0.9140 - val_loss: 0.8690\n",
      "Epoch 147/200\n",
      "\u001b[1m164/164\u001b[0m \u001b[32m━━━━━━━━━━━━━━━━━━━━\u001b[0m\u001b[37m\u001b[0m \u001b[1m2s\u001b[0m 12ms/step - categorical_accuracy: 0.8554 - loss: 0.9418 - val_categorical_accuracy: 0.9140 - val_loss: 0.8658\n",
      "Epoch 148/200\n",
      "\u001b[1m164/164\u001b[0m \u001b[32m━━━━━━━━━━━━━━━━━━━━\u001b[0m\u001b[37m\u001b[0m \u001b[1m2s\u001b[0m 12ms/step - categorical_accuracy: 0.8517 - loss: 0.9429 - val_categorical_accuracy: 0.9140 - val_loss: 0.8626\n",
      "Epoch 149/200\n",
      "\u001b[1m164/164\u001b[0m \u001b[32m━━━━━━━━━━━━━━━━━━━━\u001b[0m\u001b[37m\u001b[0m \u001b[1m2s\u001b[0m 12ms/step - categorical_accuracy: 0.8533 - loss: 0.9355 - val_categorical_accuracy: 0.9140 - val_loss: 0.8593\n",
      "Epoch 150/200\n",
      "\u001b[1m164/164\u001b[0m \u001b[32m━━━━━━━━━━━━━━━━━━━━\u001b[0m\u001b[37m\u001b[0m \u001b[1m2s\u001b[0m 12ms/step - categorical_accuracy: 0.8516 - loss: 0.9339 - val_categorical_accuracy: 0.9140 - val_loss: 0.8560\n",
      "Epoch 151/200\n",
      "\u001b[1m164/164\u001b[0m \u001b[32m━━━━━━━━━━━━━━━━━━━━\u001b[0m\u001b[37m\u001b[0m \u001b[1m2s\u001b[0m 13ms/step - categorical_accuracy: 0.8515 - loss: 0.9385 - val_categorical_accuracy: 0.9140 - val_loss: 0.8528\n",
      "Epoch 152/200\n",
      "\u001b[1m164/164\u001b[0m \u001b[32m━━━━━━━━━━━━━━━━━━━━\u001b[0m\u001b[37m\u001b[0m \u001b[1m2s\u001b[0m 13ms/step - categorical_accuracy: 0.8515 - loss: 0.9267 - val_categorical_accuracy: 0.9140 - val_loss: 0.8496\n",
      "Epoch 153/200\n",
      "\u001b[1m164/164\u001b[0m \u001b[32m━━━━━━━━━━━━━━━━━━━━\u001b[0m\u001b[37m\u001b[0m \u001b[1m2s\u001b[0m 12ms/step - categorical_accuracy: 0.8512 - loss: 0.9277 - val_categorical_accuracy: 0.9140 - val_loss: 0.8463\n",
      "Epoch 154/200\n",
      "\u001b[1m164/164\u001b[0m \u001b[32m━━━━━━━━━━━━━━━━━━━━\u001b[0m\u001b[37m\u001b[0m \u001b[1m2s\u001b[0m 12ms/step - categorical_accuracy: 0.8549 - loss: 0.9194 - val_categorical_accuracy: 0.9140 - val_loss: 0.8432\n",
      "Epoch 155/200\n",
      "\u001b[1m164/164\u001b[0m \u001b[32m━━━━━━━━━━━━━━━━━━━━\u001b[0m\u001b[37m\u001b[0m \u001b[1m2s\u001b[0m 12ms/step - categorical_accuracy: 0.8517 - loss: 0.9217 - val_categorical_accuracy: 0.9140 - val_loss: 0.8399\n",
      "Epoch 156/200\n",
      "\u001b[1m164/164\u001b[0m \u001b[32m━━━━━━━━━━━━━━━━━━━━\u001b[0m\u001b[37m\u001b[0m \u001b[1m2s\u001b[0m 12ms/step - categorical_accuracy: 0.8498 - loss: 0.9170 - val_categorical_accuracy: 0.9140 - val_loss: 0.8367\n",
      "Epoch 157/200\n",
      "\u001b[1m164/164\u001b[0m \u001b[32m━━━━━━━━━━━━━━━━━━━━\u001b[0m\u001b[37m\u001b[0m \u001b[1m2s\u001b[0m 12ms/step - categorical_accuracy: 0.8547 - loss: 0.9181 - val_categorical_accuracy: 0.9140 - val_loss: 0.8335\n",
      "Epoch 158/200\n",
      "\u001b[1m164/164\u001b[0m \u001b[32m━━━━━━━━━━━━━━━━━━━━\u001b[0m\u001b[37m\u001b[0m \u001b[1m2s\u001b[0m 12ms/step - categorical_accuracy: 0.8523 - loss: 0.9138 - val_categorical_accuracy: 0.9140 - val_loss: 0.8304\n",
      "Epoch 159/200\n",
      "\u001b[1m164/164\u001b[0m \u001b[32m━━━━━━━━━━━━━━━━━━━━\u001b[0m\u001b[37m\u001b[0m \u001b[1m2s\u001b[0m 12ms/step - categorical_accuracy: 0.8512 - loss: 0.9124 - val_categorical_accuracy: 0.9140 - val_loss: 0.8272\n",
      "Epoch 160/200\n",
      "\u001b[1m164/164\u001b[0m \u001b[32m━━━━━━━━━━━━━━━━━━━━\u001b[0m\u001b[37m\u001b[0m \u001b[1m2s\u001b[0m 12ms/step - categorical_accuracy: 0.8480 - loss: 0.9087 - val_categorical_accuracy: 0.9140 - val_loss: 0.8241\n",
      "Epoch 161/200\n",
      "\u001b[1m164/164\u001b[0m \u001b[32m━━━━━━━━━━━━━━━━━━━━\u001b[0m\u001b[37m\u001b[0m \u001b[1m2s\u001b[0m 12ms/step - categorical_accuracy: 0.8525 - loss: 0.8944 - val_categorical_accuracy: 0.9140 - val_loss: 0.8209\n",
      "Epoch 162/200\n",
      "\u001b[1m164/164\u001b[0m \u001b[32m━━━━━━━━━━━━━━━━━━━━\u001b[0m\u001b[37m\u001b[0m \u001b[1m2s\u001b[0m 12ms/step - categorical_accuracy: 0.8498 - loss: 0.9046 - val_categorical_accuracy: 0.9140 - val_loss: 0.8179\n",
      "Epoch 163/200\n",
      "\u001b[1m164/164\u001b[0m \u001b[32m━━━━━━━━━━━━━━━━━━━━\u001b[0m\u001b[37m\u001b[0m \u001b[1m2s\u001b[0m 12ms/step - categorical_accuracy: 0.8496 - loss: 0.9029 - val_categorical_accuracy: 0.9140 - val_loss: 0.8146\n",
      "Epoch 164/200\n",
      "\u001b[1m164/164\u001b[0m \u001b[32m━━━━━━━━━━━━━━━━━━━━\u001b[0m\u001b[37m\u001b[0m \u001b[1m2s\u001b[0m 12ms/step - categorical_accuracy: 0.8494 - loss: 0.8958 - val_categorical_accuracy: 0.9140 - val_loss: 0.8115\n",
      "Epoch 165/200\n",
      "\u001b[1m164/164\u001b[0m \u001b[32m━━━━━━━━━━━━━━━━━━━━\u001b[0m\u001b[37m\u001b[0m \u001b[1m2s\u001b[0m 12ms/step - categorical_accuracy: 0.8513 - loss: 0.8925 - val_categorical_accuracy: 0.9140 - val_loss: 0.8086\n",
      "Epoch 166/200\n",
      "\u001b[1m164/164\u001b[0m \u001b[32m━━━━━━━━━━━━━━━━━━━━\u001b[0m\u001b[37m\u001b[0m \u001b[1m2s\u001b[0m 13ms/step - categorical_accuracy: 0.8537 - loss: 0.8922 - val_categorical_accuracy: 0.9140 - val_loss: 0.8054\n",
      "Epoch 167/200\n",
      "\u001b[1m164/164\u001b[0m \u001b[32m━━━━━━━━━━━━━━━━━━━━\u001b[0m\u001b[37m\u001b[0m \u001b[1m2s\u001b[0m 12ms/step - categorical_accuracy: 0.8522 - loss: 0.8843 - val_categorical_accuracy: 0.9140 - val_loss: 0.8023\n",
      "Epoch 168/200\n",
      "\u001b[1m164/164\u001b[0m \u001b[32m━━━━━━━━━━━━━━━━━━━━\u001b[0m\u001b[37m\u001b[0m \u001b[1m2s\u001b[0m 12ms/step - categorical_accuracy: 0.8515 - loss: 0.8852 - val_categorical_accuracy: 0.9143 - val_loss: 0.7993\n",
      "Epoch 169/200\n",
      "\u001b[1m164/164\u001b[0m \u001b[32m━━━━━━━━━━━━━━━━━━━━\u001b[0m\u001b[37m\u001b[0m \u001b[1m2s\u001b[0m 13ms/step - categorical_accuracy: 0.8532 - loss: 0.8754 - val_categorical_accuracy: 0.9143 - val_loss: 0.7963\n",
      "Epoch 170/200\n",
      "\u001b[1m164/164\u001b[0m \u001b[32m━━━━━━━━━━━━━━━━━━━━\u001b[0m\u001b[37m\u001b[0m \u001b[1m2s\u001b[0m 12ms/step - categorical_accuracy: 0.8533 - loss: 0.8735 - val_categorical_accuracy: 0.9143 - val_loss: 0.7932\n",
      "Epoch 171/200\n",
      "\u001b[1m164/164\u001b[0m \u001b[32m━━━━━━━━━━━━━━━━━━━━\u001b[0m\u001b[37m\u001b[0m \u001b[1m2s\u001b[0m 12ms/step - categorical_accuracy: 0.8513 - loss: 0.8717 - val_categorical_accuracy: 0.9143 - val_loss: 0.7902\n",
      "Epoch 172/200\n",
      "\u001b[1m164/164\u001b[0m \u001b[32m━━━━━━━━━━━━━━━━━━━━\u001b[0m\u001b[37m\u001b[0m \u001b[1m2s\u001b[0m 12ms/step - categorical_accuracy: 0.8543 - loss: 0.8621 - val_categorical_accuracy: 0.9143 - val_loss: 0.7871\n",
      "Epoch 173/200\n",
      "\u001b[1m164/164\u001b[0m \u001b[32m━━━━━━━━━━━━━━━━━━━━\u001b[0m\u001b[37m\u001b[0m \u001b[1m2s\u001b[0m 12ms/step - categorical_accuracy: 0.8521 - loss: 0.8690 - val_categorical_accuracy: 0.9143 - val_loss: 0.7844\n",
      "Epoch 174/200\n",
      "\u001b[1m164/164\u001b[0m \u001b[32m━━━━━━━━━━━━━━━━━━━━\u001b[0m\u001b[37m\u001b[0m \u001b[1m2s\u001b[0m 12ms/step - categorical_accuracy: 0.8520 - loss: 0.8605 - val_categorical_accuracy: 0.9143 - val_loss: 0.7813\n",
      "Epoch 175/200\n",
      "\u001b[1m164/164\u001b[0m \u001b[32m━━━━━━━━━━━━━━━━━━━━\u001b[0m\u001b[37m\u001b[0m \u001b[1m2s\u001b[0m 12ms/step - categorical_accuracy: 0.8551 - loss: 0.8551 - val_categorical_accuracy: 0.9143 - val_loss: 0.7784\n",
      "Epoch 176/200\n",
      "\u001b[1m164/164\u001b[0m \u001b[32m━━━━━━━━━━━━━━━━━━━━\u001b[0m\u001b[37m\u001b[0m \u001b[1m2s\u001b[0m 12ms/step - categorical_accuracy: 0.8543 - loss: 0.8518 - val_categorical_accuracy: 0.9143 - val_loss: 0.7753\n",
      "Epoch 177/200\n",
      "\u001b[1m164/164\u001b[0m \u001b[32m━━━━━━━━━━━━━━━━━━━━\u001b[0m\u001b[37m\u001b[0m \u001b[1m2s\u001b[0m 12ms/step - categorical_accuracy: 0.8512 - loss: 0.8609 - val_categorical_accuracy: 0.9143 - val_loss: 0.7725\n",
      "Epoch 178/200\n",
      "\u001b[1m164/164\u001b[0m \u001b[32m━━━━━━━━━━━━━━━━━━━━\u001b[0m\u001b[37m\u001b[0m \u001b[1m2s\u001b[0m 14ms/step - categorical_accuracy: 0.8542 - loss: 0.8542 - val_categorical_accuracy: 0.9143 - val_loss: 0.7696\n",
      "Epoch 179/200\n",
      "\u001b[1m164/164\u001b[0m \u001b[32m━━━━━━━━━━━━━━━━━━━━\u001b[0m\u001b[37m\u001b[0m \u001b[1m2s\u001b[0m 12ms/step - categorical_accuracy: 0.8459 - loss: 0.8664 - val_categorical_accuracy: 0.9143 - val_loss: 0.7668\n",
      "Epoch 180/200\n",
      "\u001b[1m164/164\u001b[0m \u001b[32m━━━━━━━━━━━━━━━━━━━━\u001b[0m\u001b[37m\u001b[0m \u001b[1m2s\u001b[0m 14ms/step - categorical_accuracy: 0.8486 - loss: 0.8543 - val_categorical_accuracy: 0.9143 - val_loss: 0.7639\n",
      "Epoch 181/200\n",
      "\u001b[1m164/164\u001b[0m \u001b[32m━━━━━━━━━━━━━━━━━━━━\u001b[0m\u001b[37m\u001b[0m \u001b[1m2s\u001b[0m 13ms/step - categorical_accuracy: 0.8559 - loss: 0.8419 - val_categorical_accuracy: 0.9143 - val_loss: 0.7610\n",
      "Epoch 182/200\n",
      "\u001b[1m164/164\u001b[0m \u001b[32m━━━━━━━━━━━━━━━━━━━━\u001b[0m\u001b[37m\u001b[0m \u001b[1m2s\u001b[0m 13ms/step - categorical_accuracy: 0.8511 - loss: 0.8468 - val_categorical_accuracy: 0.9143 - val_loss: 0.7583\n",
      "Epoch 183/200\n",
      "\u001b[1m164/164\u001b[0m \u001b[32m━━━━━━━━━━━━━━━━━━━━\u001b[0m\u001b[37m\u001b[0m \u001b[1m2s\u001b[0m 13ms/step - categorical_accuracy: 0.8530 - loss: 0.8405 - val_categorical_accuracy: 0.9143 - val_loss: 0.7554\n",
      "Epoch 184/200\n",
      "\u001b[1m164/164\u001b[0m \u001b[32m━━━━━━━━━━━━━━━━━━━━\u001b[0m\u001b[37m\u001b[0m \u001b[1m2s\u001b[0m 14ms/step - categorical_accuracy: 0.8509 - loss: 0.8397 - val_categorical_accuracy: 0.9143 - val_loss: 0.7527\n",
      "Epoch 185/200\n",
      "\u001b[1m164/164\u001b[0m \u001b[32m━━━━━━━━━━━━━━━━━━━━\u001b[0m\u001b[37m\u001b[0m \u001b[1m2s\u001b[0m 13ms/step - categorical_accuracy: 0.8518 - loss: 0.8398 - val_categorical_accuracy: 0.9143 - val_loss: 0.7498\n",
      "Epoch 186/200\n",
      "\u001b[1m164/164\u001b[0m \u001b[32m━━━━━━━━━━━━━━━━━━━━\u001b[0m\u001b[37m\u001b[0m \u001b[1m3s\u001b[0m 12ms/step - categorical_accuracy: 0.8494 - loss: 0.8479 - val_categorical_accuracy: 0.9143 - val_loss: 0.7471\n",
      "Epoch 187/200\n",
      "\u001b[1m164/164\u001b[0m \u001b[32m━━━━━━━━━━━━━━━━━━━━\u001b[0m\u001b[37m\u001b[0m \u001b[1m2s\u001b[0m 12ms/step - categorical_accuracy: 0.8479 - loss: 0.8434 - val_categorical_accuracy: 0.9143 - val_loss: 0.7443\n",
      "Epoch 188/200\n",
      "\u001b[1m164/164\u001b[0m \u001b[32m━━━━━━━━━━━━━━━━━━━━\u001b[0m\u001b[37m\u001b[0m \u001b[1m2s\u001b[0m 12ms/step - categorical_accuracy: 0.8520 - loss: 0.8407 - val_categorical_accuracy: 0.9143 - val_loss: 0.7418\n",
      "Epoch 189/200\n",
      "\u001b[1m164/164\u001b[0m \u001b[32m━━━━━━━━━━━━━━━━━━━━\u001b[0m\u001b[37m\u001b[0m \u001b[1m2s\u001b[0m 12ms/step - categorical_accuracy: 0.8517 - loss: 0.8247 - val_categorical_accuracy: 0.9143 - val_loss: 0.7390\n",
      "Epoch 190/200\n",
      "\u001b[1m164/164\u001b[0m \u001b[32m━━━━━━━━━━━━━━━━━━━━\u001b[0m\u001b[37m\u001b[0m \u001b[1m2s\u001b[0m 12ms/step - categorical_accuracy: 0.8509 - loss: 0.8244 - val_categorical_accuracy: 0.9143 - val_loss: 0.7363\n",
      "Epoch 191/200\n",
      "\u001b[1m164/164\u001b[0m \u001b[32m━━━━━━━━━━━━━━━━━━━━\u001b[0m\u001b[37m\u001b[0m \u001b[1m2s\u001b[0m 13ms/step - categorical_accuracy: 0.8516 - loss: 0.8295 - val_categorical_accuracy: 0.9143 - val_loss: 0.7337\n",
      "Epoch 192/200\n",
      "\u001b[1m164/164\u001b[0m \u001b[32m━━━━━━━━━━━━━━━━━━━━\u001b[0m\u001b[37m\u001b[0m \u001b[1m2s\u001b[0m 13ms/step - categorical_accuracy: 0.8531 - loss: 0.8176 - val_categorical_accuracy: 0.9143 - val_loss: 0.7310\n",
      "Epoch 193/200\n",
      "\u001b[1m164/164\u001b[0m \u001b[32m━━━━━━━━━━━━━━━━━━━━\u001b[0m\u001b[37m\u001b[0m \u001b[1m2s\u001b[0m 13ms/step - categorical_accuracy: 0.8558 - loss: 0.8119 - val_categorical_accuracy: 0.9143 - val_loss: 0.7285\n",
      "Epoch 194/200\n",
      "\u001b[1m164/164\u001b[0m \u001b[32m━━━━━━━━━━━━━━━━━━━━\u001b[0m\u001b[37m\u001b[0m \u001b[1m2s\u001b[0m 15ms/step - categorical_accuracy: 0.8561 - loss: 0.8029 - val_categorical_accuracy: 0.9143 - val_loss: 0.7260\n",
      "Epoch 195/200\n",
      "\u001b[1m164/164\u001b[0m \u001b[32m━━━━━━━━━━━━━━━━━━━━\u001b[0m\u001b[37m\u001b[0m \u001b[1m2s\u001b[0m 14ms/step - categorical_accuracy: 0.8483 - loss: 0.8240 - val_categorical_accuracy: 0.9143 - val_loss: 0.7231\n",
      "Epoch 196/200\n",
      "\u001b[1m164/164\u001b[0m \u001b[32m━━━━━━━━━━━━━━━━━━━━\u001b[0m\u001b[37m\u001b[0m \u001b[1m2s\u001b[0m 13ms/step - categorical_accuracy: 0.8496 - loss: 0.8125 - val_categorical_accuracy: 0.9143 - val_loss: 0.7207\n",
      "Epoch 197/200\n",
      "\u001b[1m164/164\u001b[0m \u001b[32m━━━━━━━━━━━━━━━━━━━━\u001b[0m\u001b[37m\u001b[0m \u001b[1m2s\u001b[0m 12ms/step - categorical_accuracy: 0.8514 - loss: 0.8084 - val_categorical_accuracy: 0.9143 - val_loss: 0.7181\n",
      "Epoch 198/200\n",
      "\u001b[1m164/164\u001b[0m \u001b[32m━━━━━━━━━━━━━━━━━━━━\u001b[0m\u001b[37m\u001b[0m \u001b[1m2s\u001b[0m 14ms/step - categorical_accuracy: 0.8531 - loss: 0.8073 - val_categorical_accuracy: 0.9143 - val_loss: 0.7158\n",
      "Epoch 199/200\n",
      "\u001b[1m164/164\u001b[0m \u001b[32m━━━━━━━━━━━━━━━━━━━━\u001b[0m\u001b[37m\u001b[0m \u001b[1m2s\u001b[0m 13ms/step - categorical_accuracy: 0.8499 - loss: 0.8060 - val_categorical_accuracy: 0.9143 - val_loss: 0.7132\n",
      "Epoch 200/200\n",
      "\u001b[1m164/164\u001b[0m \u001b[32m━━━━━━━━━━━━━━━━━━━━\u001b[0m\u001b[37m\u001b[0m \u001b[1m2s\u001b[0m 13ms/step - categorical_accuracy: 0.8494 - loss: 0.8019 - val_categorical_accuracy: 0.9143 - val_loss: 0.7106\n"
     ]
    }
   ],
   "source": [
    "history = prefix_dfg_model_3.fit([train_dfg_probability,train_prefix_trace_encoded], train_target_encoded, epochs=200, batch_size=100, validation_data = ([val_dfg_probability,val_prefix_trace_encoded], val_target_encoded))"
   ]
  },
  {
   "cell_type": "code",
   "execution_count": 32,
   "id": "7dcf9ae6-b689-488b-a5ef-1e5ac43af09b",
   "metadata": {},
   "outputs": [
    {
     "data": {
      "image/png": "[encoded data removed]",
      "text/plain": [
       "<Figure size 640x480 with 1 Axes>"
      ]
     },
     "metadata": {},
     "output_type": "display_data"
    }
   ],
   "source": [
    "train_loss = history.history['loss']\n",
    "val_loss = history.history['val_loss']\n",
    "epochs = range(1, len(train_loss) + 1)\n",
    "\n",
    "plt.plot(epochs, train_loss, label='Training loss')\n",
    "plt.plot(epochs, val_loss, label='Validation loss')\n",
    "plt.title('Training and validation loss')\n",
    "plt.xlabel('Epochs')\n",
    "plt.ylabel('Loss')\n",
    "plt.legend()\n",
    "plt.show()"
   ]
  },
  {
   "cell_type": "code",
   "execution_count": 33,
   "id": "ca6043d0-d3ae-4eff-9055-aaea2e0d4535",
   "metadata": {},
   "outputs": [
    {
     "name": "stdout",
     "output_type": "stream",
     "text": [
      "\u001b[1m512/512\u001b[0m \u001b[32m━━━━━━━━━━━━━━━━━━━━\u001b[0m\u001b[37m\u001b[0m \u001b[1m3s\u001b[0m 5ms/step\n",
      "train model recall 85.20442461651287%\n"
     ]
    },
    {
     "data": {
      "text/plain": [
       "array(['assign seriousness', 'take in charge ticket', 'resolve ticket',\n",
       "       ..., 'resolve ticket', 'closed', 'zos'], dtype=object)"
      ]
     },
     "execution_count": 33,
     "metadata": {},
     "output_type": "execute_result"
    }
   ],
   "source": [
    "actual_label = train_target[\"activity\"]\n",
    "multi_input_prediction(prefix_dfg_model_3, train_dfg_probability,train_prefix_trace_encoded, label_encoder,actual_label)"
   ]
  },
  {
   "cell_type": "code",
   "execution_count": 34,
   "id": "a1930e06-f340-437a-bf11-94aefdc30851",
   "metadata": {},
   "outputs": [
    {
     "name": "stdout",
     "output_type": "stream",
     "text": [
      "\u001b[1m206/206\u001b[0m \u001b[32m━━━━━━━━━━━━━━━━━━━━\u001b[0m\u001b[37m\u001b[0m \u001b[1m1s\u001b[0m 5ms/step\n",
      "train model recall 82.86973704210367%\n"
     ]
    },
    {
     "data": {
      "text/plain": [
       "array(['assign seriousness', 'take in charge ticket', 'resolve ticket',\n",
       "       ..., 'resolve ticket', 'closed', 'zos'], dtype=object)"
      ]
     },
     "execution_count": 34,
     "metadata": {},
     "output_type": "execute_result"
    }
   ],
   "source": [
    "actual_label = test_target[\"activity\"]\n",
    "multi_input_prediction(prefix_dfg_model_3,test_dfg_probability, test_prefix_trace_encoded, label_encoder,actual_label)"
   ]
  },
  {
   "cell_type": "code",
   "execution_count": null,
   "id": "feed53a2-eb43-4f36-a2ae-e0c8ed2cc59e",
   "metadata": {},
   "outputs": [],
   "source": []
  },
  {
   "cell_type": "code",
   "execution_count": null,
   "id": "36b5fa86-4cf9-431c-bf79-483f2f2e3711",
   "metadata": {},
   "outputs": [],
   "source": []
  }
 ],
 "metadata": {
  "kernelspec": {
   "display_name": "Python 3 (ipykernel)",
   "language": "python",
   "name": "python3"
  },
  "language_info": {
   "codemirror_mode": {
    "name": "ipython",
    "version": 3
   },
   "file_extension": ".py",
   "mimetype": "text/x-python",
   "name": "python",
   "nbconvert_exporter": "python",
   "pygments_lexer": "ipython3",
   "version": "3.12.7"
  }
 },
 "nbformat": 4,
 "nbformat_minor": 5
}
