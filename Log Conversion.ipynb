{
 "cells": [
  {
   "cell_type": "code",
   "execution_count": 1,
   "id": "57093c7a-5a6a-4099-843c-17da11f304f2",
   "metadata": {},
   "outputs": [],
   "source": [
    "#pip install pm4py"
   ]
  },
  {
   "cell_type": "code",
   "execution_count": 2,
   "id": "69f62a03-cd48-4b6b-8ae5-f12bfbdc248a",
   "metadata": {},
   "outputs": [],
   "source": [
    "#import and preprocess data\n",
    "import numpy as np\n",
    "import pandas as pd\n",
    "import pm4py\n",
    "\n",
    "#Enode Prefix\n",
    "from sklearn.model_selection import train_test_split\n",
    "from sklearn.preprocessing import OneHotEncoder\n",
    "from sklearn.preprocessing import LabelEncoder\n",
    "from keras.preprocessing.sequence import pad_sequences"
   ]
  },
  {
   "cell_type": "markdown",
   "id": "4a86d848-e3bf-4452-a710-6f9449fd6dd6",
   "metadata": {},
   "source": [
    "HelpDesk Log"
   ]
  },
  {
   "cell_type": "markdown",
   "id": "015d57a0-0789-457c-8091-41f8b14e4b28",
   "metadata": {},
   "source": [
    "1. Load data and keep necessary columns"
   ]
  },
  {
   "cell_type": "code",
   "execution_count": 3,
   "id": "407368ca-944f-4604-a1f5-68ad763f1846",
   "metadata": {},
   "outputs": [
    {
     "data": {
      "application/vnd.jupyter.widget-view+json": {
       "model_id": "49a81ea927ff4fb9912dba28390ef2b1",
       "version_major": 2,
       "version_minor": 0
      },
      "text/plain": [
       "parsing log, completed traces ::   0%|          | 0/4580 [00:00<?, ?it/s]"
      ]
     },
     "metadata": {},
     "output_type": "display_data"
    },
    {
     "data": {
      "text/html": [
       "<div>\n",
       "<style scoped>\n",
       "    .dataframe tbody tr th:only-of-type {\n",
       "        vertical-align: middle;\n",
       "    }\n",
       "\n",
       "    .dataframe tbody tr th {\n",
       "        vertical-align: top;\n",
       "    }\n",
       "\n",
       "    .dataframe thead th {\n",
       "        text-align: right;\n",
       "    }\n",
       "</style>\n",
       "<table border=\"1\" class=\"dataframe\">\n",
       "  <thead>\n",
       "    <tr style=\"text-align: right;\">\n",
       "      <th></th>\n",
       "      <th>concept:name</th>\n",
       "      <th>lifecycle:transition</th>\n",
       "      <th>org:resource</th>\n",
       "      <th>time:timestamp</th>\n",
       "      <th>Activity</th>\n",
       "      <th>Resource</th>\n",
       "      <th>case:concept:name</th>\n",
       "      <th>case:variant</th>\n",
       "      <th>case:variant-index</th>\n",
       "      <th>case:creator</th>\n",
       "    </tr>\n",
       "  </thead>\n",
       "  <tbody>\n",
       "    <tr>\n",
       "      <th>0</th>\n",
       "      <td>Assign seriousness</td>\n",
       "      <td>complete</td>\n",
       "      <td>Value 1</td>\n",
       "      <td>2012-10-09 14:50:17+00:00</td>\n",
       "      <td>Assign seriousness</td>\n",
       "      <td>Value 1</td>\n",
       "      <td>Case1</td>\n",
       "      <td>Variant 12</td>\n",
       "      <td>12</td>\n",
       "      <td>Fluxicon Disco</td>\n",
       "    </tr>\n",
       "    <tr>\n",
       "      <th>1</th>\n",
       "      <td>Take in charge ticket</td>\n",
       "      <td>complete</td>\n",
       "      <td>Value 1</td>\n",
       "      <td>2012-10-09 14:51:01+00:00</td>\n",
       "      <td>Take in charge ticket</td>\n",
       "      <td>Value 1</td>\n",
       "      <td>Case1</td>\n",
       "      <td>Variant 12</td>\n",
       "      <td>12</td>\n",
       "      <td>Fluxicon Disco</td>\n",
       "    </tr>\n",
       "    <tr>\n",
       "      <th>2</th>\n",
       "      <td>Take in charge ticket</td>\n",
       "      <td>complete</td>\n",
       "      <td>Value 2</td>\n",
       "      <td>2012-10-12 15:02:56+00:00</td>\n",
       "      <td>Take in charge ticket</td>\n",
       "      <td>Value 2</td>\n",
       "      <td>Case1</td>\n",
       "      <td>Variant 12</td>\n",
       "      <td>12</td>\n",
       "      <td>Fluxicon Disco</td>\n",
       "    </tr>\n",
       "    <tr>\n",
       "      <th>3</th>\n",
       "      <td>Resolve ticket</td>\n",
       "      <td>complete</td>\n",
       "      <td>Value 1</td>\n",
       "      <td>2012-10-25 11:54:26+00:00</td>\n",
       "      <td>Resolve ticket</td>\n",
       "      <td>Value 1</td>\n",
       "      <td>Case1</td>\n",
       "      <td>Variant 12</td>\n",
       "      <td>12</td>\n",
       "      <td>Fluxicon Disco</td>\n",
       "    </tr>\n",
       "    <tr>\n",
       "      <th>4</th>\n",
       "      <td>Closed</td>\n",
       "      <td>complete</td>\n",
       "      <td>Value 3</td>\n",
       "      <td>2012-11-09 12:54:39+00:00</td>\n",
       "      <td>Closed</td>\n",
       "      <td>Value 3</td>\n",
       "      <td>Case1</td>\n",
       "      <td>Variant 12</td>\n",
       "      <td>12</td>\n",
       "      <td>Fluxicon Disco</td>\n",
       "    </tr>\n",
       "  </tbody>\n",
       "</table>\n",
       "</div>"
      ],
      "text/plain": [
       "            concept:name lifecycle:transition org:resource  \\\n",
       "0     Assign seriousness             complete      Value 1   \n",
       "1  Take in charge ticket             complete      Value 1   \n",
       "2  Take in charge ticket             complete      Value 2   \n",
       "3         Resolve ticket             complete      Value 1   \n",
       "4                 Closed             complete      Value 3   \n",
       "\n",
       "             time:timestamp               Activity Resource case:concept:name  \\\n",
       "0 2012-10-09 14:50:17+00:00     Assign seriousness  Value 1             Case1   \n",
       "1 2012-10-09 14:51:01+00:00  Take in charge ticket  Value 1             Case1   \n",
       "2 2012-10-12 15:02:56+00:00  Take in charge ticket  Value 2             Case1   \n",
       "3 2012-10-25 11:54:26+00:00         Resolve ticket  Value 1             Case1   \n",
       "4 2012-11-09 12:54:39+00:00                 Closed  Value 3             Case1   \n",
       "\n",
       "  case:variant  case:variant-index    case:creator  \n",
       "0   Variant 12                  12  Fluxicon Disco  \n",
       "1   Variant 12                  12  Fluxicon Disco  \n",
       "2   Variant 12                  12  Fluxicon Disco  \n",
       "3   Variant 12                  12  Fluxicon Disco  \n",
       "4   Variant 12                  12  Fluxicon Disco  "
      ]
     },
     "execution_count": 3,
     "metadata": {},
     "output_type": "execute_result"
    }
   ],
   "source": [
    "log = pm4py.read_xes(\"helpdesk.xes\") #read in log data\n",
    "logdata = pm4py.convert_to_dataframe(log) #convert your log to dataframe\n",
    "logdata.head()"
   ]
  },
  {
   "cell_type": "code",
   "execution_count": 4,
   "id": "0d904821-bc4c-4239-8bbf-86cca573778b",
   "metadata": {},
   "outputs": [
    {
     "name": "stdout",
     "output_type": "stream",
     "text": [
      "<class 'pandas.core.frame.DataFrame'>\n",
      "RangeIndex: 21348 entries, 0 to 21347\n",
      "Data columns (total 10 columns):\n",
      " #   Column                Non-Null Count  Dtype              \n",
      "---  ------                --------------  -----              \n",
      " 0   concept:name          21348 non-null  object             \n",
      " 1   lifecycle:transition  21348 non-null  object             \n",
      " 2   org:resource          21348 non-null  object             \n",
      " 3   time:timestamp        21348 non-null  datetime64[ns, UTC]\n",
      " 4   Activity              21348 non-null  object             \n",
      " 5   Resource              21348 non-null  object             \n",
      " 6   case:concept:name     21348 non-null  object             \n",
      " 7   case:variant          21348 non-null  object             \n",
      " 8   case:variant-index    21348 non-null  int64              \n",
      " 9   case:creator          21348 non-null  object             \n",
      "dtypes: datetime64[ns, UTC](1), int64(1), object(8)\n",
      "memory usage: 1.6+ MB\n"
     ]
    }
   ],
   "source": [
    "logdata.info()"
   ]
  },
  {
   "cell_type": "code",
   "execution_count": 5,
   "id": "53089512-8ce8-487f-a62b-943dfa974773",
   "metadata": {},
   "outputs": [
    {
     "data": {
      "text/html": [
       "<div>\n",
       "<style scoped>\n",
       "    .dataframe tbody tr th:only-of-type {\n",
       "        vertical-align: middle;\n",
       "    }\n",
       "\n",
       "    .dataframe tbody tr th {\n",
       "        vertical-align: top;\n",
       "    }\n",
       "\n",
       "    .dataframe thead th {\n",
       "        text-align: right;\n",
       "    }\n",
       "</style>\n",
       "<table border=\"1\" class=\"dataframe\">\n",
       "  <thead>\n",
       "    <tr style=\"text-align: right;\">\n",
       "      <th></th>\n",
       "      <th>timestamp</th>\n",
       "      <th>activity</th>\n",
       "      <th>case_id</th>\n",
       "    </tr>\n",
       "  </thead>\n",
       "  <tbody>\n",
       "    <tr>\n",
       "      <th>16857</th>\n",
       "      <td>2010-01-13 08:40:25+00:00</td>\n",
       "      <td>assign seriousness</td>\n",
       "      <td>Case3608</td>\n",
       "    </tr>\n",
       "    <tr>\n",
       "      <th>12863</th>\n",
       "      <td>2010-01-13 12:26:04+00:00</td>\n",
       "      <td>assign seriousness</td>\n",
       "      <td>Case2748</td>\n",
       "    </tr>\n",
       "    <tr>\n",
       "      <th>19959</th>\n",
       "      <td>2010-01-13 12:30:37+00:00</td>\n",
       "      <td>assign seriousness</td>\n",
       "      <td>Case4284</td>\n",
       "    </tr>\n",
       "    <tr>\n",
       "      <th>7168</th>\n",
       "      <td>2010-01-13 13:09:31+00:00</td>\n",
       "      <td>assign seriousness</td>\n",
       "      <td>Case1534</td>\n",
       "    </tr>\n",
       "    <tr>\n",
       "      <th>1864</th>\n",
       "      <td>2010-01-13 17:25:25+00:00</td>\n",
       "      <td>assign seriousness</td>\n",
       "      <td>Case406</td>\n",
       "    </tr>\n",
       "  </tbody>\n",
       "</table>\n",
       "</div>"
      ],
      "text/plain": [
       "                      timestamp            activity   case_id\n",
       "16857 2010-01-13 08:40:25+00:00  assign seriousness  Case3608\n",
       "12863 2010-01-13 12:26:04+00:00  assign seriousness  Case2748\n",
       "19959 2010-01-13 12:30:37+00:00  assign seriousness  Case4284\n",
       "7168  2010-01-13 13:09:31+00:00  assign seriousness  Case1534\n",
       "1864  2010-01-13 17:25:25+00:00  assign seriousness   Case406"
      ]
     },
     "execution_count": 5,
     "metadata": {},
     "output_type": "execute_result"
    }
   ],
   "source": [
    "#extract the columns, sort by time, convert activity to lower case\n",
    "logdata.rename(columns={\"concept:name\":\"activity\", \"time:timestamp\":\"timestamp\",\"case:concept:name\":\"case_id\",\"case:variant\":\"variant\",\"org:resource\":\"resource\"},inplace=True)\n",
    "logdata = logdata.sort_values(by = [\"timestamp\",\"case_id\"])\n",
    "df = logdata[[\"timestamp\",\"activity\",\"case_id\"]].copy()\n",
    "df[\"activity\"] = df[\"activity\"].str.lower()\n",
    "df.head()"
   ]
  },
  {
   "cell_type": "code",
   "execution_count": 6,
   "id": "6dd64808-933b-4b03-94d2-38294d49f58a",
   "metadata": {},
   "outputs": [
    {
     "name": "stdout",
     "output_type": "stream",
     "text": [
      "True\n",
      "127\n"
     ]
    }
   ],
   "source": [
    "#Check if there are duplicates\n",
    "print(df.duplicated().any())\n",
    "print(df.duplicated().sum())"
   ]
  },
  {
   "cell_type": "code",
   "execution_count": 7,
   "id": "14841f47-7330-45b0-924b-da22fd6a7541",
   "metadata": {},
   "outputs": [
    {
     "data": {
      "text/plain": [
       "0"
      ]
     },
     "execution_count": 7,
     "metadata": {},
     "output_type": "execute_result"
    }
   ],
   "source": [
    "#Check activities for a case\n",
    "df.drop_duplicates(inplace=True)\n",
    "df.duplicated().sum()"
   ]
  },
  {
   "cell_type": "code",
   "execution_count": 8,
   "id": "668ed1f4-4e57-48de-97fc-c58d6508930c",
   "metadata": {},
   "outputs": [
    {
     "data": {
      "text/html": [
       "<div>\n",
       "<style scoped>\n",
       "    .dataframe tbody tr th:only-of-type {\n",
       "        vertical-align: middle;\n",
       "    }\n",
       "\n",
       "    .dataframe tbody tr th {\n",
       "        vertical-align: top;\n",
       "    }\n",
       "\n",
       "    .dataframe thead th {\n",
       "        text-align: right;\n",
       "    }\n",
       "</style>\n",
       "<table border=\"1\" class=\"dataframe\">\n",
       "  <thead>\n",
       "    <tr style=\"text-align: right;\">\n",
       "      <th></th>\n",
       "      <th>timestamp</th>\n",
       "      <th>activity</th>\n",
       "      <th>case_id</th>\n",
       "    </tr>\n",
       "  </thead>\n",
       "  <tbody>\n",
       "    <tr>\n",
       "      <th>0</th>\n",
       "      <td>2010-01-13 08:40:25+00:00</td>\n",
       "      <td>assign seriousness</td>\n",
       "      <td>Case3608</td>\n",
       "    </tr>\n",
       "    <tr>\n",
       "      <th>1</th>\n",
       "      <td>2010-01-13 12:26:04+00:00</td>\n",
       "      <td>assign seriousness</td>\n",
       "      <td>Case2748</td>\n",
       "    </tr>\n",
       "    <tr>\n",
       "      <th>2</th>\n",
       "      <td>2010-01-13 12:30:37+00:00</td>\n",
       "      <td>assign seriousness</td>\n",
       "      <td>Case4284</td>\n",
       "    </tr>\n",
       "    <tr>\n",
       "      <th>3</th>\n",
       "      <td>2010-01-13 13:09:31+00:00</td>\n",
       "      <td>assign seriousness</td>\n",
       "      <td>Case1534</td>\n",
       "    </tr>\n",
       "    <tr>\n",
       "      <th>4</th>\n",
       "      <td>2010-01-13 17:25:25+00:00</td>\n",
       "      <td>assign seriousness</td>\n",
       "      <td>Case406</td>\n",
       "    </tr>\n",
       "  </tbody>\n",
       "</table>\n",
       "</div>"
      ],
      "text/plain": [
       "                  timestamp            activity   case_id\n",
       "0 2010-01-13 08:40:25+00:00  assign seriousness  Case3608\n",
       "1 2010-01-13 12:26:04+00:00  assign seriousness  Case2748\n",
       "2 2010-01-13 12:30:37+00:00  assign seriousness  Case4284\n",
       "3 2010-01-13 13:09:31+00:00  assign seriousness  Case1534\n",
       "4 2010-01-13 17:25:25+00:00  assign seriousness   Case406"
      ]
     },
     "execution_count": 8,
     "metadata": {},
     "output_type": "execute_result"
    }
   ],
   "source": [
    "df = df.reset_index(drop=True)\n",
    "df.head()"
   ]
  },
  {
   "cell_type": "code",
   "execution_count": 9,
   "id": "2407f4cb-452d-43ab-b3bc-f89166848356",
   "metadata": {},
   "outputs": [
    {
     "data": {
      "text/plain": [
       "True"
      ]
     },
     "execution_count": 9,
     "metadata": {},
     "output_type": "execute_result"
    }
   ],
   "source": [
    "#timestamps are not unique\n",
    "df[\"timestamp\"].duplicated().any()"
   ]
  },
  {
   "cell_type": "code",
   "execution_count": 10,
   "id": "e8555a04-cbb1-4560-9bfa-6d34a09e6207",
   "metadata": {},
   "outputs": [],
   "source": [
    "df.to_csv(\"helpdesk_df.csv\", index = False)"
   ]
  },
  {
   "cell_type": "code",
   "execution_count": null,
   "id": "61c3eee9-ba87-4401-8c4d-e9ac4064add1",
   "metadata": {},
   "outputs": [],
   "source": []
  },
  {
   "cell_type": "code",
   "execution_count": null,
   "id": "1fb3c3a6-0b07-4efc-924f-e4e929047957",
   "metadata": {},
   "outputs": [],
   "source": []
  },
  {
   "cell_type": "markdown",
   "id": "9aed5539-f956-4602-bc97-5f8d5f54dddf",
   "metadata": {},
   "source": [
    "BPI_Challenge 2021"
   ]
  },
  {
   "cell_type": "markdown",
   "id": "797b2b46-4ae8-41f8-98b4-f66bfba65e45",
   "metadata": {},
   "source": [
    "1. Load data and keep necessary columns"
   ]
  },
  {
   "cell_type": "code",
   "execution_count": 12,
   "id": "7d82b0c6-291e-4a6b-8068-216c5db6a627",
   "metadata": {},
   "outputs": [
    {
     "data": {
      "application/vnd.jupyter.widget-view+json": {
       "model_id": "efc0a908408140a89be6fc8903b7a921",
       "version_major": 2,
       "version_minor": 0
      },
      "text/plain": [
       "parsing log, completed traces ::   0%|          | 0/13087 [00:00<?, ?it/s]"
      ]
     },
     "metadata": {},
     "output_type": "display_data"
    },
    {
     "data": {
      "text/html": [
       "<div>\n",
       "<style scoped>\n",
       "    .dataframe tbody tr th:only-of-type {\n",
       "        vertical-align: middle;\n",
       "    }\n",
       "\n",
       "    .dataframe tbody tr th {\n",
       "        vertical-align: top;\n",
       "    }\n",
       "\n",
       "    .dataframe thead th {\n",
       "        text-align: right;\n",
       "    }\n",
       "</style>\n",
       "<table border=\"1\" class=\"dataframe\">\n",
       "  <thead>\n",
       "    <tr style=\"text-align: right;\">\n",
       "      <th></th>\n",
       "      <th>org:resource</th>\n",
       "      <th>lifecycle:transition</th>\n",
       "      <th>concept:name</th>\n",
       "      <th>time:timestamp</th>\n",
       "      <th>case:REG_DATE</th>\n",
       "      <th>case:concept:name</th>\n",
       "      <th>case:AMOUNT_REQ</th>\n",
       "    </tr>\n",
       "  </thead>\n",
       "  <tbody>\n",
       "    <tr>\n",
       "      <th>0</th>\n",
       "      <td>112</td>\n",
       "      <td>COMPLETE</td>\n",
       "      <td>A_SUBMITTED</td>\n",
       "      <td>2011-10-01 00:38:44.546000+00:00</td>\n",
       "      <td>2011-10-01 00:38:44.546000+00:00</td>\n",
       "      <td>173688</td>\n",
       "      <td>20000</td>\n",
       "    </tr>\n",
       "    <tr>\n",
       "      <th>1</th>\n",
       "      <td>112</td>\n",
       "      <td>COMPLETE</td>\n",
       "      <td>A_PARTLYSUBMITTED</td>\n",
       "      <td>2011-10-01 00:38:44.880000+00:00</td>\n",
       "      <td>2011-10-01 00:38:44.546000+00:00</td>\n",
       "      <td>173688</td>\n",
       "      <td>20000</td>\n",
       "    </tr>\n",
       "    <tr>\n",
       "      <th>2</th>\n",
       "      <td>112</td>\n",
       "      <td>COMPLETE</td>\n",
       "      <td>A_PREACCEPTED</td>\n",
       "      <td>2011-10-01 00:39:37.906000+00:00</td>\n",
       "      <td>2011-10-01 00:38:44.546000+00:00</td>\n",
       "      <td>173688</td>\n",
       "      <td>20000</td>\n",
       "    </tr>\n",
       "    <tr>\n",
       "      <th>3</th>\n",
       "      <td>112</td>\n",
       "      <td>SCHEDULE</td>\n",
       "      <td>W_Completeren aanvraag</td>\n",
       "      <td>2011-10-01 00:39:38.875000+00:00</td>\n",
       "      <td>2011-10-01 00:38:44.546000+00:00</td>\n",
       "      <td>173688</td>\n",
       "      <td>20000</td>\n",
       "    </tr>\n",
       "    <tr>\n",
       "      <th>4</th>\n",
       "      <td>NaN</td>\n",
       "      <td>START</td>\n",
       "      <td>W_Completeren aanvraag</td>\n",
       "      <td>2011-10-01 11:36:46.437000+00:00</td>\n",
       "      <td>2011-10-01 00:38:44.546000+00:00</td>\n",
       "      <td>173688</td>\n",
       "      <td>20000</td>\n",
       "    </tr>\n",
       "  </tbody>\n",
       "</table>\n",
       "</div>"
      ],
      "text/plain": [
       "  org:resource lifecycle:transition            concept:name  \\\n",
       "0          112             COMPLETE             A_SUBMITTED   \n",
       "1          112             COMPLETE       A_PARTLYSUBMITTED   \n",
       "2          112             COMPLETE           A_PREACCEPTED   \n",
       "3          112             SCHEDULE  W_Completeren aanvraag   \n",
       "4          NaN                START  W_Completeren aanvraag   \n",
       "\n",
       "                    time:timestamp                    case:REG_DATE  \\\n",
       "0 2011-10-01 00:38:44.546000+00:00 2011-10-01 00:38:44.546000+00:00   \n",
       "1 2011-10-01 00:38:44.880000+00:00 2011-10-01 00:38:44.546000+00:00   \n",
       "2 2011-10-01 00:39:37.906000+00:00 2011-10-01 00:38:44.546000+00:00   \n",
       "3 2011-10-01 00:39:38.875000+00:00 2011-10-01 00:38:44.546000+00:00   \n",
       "4 2011-10-01 11:36:46.437000+00:00 2011-10-01 00:38:44.546000+00:00   \n",
       "\n",
       "  case:concept:name case:AMOUNT_REQ  \n",
       "0            173688           20000  \n",
       "1            173688           20000  \n",
       "2            173688           20000  \n",
       "3            173688           20000  \n",
       "4            173688           20000  "
      ]
     },
     "execution_count": 12,
     "metadata": {},
     "output_type": "execute_result"
    }
   ],
   "source": [
    "log = pm4py.read_xes(\"BPI_Challenge_2012.xes\") #read in log data\n",
    "logdata = pm4py.convert_to_dataframe(log) #convert your log to dataframe\n",
    "logdata.head()"
   ]
  },
  {
   "cell_type": "code",
   "execution_count": 13,
   "id": "d7f732d6-13d7-486c-9f6d-ccff79ffb735",
   "metadata": {},
   "outputs": [
    {
     "name": "stdout",
     "output_type": "stream",
     "text": [
      "<class 'pandas.core.frame.DataFrame'>\n",
      "RangeIndex: 262200 entries, 0 to 262199\n",
      "Data columns (total 7 columns):\n",
      " #   Column                Non-Null Count   Dtype              \n",
      "---  ------                --------------   -----              \n",
      " 0   org:resource          244190 non-null  object             \n",
      " 1   lifecycle:transition  262200 non-null  object             \n",
      " 2   concept:name          262200 non-null  object             \n",
      " 3   time:timestamp        262200 non-null  datetime64[ns, UTC]\n",
      " 4   case:REG_DATE         262200 non-null  datetime64[ns, UTC]\n",
      " 5   case:concept:name     262200 non-null  object             \n",
      " 6   case:AMOUNT_REQ       262200 non-null  object             \n",
      "dtypes: datetime64[ns, UTC](2), object(5)\n",
      "memory usage: 14.0+ MB\n"
     ]
    }
   ],
   "source": [
    "logdata.info()"
   ]
  },
  {
   "cell_type": "code",
   "execution_count": 14,
   "id": "ffc1194a-c15e-40ac-9610-9470040f331a",
   "metadata": {},
   "outputs": [
    {
     "data": {
      "text/plain": [
       "array(['112', nan, '10862', '10913', '11049', '10629', '11120', '10809',\n",
       "       '10912', '11201', '11119', '10861', '11203', '11181', '11189',\n",
       "       '10609', '11111', '10982', '11019', '11180', '10899', '10138',\n",
       "       '11002', '11122', '10889', '10972', '11121', '10939', '11029',\n",
       "       '11009', '11000', '10863', '11169', '11179', '11001', '10971',\n",
       "       '10228', '11202', '10789', '10881', '10909', '10188', '10910',\n",
       "       '10929', '10931', '11259', '11200', '10779', '10880', '10914',\n",
       "       '10859', '11339', '10933', '11079', '10932', '10935', '11254',\n",
       "       '11003', '10125', '11269', '10821', '11289', '10124', '11299',\n",
       "       '11309', '11300', '11302', '11319', '11304'], dtype=object)"
      ]
     },
     "execution_count": 14,
     "metadata": {},
     "output_type": "execute_result"
    }
   ],
   "source": [
    "logdata[\"org:resource\"].unique()"
   ]
  },
  {
   "cell_type": "code",
   "execution_count": 15,
   "id": "99e136e3-ce09-4a6a-b3ea-83bce7168a10",
   "metadata": {},
   "outputs": [
    {
     "data": {
      "text/plain": [
       "array(['A_SUBMITTED', 'A_PARTLYSUBMITTED', 'A_PREACCEPTED',\n",
       "       'W_Completeren aanvraag', 'A_ACCEPTED', 'O_SELECTED',\n",
       "       'A_FINALIZED', 'O_CREATED', 'O_SENT', 'W_Nabellen offertes',\n",
       "       'O_SENT_BACK', 'W_Valideren aanvraag', 'A_REGISTERED',\n",
       "       'A_APPROVED', 'O_ACCEPTED', 'A_ACTIVATED', 'O_CANCELLED',\n",
       "       'W_Wijzigen contractgegevens', 'A_DECLINED', 'A_CANCELLED',\n",
       "       'W_Afhandelen leads', 'O_DECLINED',\n",
       "       'W_Nabellen incomplete dossiers', 'W_Beoordelen fraude'],\n",
       "      dtype=object)"
      ]
     },
     "execution_count": 15,
     "metadata": {},
     "output_type": "execute_result"
    }
   ],
   "source": [
    "logdata[\"concept:name\"].unique()"
   ]
  },
  {
   "cell_type": "code",
   "execution_count": 16,
   "id": "4d02eaaf-3566-40ca-b153-ca1b6fd62cda",
   "metadata": {},
   "outputs": [
    {
     "data": {
      "text/plain": [
       "array(['COMPLETE', 'SCHEDULE', 'START'], dtype=object)"
      ]
     },
     "execution_count": 16,
     "metadata": {},
     "output_type": "execute_result"
    }
   ],
   "source": [
    "logdata[\"lifecycle:transition\"].unique()"
   ]
  },
  {
   "cell_type": "code",
   "execution_count": 17,
   "id": "c371f5c8-6d9a-4222-92df-ff300ebc69ab",
   "metadata": {},
   "outputs": [
    {
     "data": {
      "text/plain": [
       "(26, 7)"
      ]
     },
     "execution_count": 17,
     "metadata": {},
     "output_type": "execute_result"
    }
   ],
   "source": [
    "#case:concept:name is caseid\n",
    "logdata[logdata[\"case:concept:name\"] == \"173688\"].shape"
   ]
  },
  {
   "cell_type": "code",
   "execution_count": 18,
   "id": "cde6819b-d67d-4838-ada6-61459feb2ac6",
   "metadata": {},
   "outputs": [
    {
     "data": {
      "text/html": [
       "<div>\n",
       "<style scoped>\n",
       "    .dataframe tbody tr th:only-of-type {\n",
       "        vertical-align: middle;\n",
       "    }\n",
       "\n",
       "    .dataframe tbody tr th {\n",
       "        vertical-align: top;\n",
       "    }\n",
       "\n",
       "    .dataframe thead th {\n",
       "        text-align: right;\n",
       "    }\n",
       "</style>\n",
       "<table border=\"1\" class=\"dataframe\">\n",
       "  <thead>\n",
       "    <tr style=\"text-align: right;\">\n",
       "      <th></th>\n",
       "      <th>timestamp</th>\n",
       "      <th>activity</th>\n",
       "      <th>case_id</th>\n",
       "    </tr>\n",
       "  </thead>\n",
       "  <tbody>\n",
       "    <tr>\n",
       "      <th>0</th>\n",
       "      <td>2011-10-01 00:38:44.546000+00:00</td>\n",
       "      <td>a_submitted</td>\n",
       "      <td>173688</td>\n",
       "    </tr>\n",
       "    <tr>\n",
       "      <th>1</th>\n",
       "      <td>2011-10-01 00:38:44.880000+00:00</td>\n",
       "      <td>a_partlysubmitted</td>\n",
       "      <td>173688</td>\n",
       "    </tr>\n",
       "    <tr>\n",
       "      <th>2</th>\n",
       "      <td>2011-10-01 00:39:37.906000+00:00</td>\n",
       "      <td>a_preaccepted</td>\n",
       "      <td>173688</td>\n",
       "    </tr>\n",
       "    <tr>\n",
       "      <th>3</th>\n",
       "      <td>2011-10-01 00:39:38.875000+00:00</td>\n",
       "      <td>w_completeren aanvraag</td>\n",
       "      <td>173688</td>\n",
       "    </tr>\n",
       "    <tr>\n",
       "      <th>26</th>\n",
       "      <td>2011-10-01 08:08:58.256000+00:00</td>\n",
       "      <td>a_submitted</td>\n",
       "      <td>173691</td>\n",
       "    </tr>\n",
       "  </tbody>\n",
       "</table>\n",
       "</div>"
      ],
      "text/plain": [
       "                          timestamp                activity case_id\n",
       "0  2011-10-01 00:38:44.546000+00:00             a_submitted  173688\n",
       "1  2011-10-01 00:38:44.880000+00:00       a_partlysubmitted  173688\n",
       "2  2011-10-01 00:39:37.906000+00:00           a_preaccepted  173688\n",
       "3  2011-10-01 00:39:38.875000+00:00  w_completeren aanvraag  173688\n",
       "26 2011-10-01 08:08:58.256000+00:00             a_submitted  173691"
      ]
     },
     "execution_count": 18,
     "metadata": {},
     "output_type": "execute_result"
    }
   ],
   "source": [
    "#extract the columns, sort by time, convert activity to lower case\n",
    "logdata.rename(columns={\"concept:name\":\"activity\", \"time:timestamp\":\"timestamp\",\"case:concept:name\":\"case_id\"},inplace=True)\n",
    "logdata = logdata.sort_values(by = [\"timestamp\",\"case_id\"])\n",
    "df = logdata[[\"timestamp\",\"activity\",\"case_id\"]].copy()\n",
    "df[\"activity\"] = df[\"activity\"].str.lower()\n",
    "df.head()"
   ]
  },
  {
   "cell_type": "code",
   "execution_count": 19,
   "id": "d0c36a99-29c7-4c52-8705-d1a7fc81eeab",
   "metadata": {},
   "outputs": [],
   "source": [
    "df[\"timestamp\"] = df[\"timestamp\"].dt.tz_localize(None) "
   ]
  },
  {
   "cell_type": "code",
   "execution_count": 20,
   "id": "4469b29e-9a2d-4017-bcd6-94a93ff114d6",
   "metadata": {},
   "outputs": [
    {
     "name": "stdout",
     "output_type": "stream",
     "text": [
      "<class 'pandas.core.frame.DataFrame'>\n",
      "Index: 262200 entries, 0 to 246923\n",
      "Data columns (total 3 columns):\n",
      " #   Column     Non-Null Count   Dtype         \n",
      "---  ------     --------------   -----         \n",
      " 0   timestamp  262200 non-null  datetime64[ns]\n",
      " 1   activity   262200 non-null  object        \n",
      " 2   case_id    262200 non-null  object        \n",
      "dtypes: datetime64[ns](1), object(2)\n",
      "memory usage: 8.0+ MB\n"
     ]
    }
   ],
   "source": [
    "df.info()"
   ]
  },
  {
   "cell_type": "code",
   "execution_count": 21,
   "id": "e8d6d6e8-ea8b-44c4-900e-91aa739a9875",
   "metadata": {},
   "outputs": [
    {
     "name": "stdout",
     "output_type": "stream",
     "text": [
      "False\n",
      "0\n"
     ]
    }
   ],
   "source": [
    "#Check if there are duplicates\n",
    "print(df.duplicated().any())\n",
    "print(df.duplicated().sum())"
   ]
  },
  {
   "cell_type": "code",
   "execution_count": 22,
   "id": "239c5154-ef47-4cac-b6a7-9fbbb10c10cf",
   "metadata": {},
   "outputs": [
    {
     "data": {
      "text/plain": [
       "0"
      ]
     },
     "execution_count": 22,
     "metadata": {},
     "output_type": "execute_result"
    }
   ],
   "source": [
    "#Check activities for a case\n",
    "df.drop_duplicates(inplace=True)\n",
    "df.duplicated().sum()"
   ]
  },
  {
   "cell_type": "code",
   "execution_count": 23,
   "id": "a7834181-f459-4069-93e1-0dc23aba974c",
   "metadata": {},
   "outputs": [
    {
     "data": {
      "text/html": [
       "<div>\n",
       "<style scoped>\n",
       "    .dataframe tbody tr th:only-of-type {\n",
       "        vertical-align: middle;\n",
       "    }\n",
       "\n",
       "    .dataframe tbody tr th {\n",
       "        vertical-align: top;\n",
       "    }\n",
       "\n",
       "    .dataframe thead th {\n",
       "        text-align: right;\n",
       "    }\n",
       "</style>\n",
       "<table border=\"1\" class=\"dataframe\">\n",
       "  <thead>\n",
       "    <tr style=\"text-align: right;\">\n",
       "      <th></th>\n",
       "      <th>timestamp</th>\n",
       "      <th>activity</th>\n",
       "      <th>case_id</th>\n",
       "    </tr>\n",
       "  </thead>\n",
       "  <tbody>\n",
       "    <tr>\n",
       "      <th>0</th>\n",
       "      <td>2011-10-01 00:38:44.546</td>\n",
       "      <td>a_submitted</td>\n",
       "      <td>173688</td>\n",
       "    </tr>\n",
       "    <tr>\n",
       "      <th>1</th>\n",
       "      <td>2011-10-01 00:38:44.880</td>\n",
       "      <td>a_partlysubmitted</td>\n",
       "      <td>173688</td>\n",
       "    </tr>\n",
       "    <tr>\n",
       "      <th>2</th>\n",
       "      <td>2011-10-01 00:39:37.906</td>\n",
       "      <td>a_preaccepted</td>\n",
       "      <td>173688</td>\n",
       "    </tr>\n",
       "    <tr>\n",
       "      <th>3</th>\n",
       "      <td>2011-10-01 00:39:38.875</td>\n",
       "      <td>w_completeren aanvraag</td>\n",
       "      <td>173688</td>\n",
       "    </tr>\n",
       "    <tr>\n",
       "      <th>4</th>\n",
       "      <td>2011-10-01 08:08:58.256</td>\n",
       "      <td>a_submitted</td>\n",
       "      <td>173691</td>\n",
       "    </tr>\n",
       "  </tbody>\n",
       "</table>\n",
       "</div>"
      ],
      "text/plain": [
       "                timestamp                activity case_id\n",
       "0 2011-10-01 00:38:44.546             a_submitted  173688\n",
       "1 2011-10-01 00:38:44.880       a_partlysubmitted  173688\n",
       "2 2011-10-01 00:39:37.906           a_preaccepted  173688\n",
       "3 2011-10-01 00:39:38.875  w_completeren aanvraag  173688\n",
       "4 2011-10-01 08:08:58.256             a_submitted  173691"
      ]
     },
     "execution_count": 23,
     "metadata": {},
     "output_type": "execute_result"
    }
   ],
   "source": [
    "df = df.reset_index(drop=True)\n",
    "df.head()"
   ]
  },
  {
   "cell_type": "code",
   "execution_count": 24,
   "id": "2f525caa-74c2-48a3-a324-84f8319aad00",
   "metadata": {},
   "outputs": [
    {
     "data": {
      "text/plain": [
       "True"
      ]
     },
     "execution_count": 24,
     "metadata": {},
     "output_type": "execute_result"
    }
   ],
   "source": [
    "#timestamps are not unique\n",
    "df[\"timestamp\"].duplicated().any()"
   ]
  },
  {
   "cell_type": "code",
   "execution_count": 25,
   "id": "54e6c813-b03b-460e-9c74-1fbaed2fd55a",
   "metadata": {},
   "outputs": [],
   "source": [
    "df.to_csv(\"bpi_df.csv\",index=False)"
   ]
  },
  {
   "cell_type": "code",
   "execution_count": null,
   "id": "5eb95757-2321-4b29-8514-197027cfc991",
   "metadata": {},
   "outputs": [],
   "source": []
  },
  {
   "cell_type": "code",
   "execution_count": null,
   "id": "a301bbaf-c766-4589-9cfd-bb33d8258a38",
   "metadata": {},
   "outputs": [],
   "source": []
  },
  {
   "cell_type": "markdown",
   "id": "c9ac4f1d-b671-4326-8631-34d4860e6cf9",
   "metadata": {},
   "source": [
    "Road Process Management"
   ]
  },
  {
   "cell_type": "markdown",
   "id": "470d6804-6860-47e4-b8e7-28a991ea57c1",
   "metadata": {},
   "source": [
    "1. Load data and keep necessary columns"
   ]
  },
  {
   "cell_type": "code",
   "execution_count": 27,
   "id": "f14bbc15-401d-473d-b64b-af9893bdefbb",
   "metadata": {},
   "outputs": [
    {
     "data": {
      "application/vnd.jupyter.widget-view+json": {
       "model_id": "ecab36fa54ca4445b7327f69a4c90541",
       "version_major": 2,
       "version_minor": 0
      },
      "text/plain": [
       "parsing log, completed traces ::   0%|          | 0/150370 [00:00<?, ?it/s]"
      ]
     },
     "metadata": {},
     "output_type": "display_data"
    },
    {
     "data": {
      "text/html": [
       "<div>\n",
       "<style scoped>\n",
       "    .dataframe tbody tr th:only-of-type {\n",
       "        vertical-align: middle;\n",
       "    }\n",
       "\n",
       "    .dataframe tbody tr th {\n",
       "        vertical-align: top;\n",
       "    }\n",
       "\n",
       "    .dataframe thead th {\n",
       "        text-align: right;\n",
       "    }\n",
       "</style>\n",
       "<table border=\"1\" class=\"dataframe\">\n",
       "  <thead>\n",
       "    <tr style=\"text-align: right;\">\n",
       "      <th></th>\n",
       "      <th>amount</th>\n",
       "      <th>org:resource</th>\n",
       "      <th>dismissal</th>\n",
       "      <th>concept:name</th>\n",
       "      <th>vehicleClass</th>\n",
       "      <th>totalPaymentAmount</th>\n",
       "      <th>lifecycle:transition</th>\n",
       "      <th>time:timestamp</th>\n",
       "      <th>article</th>\n",
       "      <th>points</th>\n",
       "      <th>case:concept:name</th>\n",
       "      <th>expense</th>\n",
       "      <th>notificationType</th>\n",
       "      <th>lastSent</th>\n",
       "      <th>paymentAmount</th>\n",
       "      <th>matricola</th>\n",
       "    </tr>\n",
       "  </thead>\n",
       "  <tbody>\n",
       "    <tr>\n",
       "      <th>0</th>\n",
       "      <td>35.0</td>\n",
       "      <td>561</td>\n",
       "      <td>NIL</td>\n",
       "      <td>Create Fine</td>\n",
       "      <td>A</td>\n",
       "      <td>0.0</td>\n",
       "      <td>complete</td>\n",
       "      <td>2006-07-24 00:00:00+00:00</td>\n",
       "      <td>157.0</td>\n",
       "      <td>0.0</td>\n",
       "      <td>A1</td>\n",
       "      <td>NaN</td>\n",
       "      <td>NaN</td>\n",
       "      <td>NaN</td>\n",
       "      <td>NaN</td>\n",
       "      <td>NaN</td>\n",
       "    </tr>\n",
       "    <tr>\n",
       "      <th>1</th>\n",
       "      <td>NaN</td>\n",
       "      <td>NaN</td>\n",
       "      <td>NaN</td>\n",
       "      <td>Send Fine</td>\n",
       "      <td>NaN</td>\n",
       "      <td>NaN</td>\n",
       "      <td>complete</td>\n",
       "      <td>2006-12-05 00:00:00+00:00</td>\n",
       "      <td>NaN</td>\n",
       "      <td>NaN</td>\n",
       "      <td>A1</td>\n",
       "      <td>11.0</td>\n",
       "      <td>NaN</td>\n",
       "      <td>NaN</td>\n",
       "      <td>NaN</td>\n",
       "      <td>NaN</td>\n",
       "    </tr>\n",
       "    <tr>\n",
       "      <th>2</th>\n",
       "      <td>35.0</td>\n",
       "      <td>561</td>\n",
       "      <td>NIL</td>\n",
       "      <td>Create Fine</td>\n",
       "      <td>A</td>\n",
       "      <td>0.0</td>\n",
       "      <td>complete</td>\n",
       "      <td>2006-08-02 00:00:00+00:00</td>\n",
       "      <td>157.0</td>\n",
       "      <td>0.0</td>\n",
       "      <td>A100</td>\n",
       "      <td>NaN</td>\n",
       "      <td>NaN</td>\n",
       "      <td>NaN</td>\n",
       "      <td>NaN</td>\n",
       "      <td>NaN</td>\n",
       "    </tr>\n",
       "    <tr>\n",
       "      <th>3</th>\n",
       "      <td>NaN</td>\n",
       "      <td>NaN</td>\n",
       "      <td>NaN</td>\n",
       "      <td>Send Fine</td>\n",
       "      <td>NaN</td>\n",
       "      <td>NaN</td>\n",
       "      <td>complete</td>\n",
       "      <td>2006-12-12 00:00:00+00:00</td>\n",
       "      <td>NaN</td>\n",
       "      <td>NaN</td>\n",
       "      <td>A100</td>\n",
       "      <td>11.0</td>\n",
       "      <td>NaN</td>\n",
       "      <td>NaN</td>\n",
       "      <td>NaN</td>\n",
       "      <td>NaN</td>\n",
       "    </tr>\n",
       "    <tr>\n",
       "      <th>4</th>\n",
       "      <td>NaN</td>\n",
       "      <td>NaN</td>\n",
       "      <td>NaN</td>\n",
       "      <td>Insert Fine Notification</td>\n",
       "      <td>NaN</td>\n",
       "      <td>NaN</td>\n",
       "      <td>complete</td>\n",
       "      <td>2007-01-15 00:00:00+00:00</td>\n",
       "      <td>NaN</td>\n",
       "      <td>NaN</td>\n",
       "      <td>A100</td>\n",
       "      <td>NaN</td>\n",
       "      <td>P</td>\n",
       "      <td>P</td>\n",
       "      <td>NaN</td>\n",
       "      <td>NaN</td>\n",
       "    </tr>\n",
       "  </tbody>\n",
       "</table>\n",
       "</div>"
      ],
      "text/plain": [
       "   amount org:resource dismissal              concept:name vehicleClass  \\\n",
       "0    35.0          561       NIL               Create Fine            A   \n",
       "1     NaN          NaN       NaN                 Send Fine          NaN   \n",
       "2    35.0          561       NIL               Create Fine            A   \n",
       "3     NaN          NaN       NaN                 Send Fine          NaN   \n",
       "4     NaN          NaN       NaN  Insert Fine Notification          NaN   \n",
       "\n",
       "   totalPaymentAmount lifecycle:transition            time:timestamp  article  \\\n",
       "0                 0.0             complete 2006-07-24 00:00:00+00:00    157.0   \n",
       "1                 NaN             complete 2006-12-05 00:00:00+00:00      NaN   \n",
       "2                 0.0             complete 2006-08-02 00:00:00+00:00    157.0   \n",
       "3                 NaN             complete 2006-12-12 00:00:00+00:00      NaN   \n",
       "4                 NaN             complete 2007-01-15 00:00:00+00:00      NaN   \n",
       "\n",
       "   points case:concept:name  expense notificationType lastSent  paymentAmount  \\\n",
       "0     0.0                A1      NaN              NaN      NaN            NaN   \n",
       "1     NaN                A1     11.0              NaN      NaN            NaN   \n",
       "2     0.0              A100      NaN              NaN      NaN            NaN   \n",
       "3     NaN              A100     11.0              NaN      NaN            NaN   \n",
       "4     NaN              A100      NaN                P        P            NaN   \n",
       "\n",
       "   matricola  \n",
       "0        NaN  \n",
       "1        NaN  \n",
       "2        NaN  \n",
       "3        NaN  \n",
       "4        NaN  "
      ]
     },
     "execution_count": 27,
     "metadata": {},
     "output_type": "execute_result"
    }
   ],
   "source": [
    "log = pm4py.read_xes(\"Road_Traffic_Fine_Management_Process.xes\") #read in log data\n",
    "logdata = pm4py.convert_to_dataframe(log) #convert your log to dataframe\n",
    "logdata.head()"
   ]
  },
  {
   "cell_type": "code",
   "execution_count": 28,
   "id": "e6ff0a1c-bfb3-4f75-a2bd-baa559e9d99e",
   "metadata": {},
   "outputs": [
    {
     "name": "stdout",
     "output_type": "stream",
     "text": [
      "<class 'pandas.core.frame.DataFrame'>\n",
      "RangeIndex: 561470 entries, 0 to 561469\n",
      "Data columns (total 16 columns):\n",
      " #   Column                Non-Null Count   Dtype              \n",
      "---  ------                --------------   -----              \n",
      " 0   amount                230230 non-null  float64            \n",
      " 1   org:resource          150925 non-null  object             \n",
      " 2   dismissal             155066 non-null  object             \n",
      " 3   concept:name          561470 non-null  object             \n",
      " 4   vehicleClass          150370 non-null  object             \n",
      " 5   totalPaymentAmount    227971 non-null  float64            \n",
      " 6   lifecycle:transition  561470 non-null  object             \n",
      " 7   time:timestamp        561470 non-null  datetime64[ns, UTC]\n",
      " 8   article               150370 non-null  float64            \n",
      " 9   points                150370 non-null  float64            \n",
      " 10  case:concept:name     561470 non-null  object             \n",
      " 11  expense               103987 non-null  float64            \n",
      " 12  notificationType      79860 non-null   object             \n",
      " 13  lastSent              78229 non-null   object             \n",
      " 14  paymentAmount         77601 non-null   float64            \n",
      " 15  matricola             555 non-null     float64            \n",
      "dtypes: datetime64[ns, UTC](1), float64(7), object(8)\n",
      "memory usage: 68.5+ MB\n"
     ]
    }
   ],
   "source": [
    "logdata.info()"
   ]
  },
  {
   "cell_type": "code",
   "execution_count": 29,
   "id": "9d31372d-5335-4857-997e-6379822e0e1b",
   "metadata": {},
   "outputs": [
    {
     "data": {
      "text/html": [
       "<div>\n",
       "<style scoped>\n",
       "    .dataframe tbody tr th:only-of-type {\n",
       "        vertical-align: middle;\n",
       "    }\n",
       "\n",
       "    .dataframe tbody tr th {\n",
       "        vertical-align: top;\n",
       "    }\n",
       "\n",
       "    .dataframe thead th {\n",
       "        text-align: right;\n",
       "    }\n",
       "</style>\n",
       "<table border=\"1\" class=\"dataframe\">\n",
       "  <thead>\n",
       "    <tr style=\"text-align: right;\">\n",
       "      <th></th>\n",
       "      <th>amount</th>\n",
       "      <th>org:resource</th>\n",
       "      <th>dismissal</th>\n",
       "      <th>concept:name</th>\n",
       "      <th>vehicleClass</th>\n",
       "      <th>totalPaymentAmount</th>\n",
       "      <th>lifecycle:transition</th>\n",
       "      <th>time:timestamp</th>\n",
       "      <th>article</th>\n",
       "      <th>points</th>\n",
       "      <th>case:concept:name</th>\n",
       "      <th>expense</th>\n",
       "      <th>notificationType</th>\n",
       "      <th>lastSent</th>\n",
       "      <th>paymentAmount</th>\n",
       "      <th>matricola</th>\n",
       "    </tr>\n",
       "  </thead>\n",
       "  <tbody>\n",
       "    <tr>\n",
       "      <th>0</th>\n",
       "      <td>35.0</td>\n",
       "      <td>561</td>\n",
       "      <td>NIL</td>\n",
       "      <td>Create Fine</td>\n",
       "      <td>A</td>\n",
       "      <td>0.0</td>\n",
       "      <td>complete</td>\n",
       "      <td>2006-07-24 00:00:00+00:00</td>\n",
       "      <td>157.0</td>\n",
       "      <td>0.0</td>\n",
       "      <td>A1</td>\n",
       "      <td>NaN</td>\n",
       "      <td>NaN</td>\n",
       "      <td>NaN</td>\n",
       "      <td>NaN</td>\n",
       "      <td>NaN</td>\n",
       "    </tr>\n",
       "    <tr>\n",
       "      <th>1</th>\n",
       "      <td>NaN</td>\n",
       "      <td>NaN</td>\n",
       "      <td>NaN</td>\n",
       "      <td>Send Fine</td>\n",
       "      <td>NaN</td>\n",
       "      <td>NaN</td>\n",
       "      <td>complete</td>\n",
       "      <td>2006-12-05 00:00:00+00:00</td>\n",
       "      <td>NaN</td>\n",
       "      <td>NaN</td>\n",
       "      <td>A1</td>\n",
       "      <td>11.0</td>\n",
       "      <td>NaN</td>\n",
       "      <td>NaN</td>\n",
       "      <td>NaN</td>\n",
       "      <td>NaN</td>\n",
       "    </tr>\n",
       "    <tr>\n",
       "      <th>2</th>\n",
       "      <td>35.0</td>\n",
       "      <td>561</td>\n",
       "      <td>NIL</td>\n",
       "      <td>Create Fine</td>\n",
       "      <td>A</td>\n",
       "      <td>0.0</td>\n",
       "      <td>complete</td>\n",
       "      <td>2006-08-02 00:00:00+00:00</td>\n",
       "      <td>157.0</td>\n",
       "      <td>0.0</td>\n",
       "      <td>A100</td>\n",
       "      <td>NaN</td>\n",
       "      <td>NaN</td>\n",
       "      <td>NaN</td>\n",
       "      <td>NaN</td>\n",
       "      <td>NaN</td>\n",
       "    </tr>\n",
       "    <tr>\n",
       "      <th>3</th>\n",
       "      <td>NaN</td>\n",
       "      <td>NaN</td>\n",
       "      <td>NaN</td>\n",
       "      <td>Send Fine</td>\n",
       "      <td>NaN</td>\n",
       "      <td>NaN</td>\n",
       "      <td>complete</td>\n",
       "      <td>2006-12-12 00:00:00+00:00</td>\n",
       "      <td>NaN</td>\n",
       "      <td>NaN</td>\n",
       "      <td>A100</td>\n",
       "      <td>11.0</td>\n",
       "      <td>NaN</td>\n",
       "      <td>NaN</td>\n",
       "      <td>NaN</td>\n",
       "      <td>NaN</td>\n",
       "    </tr>\n",
       "    <tr>\n",
       "      <th>4</th>\n",
       "      <td>NaN</td>\n",
       "      <td>NaN</td>\n",
       "      <td>NaN</td>\n",
       "      <td>Insert Fine Notification</td>\n",
       "      <td>NaN</td>\n",
       "      <td>NaN</td>\n",
       "      <td>complete</td>\n",
       "      <td>2007-01-15 00:00:00+00:00</td>\n",
       "      <td>NaN</td>\n",
       "      <td>NaN</td>\n",
       "      <td>A100</td>\n",
       "      <td>NaN</td>\n",
       "      <td>P</td>\n",
       "      <td>P</td>\n",
       "      <td>NaN</td>\n",
       "      <td>NaN</td>\n",
       "    </tr>\n",
       "  </tbody>\n",
       "</table>\n",
       "</div>"
      ],
      "text/plain": [
       "   amount org:resource dismissal              concept:name vehicleClass  \\\n",
       "0    35.0          561       NIL               Create Fine            A   \n",
       "1     NaN          NaN       NaN                 Send Fine          NaN   \n",
       "2    35.0          561       NIL               Create Fine            A   \n",
       "3     NaN          NaN       NaN                 Send Fine          NaN   \n",
       "4     NaN          NaN       NaN  Insert Fine Notification          NaN   \n",
       "\n",
       "   totalPaymentAmount lifecycle:transition            time:timestamp  article  \\\n",
       "0                 0.0             complete 2006-07-24 00:00:00+00:00    157.0   \n",
       "1                 NaN             complete 2006-12-05 00:00:00+00:00      NaN   \n",
       "2                 0.0             complete 2006-08-02 00:00:00+00:00    157.0   \n",
       "3                 NaN             complete 2006-12-12 00:00:00+00:00      NaN   \n",
       "4                 NaN             complete 2007-01-15 00:00:00+00:00      NaN   \n",
       "\n",
       "   points case:concept:name  expense notificationType lastSent  paymentAmount  \\\n",
       "0     0.0                A1      NaN              NaN      NaN            NaN   \n",
       "1     NaN                A1     11.0              NaN      NaN            NaN   \n",
       "2     0.0              A100      NaN              NaN      NaN            NaN   \n",
       "3     NaN              A100     11.0              NaN      NaN            NaN   \n",
       "4     NaN              A100      NaN                P        P            NaN   \n",
       "\n",
       "   matricola  \n",
       "0        NaN  \n",
       "1        NaN  \n",
       "2        NaN  \n",
       "3        NaN  \n",
       "4        NaN  "
      ]
     },
     "execution_count": 29,
     "metadata": {},
     "output_type": "execute_result"
    }
   ],
   "source": [
    "logdata.head()"
   ]
  },
  {
   "cell_type": "code",
   "execution_count": 30,
   "id": "650c4b09-d5ad-461c-b473-3dd057272b40",
   "metadata": {},
   "outputs": [
    {
     "data": {
      "text/plain": [
       "array(['Create Fine', 'Send Fine', 'Insert Fine Notification',\n",
       "       'Add penalty', 'Send for Credit Collection', 'Payment',\n",
       "       'Insert Date Appeal to Prefecture', 'Send Appeal to Prefecture',\n",
       "       'Receive Result Appeal from Prefecture',\n",
       "       'Notify Result Appeal to Offender', 'Appeal to Judge'],\n",
       "      dtype=object)"
      ]
     },
     "execution_count": 30,
     "metadata": {},
     "output_type": "execute_result"
    }
   ],
   "source": [
    "logdata[\"concept:name\"].unique()"
   ]
  },
  {
   "cell_type": "code",
   "execution_count": 31,
   "id": "5bf09494-1394-414d-b557-ff76b4fbfe5b",
   "metadata": {},
   "outputs": [
    {
     "data": {
      "text/plain": [
       "array(['complete'], dtype=object)"
      ]
     },
     "execution_count": 31,
     "metadata": {},
     "output_type": "execute_result"
    }
   ],
   "source": [
    "logdata[\"lifecycle:transition\"].unique()"
   ]
  },
  {
   "cell_type": "code",
   "execution_count": 32,
   "id": "06efe75d-d54e-47c9-a8a3-f9d21d592b1d",
   "metadata": {},
   "outputs": [
    {
     "data": {
      "text/plain": [
       "array(['A1', 'A100', 'A10000', ..., 'V9997', 'V9998', 'V9999'],\n",
       "      dtype=object)"
      ]
     },
     "execution_count": 32,
     "metadata": {},
     "output_type": "execute_result"
    }
   ],
   "source": [
    "#case:concept:name is caseid\n",
    "logdata[\"case:concept:name\"].unique()"
   ]
  },
  {
   "cell_type": "code",
   "execution_count": 33,
   "id": "e7776d5d-de2f-470f-9399-c9d23955f754",
   "metadata": {},
   "outputs": [
    {
     "data": {
      "text/html": [
       "<div>\n",
       "<style scoped>\n",
       "    .dataframe tbody tr th:only-of-type {\n",
       "        vertical-align: middle;\n",
       "    }\n",
       "\n",
       "    .dataframe tbody tr th {\n",
       "        vertical-align: top;\n",
       "    }\n",
       "\n",
       "    .dataframe thead th {\n",
       "        text-align: right;\n",
       "    }\n",
       "</style>\n",
       "<table border=\"1\" class=\"dataframe\">\n",
       "  <thead>\n",
       "    <tr style=\"text-align: right;\">\n",
       "      <th></th>\n",
       "      <th>timestamp</th>\n",
       "      <th>activity</th>\n",
       "      <th>case_id</th>\n",
       "    </tr>\n",
       "  </thead>\n",
       "  <tbody>\n",
       "    <tr>\n",
       "      <th>429367</th>\n",
       "      <td>2000-01-01 00:00:00+00:00</td>\n",
       "      <td>create fine</td>\n",
       "      <td>S38735</td>\n",
       "    </tr>\n",
       "    <tr>\n",
       "      <th>431898</th>\n",
       "      <td>2000-01-02 00:00:00+00:00</td>\n",
       "      <td>create fine</td>\n",
       "      <td>S44306</td>\n",
       "    </tr>\n",
       "    <tr>\n",
       "      <th>436195</th>\n",
       "      <td>2000-01-02 00:00:00+00:00</td>\n",
       "      <td>create fine</td>\n",
       "      <td>S49055</td>\n",
       "    </tr>\n",
       "    <tr>\n",
       "      <th>436201</th>\n",
       "      <td>2000-01-02 00:00:00+00:00</td>\n",
       "      <td>create fine</td>\n",
       "      <td>S49056</td>\n",
       "    </tr>\n",
       "    <tr>\n",
       "      <th>436206</th>\n",
       "      <td>2000-01-02 00:00:00+00:00</td>\n",
       "      <td>create fine</td>\n",
       "      <td>S49057</td>\n",
       "    </tr>\n",
       "  </tbody>\n",
       "</table>\n",
       "</div>"
      ],
      "text/plain": [
       "                       timestamp     activity case_id\n",
       "429367 2000-01-01 00:00:00+00:00  create fine  S38735\n",
       "431898 2000-01-02 00:00:00+00:00  create fine  S44306\n",
       "436195 2000-01-02 00:00:00+00:00  create fine  S49055\n",
       "436201 2000-01-02 00:00:00+00:00  create fine  S49056\n",
       "436206 2000-01-02 00:00:00+00:00  create fine  S49057"
      ]
     },
     "execution_count": 33,
     "metadata": {},
     "output_type": "execute_result"
    }
   ],
   "source": [
    "#extract the columns, sort by time, convert activity to lower case\n",
    "logdata.rename(columns={\"concept:name\":\"activity\", \"time:timestamp\":\"timestamp\",\"case:concept:name\":\"case_id\"},inplace=True)\n",
    "logdata = logdata.sort_values(by = [\"timestamp\",\"case_id\"])\n",
    "df = logdata[[\"timestamp\",\"activity\",\"case_id\"]].copy()\n",
    "df[\"activity\"] = df[\"activity\"].str.lower()\n",
    "df.head()"
   ]
  },
  {
   "cell_type": "code",
   "execution_count": 34,
   "id": "35a4a114-0b51-406f-8e7b-1ae37fa5c448",
   "metadata": {},
   "outputs": [
    {
     "name": "stdout",
     "output_type": "stream",
     "text": [
      "<class 'pandas.core.frame.DataFrame'>\n",
      "Index: 561470 entries, 429367 to 428806\n",
      "Data columns (total 3 columns):\n",
      " #   Column     Non-Null Count   Dtype              \n",
      "---  ------     --------------   -----              \n",
      " 0   timestamp  561470 non-null  datetime64[ns, UTC]\n",
      " 1   activity   561470 non-null  object             \n",
      " 2   case_id    561470 non-null  object             \n",
      "dtypes: datetime64[ns, UTC](1), object(2)\n",
      "memory usage: 17.1+ MB\n"
     ]
    }
   ],
   "source": [
    "df.info()"
   ]
  },
  {
   "cell_type": "code",
   "execution_count": 35,
   "id": "c3e57370-a79c-4302-8a04-7839beee7b99",
   "metadata": {},
   "outputs": [
    {
     "name": "stdout",
     "output_type": "stream",
     "text": [
      "True\n",
      "30\n"
     ]
    }
   ],
   "source": [
    "#Check if there are duplicates\n",
    "print(df.duplicated().any())\n",
    "print(df.duplicated().sum())"
   ]
  },
  {
   "cell_type": "code",
   "execution_count": 36,
   "id": "fcbb9eec-f55d-48b4-bd91-6c47bdbd1632",
   "metadata": {},
   "outputs": [
    {
     "data": {
      "text/plain": [
       "0"
      ]
     },
     "execution_count": 36,
     "metadata": {},
     "output_type": "execute_result"
    }
   ],
   "source": [
    "#Check activities for a case\n",
    "df.drop_duplicates(inplace=True)\n",
    "df.duplicated().sum()"
   ]
  },
  {
   "cell_type": "code",
   "execution_count": 37,
   "id": "16dcfb38-632d-4897-9c11-665b7bda2a23",
   "metadata": {},
   "outputs": [
    {
     "data": {
      "text/html": [
       "<div>\n",
       "<style scoped>\n",
       "    .dataframe tbody tr th:only-of-type {\n",
       "        vertical-align: middle;\n",
       "    }\n",
       "\n",
       "    .dataframe tbody tr th {\n",
       "        vertical-align: top;\n",
       "    }\n",
       "\n",
       "    .dataframe thead th {\n",
       "        text-align: right;\n",
       "    }\n",
       "</style>\n",
       "<table border=\"1\" class=\"dataframe\">\n",
       "  <thead>\n",
       "    <tr style=\"text-align: right;\">\n",
       "      <th></th>\n",
       "      <th>timestamp</th>\n",
       "      <th>activity</th>\n",
       "      <th>case_id</th>\n",
       "    </tr>\n",
       "  </thead>\n",
       "  <tbody>\n",
       "    <tr>\n",
       "      <th>0</th>\n",
       "      <td>2000-01-01 00:00:00+00:00</td>\n",
       "      <td>create fine</td>\n",
       "      <td>S38735</td>\n",
       "    </tr>\n",
       "    <tr>\n",
       "      <th>1</th>\n",
       "      <td>2000-01-02 00:00:00+00:00</td>\n",
       "      <td>create fine</td>\n",
       "      <td>S44306</td>\n",
       "    </tr>\n",
       "    <tr>\n",
       "      <th>2</th>\n",
       "      <td>2000-01-02 00:00:00+00:00</td>\n",
       "      <td>create fine</td>\n",
       "      <td>S49055</td>\n",
       "    </tr>\n",
       "    <tr>\n",
       "      <th>3</th>\n",
       "      <td>2000-01-02 00:00:00+00:00</td>\n",
       "      <td>create fine</td>\n",
       "      <td>S49056</td>\n",
       "    </tr>\n",
       "    <tr>\n",
       "      <th>4</th>\n",
       "      <td>2000-01-02 00:00:00+00:00</td>\n",
       "      <td>create fine</td>\n",
       "      <td>S49057</td>\n",
       "    </tr>\n",
       "  </tbody>\n",
       "</table>\n",
       "</div>"
      ],
      "text/plain": [
       "                  timestamp     activity case_id\n",
       "0 2000-01-01 00:00:00+00:00  create fine  S38735\n",
       "1 2000-01-02 00:00:00+00:00  create fine  S44306\n",
       "2 2000-01-02 00:00:00+00:00  create fine  S49055\n",
       "3 2000-01-02 00:00:00+00:00  create fine  S49056\n",
       "4 2000-01-02 00:00:00+00:00  create fine  S49057"
      ]
     },
     "execution_count": 37,
     "metadata": {},
     "output_type": "execute_result"
    }
   ],
   "source": [
    "df = df.reset_index(drop=True)\n",
    "df.head()"
   ]
  },
  {
   "cell_type": "code",
   "execution_count": 38,
   "id": "5b9832f8-f5ce-4063-a7c7-6e39a218addf",
   "metadata": {},
   "outputs": [
    {
     "data": {
      "text/plain": [
       "True"
      ]
     },
     "execution_count": 38,
     "metadata": {},
     "output_type": "execute_result"
    }
   ],
   "source": [
    "#timestamps are not unique\n",
    "df[\"timestamp\"].duplicated().any()"
   ]
  },
  {
   "cell_type": "code",
   "execution_count": 39,
   "id": "e86bf493-8698-4bc1-a256-963f7a17e5ae",
   "metadata": {},
   "outputs": [],
   "source": [
    "df.to_csv(\"rmp_df.csv\",index=False)"
   ]
  },
  {
   "cell_type": "code",
   "execution_count": null,
   "id": "9c3a2bc6-3264-4e3e-adf9-cb83d5c92656",
   "metadata": {},
   "outputs": [],
   "source": []
  },
  {
   "cell_type": "code",
   "execution_count": null,
   "id": "333b86ec-846a-437b-a94b-9d1de38697cf",
   "metadata": {},
   "outputs": [],
   "source": []
  }
 ],
 "metadata": {
  "kernelspec": {
   "display_name": "Python 3 (ipykernel)",
   "language": "python",
   "name": "python3"
  },
  "language_info": {
   "codemirror_mode": {
    "name": "ipython",
    "version": 3
   },
   "file_extension": ".py",
   "mimetype": "text/x-python",
   "name": "python",
   "nbconvert_exporter": "python",
   "pygments_lexer": "ipython3",
   "version": "3.12.7"
  }
 },
 "nbformat": 4,
 "nbformat_minor": 5
}
